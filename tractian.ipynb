{
  "nbformat": 4,
  "nbformat_minor": 0,
  "metadata": {
    "colab": {
      "name": "tractian.ipynb",
      "provenance": [],
      "collapsed_sections": [],
      "authorship_tag": "ABX9TyM0cz8oymOYZU6gjqIhbSbz",
      "include_colab_link": true
    },
    "kernelspec": {
      "name": "python3",
      "display_name": "Python 3"
    },
    "language_info": {
      "name": "python"
    }
  },
  "cells": [
    {
      "cell_type": "markdown",
      "metadata": {
        "id": "view-in-github",
        "colab_type": "text"
      },
      "source": [
        "<a href=\"https://colab.research.google.com/github/joaovictordds/previsao_tractian/blob/main/tractian.ipynb\" target=\"_parent\"><img src=\"https://colab.research.google.com/assets/colab-badge.svg\" alt=\"Open In Colab\"/></a>"
      ]
    },
    {
      "cell_type": "code",
      "metadata": {
        "id": "cRX4NssQdK2-"
      },
      "source": [
        "!pip install autots"
      ],
      "execution_count": null,
      "outputs": []
    },
    {
      "cell_type": "code",
      "metadata": {
        "colab": {
          "base_uri": "https://localhost:8080/"
        },
        "id": "cZD4zAjMdHt4",
        "outputId": "98bbb347-584e-46e0-b4b3-22fa7a0d9511"
      },
      "source": [
        "import pandas as pd\n",
        "pd.set_option('display.max_columns', None)\n",
        "import numpy as np\n",
        "from autots import AutoTS\n",
        "import warnings\n",
        "warnings.filterwarnings(\"ignore\")\n",
        "%load_ext scalene"
      ],
      "execution_count": 2,
      "outputs": [
        {
          "output_type": "stream",
          "text": [
            "Scalene extension successfully loaded. Note: Scalene currently only\n",
            "supports CPU+GPU profiling inside Jupyter notebooks. For full Scalene\n",
            "profiling, use the command line version.\n"
          ],
          "name": "stdout"
        },
        {
          "output_type": "stream",
          "text": [
            "/usr/local/lib/python3.7/dist-packages/statsmodels/tools/_testing.py:19: FutureWarning: pandas.util.testing is deprecated. Use the functions in the public API at pandas.testing instead.\n",
            "  import pandas.util.testing as tm\n"
          ],
          "name": "stderr"
        }
      ]
    },
    {
      "cell_type": "code",
      "metadata": {
        "id": "JwD1PsfMc720"
      },
      "source": [
        "caminho = 'https://raw.githubusercontent.com/joaovictordds/previsao_tractian/main/dados_limpos.csv'\n",
        "dados = pd.read_csv(caminho)\n",
        "dados.drop(columns='Unnamed: 0', inplace=True)"
      ],
      "execution_count": 3,
      "outputs": []
    },
    {
      "cell_type": "code",
      "metadata": {
        "colab": {
          "base_uri": "https://localhost:8080/",
          "height": 142
        },
        "id": "g6xxfg7oIfxo",
        "outputId": "4b87fde9-9c03-41b6-eed5-e9b65f9c6b5a"
      },
      "source": [
        "dados['Order Date'] = pd.to_datetime(dados['Order Date'], format='%Y-%m-%d')\n",
        "dados['Ship Date'] = pd.to_datetime(dados['Ship Date'], format='%Y-%m-%d')\n",
        "dados.head(3)"
      ],
      "execution_count": 4,
      "outputs": [
        {
          "output_type": "execute_result",
          "data": {
            "text/html": [
              "<div>\n",
              "<style scoped>\n",
              "    .dataframe tbody tr th:only-of-type {\n",
              "        vertical-align: middle;\n",
              "    }\n",
              "\n",
              "    .dataframe tbody tr th {\n",
              "        vertical-align: top;\n",
              "    }\n",
              "\n",
              "    .dataframe thead th {\n",
              "        text-align: right;\n",
              "    }\n",
              "</style>\n",
              "<table border=\"1\" class=\"dataframe\">\n",
              "  <thead>\n",
              "    <tr style=\"text-align: right;\">\n",
              "      <th></th>\n",
              "      <th>Order ID</th>\n",
              "      <th>Order Date</th>\n",
              "      <th>Ship Date</th>\n",
              "      <th>Ship Mode</th>\n",
              "      <th>Customer ID</th>\n",
              "      <th>Segment</th>\n",
              "      <th>City</th>\n",
              "      <th>State</th>\n",
              "      <th>Region</th>\n",
              "      <th>Product ID</th>\n",
              "      <th>Category</th>\n",
              "      <th>Sub-Category</th>\n",
              "      <th>Sales</th>\n",
              "      <th>Quantity</th>\n",
              "      <th>Discount</th>\n",
              "      <th>Profit</th>\n",
              "    </tr>\n",
              "  </thead>\n",
              "  <tbody>\n",
              "    <tr>\n",
              "      <th>0</th>\n",
              "      <td>0</td>\n",
              "      <td>2017-11-08</td>\n",
              "      <td>2017-11-11</td>\n",
              "      <td>Second Class</td>\n",
              "      <td>0</td>\n",
              "      <td>Consumer</td>\n",
              "      <td>Henderson</td>\n",
              "      <td>Kentucky</td>\n",
              "      <td>South</td>\n",
              "      <td>0</td>\n",
              "      <td>Furniture</td>\n",
              "      <td>Bookcases</td>\n",
              "      <td>261.960</td>\n",
              "      <td>2.0</td>\n",
              "      <td>0.0</td>\n",
              "      <td>41.9136</td>\n",
              "    </tr>\n",
              "    <tr>\n",
              "      <th>1</th>\n",
              "      <td>1</td>\n",
              "      <td>2017-06-12</td>\n",
              "      <td>2017-06-16</td>\n",
              "      <td>Second Class</td>\n",
              "      <td>1</td>\n",
              "      <td>Corporate</td>\n",
              "      <td>Los Angeles</td>\n",
              "      <td>California</td>\n",
              "      <td>West</td>\n",
              "      <td>2</td>\n",
              "      <td>Office Supplies</td>\n",
              "      <td>Labels</td>\n",
              "      <td>14.620</td>\n",
              "      <td>2.0</td>\n",
              "      <td>0.0</td>\n",
              "      <td>6.8714</td>\n",
              "    </tr>\n",
              "    <tr>\n",
              "      <th>2</th>\n",
              "      <td>2</td>\n",
              "      <td>2016-10-11</td>\n",
              "      <td>2016-10-18</td>\n",
              "      <td>Standard Class</td>\n",
              "      <td>2</td>\n",
              "      <td>Consumer</td>\n",
              "      <td>Fort Lauderdale</td>\n",
              "      <td>Florida</td>\n",
              "      <td>South</td>\n",
              "      <td>4</td>\n",
              "      <td>Office Supplies</td>\n",
              "      <td>Storage</td>\n",
              "      <td>22.368</td>\n",
              "      <td>2.0</td>\n",
              "      <td>0.2</td>\n",
              "      <td>2.5164</td>\n",
              "    </tr>\n",
              "  </tbody>\n",
              "</table>\n",
              "</div>"
            ],
            "text/plain": [
              "   Order ID Order Date  Ship Date       Ship Mode  Customer ID    Segment  \\\n",
              "0         0 2017-11-08 2017-11-11    Second Class            0   Consumer   \n",
              "1         1 2017-06-12 2017-06-16    Second Class            1  Corporate   \n",
              "2         2 2016-10-11 2016-10-18  Standard Class            2   Consumer   \n",
              "\n",
              "              City       State Region  Product ID         Category  \\\n",
              "0        Henderson    Kentucky  South           0        Furniture   \n",
              "1      Los Angeles  California   West           2  Office Supplies   \n",
              "2  Fort Lauderdale     Florida  South           4  Office Supplies   \n",
              "\n",
              "  Sub-Category    Sales  Quantity  Discount   Profit  \n",
              "0    Bookcases  261.960       2.0       0.0  41.9136  \n",
              "1       Labels   14.620       2.0       0.0   6.8714  \n",
              "2      Storage   22.368       2.0       0.2   2.5164  "
            ]
          },
          "metadata": {
            "tags": []
          },
          "execution_count": 4
        }
      ]
    },
    {
      "cell_type": "code",
      "metadata": {
        "colab": {
          "base_uri": "https://localhost:8080/"
        },
        "id": "e71yF_5pIYUa",
        "outputId": "8396ddba-3445-416a-dac1-397a447cb569"
      },
      "source": [
        "dados.info()"
      ],
      "execution_count": 5,
      "outputs": [
        {
          "output_type": "stream",
          "text": [
            "<class 'pandas.core.frame.DataFrame'>\n",
            "RangeIndex: 7779 entries, 0 to 7778\n",
            "Data columns (total 16 columns):\n",
            " #   Column        Non-Null Count  Dtype         \n",
            "---  ------        --------------  -----         \n",
            " 0   Order ID      7779 non-null   int64         \n",
            " 1   Order Date    7779 non-null   datetime64[ns]\n",
            " 2   Ship Date     7779 non-null   datetime64[ns]\n",
            " 3   Ship Mode     7779 non-null   object        \n",
            " 4   Customer ID   7779 non-null   int64         \n",
            " 5   Segment       7779 non-null   object        \n",
            " 6   City          7779 non-null   object        \n",
            " 7   State         7779 non-null   object        \n",
            " 8   Region        7779 non-null   object        \n",
            " 9   Product ID    7779 non-null   int64         \n",
            " 10  Category      7779 non-null   object        \n",
            " 11  Sub-Category  7779 non-null   object        \n",
            " 12  Sales         7779 non-null   float64       \n",
            " 13  Quantity      7779 non-null   float64       \n",
            " 14  Discount      7779 non-null   float64       \n",
            " 15  Profit        7779 non-null   float64       \n",
            "dtypes: datetime64[ns](2), float64(4), int64(3), object(7)\n",
            "memory usage: 972.5+ KB\n"
          ],
          "name": "stdout"
        }
      ]
    },
    {
      "cell_type": "code",
      "metadata": {
        "colab": {
          "base_uri": "https://localhost:8080/",
          "height": 142
        },
        "id": "kvAt5YcDRlen",
        "outputId": "b8ab6073-eeff-41b1-8d26-cef9e1bfa7c6"
      },
      "source": [
        "# Criando um range para as datas vazias\n",
        "range = pd.date_range(start = '2015-01-03', end = '2018-12-30', freq='D').to_frame()\n",
        "nome = ['data']\n",
        "range.columns = nome\n",
        "range.head(3)"
      ],
      "execution_count": 22,
      "outputs": [
        {
          "output_type": "execute_result",
          "data": {
            "text/html": [
              "<div>\n",
              "<style scoped>\n",
              "    .dataframe tbody tr th:only-of-type {\n",
              "        vertical-align: middle;\n",
              "    }\n",
              "\n",
              "    .dataframe tbody tr th {\n",
              "        vertical-align: top;\n",
              "    }\n",
              "\n",
              "    .dataframe thead th {\n",
              "        text-align: right;\n",
              "    }\n",
              "</style>\n",
              "<table border=\"1\" class=\"dataframe\">\n",
              "  <thead>\n",
              "    <tr style=\"text-align: right;\">\n",
              "      <th></th>\n",
              "      <th>data</th>\n",
              "    </tr>\n",
              "  </thead>\n",
              "  <tbody>\n",
              "    <tr>\n",
              "      <th>2015-01-03</th>\n",
              "      <td>2015-01-03</td>\n",
              "    </tr>\n",
              "    <tr>\n",
              "      <th>2015-01-04</th>\n",
              "      <td>2015-01-04</td>\n",
              "    </tr>\n",
              "    <tr>\n",
              "      <th>2015-01-05</th>\n",
              "      <td>2015-01-05</td>\n",
              "    </tr>\n",
              "  </tbody>\n",
              "</table>\n",
              "</div>"
            ],
            "text/plain": [
              "                 data\n",
              "2015-01-03 2015-01-03\n",
              "2015-01-04 2015-01-04\n",
              "2015-01-05 2015-01-05"
            ]
          },
          "metadata": {
            "tags": []
          },
          "execution_count": 22
        }
      ]
    },
    {
      "cell_type": "code",
      "metadata": {
        "colab": {
          "base_uri": "https://localhost:8080/",
          "height": 173
        },
        "id": "p_CWOj_EZ4G2",
        "outputId": "6d61a597-9ddd-4ff9-98ba-6f6a4c256be8"
      },
      "source": [
        "agrupado = dados.groupby('Order Date').sum().round(2)\n",
        "agrupado['dataf'] = agrupado.index\n",
        "agrupado.drop(columns=['Order ID', 'Customer ID',\t'Product ID', 'Quantity',\t'Discount',\t'Profit'], inplace=True)\n",
        "agrupado.head(3)"
      ],
      "execution_count": 29,
      "outputs": [
        {
          "output_type": "execute_result",
          "data": {
            "text/html": [
              "<div>\n",
              "<style scoped>\n",
              "    .dataframe tbody tr th:only-of-type {\n",
              "        vertical-align: middle;\n",
              "    }\n",
              "\n",
              "    .dataframe tbody tr th {\n",
              "        vertical-align: top;\n",
              "    }\n",
              "\n",
              "    .dataframe thead th {\n",
              "        text-align: right;\n",
              "    }\n",
              "</style>\n",
              "<table border=\"1\" class=\"dataframe\">\n",
              "  <thead>\n",
              "    <tr style=\"text-align: right;\">\n",
              "      <th></th>\n",
              "      <th>Sales</th>\n",
              "      <th>dataf</th>\n",
              "    </tr>\n",
              "    <tr>\n",
              "      <th>Order Date</th>\n",
              "      <th></th>\n",
              "      <th></th>\n",
              "    </tr>\n",
              "  </thead>\n",
              "  <tbody>\n",
              "    <tr>\n",
              "      <th>2015-01-03</th>\n",
              "      <td>16.45</td>\n",
              "      <td>2015-01-03</td>\n",
              "    </tr>\n",
              "    <tr>\n",
              "      <th>2015-01-04</th>\n",
              "      <td>11.78</td>\n",
              "      <td>2015-01-04</td>\n",
              "    </tr>\n",
              "    <tr>\n",
              "      <th>2015-01-05</th>\n",
              "      <td>19.54</td>\n",
              "      <td>2015-01-05</td>\n",
              "    </tr>\n",
              "  </tbody>\n",
              "</table>\n",
              "</div>"
            ],
            "text/plain": [
              "            Sales      dataf\n",
              "Order Date                  \n",
              "2015-01-03  16.45 2015-01-03\n",
              "2015-01-04  11.78 2015-01-04\n",
              "2015-01-05  19.54 2015-01-05"
            ]
          },
          "metadata": {
            "tags": []
          },
          "execution_count": 29
        }
      ]
    },
    {
      "cell_type": "code",
      "metadata": {
        "colab": {
          "base_uri": "https://localhost:8080/"
        },
        "id": "HLmQF56ra3Yv",
        "outputId": "33f362c1-0070-4ae7-b30d-fa739cabb984"
      },
      "source": [
        "range.shape\n",
        "agrupado.shape"
      ],
      "execution_count": 26,
      "outputs": [
        {
          "output_type": "execute_result",
          "data": {
            "text/plain": [
              "(1204, 2)"
            ]
          },
          "metadata": {
            "tags": []
          },
          "execution_count": 26
        }
      ]
    },
    {
      "cell_type": "code",
      "metadata": {
        "id": "5kL_1GM1a3Rd"
      },
      "source": [
        "df_col_merged = pd.concat([agrupado, range], axis=1)\n",
        "df_col_merged.drop(columns='dataf', inplace=True)"
      ],
      "execution_count": 36,
      "outputs": []
    },
    {
      "cell_type": "code",
      "metadata": {
        "colab": {
          "base_uri": "https://localhost:8080/",
          "height": 142
        },
        "id": "aqW8rplvbb7t",
        "outputId": "d948e6aa-7d84-4b2a-982f-9f3af5d12f5a"
      },
      "source": [
        "df_col_merged.tail(3)"
      ],
      "execution_count": 37,
      "outputs": [
        {
          "output_type": "execute_result",
          "data": {
            "text/html": [
              "<div>\n",
              "<style scoped>\n",
              "    .dataframe tbody tr th:only-of-type {\n",
              "        vertical-align: middle;\n",
              "    }\n",
              "\n",
              "    .dataframe tbody tr th {\n",
              "        vertical-align: top;\n",
              "    }\n",
              "\n",
              "    .dataframe thead th {\n",
              "        text-align: right;\n",
              "    }\n",
              "</style>\n",
              "<table border=\"1\" class=\"dataframe\">\n",
              "  <thead>\n",
              "    <tr style=\"text-align: right;\">\n",
              "      <th></th>\n",
              "      <th>Sales</th>\n",
              "      <th>data</th>\n",
              "    </tr>\n",
              "  </thead>\n",
              "  <tbody>\n",
              "    <tr>\n",
              "      <th>2018-12-28</th>\n",
              "      <td>589.13</td>\n",
              "      <td>2018-12-28</td>\n",
              "    </tr>\n",
              "    <tr>\n",
              "      <th>2018-12-29</th>\n",
              "      <td>1104.43</td>\n",
              "      <td>2018-12-29</td>\n",
              "    </tr>\n",
              "    <tr>\n",
              "      <th>2018-12-30</th>\n",
              "      <td>713.79</td>\n",
              "      <td>2018-12-30</td>\n",
              "    </tr>\n",
              "  </tbody>\n",
              "</table>\n",
              "</div>"
            ],
            "text/plain": [
              "              Sales       data\n",
              "2018-12-28   589.13 2018-12-28\n",
              "2018-12-29  1104.43 2018-12-29\n",
              "2018-12-30   713.79 2018-12-30"
            ]
          },
          "metadata": {
            "tags": []
          },
          "execution_count": 37
        }
      ]
    },
    {
      "cell_type": "code",
      "metadata": {
        "colab": {
          "base_uri": "https://localhost:8080/"
        },
        "id": "XODSFnHORHl7",
        "outputId": "565f9f72-ee76-4efc-a718-79b5817ec4a4"
      },
      "source": [
        "model = AutoTS(forecast_length=7, frequency='infer', ensemble='simple', drop_data_older_than_periods=1000)\n",
        "model = model.fit(df_col_merged, date_col='data', value_col='Sales', id_col=None)\n",
        "# Modelo de Regress\n",
        "prediction = model.predict()\n",
        "forecast = prediction.forecast"
      ],
      "execution_count": 41,
      "outputs": [
        {
          "output_type": "stream",
          "text": [
            "Inferred frequency is: D\n",
            "Old data dropped by `drop_data_older_than_periods`.\n",
            "Model Number: 1 with model AverageValueNaive in generation 0 of 20\n",
            "Model Number: 2 with model AverageValueNaive in generation 0 of 20\n",
            "Model Number: 3 with model AverageValueNaive in generation 0 of 20\n",
            "Model Number: 4 with model DatepartRegression in generation 0 of 20\n",
            "Model Number: 5 with model DatepartRegression in generation 0 of 20\n",
            "Model Number: 6 with model DatepartRegression in generation 0 of 20\n",
            "Model Number: 7 with model DatepartRegression in generation 0 of 20\n",
            "Epoch 1/50\n",
            "32/32 [==============================] - 4s 4ms/step - loss: 0.4156\n",
            "Epoch 2/50\n",
            "32/32 [==============================] - 0s 5ms/step - loss: 0.4057\n",
            "Epoch 3/50\n",
            "32/32 [==============================] - 0s 4ms/step - loss: 0.4010\n",
            "Epoch 4/50\n",
            "32/32 [==============================] - 0s 5ms/step - loss: 0.4020\n",
            "Epoch 5/50\n",
            "32/32 [==============================] - 0s 5ms/step - loss: 0.3984\n",
            "Epoch 6/50\n",
            "32/32 [==============================] - 0s 5ms/step - loss: 0.3999\n",
            "Epoch 7/50\n",
            "32/32 [==============================] - 0s 5ms/step - loss: 0.4041\n",
            "Epoch 8/50\n",
            "32/32 [==============================] - 0s 5ms/step - loss: 0.3999\n",
            "Epoch 9/50\n",
            "32/32 [==============================] - 0s 5ms/step - loss: 0.3973\n",
            "Epoch 10/50\n",
            "32/32 [==============================] - 0s 5ms/step - loss: 0.3969\n",
            "Epoch 11/50\n",
            "32/32 [==============================] - 0s 5ms/step - loss: 0.3988\n",
            "Epoch 12/50\n",
            "32/32 [==============================] - 0s 5ms/step - loss: 0.3963\n",
            "Epoch 13/50\n",
            "32/32 [==============================] - 0s 5ms/step - loss: 0.3970\n",
            "Epoch 14/50\n",
            "32/32 [==============================] - 0s 5ms/step - loss: 0.3957\n",
            "Epoch 15/50\n",
            "32/32 [==============================] - 0s 5ms/step - loss: 0.3969\n",
            "Epoch 16/50\n",
            "32/32 [==============================] - 0s 5ms/step - loss: 0.3901\n",
            "Epoch 17/50\n",
            "32/32 [==============================] - 0s 5ms/step - loss: 0.3913\n",
            "Epoch 18/50\n",
            "32/32 [==============================] - 0s 5ms/step - loss: 0.3905\n",
            "Epoch 19/50\n",
            "32/32 [==============================] - 0s 5ms/step - loss: 0.3912\n",
            "Epoch 20/50\n",
            "32/32 [==============================] - 0s 5ms/step - loss: 0.3941\n",
            "Epoch 21/50\n",
            "32/32 [==============================] - 0s 4ms/step - loss: 0.3951\n",
            "Epoch 22/50\n",
            "32/32 [==============================] - 0s 4ms/step - loss: 0.3932\n",
            "Epoch 23/50\n",
            "32/32 [==============================] - 0s 5ms/step - loss: 0.3973\n",
            "Epoch 24/50\n",
            "32/32 [==============================] - 0s 5ms/step - loss: 0.3921\n",
            "Epoch 25/50\n",
            "32/32 [==============================] - 0s 4ms/step - loss: 0.3972\n",
            "Epoch 26/50\n",
            "32/32 [==============================] - 0s 5ms/step - loss: 0.3946\n",
            "Epoch 27/50\n",
            "32/32 [==============================] - 0s 4ms/step - loss: 0.3888\n",
            "Epoch 28/50\n",
            "32/32 [==============================] - 0s 4ms/step - loss: 0.3918\n",
            "Epoch 29/50\n",
            "32/32 [==============================] - 0s 4ms/step - loss: 0.3921\n",
            "Epoch 30/50\n",
            "32/32 [==============================] - 0s 4ms/step - loss: 0.3918\n",
            "Epoch 31/50\n",
            "32/32 [==============================] - 0s 5ms/step - loss: 0.3901\n",
            "Epoch 32/50\n",
            "32/32 [==============================] - 0s 5ms/step - loss: 0.3921\n",
            "Epoch 33/50\n",
            "32/32 [==============================] - 0s 5ms/step - loss: 0.3940\n",
            "Epoch 34/50\n",
            "32/32 [==============================] - 0s 5ms/step - loss: 0.3934\n",
            "Epoch 35/50\n",
            "32/32 [==============================] - 0s 5ms/step - loss: 0.3949\n",
            "Epoch 36/50\n",
            "32/32 [==============================] - 0s 5ms/step - loss: 0.3913\n",
            "Epoch 37/50\n",
            "32/32 [==============================] - 0s 5ms/step - loss: 0.3874\n",
            "Epoch 38/50\n",
            "32/32 [==============================] - 0s 4ms/step - loss: 0.3897\n",
            "Epoch 39/50\n",
            "32/32 [==============================] - 0s 5ms/step - loss: 0.3890\n",
            "Epoch 40/50\n",
            "32/32 [==============================] - 0s 5ms/step - loss: 0.3890\n",
            "Epoch 41/50\n",
            "32/32 [==============================] - 0s 5ms/step - loss: 0.3939\n",
            "Epoch 42/50\n",
            "32/32 [==============================] - 0s 5ms/step - loss: 0.3888\n",
            "Epoch 43/50\n",
            "32/32 [==============================] - 0s 5ms/step - loss: 0.3910\n",
            "Epoch 44/50\n",
            "32/32 [==============================] - 0s 5ms/step - loss: 0.3910\n",
            "Epoch 45/50\n",
            "32/32 [==============================] - 0s 5ms/step - loss: 0.3911\n",
            "Epoch 46/50\n",
            "32/32 [==============================] - 0s 4ms/step - loss: 0.3904\n",
            "Epoch 47/50\n",
            "32/32 [==============================] - 0s 5ms/step - loss: 0.3865\n",
            "Epoch 48/50\n",
            "32/32 [==============================] - 0s 4ms/step - loss: 0.3917\n",
            "Epoch 49/50\n",
            "32/32 [==============================] - 0s 5ms/step - loss: 0.3901\n",
            "Epoch 50/50\n",
            "32/32 [==============================] - 0s 5ms/step - loss: 0.3877\n",
            "Model Number: 8 with model ETS in generation 0 of 20\n",
            "Model Number: 9 with model ETS in generation 0 of 20\n",
            "Model Number: 10 with model GLM in generation 0 of 20\n",
            "Model Number: 11 with model GLM in generation 0 of 20\n",
            "Model Number: 12 with model GLS in generation 0 of 20\n",
            "Model Number: 13 with model GLS in generation 0 of 20\n",
            "Model Number: 14 with model GluonTS in generation 0 of 20\n",
            "Template Eval Error: ImportError('GluonTS installation not found or installed version is incompatible with AutoTS.') in model 14: GluonTS\n",
            "Model Number: 15 with model GluonTS in generation 0 of 20\n",
            "Template Eval Error: ImportError('GluonTS installation not found or installed version is incompatible with AutoTS.') in model 15: GluonTS\n",
            "Model Number: 16 with model GluonTS in generation 0 of 20\n",
            "Template Eval Error: ImportError('GluonTS installation not found or installed version is incompatible with AutoTS.') in model 16: GluonTS\n",
            "Model Number: 17 with model GluonTS in generation 0 of 20\n",
            "Template Eval Error: ImportError('GluonTS installation not found or installed version is incompatible with AutoTS.') in model 17: GluonTS\n",
            "Model Number: 18 with model GluonTS in generation 0 of 20\n",
            "Template Eval Error: ImportError('GluonTS installation not found or installed version is incompatible with AutoTS.') in model 18: GluonTS\n",
            "Model Number: 19 with model GluonTS in generation 0 of 20\n",
            "Template Eval Error: ImportError('GluonTS installation not found or installed version is incompatible with AutoTS.') in model 19: GluonTS\n",
            "Model Number: 20 with model LastValueNaive in generation 0 of 20\n",
            "Model Number: 21 with model LastValueNaive in generation 0 of 20\n",
            "Model Number: 22 with model LastValueNaive in generation 0 of 20\n",
            "Model Number: 23 with model LastValueNaive in generation 0 of 20\n",
            "Model Number: 24 with model SeasonalNaive in generation 0 of 20\n",
            "Model Number: 25 with model SeasonalNaive in generation 0 of 20\n",
            "Model Number: 26 with model SeasonalNaive in generation 0 of 20\n",
            "Model Number: 27 with model SeasonalNaive in generation 0 of 20\n",
            "Model Number: 28 with model UnobservedComponents in generation 0 of 20\n",
            "Model Number: 29 with model UnobservedComponents in generation 0 of 20\n",
            "Model Number: 30 with model UnobservedComponents in generation 0 of 20\n",
            "Model Number: 31 with model VAR in generation 0 of 20\n",
            "Template Eval Error: ValueError('Only gave one variable to VAR') in model 31: VAR\n",
            "Model Number: 32 with model VAR in generation 0 of 20\n",
            "Template Eval Error: ValueError('Only gave one variable to VAR') in model 32: VAR\n",
            "Model Number: 33 with model VAR in generation 0 of 20\n",
            "Template Eval Error: ValueError('Only gave one variable to VAR') in model 33: VAR\n",
            "Model Number: 34 with model VECM in generation 0 of 20\n",
            "Template Eval Error: ValueError('Only gave one variable to VECM') in model 34: VECM\n",
            "Model Number: 35 with model VECM in generation 0 of 20\n",
            "Template Eval Error: ValueError('Only gave one variable to VECM') in model 35: VECM\n",
            "Model Number: 36 with model VECM in generation 0 of 20\n",
            "Template Eval Error: ValueError('Only gave one variable to VECM') in model 36: VECM\n",
            "Model Number: 37 with model VECM in generation 0 of 20\n",
            "Template Eval Error: ValueError('Only gave one variable to VECM') in model 37: VECM\n",
            "Model Number: 38 with model WindowRegression in generation 0 of 20\n",
            "Model Number: 39 with model ZeroesNaive in generation 0 of 20\n",
            "Model Number: 40 with model ZeroesNaive in generation 0 of 20\n",
            "Model Number: 41 with model LastValueNaive in generation 0 of 20\n",
            "Model Number: 42 with model AverageValueNaive in generation 0 of 20\n",
            "Model Number: 43 with model GLS in generation 0 of 20\n",
            "Model Number: 44 with model SeasonalNaive in generation 0 of 20\n",
            "Model Number: 45 with model GLM in generation 0 of 20\n",
            "Model Number: 46 with model ETS in generation 0 of 20\n",
            "Model Number: 47 with model FBProphet in generation 0 of 20\n"
          ],
          "name": "stdout"
        },
        {
          "output_type": "stream",
          "text": [
            "INFO:fbprophet:Disabling daily seasonality. Run prophet with daily_seasonality=True to override this.\n"
          ],
          "name": "stderr"
        },
        {
          "output_type": "stream",
          "text": [
            "Model Number: 48 with model RollingRegression in generation 0 of 20\n",
            "Model Number: 49 with model GluonTS in generation 0 of 20\n",
            "Template Eval Error: ImportError('GluonTS installation not found or installed version is incompatible with AutoTS.') in model 49: GluonTS\n",
            "Model Number: 50 with model UnobservedComponents in generation 0 of 20\n",
            "Model Number: 51 with model VAR in generation 0 of 20\n",
            "Template Eval Error: ValueError('Only gave one variable to VAR') in model 51: VAR\n",
            "Model Number: 52 with model VECM in generation 0 of 20\n",
            "Template Eval Error: ValueError('zero-size array to reduction operation maximum which has no identity') in model 52: VECM\n",
            "Model Number: 53 with model WindowRegression in generation 0 of 20\n",
            "Model Number: 54 with model DatepartRegression in generation 0 of 20\n",
            "Model Number: 55 with model UnivariateRegression in generation 0 of 20\n",
            "Template Eval Error: TypeError(\"'>' not supported between instances of 'NoneType' and 'int'\") in model 55: UnivariateRegression\n",
            "Model Number: 56 with model UnobservedComponents in generation 0 of 20\n",
            "Model Number: 57 with model GluonTS in generation 0 of 20\n",
            "Template Eval Error: ImportError('GluonTS installation not found or installed version is incompatible with AutoTS.') in model 57: GluonTS\n",
            "Model Number: 58 with model GLM in generation 0 of 20\n",
            "Template Eval Error: ValueError('The first guess on the deviance function returned a nan.  This could be a boundary  problem and should be reported.') in model 58: GLM\n",
            "Model Number: 59 with model ETS in generation 0 of 20\n",
            "Model Number: 60 with model UnivariateRegression in generation 0 of 20\n",
            "Template Eval Error: TypeError(\"'>' not supported between instances of 'NoneType' and 'int'\") in model 60: UnivariateRegression\n",
            "Model Number: 61 with model AverageValueNaive in generation 0 of 20\n",
            "Model Number: 62 with model VECM in generation 0 of 20\n",
            "Template Eval Error: ValueError('Only gave one variable to VECM') in model 62: VECM\n",
            "Model Number: 63 with model VAR in generation 0 of 20\n",
            "Template Eval Error: ValueError('Only gave one variable to VAR') in model 63: VAR\n",
            "Model Number: 64 with model GluonTS in generation 0 of 20\n",
            "Template Eval Error: ImportError('GluonTS installation not found or installed version is incompatible with AutoTS.') in model 64: GluonTS\n",
            "Model Number: 65 with model UnivariateRegression in generation 0 of 20\n",
            "Template Eval Error: TypeError(\"'>' not supported between instances of 'NoneType' and 'int'\") in model 65: UnivariateRegression\n",
            "Model Number: 66 with model FBProphet in generation 0 of 20\n"
          ],
          "name": "stdout"
        },
        {
          "output_type": "stream",
          "text": [
            "INFO:fbprophet:Disabling daily seasonality. Run prophet with daily_seasonality=True to override this.\n"
          ],
          "name": "stderr"
        },
        {
          "output_type": "stream",
          "text": [
            "Model Number: 67 with model ZeroesNaive in generation 0 of 20\n",
            "Model Number: 68 with model ETS in generation 0 of 20\n",
            "Model Number: 69 with model AverageValueNaive in generation 0 of 20\n",
            "Model Number: 70 with model GluonTS in generation 0 of 20\n",
            "Template Eval Error: ImportError('GluonTS installation not found or installed version is incompatible with AutoTS.') in model 70: GluonTS\n",
            "Model Number: 71 with model UnobservedComponents in generation 0 of 20\n",
            "Model Number: 72 with model FBProphet in generation 0 of 20\n"
          ],
          "name": "stdout"
        },
        {
          "output_type": "stream",
          "text": [
            "INFO:fbprophet:Disabling daily seasonality. Run prophet with daily_seasonality=True to override this.\n"
          ],
          "name": "stderr"
        },
        {
          "output_type": "stream",
          "text": [
            "Model Number: 73 with model DatepartRegression in generation 0 of 20\n",
            "Template Eval Error: ValueError(\"Input contains NaN, infinity or a value too large for dtype('float64').\") in model 73: DatepartRegression\n",
            "Model Number: 74 with model AverageValueNaive in generation 0 of 20\n",
            "Model Number: 75 with model AverageValueNaive in generation 0 of 20\n",
            "Model Number: 76 with model GLM in generation 0 of 20\n",
            "Model Number: 77 with model VAR in generation 0 of 20\n",
            "Template Eval Error: ValueError('Only gave one variable to VAR') in model 77: VAR\n",
            "Model Number: 78 with model UnobservedComponents in generation 0 of 20\n",
            "Model Number: 79 with model DatepartRegression in generation 0 of 20\n",
            "[LibLinear][LibLinear][LibLinear][LibLinear][LibLinear][LibLinear][LibLinear][LibLinear][LibLinear][LibLinear][LibLinear][LibLinear][LibLinear][LibLinear]Model Number: 80 with model RollingRegression in generation 0 of 20\n",
            "Model Number: 81 with model RollingRegression in generation 0 of 20\n",
            "Model Number: 82 with model UnivariateRegression in generation 0 of 20\n",
            "Template Eval Error: TypeError(\"'>' not supported between instances of 'NoneType' and 'int'\") in model 82: UnivariateRegression\n",
            "Model Number: 83 with model FBProphet in generation 0 of 20\n"
          ],
          "name": "stdout"
        },
        {
          "output_type": "stream",
          "text": [
            "INFO:fbprophet:Disabling daily seasonality. Run prophet with daily_seasonality=True to override this.\n"
          ],
          "name": "stderr"
        },
        {
          "output_type": "stream",
          "text": [
            "Model Number: 84 with model DatepartRegression in generation 0 of 20\n",
            "Template Eval Error: ValueError('Data cardinality is ambiguous:\\n  x sizes: 1688\\n  y sizes: 844\\nMake sure all arrays contain the same number of samples.') in model 84: DatepartRegression\n",
            "Model Number: 85 with model VECM in generation 0 of 20\n",
            "Template Eval Error: ValueError('Only gave one variable to VECM') in model 85: VECM\n",
            "Model Number: 86 with model RollingRegression in generation 0 of 20\n",
            "Epoch 1/50\n",
            "31/31 [==============================] - 5s 6ms/step - loss: nan\n",
            "Epoch 2/50\n",
            "31/31 [==============================] - 0s 6ms/step - loss: -0.4579\n",
            "Epoch 3/50\n",
            "31/31 [==============================] - 0s 6ms/step - loss: -1.8117\n",
            "Epoch 4/50\n",
            "31/31 [==============================] - 0s 7ms/step - loss: -4.8225\n",
            "Epoch 5/50\n",
            "31/31 [==============================] - 0s 6ms/step - loss: -11.5710\n",
            "Epoch 6/50\n",
            "31/31 [==============================] - 0s 7ms/step - loss: nan \n",
            "Epoch 7/50\n",
            "31/31 [==============================] - 0s 7ms/step - loss: nan\n",
            "Epoch 8/50\n",
            "31/31 [==============================] - 0s 6ms/step - loss: nan\n",
            "Epoch 9/50\n",
            "31/31 [==============================] - 0s 7ms/step - loss: nan\n",
            "Epoch 10/50\n",
            "31/31 [==============================] - 0s 6ms/step - loss: nan\n",
            "Epoch 11/50\n",
            "31/31 [==============================] - 0s 6ms/step - loss: nan\n",
            "Epoch 12/50\n",
            "31/31 [==============================] - 0s 7ms/step - loss: nan\n",
            "Epoch 13/50\n",
            "31/31 [==============================] - 0s 7ms/step - loss: nan\n",
            "Epoch 14/50\n",
            "31/31 [==============================] - 0s 6ms/step - loss: nan\n",
            "Epoch 15/50\n",
            "31/31 [==============================] - 0s 6ms/step - loss: nan\n",
            "Epoch 16/50\n",
            "31/31 [==============================] - 0s 6ms/step - loss: nan\n",
            "Epoch 17/50\n",
            "31/31 [==============================] - 0s 7ms/step - loss: nan\n",
            "Epoch 18/50\n",
            "31/31 [==============================] - 0s 6ms/step - loss: nan\n",
            "Epoch 19/50\n",
            "31/31 [==============================] - 0s 6ms/step - loss: nan\n",
            "Epoch 20/50\n",
            "31/31 [==============================] - 0s 6ms/step - loss: nan\n",
            "Epoch 21/50\n",
            "31/31 [==============================] - 0s 6ms/step - loss: nan\n",
            "Epoch 22/50\n",
            "31/31 [==============================] - 0s 6ms/step - loss: nan\n",
            "Epoch 23/50\n",
            "31/31 [==============================] - 0s 7ms/step - loss: nan\n",
            "Epoch 24/50\n",
            "31/31 [==============================] - 0s 7ms/step - loss: nan\n",
            "Epoch 25/50\n",
            "31/31 [==============================] - 0s 6ms/step - loss: nan\n",
            "Epoch 26/50\n",
            "31/31 [==============================] - 0s 7ms/step - loss: nan\n",
            "Epoch 27/50\n",
            "31/31 [==============================] - 0s 7ms/step - loss: nan\n",
            "Epoch 28/50\n",
            "31/31 [==============================] - 0s 7ms/step - loss: nan\n",
            "Epoch 29/50\n",
            "31/31 [==============================] - 0s 7ms/step - loss: nan\n",
            "Epoch 30/50\n",
            "31/31 [==============================] - 0s 6ms/step - loss: nan\n",
            "Epoch 31/50\n",
            "31/31 [==============================] - 0s 7ms/step - loss: nan\n",
            "Epoch 32/50\n",
            "31/31 [==============================] - 0s 7ms/step - loss: nan\n",
            "Epoch 33/50\n",
            "31/31 [==============================] - 0s 7ms/step - loss: nan\n",
            "Epoch 34/50\n",
            "31/31 [==============================] - 0s 6ms/step - loss: nan\n",
            "Epoch 35/50\n",
            "31/31 [==============================] - 0s 6ms/step - loss: nan\n",
            "Epoch 36/50\n",
            "31/31 [==============================] - 0s 7ms/step - loss: nan\n",
            "Epoch 37/50\n",
            "31/31 [==============================] - 0s 6ms/step - loss: nan\n",
            "Epoch 38/50\n",
            "31/31 [==============================] - 0s 7ms/step - loss: nan\n",
            "Epoch 39/50\n",
            "31/31 [==============================] - 0s 6ms/step - loss: nan\n",
            "Epoch 40/50\n",
            "31/31 [==============================] - 0s 6ms/step - loss: nan\n",
            "Epoch 41/50\n",
            "31/31 [==============================] - 0s 7ms/step - loss: nan\n",
            "Epoch 42/50\n",
            "31/31 [==============================] - 0s 7ms/step - loss: nan\n",
            "Epoch 43/50\n",
            "31/31 [==============================] - 0s 7ms/step - loss: nan\n",
            "Epoch 44/50\n",
            "31/31 [==============================] - 0s 6ms/step - loss: nan\n",
            "Epoch 45/50\n",
            "31/31 [==============================] - 0s 7ms/step - loss: nan\n",
            "Epoch 46/50\n",
            "31/31 [==============================] - 0s 7ms/step - loss: nan\n",
            "Epoch 47/50\n",
            "31/31 [==============================] - 0s 7ms/step - loss: nan\n",
            "Epoch 48/50\n",
            "31/31 [==============================] - 0s 7ms/step - loss: nan\n",
            "Epoch 49/50\n",
            "31/31 [==============================] - 0s 7ms/step - loss: nan\n",
            "Epoch 50/50\n",
            "31/31 [==============================] - 0s 7ms/step - loss: nan\n",
            "Model Number: 87 with model ETS in generation 0 of 20\n",
            "Model Number: 88 with model UnobservedComponents in generation 0 of 20\n",
            "Model Number: 89 with model GLS in generation 0 of 20\n",
            "Model Number: 90 with model VAR in generation 0 of 20\n",
            "Template Eval Error: ValueError('Only gave one variable to VAR') in model 90: VAR\n",
            "Model Number: 91 with model VAR in generation 0 of 20\n",
            "Template Eval Error: ValueError('Only gave one variable to VAR') in model 91: VAR\n",
            "Model Number: 92 with model UnobservedComponents in generation 0 of 20\n",
            "Model Number: 93 with model VAR in generation 0 of 20\n",
            "Template Eval Error: ValueError('zero-size array to reduction operation maximum which has no identity') in model 93: VAR\n",
            "Model Number: 94 with model SeasonalNaive in generation 0 of 20\n",
            "Model Number: 95 with model SeasonalNaive in generation 0 of 20\n",
            "Model Number: 96 with model UnivariateRegression in generation 0 of 20\n",
            "Template Eval Error: TypeError(\"'>' not supported between instances of 'NoneType' and 'int'\") in model 96: UnivariateRegression\n",
            "Model Number: 97 with model GLS in generation 0 of 20\n",
            "Model Number: 98 with model SeasonalNaive in generation 0 of 20\n",
            "Model Number: 99 with model GLM in generation 0 of 20\n",
            "Model Number: 100 with model FBProphet in generation 0 of 20\n"
          ],
          "name": "stdout"
        },
        {
          "output_type": "stream",
          "text": [
            "INFO:fbprophet:Disabling daily seasonality. Run prophet with daily_seasonality=True to override this.\n"
          ],
          "name": "stderr"
        },
        {
          "output_type": "stream",
          "text": [
            "Model Number: 101 with model ZeroesNaive in generation 0 of 20\n",
            "Model Number: 102 with model UnobservedComponents in generation 0 of 20\n",
            "Model Number: 103 with model AverageValueNaive in generation 0 of 20\n",
            "New Generation: 1 of 20\n",
            "Model Number: 104 with model ETS in generation 1 of 20\n",
            "Model Number: 105 with model ETS in generation 1 of 20\n",
            "Model Number: 106 with model ETS in generation 1 of 20\n",
            "Model Number: 107 with model ETS in generation 1 of 20\n",
            "Model Number: 108 with model WindowRegression in generation 1 of 20\n",
            "Model Number: 109 with model WindowRegression in generation 1 of 20\n",
            "Template Eval Error: LightGBMError('Check failed: label > 0 at /__w/1/s/python-package/compile/src/metric/regression_metric.hpp, line 268 .\\n') in model 109: WindowRegression\n",
            "Model Number: 110 with model WindowRegression in generation 1 of 20\n",
            "Template Eval Error: LightGBMError('Check failed: label > 0 at /__w/1/s/python-package/compile/src/metric/regression_metric.hpp, line 268 .\\n') in model 110: WindowRegression\n",
            "Model Number: 111 with model DatepartRegression in generation 1 of 20\n",
            "Model Number: 112 with model DatepartRegression in generation 1 of 20\n",
            "Template Eval Error: ValueError(\"Input contains NaN, infinity or a value too large for dtype('float64').\") in model 112: DatepartRegression\n",
            "Model Number: 113 with model DatepartRegression in generation 1 of 20\n",
            "Model Number: 114 with model SeasonalNaive in generation 1 of 20\n",
            "Model Number: 115 with model SeasonalNaive in generation 1 of 20\n",
            "Model Number: 116 with model SeasonalNaive in generation 1 of 20\n",
            "Model Number: 117 with model SeasonalNaive in generation 1 of 20\n",
            "Model Number: 118 with model ZeroesNaive in generation 1 of 20\n",
            "Model Number: 119 with model ZeroesNaive in generation 1 of 20\n",
            "Model Number: 120 with model ZeroesNaive in generation 1 of 20\n",
            "Model Number: 121 with model AverageValueNaive in generation 1 of 20\n",
            "Model Number: 122 with model AverageValueNaive in generation 1 of 20\n",
            "Model Number: 123 with model AverageValueNaive in generation 1 of 20\n",
            "Model Number: 124 with model FBProphet in generation 1 of 20\n"
          ],
          "name": "stdout"
        },
        {
          "output_type": "stream",
          "text": [
            "INFO:fbprophet:Disabling daily seasonality. Run prophet with daily_seasonality=True to override this.\n",
            "INFO:fbprophet:Disabling daily seasonality. Run prophet with daily_seasonality=True to override this.\n"
          ],
          "name": "stderr"
        },
        {
          "output_type": "stream",
          "text": [
            "Model Number: 125 with model FBProphet in generation 1 of 20\n"
          ],
          "name": "stdout"
        },
        {
          "output_type": "stream",
          "text": [
            "INFO:fbprophet:Disabling daily seasonality. Run prophet with daily_seasonality=True to override this.\n"
          ],
          "name": "stderr"
        },
        {
          "output_type": "stream",
          "text": [
            "Model Number: 126 with model FBProphet in generation 1 of 20\n"
          ],
          "name": "stdout"
        },
        {
          "output_type": "stream",
          "text": [
            "INFO:fbprophet:Disabling daily seasonality. Run prophet with daily_seasonality=True to override this.\n"
          ],
          "name": "stderr"
        },
        {
          "output_type": "stream",
          "text": [
            "Model Number: 127 with model FBProphet in generation 1 of 20\n",
            "Model Number: 128 with model LastValueNaive in generation 1 of 20\n",
            "Model Number: 129 with model LastValueNaive in generation 1 of 20\n",
            "Model Number: 130 with model LastValueNaive in generation 1 of 20\n",
            "Model Number: 131 with model RollingRegression in generation 1 of 20\n",
            "Model Number: 132 with model RollingRegression in generation 1 of 20\n",
            "Model Number: 133 with model RollingRegression in generation 1 of 20\n",
            "Model Number: 134 with model RollingRegression in generation 1 of 20\n",
            "Model Number: 135 with model GLS in generation 1 of 20\n",
            "Model Number: 136 with model GLS in generation 1 of 20\n",
            "Model Number: 137 with model GLS in generation 1 of 20\n",
            "Model Number: 138 with model GLM in generation 1 of 20\n",
            "Model Number: 139 with model GLM in generation 1 of 20\n",
            "Model Number: 140 with model GLM in generation 1 of 20\n",
            "Model Number: 141 with model GLM in generation 1 of 20\n",
            "Model Number: 142 with model UnobservedComponents in generation 1 of 20\n",
            "Model Number: 143 with model UnobservedComponents in generation 1 of 20\n",
            "Model Number: 144 with model UnobservedComponents in generation 1 of 20\n",
            "Model Number: 145 with model GluonTS in generation 1 of 20\n",
            "Template Eval Error: ImportError('GluonTS installation not found or installed version is incompatible with AutoTS.') in model 145: GluonTS\n",
            "Model Number: 146 with model GluonTS in generation 1 of 20\n",
            "Template Eval Error: ImportError('GluonTS installation not found or installed version is incompatible with AutoTS.') in model 146: GluonTS\n",
            "Model Number: 147 with model GluonTS in generation 1 of 20\n",
            "Template Eval Error: ImportError('GluonTS installation not found or installed version is incompatible with AutoTS.') in model 147: GluonTS\n",
            "Model Number: 148 with model GluonTS in generation 1 of 20\n",
            "Template Eval Error: ImportError('GluonTS installation not found or installed version is incompatible with AutoTS.') in model 148: GluonTS\n",
            "Model Number: 149 with model VAR in generation 1 of 20\n",
            "Template Eval Error: ValueError('Only gave one variable to VAR') in model 149: VAR\n",
            "Model Number: 150 with model VAR in generation 1 of 20\n",
            "Template Eval Error: ValueError('Only gave one variable to VAR') in model 150: VAR\n",
            "Model Number: 151 with model VAR in generation 1 of 20\n",
            "Template Eval Error: ValueError('Only gave one variable to VAR') in model 151: VAR\n",
            "Model Number: 152 with model VAR in generation 1 of 20\n",
            "Template Eval Error: ValueError('Only gave one variable to VAR') in model 152: VAR\n",
            "Model Number: 153 with model VECM in generation 1 of 20\n",
            "Template Eval Error: ValueError('Only gave one variable to VECM') in model 153: VECM\n",
            "Model Number: 154 with model VECM in generation 1 of 20\n",
            "Template Eval Error: ValueError('Only gave one variable to VECM') in model 154: VECM\n",
            "Model Number: 155 with model VECM in generation 1 of 20\n",
            "Template Eval Error: ValueError('Only gave one variable to VECM') in model 155: VECM\n",
            "Model Number: 156 with model VECM in generation 1 of 20\n",
            "Template Eval Error: ValueError('Only gave one variable to VECM') in model 156: VECM\n",
            "Model Number: 157 with model UnivariateRegression in generation 1 of 20\n",
            "Template Eval Error: TypeError(\"'>' not supported between instances of 'NoneType' and 'int'\") in model 157: UnivariateRegression\n",
            "Model Number: 158 with model UnivariateRegression in generation 1 of 20\n",
            "Template Eval Error: TypeError(\"'>' not supported between instances of 'NoneType' and 'int'\") in model 158: UnivariateRegression\n",
            "Model Number: 159 with model UnivariateRegression in generation 1 of 20\n",
            "Template Eval Error: TypeError(\"'>' not supported between instances of 'NoneType' and 'int'\") in model 159: UnivariateRegression\n",
            "Model Number: 160 with model UnivariateRegression in generation 1 of 20\n",
            "Template Eval Error: TypeError(\"'>' not supported between instances of 'NoneType' and 'int'\") in model 160: UnivariateRegression\n",
            "New Generation: 2 of 20\n",
            "Model Number: 161 with model ETS in generation 2 of 20\n",
            "Model Number: 162 with model ETS in generation 2 of 20\n",
            "Model Number: 163 with model ETS in generation 2 of 20\n",
            "Model Number: 164 with model WindowRegression in generation 2 of 20\n",
            "Template Eval Error: ValueError(\"Input contains NaN, infinity or a value too large for dtype('float64').\") in model 164: WindowRegression\n",
            "Model Number: 165 with model WindowRegression in generation 2 of 20\n",
            "Epoch 1/50\n",
            "123/123 [==============================] - 5s 3ms/step - loss: 2.4012\n",
            "Epoch 2/50\n",
            "123/123 [==============================] - 0s 3ms/step - loss: 1.1044\n",
            "Epoch 3/50\n",
            "123/123 [==============================] - 0s 3ms/step - loss: 0.8064\n",
            "Epoch 4/50\n",
            "123/123 [==============================] - 0s 3ms/step - loss: 0.6248\n",
            "Epoch 5/50\n",
            "123/123 [==============================] - 0s 3ms/step - loss: 0.5050\n",
            "Epoch 6/50\n",
            "123/123 [==============================] - 0s 3ms/step - loss: 0.4297\n",
            "Epoch 7/50\n",
            "123/123 [==============================] - 0s 3ms/step - loss: 0.3578\n",
            "Epoch 8/50\n",
            "123/123 [==============================] - 0s 3ms/step - loss: 0.3261\n",
            "Epoch 9/50\n",
            "123/123 [==============================] - 0s 3ms/step - loss: 0.3236\n",
            "Epoch 10/50\n",
            "123/123 [==============================] - 0s 3ms/step - loss: 0.3218\n",
            "Epoch 11/50\n",
            "123/123 [==============================] - 0s 3ms/step - loss: 0.3213\n",
            "Epoch 12/50\n",
            "123/123 [==============================] - 0s 3ms/step - loss: 0.3209\n",
            "Epoch 13/50\n",
            "123/123 [==============================] - 0s 3ms/step - loss: 0.3222\n",
            "Epoch 14/50\n",
            "123/123 [==============================] - 0s 3ms/step - loss: 0.3195\n",
            "Epoch 15/50\n",
            "123/123 [==============================] - 0s 3ms/step - loss: 0.3222\n",
            "Epoch 16/50\n",
            "123/123 [==============================] - 0s 3ms/step - loss: 0.3200\n",
            "Epoch 17/50\n",
            "123/123 [==============================] - 0s 3ms/step - loss: 0.3202\n",
            "Epoch 18/50\n",
            "123/123 [==============================] - 0s 3ms/step - loss: 0.3200\n",
            "Epoch 19/50\n",
            "123/123 [==============================] - 0s 3ms/step - loss: 0.3208\n",
            "Epoch 20/50\n",
            "123/123 [==============================] - 0s 3ms/step - loss: 0.3196\n",
            "Epoch 21/50\n",
            "123/123 [==============================] - 0s 3ms/step - loss: 0.3207\n",
            "Epoch 22/50\n",
            "123/123 [==============================] - 0s 3ms/step - loss: 0.3222\n",
            "Epoch 23/50\n",
            "123/123 [==============================] - 0s 3ms/step - loss: 0.3209\n",
            "Epoch 24/50\n",
            "123/123 [==============================] - 0s 3ms/step - loss: 0.3220\n",
            "Epoch 25/50\n",
            "123/123 [==============================] - 0s 3ms/step - loss: 0.3211\n",
            "Epoch 26/50\n",
            "123/123 [==============================] - 0s 3ms/step - loss: 0.3204\n",
            "Epoch 27/50\n",
            "123/123 [==============================] - 0s 3ms/step - loss: 0.3211\n",
            "Epoch 28/50\n",
            "123/123 [==============================] - 0s 3ms/step - loss: 0.3221\n",
            "Epoch 29/50\n",
            "123/123 [==============================] - 0s 3ms/step - loss: 0.3205\n",
            "Epoch 30/50\n",
            "123/123 [==============================] - 0s 3ms/step - loss: 0.3209\n",
            "Epoch 31/50\n",
            "123/123 [==============================] - 0s 3ms/step - loss: 0.3214\n",
            "Epoch 32/50\n",
            "123/123 [==============================] - 0s 3ms/step - loss: 0.3194\n",
            "Epoch 33/50\n",
            "123/123 [==============================] - 0s 3ms/step - loss: 0.3211\n",
            "Epoch 34/50\n",
            "123/123 [==============================] - 0s 3ms/step - loss: 0.3209\n",
            "Epoch 35/50\n",
            "123/123 [==============================] - 0s 3ms/step - loss: 0.3209\n",
            "Epoch 36/50\n",
            "123/123 [==============================] - 0s 3ms/step - loss: 0.3217\n",
            "Epoch 37/50\n",
            "123/123 [==============================] - 0s 3ms/step - loss: 0.3195\n",
            "Epoch 38/50\n",
            "123/123 [==============================] - 0s 3ms/step - loss: 0.3205\n",
            "Epoch 39/50\n",
            "123/123 [==============================] - 0s 3ms/step - loss: 0.3205\n",
            "Epoch 40/50\n",
            "123/123 [==============================] - 0s 3ms/step - loss: 0.3213\n",
            "Epoch 41/50\n",
            "123/123 [==============================] - 0s 3ms/step - loss: 0.3212\n",
            "Epoch 42/50\n",
            "123/123 [==============================] - 0s 3ms/step - loss: 0.3212\n",
            "Epoch 43/50\n",
            "123/123 [==============================] - 0s 3ms/step - loss: 0.3202\n",
            "Epoch 44/50\n",
            "123/123 [==============================] - 0s 3ms/step - loss: 0.3201\n",
            "Epoch 45/50\n",
            "123/123 [==============================] - 0s 3ms/step - loss: 0.3211\n",
            "Epoch 46/50\n",
            "123/123 [==============================] - 0s 3ms/step - loss: 0.3197\n",
            "Epoch 47/50\n",
            "123/123 [==============================] - 0s 3ms/step - loss: 0.3210\n",
            "Epoch 48/50\n",
            "123/123 [==============================] - 0s 3ms/step - loss: 0.3210\n",
            "Epoch 49/50\n",
            "123/123 [==============================] - 0s 3ms/step - loss: 0.3203\n",
            "Epoch 50/50\n",
            "123/123 [==============================] - 0s 3ms/step - loss: 0.3203\n",
            "Model Number: 166 with model WindowRegression in generation 2 of 20\n",
            "Model Number: 167 with model DatepartRegression in generation 2 of 20\n",
            "Model Number: 168 with model DatepartRegression in generation 2 of 20\n",
            "Model Number: 169 with model DatepartRegression in generation 2 of 20\n",
            "Template Eval Error: ValueError(\"Input contains NaN, infinity or a value too large for dtype('float64').\") in model 169: DatepartRegression\n",
            "Model Number: 170 with model SeasonalNaive in generation 2 of 20\n",
            "Model Number: 171 with model SeasonalNaive in generation 2 of 20\n",
            "Model Number: 172 with model SeasonalNaive in generation 2 of 20\n",
            "Model Number: 173 with model SeasonalNaive in generation 2 of 20\n",
            "Model Number: 174 with model AverageValueNaive in generation 2 of 20\n",
            "Model Number: 175 with model AverageValueNaive in generation 2 of 20\n",
            "Model Number: 176 with model AverageValueNaive in generation 2 of 20\n",
            "Model Number: 177 with model RollingRegression in generation 2 of 20\n",
            "Model Number: 178 with model RollingRegression in generation 2 of 20\n",
            "Model Number: 179 with model RollingRegression in generation 2 of 20\n",
            "Model Number: 180 with model RollingRegression in generation 2 of 20\n",
            "Model Number: 181 with model ZeroesNaive in generation 2 of 20\n",
            "Model Number: 182 with model ZeroesNaive in generation 2 of 20\n",
            "Model Number: 183 with model ZeroesNaive in generation 2 of 20\n"
          ],
          "name": "stdout"
        },
        {
          "output_type": "stream",
          "text": [
            "INFO:fbprophet:Disabling daily seasonality. Run prophet with daily_seasonality=True to override this.\n"
          ],
          "name": "stderr"
        },
        {
          "output_type": "stream",
          "text": [
            "Model Number: 184 with model FBProphet in generation 2 of 20\n"
          ],
          "name": "stdout"
        },
        {
          "output_type": "stream",
          "text": [
            "INFO:fbprophet:Disabling daily seasonality. Run prophet with daily_seasonality=True to override this.\n"
          ],
          "name": "stderr"
        },
        {
          "output_type": "stream",
          "text": [
            "Model Number: 185 with model FBProphet in generation 2 of 20\n"
          ],
          "name": "stdout"
        },
        {
          "output_type": "stream",
          "text": [
            "INFO:fbprophet:Disabling daily seasonality. Run prophet with daily_seasonality=True to override this.\n"
          ],
          "name": "stderr"
        },
        {
          "output_type": "stream",
          "text": [
            "Model Number: 186 with model FBProphet in generation 2 of 20\n"
          ],
          "name": "stdout"
        },
        {
          "output_type": "stream",
          "text": [
            "INFO:fbprophet:Disabling daily seasonality. Run prophet with daily_seasonality=True to override this.\n"
          ],
          "name": "stderr"
        },
        {
          "output_type": "stream",
          "text": [
            "Model Number: 187 with model FBProphet in generation 2 of 20\n",
            "Model Number: 188 with model LastValueNaive in generation 2 of 20\n",
            "Model Number: 189 with model LastValueNaive in generation 2 of 20\n",
            "Model Number: 190 with model LastValueNaive in generation 2 of 20\n",
            "Model Number: 191 with model GLS in generation 2 of 20\n",
            "Model Number: 192 with model GLS in generation 2 of 20\n",
            "Model Number: 193 with model GLS in generation 2 of 20\n",
            "Model Number: 194 with model GLM in generation 2 of 20\n",
            "Model Number: 195 with model GLM in generation 2 of 20\n",
            "Model Number: 196 with model GLM in generation 2 of 20\n",
            "Model Number: 197 with model GLM in generation 2 of 20\n",
            "Model Number: 198 with model UnobservedComponents in generation 2 of 20\n",
            "Model Number: 199 with model UnobservedComponents in generation 2 of 20\n",
            "Model Number: 200 with model UnobservedComponents in generation 2 of 20\n",
            "Model Number: 201 with model GluonTS in generation 2 of 20\n",
            "Template Eval Error: ImportError('GluonTS installation not found or installed version is incompatible with AutoTS.') in model 201: GluonTS\n",
            "Model Number: 202 with model GluonTS in generation 2 of 20\n",
            "Template Eval Error: ImportError('GluonTS installation not found or installed version is incompatible with AutoTS.') in model 202: GluonTS\n",
            "Model Number: 203 with model GluonTS in generation 2 of 20\n",
            "Template Eval Error: ImportError('GluonTS installation not found or installed version is incompatible with AutoTS.') in model 203: GluonTS\n",
            "Model Number: 204 with model GluonTS in generation 2 of 20\n",
            "Template Eval Error: ImportError('GluonTS installation not found or installed version is incompatible with AutoTS.') in model 204: GluonTS\n",
            "Model Number: 205 with model VAR in generation 2 of 20\n",
            "Template Eval Error: ValueError('Only gave one variable to VAR') in model 205: VAR\n",
            "Model Number: 206 with model VAR in generation 2 of 20\n",
            "Template Eval Error: ValueError('Only gave one variable to VAR') in model 206: VAR\n",
            "Model Number: 207 with model VAR in generation 2 of 20\n",
            "Template Eval Error: ValueError('Only gave one variable to VAR') in model 207: VAR\n",
            "Model Number: 208 with model VAR in generation 2 of 20\n",
            "Template Eval Error: ValueError('Only gave one variable to VAR') in model 208: VAR\n",
            "Model Number: 209 with model VECM in generation 2 of 20\n",
            "Template Eval Error: ValueError('Only gave one variable to VECM') in model 209: VECM\n",
            "Model Number: 210 with model VECM in generation 2 of 20\n",
            "Template Eval Error: ValueError('Only gave one variable to VECM') in model 210: VECM\n",
            "Model Number: 211 with model VECM in generation 2 of 20\n",
            "Template Eval Error: ValueError('Only gave one variable to VECM') in model 211: VECM\n",
            "Model Number: 212 with model VECM in generation 2 of 20\n",
            "Template Eval Error: ValueError('Only gave one variable to VECM') in model 212: VECM\n",
            "Model Number: 213 with model UnivariateRegression in generation 2 of 20\n",
            "Template Eval Error: TypeError(\"'>' not supported between instances of 'NoneType' and 'int'\") in model 213: UnivariateRegression\n",
            "Model Number: 214 with model UnivariateRegression in generation 2 of 20\n",
            "Template Eval Error: TypeError(\"'>' not supported between instances of 'NoneType' and 'int'\") in model 214: UnivariateRegression\n",
            "Model Number: 215 with model UnivariateRegression in generation 2 of 20\n",
            "Template Eval Error: TypeError(\"'>' not supported between instances of 'NoneType' and 'int'\") in model 215: UnivariateRegression\n",
            "Model Number: 216 with model UnivariateRegression in generation 2 of 20\n",
            "Template Eval Error: TypeError(\"'>' not supported between instances of 'NoneType' and 'int'\") in model 216: UnivariateRegression\n",
            "New Generation: 3 of 20\n",
            "Model Number: 217 with model ETS in generation 3 of 20\n",
            "Model Number: 218 with model ETS in generation 3 of 20\n",
            "Model Number: 219 with model ETS in generation 3 of 20\n",
            "Model Number: 220 with model WindowRegression in generation 3 of 20\n",
            "Model Number: 221 with model WindowRegression in generation 3 of 20\n",
            "Template Eval Error: ValueError(\"Input contains NaN, infinity or a value too large for dtype('float64').\") in model 221: WindowRegression\n",
            "Model Number: 222 with model WindowRegression in generation 3 of 20\n",
            "Model Number: 223 with model SeasonalNaive in generation 3 of 20\n",
            "Model Number: 224 with model SeasonalNaive in generation 3 of 20\n",
            "Model Number: 225 with model SeasonalNaive in generation 3 of 20\n",
            "Model Number: 226 with model SeasonalNaive in generation 3 of 20\n",
            "Model Number: 227 with model DatepartRegression in generation 3 of 20\n",
            "Model Number: 228 with model DatepartRegression in generation 3 of 20\n",
            "Model Number: 229 with model DatepartRegression in generation 3 of 20\n",
            "Model Number: 230 with model AverageValueNaive in generation 3 of 20\n",
            "Model Number: 231 with model AverageValueNaive in generation 3 of 20\n",
            "Model Number: 232 with model AverageValueNaive in generation 3 of 20\n"
          ],
          "name": "stdout"
        },
        {
          "output_type": "stream",
          "text": [
            "INFO:fbprophet:Disabling daily seasonality. Run prophet with daily_seasonality=True to override this.\n"
          ],
          "name": "stderr"
        },
        {
          "output_type": "stream",
          "text": [
            "Model Number: 233 with model FBProphet in generation 3 of 20\n"
          ],
          "name": "stdout"
        },
        {
          "output_type": "stream",
          "text": [
            "INFO:fbprophet:Disabling daily seasonality. Run prophet with daily_seasonality=True to override this.\n"
          ],
          "name": "stderr"
        },
        {
          "output_type": "stream",
          "text": [
            "Model Number: 234 with model FBProphet in generation 3 of 20\n"
          ],
          "name": "stdout"
        },
        {
          "output_type": "stream",
          "text": [
            "INFO:fbprophet:Disabling daily seasonality. Run prophet with daily_seasonality=True to override this.\n"
          ],
          "name": "stderr"
        },
        {
          "output_type": "stream",
          "text": [
            "Model Number: 235 with model FBProphet in generation 3 of 20\n"
          ],
          "name": "stdout"
        },
        {
          "output_type": "stream",
          "text": [
            "INFO:fbprophet:Disabling daily seasonality. Run prophet with daily_seasonality=True to override this.\n"
          ],
          "name": "stderr"
        },
        {
          "output_type": "stream",
          "text": [
            "Model Number: 236 with model FBProphet in generation 3 of 20\n",
            "Model Number: 237 with model RollingRegression in generation 3 of 20\n",
            "Model Number: 238 with model RollingRegression in generation 3 of 20\n",
            "Model Number: 239 with model RollingRegression in generation 3 of 20\n",
            "Model Number: 240 with model RollingRegression in generation 3 of 20\n",
            "Model Number: 241 with model ZeroesNaive in generation 3 of 20\n",
            "Model Number: 242 with model ZeroesNaive in generation 3 of 20\n",
            "Model Number: 243 with model ZeroesNaive in generation 3 of 20\n",
            "Model Number: 244 with model LastValueNaive in generation 3 of 20\n",
            "Model Number: 245 with model LastValueNaive in generation 3 of 20\n",
            "Model Number: 246 with model GLS in generation 3 of 20\n",
            "Model Number: 247 with model GLS in generation 3 of 20\n",
            "Model Number: 248 with model GLS in generation 3 of 20\n",
            "Model Number: 249 with model GLM in generation 3 of 20\n",
            "Model Number: 250 with model GLM in generation 3 of 20\n",
            "Model Number: 251 with model GLM in generation 3 of 20\n",
            "Model Number: 252 with model GLM in generation 3 of 20\n",
            "Model Number: 253 with model UnobservedComponents in generation 3 of 20\n",
            "Model Number: 254 with model UnobservedComponents in generation 3 of 20\n",
            "Model Number: 255 with model UnobservedComponents in generation 3 of 20\n",
            "Model Number: 256 with model GluonTS in generation 3 of 20\n",
            "Template Eval Error: ImportError('GluonTS installation not found or installed version is incompatible with AutoTS.') in model 256: GluonTS\n",
            "Model Number: 257 with model GluonTS in generation 3 of 20\n",
            "Template Eval Error: ImportError('GluonTS installation not found or installed version is incompatible with AutoTS.') in model 257: GluonTS\n",
            "Model Number: 258 with model GluonTS in generation 3 of 20\n",
            "Template Eval Error: ImportError('GluonTS installation not found or installed version is incompatible with AutoTS.') in model 258: GluonTS\n",
            "Model Number: 259 with model GluonTS in generation 3 of 20\n",
            "Template Eval Error: ImportError('GluonTS installation not found or installed version is incompatible with AutoTS.') in model 259: GluonTS\n",
            "Model Number: 260 with model VAR in generation 3 of 20\n",
            "Template Eval Error: ValueError('Only gave one variable to VAR') in model 260: VAR\n",
            "Model Number: 261 with model VAR in generation 3 of 20\n",
            "Template Eval Error: ValueError('Only gave one variable to VAR') in model 261: VAR\n",
            "Model Number: 262 with model VAR in generation 3 of 20\n",
            "Template Eval Error: ValueError('Only gave one variable to VAR') in model 262: VAR\n",
            "Model Number: 263 with model VECM in generation 3 of 20\n",
            "Template Eval Error: ValueError('Only gave one variable to VECM') in model 263: VECM\n",
            "Model Number: 264 with model VECM in generation 3 of 20\n",
            "Template Eval Error: ValueError('Only gave one variable to VECM') in model 264: VECM\n",
            "Model Number: 265 with model VECM in generation 3 of 20\n",
            "Template Eval Error: ValueError('Only gave one variable to VECM') in model 265: VECM\n",
            "Model Number: 266 with model VECM in generation 3 of 20\n",
            "Template Eval Error: ValueError('Only gave one variable to VECM') in model 266: VECM\n",
            "Model Number: 267 with model UnivariateRegression in generation 3 of 20\n",
            "Template Eval Error: TypeError(\"'>' not supported between instances of 'NoneType' and 'int'\") in model 267: UnivariateRegression\n",
            "Model Number: 268 with model UnivariateRegression in generation 3 of 20\n",
            "Template Eval Error: TypeError(\"'>' not supported between instances of 'NoneType' and 'int'\") in model 268: UnivariateRegression\n",
            "Model Number: 269 with model UnivariateRegression in generation 3 of 20\n",
            "Template Eval Error: TypeError(\"'>' not supported between instances of 'NoneType' and 'int'\") in model 269: UnivariateRegression\n",
            "Model Number: 270 with model UnivariateRegression in generation 3 of 20\n",
            "Template Eval Error: TypeError(\"'>' not supported between instances of 'NoneType' and 'int'\") in model 270: UnivariateRegression\n",
            "New Generation: 4 of 20\n",
            "Model Number: 271 with model ETS in generation 4 of 20\n",
            "Model Number: 272 with model ETS in generation 4 of 20\n",
            "Model Number: 273 with model WindowRegression in generation 4 of 20\n",
            "Template Eval Error: ValueError(\"Input contains NaN, infinity or a value too large for dtype('float64').\") in model 273: WindowRegression\n",
            "Model Number: 274 with model WindowRegression in generation 4 of 20\n",
            "Template Eval Error: ValueError(\"Input contains NaN, infinity or a value too large for dtype('float64').\") in model 274: WindowRegression\n",
            "Model Number: 275 with model WindowRegression in generation 4 of 20\n",
            "Model Number: 276 with model SeasonalNaive in generation 4 of 20\n",
            "Model Number: 277 with model SeasonalNaive in generation 4 of 20\n",
            "Model Number: 278 with model SeasonalNaive in generation 4 of 20\n",
            "Model Number: 279 with model SeasonalNaive in generation 4 of 20\n",
            "Model Number: 280 with model DatepartRegression in generation 4 of 20\n",
            "Model Number: 281 with model DatepartRegression in generation 4 of 20\n"
          ],
          "name": "stdout"
        },
        {
          "output_type": "stream",
          "text": [
            "[Parallel(n_jobs=1)]: Using backend SequentialBackend with 1 concurrent workers.\n",
            "[Parallel(n_jobs=1)]: Done 1000 out of 1000 | elapsed:    5.7s finished\n",
            "[Parallel(n_jobs=1)]: Using backend SequentialBackend with 1 concurrent workers.\n",
            "[Parallel(n_jobs=1)]: Done 1000 out of 1000 | elapsed:    0.1s finished\n"
          ],
          "name": "stderr"
        },
        {
          "output_type": "stream",
          "text": [
            "Model Number: 282 with model DatepartRegression in generation 4 of 20\n",
            "Model Number: 283 with model LastValueNaive in generation 4 of 20\n",
            "Model Number: 284 with model LastValueNaive in generation 4 of 20\n",
            "Model Number: 285 with model AverageValueNaive in generation 4 of 20\n",
            "Model Number: 286 with model AverageValueNaive in generation 4 of 20\n",
            "Model Number: 287 with model FBProphet in generation 4 of 20\n"
          ],
          "name": "stdout"
        },
        {
          "output_type": "stream",
          "text": [
            "INFO:fbprophet:Disabling daily seasonality. Run prophet with daily_seasonality=True to override this.\n",
            "INFO:fbprophet:Disabling daily seasonality. Run prophet with daily_seasonality=True to override this.\n"
          ],
          "name": "stderr"
        },
        {
          "output_type": "stream",
          "text": [
            "Model Number: 288 with model FBProphet in generation 4 of 20\n"
          ],
          "name": "stdout"
        },
        {
          "output_type": "stream",
          "text": [
            "INFO:fbprophet:Disabling daily seasonality. Run prophet with daily_seasonality=True to override this.\n"
          ],
          "name": "stderr"
        },
        {
          "output_type": "stream",
          "text": [
            "Model Number: 289 with model FBProphet in generation 4 of 20\n"
          ],
          "name": "stdout"
        },
        {
          "output_type": "stream",
          "text": [
            "INFO:fbprophet:Disabling daily seasonality. Run prophet with daily_seasonality=True to override this.\n"
          ],
          "name": "stderr"
        },
        {
          "output_type": "stream",
          "text": [
            "Model Number: 290 with model FBProphet in generation 4 of 20\n",
            "Model Number: 291 with model RollingRegression in generation 4 of 20\n"
          ],
          "name": "stdout"
        },
        {
          "output_type": "stream",
          "text": [
            "[Parallel(n_jobs=1)]: Using backend SequentialBackend with 1 concurrent workers.\n",
            "[Parallel(n_jobs=1)]: Done 1000 out of 1000 | elapsed:    4.0s finished\n",
            "[Parallel(n_jobs=1)]: Using backend SequentialBackend with 1 concurrent workers.\n",
            "[Parallel(n_jobs=1)]: Done 1000 out of 1000 | elapsed:    0.1s finished\n",
            "[Parallel(n_jobs=1)]: Using backend SequentialBackend with 1 concurrent workers.\n",
            "[Parallel(n_jobs=1)]: Done 1000 out of 1000 | elapsed:    0.1s finished\n",
            "[Parallel(n_jobs=1)]: Using backend SequentialBackend with 1 concurrent workers.\n",
            "[Parallel(n_jobs=1)]: Done 1000 out of 1000 | elapsed:    0.1s finished\n",
            "[Parallel(n_jobs=1)]: Using backend SequentialBackend with 1 concurrent workers.\n",
            "[Parallel(n_jobs=1)]: Done 1000 out of 1000 | elapsed:    0.1s finished\n",
            "[Parallel(n_jobs=1)]: Using backend SequentialBackend with 1 concurrent workers.\n",
            "[Parallel(n_jobs=1)]: Done 1000 out of 1000 | elapsed:    0.1s finished\n",
            "[Parallel(n_jobs=1)]: Using backend SequentialBackend with 1 concurrent workers.\n",
            "[Parallel(n_jobs=1)]: Done 1000 out of 1000 | elapsed:    0.1s finished\n",
            "[Parallel(n_jobs=1)]: Using backend SequentialBackend with 1 concurrent workers.\n",
            "[Parallel(n_jobs=1)]: Done 1000 out of 1000 | elapsed:    0.1s finished\n"
          ],
          "name": "stderr"
        },
        {
          "output_type": "stream",
          "text": [
            "Model Number: 292 with model RollingRegression in generation 4 of 20\n"
          ],
          "name": "stdout"
        },
        {
          "output_type": "stream",
          "text": [
            "[Parallel(n_jobs=1)]: Using backend SequentialBackend with 1 concurrent workers.\n",
            "[Parallel(n_jobs=1)]: Done 1000 out of 1000 | elapsed:    4.2s finished\n",
            "[Parallel(n_jobs=1)]: Using backend SequentialBackend with 1 concurrent workers.\n",
            "[Parallel(n_jobs=1)]: Done 1000 out of 1000 | elapsed:    0.1s finished\n",
            "[Parallel(n_jobs=1)]: Using backend SequentialBackend with 1 concurrent workers.\n",
            "[Parallel(n_jobs=1)]: Done 1000 out of 1000 | elapsed:    0.1s finished\n",
            "[Parallel(n_jobs=1)]: Using backend SequentialBackend with 1 concurrent workers.\n",
            "[Parallel(n_jobs=1)]: Done 1000 out of 1000 | elapsed:    0.1s finished\n",
            "[Parallel(n_jobs=1)]: Using backend SequentialBackend with 1 concurrent workers.\n",
            "[Parallel(n_jobs=1)]: Done 1000 out of 1000 | elapsed:    0.1s finished\n",
            "[Parallel(n_jobs=1)]: Using backend SequentialBackend with 1 concurrent workers.\n",
            "[Parallel(n_jobs=1)]: Done 1000 out of 1000 | elapsed:    0.1s finished\n",
            "[Parallel(n_jobs=1)]: Using backend SequentialBackend with 1 concurrent workers.\n",
            "[Parallel(n_jobs=1)]: Done 1000 out of 1000 | elapsed:    0.1s finished\n",
            "[Parallel(n_jobs=1)]: Using backend SequentialBackend with 1 concurrent workers.\n",
            "[Parallel(n_jobs=1)]: Done 1000 out of 1000 | elapsed:    0.1s finished\n"
          ],
          "name": "stderr"
        },
        {
          "output_type": "stream",
          "text": [
            "Model Number: 293 with model RollingRegression in generation 4 of 20\n",
            "Model Number: 294 with model RollingRegression in generation 4 of 20\n",
            "Model Number: 295 with model ZeroesNaive in generation 4 of 20\n",
            "Model Number: 296 with model ZeroesNaive in generation 4 of 20\n",
            "Model Number: 297 with model ZeroesNaive in generation 4 of 20\n",
            "Model Number: 298 with model GLS in generation 4 of 20\n",
            "Model Number: 299 with model GLS in generation 4 of 20\n",
            "Model Number: 300 with model GLS in generation 4 of 20\n",
            "Model Number: 301 with model GLM in generation 4 of 20\n",
            "Model Number: 302 with model GLM in generation 4 of 20\n",
            "Model Number: 303 with model GLM in generation 4 of 20\n",
            "Model Number: 304 with model GLM in generation 4 of 20\n",
            "Template Eval Error: ValueError('NaN, inf or invalid value detected in weights, estimation infeasible.') in model 304: GLM\n",
            "Model Number: 305 with model UnobservedComponents in generation 4 of 20\n",
            "Model Number: 306 with model UnobservedComponents in generation 4 of 20\n",
            "Model Number: 307 with model UnobservedComponents in generation 4 of 20\n",
            "Model Number: 308 with model GluonTS in generation 4 of 20\n",
            "Template Eval Error: ImportError('GluonTS installation not found or installed version is incompatible with AutoTS.') in model 308: GluonTS\n",
            "Model Number: 309 with model GluonTS in generation 4 of 20\n",
            "Template Eval Error: ImportError('GluonTS installation not found or installed version is incompatible with AutoTS.') in model 309: GluonTS\n",
            "Model Number: 310 with model GluonTS in generation 4 of 20\n",
            "Template Eval Error: ImportError('GluonTS installation not found or installed version is incompatible with AutoTS.') in model 310: GluonTS\n",
            "Model Number: 311 with model GluonTS in generation 4 of 20\n",
            "Template Eval Error: ImportError('GluonTS installation not found or installed version is incompatible with AutoTS.') in model 311: GluonTS\n",
            "Model Number: 312 with model VAR in generation 4 of 20\n",
            "Template Eval Error: ValueError('Only gave one variable to VAR') in model 312: VAR\n",
            "Model Number: 313 with model VAR in generation 4 of 20\n",
            "Template Eval Error: ValueError('Only gave one variable to VAR') in model 313: VAR\n",
            "Model Number: 314 with model VAR in generation 4 of 20\n",
            "Template Eval Error: ValueError('Only gave one variable to VAR') in model 314: VAR\n",
            "Model Number: 315 with model VAR in generation 4 of 20\n",
            "Template Eval Error: ValueError('Only gave one variable to VAR') in model 315: VAR\n",
            "Model Number: 316 with model VECM in generation 4 of 20\n",
            "Template Eval Error: ValueError('Only gave one variable to VECM') in model 316: VECM\n",
            "Model Number: 317 with model VECM in generation 4 of 20\n",
            "Template Eval Error: ValueError('Only gave one variable to VECM') in model 317: VECM\n",
            "Model Number: 318 with model VECM in generation 4 of 20\n",
            "Template Eval Error: ValueError('Only gave one variable to VECM') in model 318: VECM\n",
            "Model Number: 319 with model VECM in generation 4 of 20\n",
            "Template Eval Error: ValueError('Only gave one variable to VECM') in model 319: VECM\n",
            "Model Number: 320 with model UnivariateRegression in generation 4 of 20\n",
            "Template Eval Error: TypeError(\"'>' not supported between instances of 'NoneType' and 'int'\") in model 320: UnivariateRegression\n",
            "Model Number: 321 with model UnivariateRegression in generation 4 of 20\n",
            "Template Eval Error: TypeError(\"'>' not supported between instances of 'NoneType' and 'int'\") in model 321: UnivariateRegression\n",
            "Model Number: 322 with model UnivariateRegression in generation 4 of 20\n",
            "Template Eval Error: TypeError(\"'>' not supported between instances of 'NoneType' and 'int'\") in model 322: UnivariateRegression\n",
            "Model Number: 323 with model UnivariateRegression in generation 4 of 20\n",
            "Template Eval Error: TypeError(\"'>' not supported between instances of 'NoneType' and 'int'\") in model 323: UnivariateRegression\n",
            "New Generation: 5 of 20\n",
            "Model Number: 324 with model ETS in generation 5 of 20\n",
            "Model Number: 325 with model ETS in generation 5 of 20\n",
            "Model Number: 326 with model ETS in generation 5 of 20\n",
            "Model Number: 327 with model ETS in generation 5 of 20\n",
            "Model Number: 328 with model WindowRegression in generation 5 of 20\n",
            "Model Number: 329 with model WindowRegression in generation 5 of 20\n",
            "Model Number: 330 with model WindowRegression in generation 5 of 20\n",
            "Model Number: 331 with model SeasonalNaive in generation 5 of 20\n",
            "Model Number: 332 with model SeasonalNaive in generation 5 of 20\n",
            "Model Number: 333 with model SeasonalNaive in generation 5 of 20\n",
            "Model Number: 334 with model SeasonalNaive in generation 5 of 20\n",
            "Model Number: 335 with model DatepartRegression in generation 5 of 20\n",
            "Template Eval Error: ValueError(\"Input contains NaN, infinity or a value too large for dtype('float64').\") in model 335: DatepartRegression\n",
            "Model Number: 336 with model DatepartRegression in generation 5 of 20\n",
            "Model Number: 337 with model DatepartRegression in generation 5 of 20\n",
            "Model Number: 338 with model LastValueNaive in generation 5 of 20\n",
            "Model Number: 339 with model LastValueNaive in generation 5 of 20\n",
            "Model Number: 340 with model AverageValueNaive in generation 5 of 20\n",
            "Model Number: 341 with model AverageValueNaive in generation 5 of 20\n",
            "Model Number: 342 with model AverageValueNaive in generation 5 of 20\n",
            "Model Number: 343 with model FBProphet in generation 5 of 20\n"
          ],
          "name": "stdout"
        },
        {
          "output_type": "stream",
          "text": [
            "INFO:fbprophet:Disabling daily seasonality. Run prophet with daily_seasonality=True to override this.\n",
            "INFO:fbprophet:Disabling daily seasonality. Run prophet with daily_seasonality=True to override this.\n"
          ],
          "name": "stderr"
        },
        {
          "output_type": "stream",
          "text": [
            "Model Number: 344 with model FBProphet in generation 5 of 20\n"
          ],
          "name": "stdout"
        },
        {
          "output_type": "stream",
          "text": [
            "INFO:fbprophet:Disabling daily seasonality. Run prophet with daily_seasonality=True to override this.\n"
          ],
          "name": "stderr"
        },
        {
          "output_type": "stream",
          "text": [
            "Model Number: 345 with model FBProphet in generation 5 of 20\n"
          ],
          "name": "stdout"
        },
        {
          "output_type": "stream",
          "text": [
            "INFO:fbprophet:Disabling daily seasonality. Run prophet with daily_seasonality=True to override this.\n"
          ],
          "name": "stderr"
        },
        {
          "output_type": "stream",
          "text": [
            "Model Number: 346 with model FBProphet in generation 5 of 20\n",
            "Model Number: 347 with model RollingRegression in generation 5 of 20\n",
            "Model Number: 348 with model RollingRegression in generation 5 of 20\n",
            "Model Number: 349 with model RollingRegression in generation 5 of 20\n",
            "Model Number: 350 with model RollingRegression in generation 5 of 20\n",
            "Model Number: 351 with model GLS in generation 5 of 20\n",
            "Model Number: 352 with model GLS in generation 5 of 20\n",
            "Model Number: 353 with model GLS in generation 5 of 20\n",
            "Model Number: 354 with model ZeroesNaive in generation 5 of 20\n",
            "Model Number: 355 with model ZeroesNaive in generation 5 of 20\n",
            "Model Number: 356 with model UnobservedComponents in generation 5 of 20\n",
            "Model Number: 357 with model UnobservedComponents in generation 5 of 20\n",
            "Model Number: 358 with model UnobservedComponents in generation 5 of 20\n",
            "Model Number: 359 with model GLM in generation 5 of 20\n",
            "Model Number: 360 with model GLM in generation 5 of 20\n",
            "Model Number: 361 with model GLM in generation 5 of 20\n",
            "Model Number: 362 with model GLM in generation 5 of 20\n",
            "Model Number: 363 with model GluonTS in generation 5 of 20\n",
            "Template Eval Error: ImportError('GluonTS installation not found or installed version is incompatible with AutoTS.') in model 363: GluonTS\n",
            "Model Number: 364 with model GluonTS in generation 5 of 20\n",
            "Template Eval Error: ImportError('GluonTS installation not found or installed version is incompatible with AutoTS.') in model 364: GluonTS\n",
            "Model Number: 365 with model GluonTS in generation 5 of 20\n",
            "Template Eval Error: ImportError('GluonTS installation not found or installed version is incompatible with AutoTS.') in model 365: GluonTS\n",
            "Model Number: 366 with model GluonTS in generation 5 of 20\n",
            "Template Eval Error: ImportError('GluonTS installation not found or installed version is incompatible with AutoTS.') in model 366: GluonTS\n",
            "Model Number: 367 with model VAR in generation 5 of 20\n",
            "Template Eval Error: ValueError('Only gave one variable to VAR') in model 367: VAR\n",
            "Model Number: 368 with model VAR in generation 5 of 20\n",
            "Template Eval Error: ValueError('Only gave one variable to VAR') in model 368: VAR\n",
            "Model Number: 369 with model VAR in generation 5 of 20\n",
            "Template Eval Error: ValueError('Only gave one variable to VAR') in model 369: VAR\n",
            "Model Number: 370 with model VAR in generation 5 of 20\n",
            "Template Eval Error: ValueError('Only gave one variable to VAR') in model 370: VAR\n",
            "Model Number: 371 with model VECM in generation 5 of 20\n",
            "Template Eval Error: ValueError('Only gave one variable to VECM') in model 371: VECM\n",
            "Model Number: 372 with model VECM in generation 5 of 20\n",
            "Template Eval Error: ValueError('Only gave one variable to VECM') in model 372: VECM\n",
            "Model Number: 373 with model VECM in generation 5 of 20\n",
            "Template Eval Error: ValueError('Only gave one variable to VECM') in model 373: VECM\n",
            "Model Number: 374 with model VECM in generation 5 of 20\n",
            "Template Eval Error: ValueError('Only gave one variable to VECM') in model 374: VECM\n",
            "Model Number: 375 with model UnivariateRegression in generation 5 of 20\n",
            "Template Eval Error: TypeError(\"'>' not supported between instances of 'NoneType' and 'int'\") in model 375: UnivariateRegression\n",
            "Model Number: 376 with model UnivariateRegression in generation 5 of 20\n",
            "Template Eval Error: TypeError(\"'>' not supported between instances of 'NoneType' and 'int'\") in model 376: UnivariateRegression\n",
            "Model Number: 377 with model UnivariateRegression in generation 5 of 20\n",
            "Template Eval Error: TypeError(\"'>' not supported between instances of 'NoneType' and 'int'\") in model 377: UnivariateRegression\n",
            "Model Number: 378 with model UnivariateRegression in generation 5 of 20\n",
            "Template Eval Error: TypeError(\"'>' not supported between instances of 'NoneType' and 'int'\") in model 378: UnivariateRegression\n",
            "New Generation: 6 of 20\n",
            "Model Number: 379 with model ETS in generation 6 of 20\n",
            "Model Number: 380 with model ETS in generation 6 of 20\n",
            "Model Number: 381 with model ETS in generation 6 of 20\n",
            "Model Number: 382 with model ETS in generation 6 of 20\n",
            "Model Number: 383 with model WindowRegression in generation 6 of 20\n",
            "Template Eval Error: ValueError(\"Input contains NaN, infinity or a value too large for dtype('float64').\") in model 383: WindowRegression\n",
            "Model Number: 384 with model WindowRegression in generation 6 of 20\n",
            "Template Eval Error: ValueError(\"Input contains NaN, infinity or a value too large for dtype('float32').\") in model 384: WindowRegression\n",
            "Model Number: 385 with model WindowRegression in generation 6 of 20\n",
            "Model Number: 386 with model SeasonalNaive in generation 6 of 20\n",
            "Model Number: 387 with model SeasonalNaive in generation 6 of 20\n",
            "Model Number: 388 with model SeasonalNaive in generation 6 of 20\n",
            "Model Number: 389 with model SeasonalNaive in generation 6 of 20\n",
            "Model Number: 390 with model DatepartRegression in generation 6 of 20\n",
            "Model Number: 391 with model DatepartRegression in generation 6 of 20\n",
            "Template Eval Error: ValueError(\"Input contains NaN, infinity or a value too large for dtype('float64').\") in model 391: DatepartRegression\n",
            "Model Number: 392 with model DatepartRegression in generation 6 of 20\n"
          ],
          "name": "stdout"
        },
        {
          "output_type": "stream",
          "text": [
            "INFO:fbprophet:Disabling daily seasonality. Run prophet with daily_seasonality=True to override this.\n"
          ],
          "name": "stderr"
        },
        {
          "output_type": "stream",
          "text": [
            "Model Number: 393 with model FBProphet in generation 6 of 20\n"
          ],
          "name": "stdout"
        },
        {
          "output_type": "stream",
          "text": [
            "INFO:fbprophet:Disabling daily seasonality. Run prophet with daily_seasonality=True to override this.\n"
          ],
          "name": "stderr"
        },
        {
          "output_type": "stream",
          "text": [
            "Model Number: 394 with model FBProphet in generation 6 of 20\n"
          ],
          "name": "stdout"
        },
        {
          "output_type": "stream",
          "text": [
            "INFO:fbprophet:Disabling daily seasonality. Run prophet with daily_seasonality=True to override this.\n"
          ],
          "name": "stderr"
        },
        {
          "output_type": "stream",
          "text": [
            "Model Number: 395 with model FBProphet in generation 6 of 20\n",
            "Model Number: 396 with model LastValueNaive in generation 6 of 20\n",
            "Model Number: 397 with model LastValueNaive in generation 6 of 20\n",
            "Model Number: 398 with model AverageValueNaive in generation 6 of 20\n",
            "Model Number: 399 with model AverageValueNaive in generation 6 of 20\n",
            "Model Number: 400 with model AverageValueNaive in generation 6 of 20\n",
            "Model Number: 401 with model RollingRegression in generation 6 of 20\n",
            "Model Number: 402 with model RollingRegression in generation 6 of 20\n",
            "Model Number: 403 with model RollingRegression in generation 6 of 20\n",
            "Model Number: 404 with model RollingRegression in generation 6 of 20\n",
            "Model Number: 405 with model GLS in generation 6 of 20\n",
            "Model Number: 406 with model GLS in generation 6 of 20\n",
            "Model Number: 407 with model ZeroesNaive in generation 6 of 20\n",
            "Model Number: 408 with model ZeroesNaive in generation 6 of 20\n",
            "Model Number: 409 with model UnobservedComponents in generation 6 of 20\n",
            "Model Number: 410 with model UnobservedComponents in generation 6 of 20\n",
            "Model Number: 411 with model UnobservedComponents in generation 6 of 20\n",
            "Model Number: 412 with model GLM in generation 6 of 20\n",
            "Model Number: 413 with model GLM in generation 6 of 20\n",
            "Model Number: 414 with model GLM in generation 6 of 20\n",
            "Model Number: 415 with model GLM in generation 6 of 20\n",
            "Model Number: 416 with model GluonTS in generation 6 of 20\n",
            "Template Eval Error: ImportError('GluonTS installation not found or installed version is incompatible with AutoTS.') in model 416: GluonTS\n",
            "Model Number: 417 with model GluonTS in generation 6 of 20\n",
            "Template Eval Error: ImportError('GluonTS installation not found or installed version is incompatible with AutoTS.') in model 417: GluonTS\n",
            "Model Number: 418 with model GluonTS in generation 6 of 20\n",
            "Template Eval Error: ImportError('GluonTS installation not found or installed version is incompatible with AutoTS.') in model 418: GluonTS\n",
            "Model Number: 419 with model GluonTS in generation 6 of 20\n",
            "Template Eval Error: ImportError('GluonTS installation not found or installed version is incompatible with AutoTS.') in model 419: GluonTS\n",
            "Model Number: 420 with model VAR in generation 6 of 20\n",
            "Template Eval Error: ValueError('Only gave one variable to VAR') in model 420: VAR\n",
            "Model Number: 421 with model VAR in generation 6 of 20\n",
            "Template Eval Error: ValueError('zero-size array to reduction operation maximum which has no identity') in model 421: VAR\n",
            "Model Number: 422 with model VAR in generation 6 of 20\n",
            "Template Eval Error: ValueError('Only gave one variable to VAR') in model 422: VAR\n",
            "Model Number: 423 with model VAR in generation 6 of 20\n",
            "Template Eval Error: ValueError('Only gave one variable to VAR') in model 423: VAR\n",
            "Model Number: 424 with model VECM in generation 6 of 20\n",
            "Template Eval Error: ValueError('Only gave one variable to VECM') in model 424: VECM\n",
            "Model Number: 425 with model VECM in generation 6 of 20\n",
            "Template Eval Error: ValueError('Only gave one variable to VECM') in model 425: VECM\n",
            "Model Number: 426 with model VECM in generation 6 of 20\n",
            "Template Eval Error: ValueError('Only gave one variable to VECM') in model 426: VECM\n",
            "Model Number: 427 with model VECM in generation 6 of 20\n",
            "Template Eval Error: ValueError('Only gave one variable to VECM') in model 427: VECM\n",
            "Model Number: 428 with model UnivariateRegression in generation 6 of 20\n",
            "Template Eval Error: TypeError(\"'>' not supported between instances of 'NoneType' and 'int'\") in model 428: UnivariateRegression\n",
            "Model Number: 429 with model UnivariateRegression in generation 6 of 20\n",
            "Template Eval Error: TypeError(\"'>' not supported between instances of 'NoneType' and 'int'\") in model 429: UnivariateRegression\n",
            "Model Number: 430 with model UnivariateRegression in generation 6 of 20\n",
            "Template Eval Error: TypeError(\"'>' not supported between instances of 'NoneType' and 'int'\") in model 430: UnivariateRegression\n",
            "Model Number: 431 with model UnivariateRegression in generation 6 of 20\n",
            "Template Eval Error: TypeError(\"'>' not supported between instances of 'NoneType' and 'int'\") in model 431: UnivariateRegression\n",
            "New Generation: 7 of 20\n",
            "Model Number: 432 with model ETS in generation 7 of 20\n",
            "Model Number: 433 with model ETS in generation 7 of 20\n",
            "Model Number: 434 with model ETS in generation 7 of 20\n",
            "Model Number: 435 with model ETS in generation 7 of 20\n",
            "Model Number: 436 with model WindowRegression in generation 7 of 20\n",
            "Template Eval Error: ValueError(\"Input contains NaN, infinity or a value too large for dtype('float64').\") in model 436: WindowRegression\n",
            "Model Number: 437 with model WindowRegression in generation 7 of 20\n",
            "Template Eval Error: ValueError(\"Input contains NaN, infinity or a value too large for dtype('float64').\") in model 437: WindowRegression\n",
            "Model Number: 438 with model WindowRegression in generation 7 of 20\n",
            "Model Number: 439 with model SeasonalNaive in generation 7 of 20\n",
            "Model Number: 440 with model SeasonalNaive in generation 7 of 20\n",
            "Model Number: 441 with model SeasonalNaive in generation 7 of 20\n",
            "Model Number: 442 with model SeasonalNaive in generation 7 of 20\n",
            "Model Number: 443 with model DatepartRegression in generation 7 of 20\n",
            "Model Number: 444 with model DatepartRegression in generation 7 of 20\n",
            "Template Eval Error: ValueError(\"Input contains NaN, infinity or a value too large for dtype('float64').\") in model 444: DatepartRegression\n",
            "Model Number: 445 with model DatepartRegression in generation 7 of 20\n",
            "Template Eval Error: ValueError(\"Input contains NaN, infinity or a value too large for dtype('float64').\") in model 445: DatepartRegression\n",
            "Model Number: 446 with model FBProphet in generation 7 of 20\n"
          ],
          "name": "stdout"
        },
        {
          "output_type": "stream",
          "text": [
            "INFO:fbprophet:Disabling daily seasonality. Run prophet with daily_seasonality=True to override this.\n",
            "INFO:fbprophet:Disabling daily seasonality. Run prophet with daily_seasonality=True to override this.\n"
          ],
          "name": "stderr"
        },
        {
          "output_type": "stream",
          "text": [
            "Model Number: 447 with model FBProphet in generation 7 of 20\n"
          ],
          "name": "stdout"
        },
        {
          "output_type": "stream",
          "text": [
            "INFO:fbprophet:Disabling daily seasonality. Run prophet with daily_seasonality=True to override this.\n"
          ],
          "name": "stderr"
        },
        {
          "output_type": "stream",
          "text": [
            "Model Number: 448 with model FBProphet in generation 7 of 20\n"
          ],
          "name": "stdout"
        },
        {
          "output_type": "stream",
          "text": [
            "INFO:fbprophet:Disabling daily seasonality. Run prophet with daily_seasonality=True to override this.\n"
          ],
          "name": "stderr"
        },
        {
          "output_type": "stream",
          "text": [
            "Model Number: 449 with model FBProphet in generation 7 of 20\n",
            "Model Number: 450 with model LastValueNaive in generation 7 of 20\n",
            "Model Number: 451 with model LastValueNaive in generation 7 of 20\n",
            "Model Number: 452 with model AverageValueNaive in generation 7 of 20\n",
            "Model Number: 453 with model AverageValueNaive in generation 7 of 20\n",
            "Model Number: 454 with model AverageValueNaive in generation 7 of 20\n",
            "Model Number: 455 with model RollingRegression in generation 7 of 20\n",
            "Model Number: 456 with model RollingRegression in generation 7 of 20\n",
            "Model Number: 457 with model RollingRegression in generation 7 of 20\n",
            "Model Number: 458 with model RollingRegression in generation 7 of 20\n",
            "Model Number: 459 with model GLS in generation 7 of 20\n",
            "Model Number: 460 with model GLS in generation 7 of 20\n",
            "Model Number: 461 with model ZeroesNaive in generation 7 of 20\n",
            "Model Number: 462 with model ZeroesNaive in generation 7 of 20\n",
            "Model Number: 463 with model UnobservedComponents in generation 7 of 20\n",
            "Model Number: 464 with model UnobservedComponents in generation 7 of 20\n",
            "Model Number: 465 with model UnobservedComponents in generation 7 of 20\n",
            "Model Number: 466 with model GLM in generation 7 of 20\n",
            "Model Number: 467 with model GLM in generation 7 of 20\n",
            "Model Number: 468 with model GLM in generation 7 of 20\n",
            "Model Number: 469 with model GLM in generation 7 of 20\n",
            "Model Number: 470 with model GluonTS in generation 7 of 20\n",
            "Template Eval Error: ImportError('GluonTS installation not found or installed version is incompatible with AutoTS.') in model 470: GluonTS\n",
            "Model Number: 471 with model GluonTS in generation 7 of 20\n",
            "Template Eval Error: ImportError('GluonTS installation not found or installed version is incompatible with AutoTS.') in model 471: GluonTS\n",
            "Model Number: 472 with model GluonTS in generation 7 of 20\n",
            "Template Eval Error: ImportError('GluonTS installation not found or installed version is incompatible with AutoTS.') in model 472: GluonTS\n",
            "Model Number: 473 with model GluonTS in generation 7 of 20\n",
            "Template Eval Error: ImportError('GluonTS installation not found or installed version is incompatible with AutoTS.') in model 473: GluonTS\n",
            "Model Number: 474 with model VAR in generation 7 of 20\n",
            "Template Eval Error: ValueError('Only gave one variable to VAR') in model 474: VAR\n",
            "Model Number: 475 with model VAR in generation 7 of 20\n",
            "Template Eval Error: ValueError('Only gave one variable to VAR') in model 475: VAR\n",
            "Model Number: 476 with model VAR in generation 7 of 20\n",
            "Template Eval Error: ValueError('Only gave one variable to VAR') in model 476: VAR\n",
            "Model Number: 477 with model VAR in generation 7 of 20\n",
            "Template Eval Error: ValueError('Only gave one variable to VAR') in model 477: VAR\n",
            "Model Number: 478 with model VECM in generation 7 of 20\n",
            "Template Eval Error: ValueError('Only gave one variable to VECM') in model 478: VECM\n",
            "Model Number: 479 with model VECM in generation 7 of 20\n",
            "Template Eval Error: ValueError('Only gave one variable to VECM') in model 479: VECM\n",
            "Model Number: 480 with model VECM in generation 7 of 20\n",
            "Template Eval Error: ValueError('Only gave one variable to VECM') in model 480: VECM\n",
            "Model Number: 481 with model VECM in generation 7 of 20\n",
            "Template Eval Error: ValueError('Only gave one variable to VECM') in model 481: VECM\n",
            "Model Number: 482 with model UnivariateRegression in generation 7 of 20\n",
            "Template Eval Error: TypeError(\"'>' not supported between instances of 'NoneType' and 'int'\") in model 482: UnivariateRegression\n",
            "Model Number: 483 with model UnivariateRegression in generation 7 of 20\n",
            "Template Eval Error: TypeError(\"'>' not supported between instances of 'NoneType' and 'int'\") in model 483: UnivariateRegression\n",
            "Model Number: 484 with model UnivariateRegression in generation 7 of 20\n",
            "Template Eval Error: TypeError(\"'>' not supported between instances of 'NoneType' and 'int'\") in model 484: UnivariateRegression\n",
            "Model Number: 485 with model UnivariateRegression in generation 7 of 20\n",
            "Template Eval Error: TypeError(\"'>' not supported between instances of 'NoneType' and 'int'\") in model 485: UnivariateRegression\n",
            "New Generation: 8 of 20\n",
            "Model Number: 486 with model ETS in generation 8 of 20\n",
            "Model Number: 487 with model ETS in generation 8 of 20\n",
            "Model Number: 488 with model ETS in generation 8 of 20\n",
            "Model Number: 489 with model ETS in generation 8 of 20\n",
            "Model Number: 490 with model AverageValueNaive in generation 8 of 20\n",
            "Model Number: 491 with model AverageValueNaive in generation 8 of 20\n",
            "Model Number: 492 with model AverageValueNaive in generation 8 of 20\n",
            "Model Number: 493 with model WindowRegression in generation 8 of 20\n",
            "Template Eval Error: ValueError(\"Input contains NaN, infinity or a value too large for dtype('float64').\") in model 493: WindowRegression\n",
            "Model Number: 494 with model WindowRegression in generation 8 of 20\n",
            "Model Number: 495 with model WindowRegression in generation 8 of 20\n",
            "Template Eval Error: ValueError(\"Input contains NaN, infinity or a value too large for dtype('float64').\") in model 495: WindowRegression\n",
            "Model Number: 496 with model SeasonalNaive in generation 8 of 20\n",
            "Model Number: 497 with model SeasonalNaive in generation 8 of 20\n",
            "Model Number: 498 with model SeasonalNaive in generation 8 of 20\n",
            "Model Number: 499 with model SeasonalNaive in generation 8 of 20\n",
            "Model Number: 500 with model DatepartRegression in generation 8 of 20\n",
            "Model Number: 501 with model DatepartRegression in generation 8 of 20\n",
            "Model Number: 502 with model DatepartRegression in generation 8 of 20\n",
            "Model Number: 503 with model FBProphet in generation 8 of 20\n"
          ],
          "name": "stdout"
        },
        {
          "output_type": "stream",
          "text": [
            "INFO:fbprophet:Disabling daily seasonality. Run prophet with daily_seasonality=True to override this.\n",
            "INFO:fbprophet:Disabling daily seasonality. Run prophet with daily_seasonality=True to override this.\n"
          ],
          "name": "stderr"
        },
        {
          "output_type": "stream",
          "text": [
            "Model Number: 504 with model FBProphet in generation 8 of 20\n"
          ],
          "name": "stdout"
        },
        {
          "output_type": "stream",
          "text": [
            "INFO:fbprophet:Disabling daily seasonality. Run prophet with daily_seasonality=True to override this.\n"
          ],
          "name": "stderr"
        },
        {
          "output_type": "stream",
          "text": [
            "Model Number: 505 with model FBProphet in generation 8 of 20\n"
          ],
          "name": "stdout"
        },
        {
          "output_type": "stream",
          "text": [
            "INFO:fbprophet:Disabling daily seasonality. Run prophet with daily_seasonality=True to override this.\n"
          ],
          "name": "stderr"
        },
        {
          "output_type": "stream",
          "text": [
            "Model Number: 506 with model FBProphet in generation 8 of 20\n",
            "Model Number: 507 with model LastValueNaive in generation 8 of 20\n",
            "Model Number: 508 with model LastValueNaive in generation 8 of 20\n",
            "Model Number: 509 with model UnobservedComponents in generation 8 of 20\n",
            "Model Number: 510 with model UnobservedComponents in generation 8 of 20\n",
            "Model Number: 511 with model UnobservedComponents in generation 8 of 20\n",
            "Model Number: 512 with model RollingRegression in generation 8 of 20\n",
            "Model Number: 513 with model RollingRegression in generation 8 of 20\n",
            "Model Number: 514 with model RollingRegression in generation 8 of 20\n",
            "Model Number: 515 with model RollingRegression in generation 8 of 20\n",
            "Model Number: 516 with model GLS in generation 8 of 20\n",
            "Model Number: 517 with model GLS in generation 8 of 20\n",
            "Model Number: 518 with model GLS in generation 8 of 20\n",
            "Model Number: 519 with model ZeroesNaive in generation 8 of 20\n",
            "Model Number: 520 with model ZeroesNaive in generation 8 of 20\n",
            "Model Number: 521 with model GLM in generation 8 of 20\n",
            "Model Number: 522 with model GLM in generation 8 of 20\n",
            "Model Number: 523 with model GLM in generation 8 of 20\n",
            "Model Number: 524 with model GluonTS in generation 8 of 20\n",
            "Template Eval Error: ImportError('GluonTS installation not found or installed version is incompatible with AutoTS.') in model 524: GluonTS\n",
            "Model Number: 525 with model GluonTS in generation 8 of 20\n",
            "Template Eval Error: ImportError('GluonTS installation not found or installed version is incompatible with AutoTS.') in model 525: GluonTS\n",
            "Model Number: 526 with model GluonTS in generation 8 of 20\n",
            "Template Eval Error: ImportError('GluonTS installation not found or installed version is incompatible with AutoTS.') in model 526: GluonTS\n",
            "Model Number: 527 with model GluonTS in generation 8 of 20\n",
            "Template Eval Error: ImportError('GluonTS installation not found or installed version is incompatible with AutoTS.') in model 527: GluonTS\n",
            "Model Number: 528 with model VAR in generation 8 of 20\n",
            "Template Eval Error: ValueError('Only gave one variable to VAR') in model 528: VAR\n",
            "Model Number: 529 with model VAR in generation 8 of 20\n",
            "Template Eval Error: ValueError('Only gave one variable to VAR') in model 529: VAR\n",
            "Model Number: 530 with model VAR in generation 8 of 20\n",
            "Template Eval Error: ValueError('Only gave one variable to VAR') in model 530: VAR\n",
            "Model Number: 531 with model VAR in generation 8 of 20\n",
            "Template Eval Error: ValueError('Only gave one variable to VAR') in model 531: VAR\n",
            "Model Number: 532 with model VECM in generation 8 of 20\n",
            "Template Eval Error: ValueError('Only gave one variable to VECM') in model 532: VECM\n",
            "Model Number: 533 with model VECM in generation 8 of 20\n",
            "Template Eval Error: ValueError('Only gave one variable to VECM') in model 533: VECM\n",
            "Model Number: 534 with model VECM in generation 8 of 20\n",
            "Template Eval Error: ValueError('Only gave one variable to VECM') in model 534: VECM\n",
            "Model Number: 535 with model VECM in generation 8 of 20\n",
            "Template Eval Error: ValueError('Only gave one variable to VECM') in model 535: VECM\n",
            "Model Number: 536 with model UnivariateRegression in generation 8 of 20\n",
            "Template Eval Error: TypeError(\"'>' not supported between instances of 'NoneType' and 'int'\") in model 536: UnivariateRegression\n",
            "Model Number: 537 with model UnivariateRegression in generation 8 of 20\n",
            "Template Eval Error: TypeError(\"'>' not supported between instances of 'NoneType' and 'int'\") in model 537: UnivariateRegression\n",
            "Model Number: 538 with model UnivariateRegression in generation 8 of 20\n",
            "Template Eval Error: TypeError(\"'>' not supported between instances of 'NoneType' and 'int'\") in model 538: UnivariateRegression\n",
            "Model Number: 539 with model UnivariateRegression in generation 8 of 20\n",
            "Template Eval Error: TypeError(\"'>' not supported between instances of 'NoneType' and 'int'\") in model 539: UnivariateRegression\n",
            "New Generation: 9 of 20\n",
            "Model Number: 540 with model ETS in generation 9 of 20\n",
            "Model Number: 541 with model ETS in generation 9 of 20\n",
            "Model Number: 542 with model ETS in generation 9 of 20\n",
            "Model Number: 543 with model AverageValueNaive in generation 9 of 20\n",
            "Model Number: 544 with model AverageValueNaive in generation 9 of 20\n",
            "Model Number: 545 with model AverageValueNaive in generation 9 of 20\n",
            "Model Number: 546 with model WindowRegression in generation 9 of 20\n",
            "[LibLinear][LibLinear][LibLinear]Model Number: 547 with model WindowRegression in generation 9 of 20\n",
            "Model Number: 548 with model WindowRegression in generation 9 of 20\n",
            "Template Eval Error: ValueError(\"Input contains NaN, infinity or a value too large for dtype('float32').\") in model 548: WindowRegression\n",
            "Model Number: 549 with model SeasonalNaive in generation 9 of 20\n",
            "Model Number: 550 with model SeasonalNaive in generation 9 of 20\n",
            "Model Number: 551 with model SeasonalNaive in generation 9 of 20\n",
            "Model Number: 552 with model DatepartRegression in generation 9 of 20\n",
            "Template Eval Error: ValueError(\"Input contains NaN, infinity or a value too large for dtype('float64').\") in model 552: DatepartRegression\n",
            "Model Number: 553 with model DatepartRegression in generation 9 of 20\n",
            "Model Number: 554 with model DatepartRegression in generation 9 of 20\n",
            "Model Number: 555 with model FBProphet in generation 9 of 20\n"
          ],
          "name": "stdout"
        },
        {
          "output_type": "stream",
          "text": [
            "INFO:fbprophet:Disabling daily seasonality. Run prophet with daily_seasonality=True to override this.\n",
            "INFO:fbprophet:Disabling daily seasonality. Run prophet with daily_seasonality=True to override this.\n"
          ],
          "name": "stderr"
        },
        {
          "output_type": "stream",
          "text": [
            "Model Number: 556 with model FBProphet in generation 9 of 20\n"
          ],
          "name": "stdout"
        },
        {
          "output_type": "stream",
          "text": [
            "INFO:fbprophet:Disabling daily seasonality. Run prophet with daily_seasonality=True to override this.\n"
          ],
          "name": "stderr"
        },
        {
          "output_type": "stream",
          "text": [
            "Model Number: 557 with model FBProphet in generation 9 of 20\n"
          ],
          "name": "stdout"
        },
        {
          "output_type": "stream",
          "text": [
            "INFO:fbprophet:Disabling daily seasonality. Run prophet with daily_seasonality=True to override this.\n"
          ],
          "name": "stderr"
        },
        {
          "output_type": "stream",
          "text": [
            "Model Number: 558 with model FBProphet in generation 9 of 20\n",
            "Model Number: 559 with model LastValueNaive in generation 9 of 20\n",
            "Model Number: 560 with model LastValueNaive in generation 9 of 20\n",
            "Model Number: 561 with model UnobservedComponents in generation 9 of 20\n",
            "Model Number: 562 with model UnobservedComponents in generation 9 of 20\n",
            "Model Number: 563 with model UnobservedComponents in generation 9 of 20\n",
            "Model Number: 564 with model RollingRegression in generation 9 of 20\n",
            "Model Number: 565 with model RollingRegression in generation 9 of 20\n",
            "Model Number: 566 with model RollingRegression in generation 9 of 20\n",
            "Model Number: 567 with model RollingRegression in generation 9 of 20\n",
            "Model Number: 568 with model GLS in generation 9 of 20\n",
            "Model Number: 569 with model GLS in generation 9 of 20\n",
            "Model Number: 570 with model GLS in generation 9 of 20\n",
            "Model Number: 571 with model ZeroesNaive in generation 9 of 20\n",
            "Model Number: 572 with model ZeroesNaive in generation 9 of 20\n",
            "Model Number: 573 with model GLM in generation 9 of 20\n",
            "Model Number: 574 with model GLM in generation 9 of 20\n",
            "Model Number: 575 with model GLM in generation 9 of 20\n",
            "Model Number: 576 with model GluonTS in generation 9 of 20\n",
            "Template Eval Error: ImportError('GluonTS installation not found or installed version is incompatible with AutoTS.') in model 576: GluonTS\n",
            "Model Number: 577 with model GluonTS in generation 9 of 20\n",
            "Template Eval Error: ImportError('GluonTS installation not found or installed version is incompatible with AutoTS.') in model 577: GluonTS\n",
            "Model Number: 578 with model GluonTS in generation 9 of 20\n",
            "Template Eval Error: ImportError('GluonTS installation not found or installed version is incompatible with AutoTS.') in model 578: GluonTS\n",
            "Model Number: 579 with model GluonTS in generation 9 of 20\n",
            "Template Eval Error: ImportError('GluonTS installation not found or installed version is incompatible with AutoTS.') in model 579: GluonTS\n",
            "Model Number: 580 with model VAR in generation 9 of 20\n",
            "Template Eval Error: ValueError('Only gave one variable to VAR') in model 580: VAR\n",
            "Model Number: 581 with model VAR in generation 9 of 20\n",
            "Template Eval Error: ValueError('Only gave one variable to VAR') in model 581: VAR\n",
            "Model Number: 582 with model VAR in generation 9 of 20\n",
            "Template Eval Error: ValueError('Only gave one variable to VAR') in model 582: VAR\n",
            "Model Number: 583 with model VAR in generation 9 of 20\n",
            "Template Eval Error: ValueError('Only gave one variable to VAR') in model 583: VAR\n",
            "Model Number: 584 with model VECM in generation 9 of 20\n",
            "Template Eval Error: ValueError('Only gave one variable to VECM') in model 584: VECM\n",
            "Model Number: 585 with model VECM in generation 9 of 20\n",
            "Template Eval Error: ValueError('Only gave one variable to VECM') in model 585: VECM\n",
            "Model Number: 586 with model VECM in generation 9 of 20\n",
            "Template Eval Error: ValueError('Only gave one variable to VECM') in model 586: VECM\n",
            "Model Number: 587 with model VECM in generation 9 of 20\n",
            "Template Eval Error: ValueError('Only gave one variable to VECM') in model 587: VECM\n",
            "Model Number: 588 with model UnivariateRegression in generation 9 of 20\n",
            "Template Eval Error: TypeError(\"'>' not supported between instances of 'NoneType' and 'int'\") in model 588: UnivariateRegression\n",
            "Model Number: 589 with model UnivariateRegression in generation 9 of 20\n",
            "Template Eval Error: TypeError(\"'>' not supported between instances of 'NoneType' and 'int'\") in model 589: UnivariateRegression\n",
            "Model Number: 590 with model UnivariateRegression in generation 9 of 20\n",
            "Template Eval Error: TypeError(\"'>' not supported between instances of 'NoneType' and 'int'\") in model 590: UnivariateRegression\n",
            "Model Number: 591 with model UnivariateRegression in generation 9 of 20\n",
            "Template Eval Error: TypeError(\"'>' not supported between instances of 'NoneType' and 'int'\") in model 591: UnivariateRegression\n",
            "New Generation: 10 of 20\n",
            "Model Number: 592 with model ETS in generation 10 of 20\n",
            "Model Number: 593 with model ETS in generation 10 of 20\n",
            "Model Number: 594 with model ETS in generation 10 of 20\n",
            "Model Number: 595 with model ETS in generation 10 of 20\n",
            "Model Number: 596 with model AverageValueNaive in generation 10 of 20\n",
            "Model Number: 597 with model AverageValueNaive in generation 10 of 20\n",
            "Model Number: 598 with model AverageValueNaive in generation 10 of 20\n",
            "Model Number: 599 with model WindowRegression in generation 10 of 20\n",
            "Model Number: 600 with model WindowRegression in generation 10 of 20\n",
            "Model Number: 601 with model WindowRegression in generation 10 of 20\n",
            "Model Number: 602 with model SeasonalNaive in generation 10 of 20\n",
            "Model Number: 603 with model SeasonalNaive in generation 10 of 20\n",
            "Model Number: 604 with model SeasonalNaive in generation 10 of 20\n",
            "Model Number: 605 with model SeasonalNaive in generation 10 of 20\n",
            "Model Number: 606 with model DatepartRegression in generation 10 of 20\n"
          ],
          "name": "stdout"
        },
        {
          "output_type": "stream",
          "text": [
            "INFO:fbprophet:Disabling daily seasonality. Run prophet with daily_seasonality=True to override this.\n"
          ],
          "name": "stderr"
        },
        {
          "output_type": "stream",
          "text": [
            "Template Eval Error: ValueError('Model DatepartRegression returned NaN for one or more series') in model 606: DatepartRegression\n",
            "Model Number: 607 with model DatepartRegression in generation 10 of 20\n",
            "Template Eval Error: ValueError(\"Input contains NaN, infinity or a value too large for dtype('float32').\") in model 607: DatepartRegression\n",
            "Model Number: 608 with model DatepartRegression in generation 10 of 20\n",
            "Template Eval Error: ValueError(\"Input contains NaN, infinity or a value too large for dtype('float64').\") in model 608: DatepartRegression\n",
            "Model Number: 609 with model FBProphet in generation 10 of 20\n"
          ],
          "name": "stdout"
        },
        {
          "output_type": "stream",
          "text": [
            "INFO:fbprophet:Disabling daily seasonality. Run prophet with daily_seasonality=True to override this.\n"
          ],
          "name": "stderr"
        },
        {
          "output_type": "stream",
          "text": [
            "Model Number: 610 with model FBProphet in generation 10 of 20\n"
          ],
          "name": "stdout"
        },
        {
          "output_type": "stream",
          "text": [
            "INFO:fbprophet:Disabling daily seasonality. Run prophet with daily_seasonality=True to override this.\n"
          ],
          "name": "stderr"
        },
        {
          "output_type": "stream",
          "text": [
            "Model Number: 611 with model FBProphet in generation 10 of 20\n"
          ],
          "name": "stdout"
        },
        {
          "output_type": "stream",
          "text": [
            "INFO:fbprophet:Disabling daily seasonality. Run prophet with daily_seasonality=True to override this.\n"
          ],
          "name": "stderr"
        },
        {
          "output_type": "stream",
          "text": [
            "Model Number: 612 with model FBProphet in generation 10 of 20\n",
            "Model Number: 613 with model RollingRegression in generation 10 of 20\n",
            "Model Number: 614 with model RollingRegression in generation 10 of 20\n",
            "Model Number: 615 with model RollingRegression in generation 10 of 20\n",
            "Model Number: 616 with model RollingRegression in generation 10 of 20\n",
            "Epoch 1/50\n",
            "14/14 [==============================] - 4s 5ms/step - loss: 0.1188\n",
            "Epoch 2/50\n",
            "14/14 [==============================] - 0s 6ms/step - loss: 0.0944\n",
            "Epoch 3/50\n",
            "14/14 [==============================] - 0s 4ms/step - loss: 0.0933\n",
            "Epoch 4/50\n",
            "14/14 [==============================] - 0s 5ms/step - loss: 0.0875\n",
            "Epoch 5/50\n",
            "14/14 [==============================] - 0s 5ms/step - loss: 0.0863\n",
            "Epoch 6/50\n",
            "14/14 [==============================] - 0s 5ms/step - loss: 0.0876\n",
            "Epoch 7/50\n",
            "14/14 [==============================] - 0s 5ms/step - loss: 0.0881\n",
            "Epoch 8/50\n",
            "14/14 [==============================] - 0s 5ms/step - loss: 0.0865\n",
            "Epoch 9/50\n",
            "14/14 [==============================] - 0s 5ms/step - loss: 0.0866\n",
            "Epoch 10/50\n",
            "14/14 [==============================] - 0s 6ms/step - loss: 0.0866\n",
            "Epoch 11/50\n",
            "14/14 [==============================] - 0s 5ms/step - loss: 0.0868\n",
            "Epoch 12/50\n",
            "14/14 [==============================] - 0s 6ms/step - loss: 0.0869\n",
            "Epoch 13/50\n",
            "14/14 [==============================] - 0s 5ms/step - loss: 0.0857\n",
            "Epoch 14/50\n",
            "14/14 [==============================] - 0s 5ms/step - loss: 0.0878\n",
            "Epoch 15/50\n",
            "14/14 [==============================] - 0s 6ms/step - loss: 0.0840\n",
            "Epoch 16/50\n",
            "14/14 [==============================] - 0s 5ms/step - loss: 0.0854\n",
            "Epoch 17/50\n",
            "14/14 [==============================] - 0s 5ms/step - loss: 0.0861\n",
            "Epoch 18/50\n",
            "14/14 [==============================] - 0s 6ms/step - loss: 0.0856\n",
            "Epoch 19/50\n",
            "14/14 [==============================] - 0s 6ms/step - loss: 0.0866\n",
            "Epoch 20/50\n",
            "14/14 [==============================] - 0s 6ms/step - loss: 0.0846\n",
            "Epoch 21/50\n",
            "14/14 [==============================] - 0s 6ms/step - loss: 0.0854\n",
            "Epoch 22/50\n",
            "14/14 [==============================] - 0s 5ms/step - loss: 0.0840\n",
            "Epoch 23/50\n",
            "14/14 [==============================] - 0s 5ms/step - loss: 0.0847\n",
            "Epoch 24/50\n",
            "14/14 [==============================] - 0s 6ms/step - loss: 0.0849\n",
            "Epoch 25/50\n",
            "14/14 [==============================] - 0s 5ms/step - loss: 0.0846\n",
            "Epoch 26/50\n",
            "14/14 [==============================] - 0s 5ms/step - loss: 0.0850\n",
            "Epoch 27/50\n",
            "14/14 [==============================] - 0s 6ms/step - loss: 0.0850\n",
            "Epoch 28/50\n",
            "14/14 [==============================] - 0s 6ms/step - loss: 0.0840\n",
            "Epoch 29/50\n",
            "14/14 [==============================] - 0s 6ms/step - loss: 0.0832\n",
            "Epoch 30/50\n",
            "14/14 [==============================] - 0s 6ms/step - loss: 0.0841\n",
            "Epoch 31/50\n",
            "14/14 [==============================] - 0s 5ms/step - loss: 0.0832\n",
            "Epoch 32/50\n",
            "14/14 [==============================] - 0s 6ms/step - loss: 0.0835\n",
            "Epoch 33/50\n",
            "14/14 [==============================] - 0s 5ms/step - loss: 0.0830\n",
            "Epoch 34/50\n",
            "14/14 [==============================] - 0s 5ms/step - loss: 0.0833\n",
            "Epoch 35/50\n",
            "14/14 [==============================] - 0s 5ms/step - loss: 0.0831\n",
            "Epoch 36/50\n",
            "14/14 [==============================] - 0s 5ms/step - loss: 0.0827\n",
            "Epoch 37/50\n",
            "14/14 [==============================] - 0s 6ms/step - loss: 0.0819\n",
            "Epoch 38/50\n",
            "14/14 [==============================] - 0s 6ms/step - loss: 0.0808\n",
            "Epoch 39/50\n",
            "14/14 [==============================] - 0s 5ms/step - loss: 0.0821\n",
            "Epoch 40/50\n",
            "14/14 [==============================] - 0s 6ms/step - loss: 0.0826\n",
            "Epoch 41/50\n",
            "14/14 [==============================] - 0s 5ms/step - loss: 0.0829\n",
            "Epoch 42/50\n",
            "14/14 [==============================] - 0s 5ms/step - loss: 0.0808\n",
            "Epoch 43/50\n",
            "14/14 [==============================] - 0s 6ms/step - loss: 0.0797\n",
            "Epoch 44/50\n",
            "14/14 [==============================] - 0s 5ms/step - loss: 0.0797\n",
            "Epoch 45/50\n",
            "14/14 [==============================] - 0s 5ms/step - loss: 0.0864\n",
            "Epoch 46/50\n",
            "14/14 [==============================] - 0s 5ms/step - loss: 0.0804\n",
            "Epoch 47/50\n",
            "14/14 [==============================] - 0s 6ms/step - loss: 0.0827\n",
            "Epoch 48/50\n",
            "14/14 [==============================] - 0s 5ms/step - loss: 0.0805\n",
            "Epoch 49/50\n",
            "14/14 [==============================] - 0s 5ms/step - loss: 0.0802\n",
            "Epoch 50/50\n",
            "14/14 [==============================] - 0s 5ms/step - loss: 0.0811\n",
            "Model Number: 617 with model LastValueNaive in generation 10 of 20\n",
            "Model Number: 618 with model LastValueNaive in generation 10 of 20\n",
            "Model Number: 619 with model LastValueNaive in generation 10 of 20\n",
            "Model Number: 620 with model UnobservedComponents in generation 10 of 20\n",
            "Model Number: 621 with model UnobservedComponents in generation 10 of 20\n",
            "Model Number: 622 with model UnobservedComponents in generation 10 of 20\n",
            "Model Number: 623 with model GLS in generation 10 of 20\n",
            "Model Number: 624 with model GLS in generation 10 of 20\n",
            "Model Number: 625 with model GLS in generation 10 of 20\n",
            "Model Number: 626 with model ZeroesNaive in generation 10 of 20\n",
            "New Generation: 11 of 20\n",
            "Model Number: 627 with model RollingRegression in generation 11 of 20\n",
            "Model Number: 628 with model RollingRegression in generation 11 of 20\n",
            "Model Number: 629 with model RollingRegression in generation 11 of 20\n",
            "Model Number: 630 with model RollingRegression in generation 11 of 20\n",
            "Model Number: 631 with model ETS in generation 11 of 20\n",
            "Model Number: 632 with model ETS in generation 11 of 20\n",
            "Model Number: 633 with model ETS in generation 11 of 20\n",
            "Model Number: 634 with model ETS in generation 11 of 20\n",
            "Model Number: 635 with model AverageValueNaive in generation 11 of 20\n",
            "Model Number: 636 with model AverageValueNaive in generation 11 of 20\n",
            "Model Number: 637 with model AverageValueNaive in generation 11 of 20\n",
            "Model Number: 638 with model WindowRegression in generation 11 of 20\n",
            "Template Eval Error: ValueError(\"Input contains NaN, infinity or a value too large for dtype('float32').\") in model 638: WindowRegression\n",
            "Model Number: 639 with model WindowRegression in generation 11 of 20\n",
            "Model Number: 640 with model WindowRegression in generation 11 of 20\n",
            "Template Eval Error: ValueError(\"Input contains NaN, infinity or a value too large for dtype('float64').\") in model 640: WindowRegression\n",
            "Model Number: 641 with model SeasonalNaive in generation 11 of 20\n",
            "Model Number: 642 with model SeasonalNaive in generation 11 of 20\n",
            "Model Number: 643 with model SeasonalNaive in generation 11 of 20\n",
            "Model Number: 644 with model SeasonalNaive in generation 11 of 20\n",
            "Model Number: 645 with model DatepartRegression in generation 11 of 20\n",
            "Template Eval Error: ValueError(\"Input contains NaN, infinity or a value too large for dtype('float64').\") in model 645: DatepartRegression\n",
            "Model Number: 646 with model DatepartRegression in generation 11 of 20\n"
          ],
          "name": "stdout"
        },
        {
          "output_type": "stream",
          "text": [
            "INFO:fbprophet:Disabling daily seasonality. Run prophet with daily_seasonality=True to override this.\n"
          ],
          "name": "stderr"
        },
        {
          "output_type": "stream",
          "text": [
            "Model Number: 647 with model DatepartRegression in generation 11 of 20\n",
            "Template Eval Error: ValueError(\"Input contains NaN, infinity or a value too large for dtype('float64').\") in model 647: DatepartRegression\n",
            "Model Number: 648 with model FBProphet in generation 11 of 20\n"
          ],
          "name": "stdout"
        },
        {
          "output_type": "stream",
          "text": [
            "INFO:fbprophet:Disabling daily seasonality. Run prophet with daily_seasonality=True to override this.\n"
          ],
          "name": "stderr"
        },
        {
          "output_type": "stream",
          "text": [
            "Model Number: 649 with model FBProphet in generation 11 of 20\n"
          ],
          "name": "stdout"
        },
        {
          "output_type": "stream",
          "text": [
            "INFO:fbprophet:Disabling daily seasonality. Run prophet with daily_seasonality=True to override this.\n"
          ],
          "name": "stderr"
        },
        {
          "output_type": "stream",
          "text": [
            "Model Number: 650 with model FBProphet in generation 11 of 20\n"
          ],
          "name": "stdout"
        },
        {
          "output_type": "stream",
          "text": [
            "INFO:fbprophet:Disabling daily seasonality. Run prophet with daily_seasonality=True to override this.\n"
          ],
          "name": "stderr"
        },
        {
          "output_type": "stream",
          "text": [
            "Model Number: 651 with model FBProphet in generation 11 of 20\n",
            "Model Number: 652 with model LastValueNaive in generation 11 of 20\n",
            "Model Number: 653 with model LastValueNaive in generation 11 of 20\n",
            "Model Number: 654 with model LastValueNaive in generation 11 of 20\n",
            "Model Number: 655 with model UnobservedComponents in generation 11 of 20\n",
            "Model Number: 656 with model UnobservedComponents in generation 11 of 20\n",
            "Model Number: 657 with model UnobservedComponents in generation 11 of 20\n",
            "Model Number: 658 with model GLS in generation 11 of 20\n",
            "Model Number: 659 with model GLS in generation 11 of 20\n",
            "Model Number: 660 with model GLS in generation 11 of 20\n",
            "Model Number: 661 with model ZeroesNaive in generation 11 of 20\n",
            "Model Number: 662 with model ZeroesNaive in generation 11 of 20\n",
            "New Generation: 12 of 20\n",
            "Model Number: 663 with model RollingRegression in generation 12 of 20\n",
            "Model Number: 664 with model RollingRegression in generation 12 of 20\n",
            "Model Number: 665 with model RollingRegression in generation 12 of 20\n",
            "Model Number: 666 with model RollingRegression in generation 12 of 20\n",
            "Model Number: 667 with model ETS in generation 12 of 20\n",
            "Model Number: 668 with model ETS in generation 12 of 20\n",
            "Model Number: 669 with model ETS in generation 12 of 20\n",
            "Model Number: 670 with model AverageValueNaive in generation 12 of 20\n",
            "Model Number: 671 with model AverageValueNaive in generation 12 of 20\n",
            "Model Number: 672 with model AverageValueNaive in generation 12 of 20\n",
            "Model Number: 673 with model WindowRegression in generation 12 of 20\n",
            "Model Number: 674 with model WindowRegression in generation 12 of 20\n",
            "Model Number: 675 with model WindowRegression in generation 12 of 20\n",
            "Template Eval Error: ValueError(\"Input contains NaN, infinity or a value too large for dtype('float64').\") in model 675: WindowRegression\n",
            "Model Number: 676 with model SeasonalNaive in generation 12 of 20\n",
            "Model Number: 677 with model SeasonalNaive in generation 12 of 20\n",
            "Model Number: 678 with model SeasonalNaive in generation 12 of 20\n",
            "Model Number: 679 with model SeasonalNaive in generation 12 of 20\n",
            "Model Number: 680 with model DatepartRegression in generation 12 of 20\n",
            "Model Number: 681 with model DatepartRegression in generation 12 of 20\n"
          ],
          "name": "stdout"
        },
        {
          "output_type": "stream",
          "text": [
            "[Parallel(n_jobs=1)]: Using backend SequentialBackend with 1 concurrent workers.\n",
            "[Parallel(n_jobs=1)]: Done 1000 out of 1000 | elapsed:    2.3s finished\n",
            "[Parallel(n_jobs=1)]: Using backend SequentialBackend with 1 concurrent workers.\n",
            "[Parallel(n_jobs=1)]: Done 1000 out of 1000 | elapsed:    0.1s finished\n"
          ],
          "name": "stderr"
        },
        {
          "output_type": "stream",
          "text": [
            "Model Number: 682 with model DatepartRegression in generation 12 of 20\n",
            "Model Number: 683 with model FBProphet in generation 12 of 20\n"
          ],
          "name": "stdout"
        },
        {
          "output_type": "stream",
          "text": [
            "INFO:fbprophet:Disabling yearly seasonality. Run prophet with yearly_seasonality=True to override this.\n",
            "INFO:fbprophet:Disabling daily seasonality. Run prophet with daily_seasonality=True to override this.\n",
            "INFO:fbprophet:Disabling daily seasonality. Run prophet with daily_seasonality=True to override this.\n"
          ],
          "name": "stderr"
        },
        {
          "output_type": "stream",
          "text": [
            "Model Number: 684 with model FBProphet in generation 12 of 20\n"
          ],
          "name": "stdout"
        },
        {
          "output_type": "stream",
          "text": [
            "INFO:fbprophet:Disabling daily seasonality. Run prophet with daily_seasonality=True to override this.\n"
          ],
          "name": "stderr"
        },
        {
          "output_type": "stream",
          "text": [
            "Model Number: 685 with model FBProphet in generation 12 of 20\n"
          ],
          "name": "stdout"
        },
        {
          "output_type": "stream",
          "text": [
            "INFO:fbprophet:Disabling daily seasonality. Run prophet with daily_seasonality=True to override this.\n"
          ],
          "name": "stderr"
        },
        {
          "output_type": "stream",
          "text": [
            "Model Number: 686 with model FBProphet in generation 12 of 20\n",
            "Model Number: 687 with model LastValueNaive in generation 12 of 20\n",
            "Model Number: 688 with model LastValueNaive in generation 12 of 20\n",
            "Model Number: 689 with model UnobservedComponents in generation 12 of 20\n",
            "Model Number: 690 with model UnobservedComponents in generation 12 of 20\n",
            "Model Number: 691 with model UnobservedComponents in generation 12 of 20\n",
            "Model Number: 692 with model GLS in generation 12 of 20\n",
            "Model Number: 693 with model GLS in generation 12 of 20\n",
            "Model Number: 694 with model ZeroesNaive in generation 12 of 20\n",
            "Model Number: 695 with model ZeroesNaive in generation 12 of 20\n",
            "Model Number: 696 with model ZeroesNaive in generation 12 of 20\n",
            "New Generation: 13 of 20\n",
            "Model Number: 697 with model RollingRegression in generation 13 of 20\n",
            "Model Number: 698 with model RollingRegression in generation 13 of 20\n",
            "Model Number: 699 with model RollingRegression in generation 13 of 20\n",
            "Model Number: 700 with model RollingRegression in generation 13 of 20\n",
            "Model Number: 701 with model ETS in generation 13 of 20\n",
            "Model Number: 702 with model ETS in generation 13 of 20\n",
            "Model Number: 703 with model ETS in generation 13 of 20\n",
            "Model Number: 704 with model ETS in generation 13 of 20\n",
            "Model Number: 705 with model AverageValueNaive in generation 13 of 20\n",
            "Model Number: 706 with model AverageValueNaive in generation 13 of 20\n",
            "Model Number: 707 with model AverageValueNaive in generation 13 of 20\n",
            "Model Number: 708 with model WindowRegression in generation 13 of 20\n",
            "Model Number: 709 with model WindowRegression in generation 13 of 20\n",
            "Model Number: 710 with model WindowRegression in generation 13 of 20\n",
            "Model Number: 711 with model SeasonalNaive in generation 13 of 20\n",
            "Model Number: 712 with model SeasonalNaive in generation 13 of 20\n",
            "Model Number: 713 with model SeasonalNaive in generation 13 of 20\n",
            "Model Number: 714 with model SeasonalNaive in generation 13 of 20\n",
            "Model Number: 715 with model DatepartRegression in generation 13 of 20\n"
          ],
          "name": "stdout"
        },
        {
          "output_type": "stream",
          "text": [
            "INFO:fbprophet:Disabling daily seasonality. Run prophet with daily_seasonality=True to override this.\n"
          ],
          "name": "stderr"
        },
        {
          "output_type": "stream",
          "text": [
            "Model Number: 716 with model DatepartRegression in generation 13 of 20\n",
            "Template Eval Error: ValueError(\"Input contains NaN, infinity or a value too large for dtype('float64').\") in model 716: DatepartRegression\n",
            "Model Number: 717 with model DatepartRegression in generation 13 of 20\n",
            "Template Eval Error: ValueError(\"Input contains NaN, infinity or a value too large for dtype('float64').\") in model 717: DatepartRegression\n",
            "Model Number: 718 with model FBProphet in generation 13 of 20\n"
          ],
          "name": "stdout"
        },
        {
          "output_type": "stream",
          "text": [
            "INFO:fbprophet:Disabling daily seasonality. Run prophet with daily_seasonality=True to override this.\n"
          ],
          "name": "stderr"
        },
        {
          "output_type": "stream",
          "text": [
            "Model Number: 719 with model FBProphet in generation 13 of 20\n"
          ],
          "name": "stdout"
        },
        {
          "output_type": "stream",
          "text": [
            "INFO:fbprophet:Disabling daily seasonality. Run prophet with daily_seasonality=True to override this.\n"
          ],
          "name": "stderr"
        },
        {
          "output_type": "stream",
          "text": [
            "Model Number: 720 with model FBProphet in generation 13 of 20\n"
          ],
          "name": "stdout"
        },
        {
          "output_type": "stream",
          "text": [
            "INFO:fbprophet:Disabling daily seasonality. Run prophet with daily_seasonality=True to override this.\n"
          ],
          "name": "stderr"
        },
        {
          "output_type": "stream",
          "text": [
            "Model Number: 721 with model FBProphet in generation 13 of 20\n",
            "Model Number: 722 with model LastValueNaive in generation 13 of 20\n",
            "Model Number: 723 with model LastValueNaive in generation 13 of 20\n",
            "Model Number: 724 with model UnobservedComponents in generation 13 of 20\n",
            "Model Number: 725 with model UnobservedComponents in generation 13 of 20\n",
            "Model Number: 726 with model UnobservedComponents in generation 13 of 20\n",
            "Model Number: 727 with model GLS in generation 13 of 20\n",
            "Model Number: 728 with model GLS in generation 13 of 20\n",
            "Model Number: 729 with model GLS in generation 13 of 20\n",
            "Model Number: 730 with model ZeroesNaive in generation 13 of 20\n",
            "Model Number: 731 with model ZeroesNaive in generation 13 of 20\n",
            "Model Number: 732 with model ZeroesNaive in generation 13 of 20\n",
            "New Generation: 14 of 20\n",
            "Model Number: 733 with model WindowRegression in generation 14 of 20\n",
            "Model Number: 734 with model WindowRegression in generation 14 of 20\n"
          ],
          "name": "stdout"
        },
        {
          "output_type": "stream",
          "text": [
            "[Parallel(n_jobs=1)]: Using backend SequentialBackend with 1 concurrent workers.\n",
            "[Parallel(n_jobs=1)]: Done 1000 out of 1000 | elapsed:    4.5s finished\n",
            "[Parallel(n_jobs=1)]: Using backend SequentialBackend with 1 concurrent workers.\n",
            "[Parallel(n_jobs=1)]: Done 1000 out of 1000 | elapsed:    0.1s finished\n",
            "[Parallel(n_jobs=1)]: Using backend SequentialBackend with 1 concurrent workers.\n",
            "[Parallel(n_jobs=1)]: Done 1000 out of 1000 | elapsed:    0.1s finished\n",
            "[Parallel(n_jobs=1)]: Using backend SequentialBackend with 1 concurrent workers.\n",
            "[Parallel(n_jobs=1)]: Done 1000 out of 1000 | elapsed:    0.1s finished\n",
            "[Parallel(n_jobs=1)]: Using backend SequentialBackend with 1 concurrent workers.\n",
            "[Parallel(n_jobs=1)]: Done 1000 out of 1000 | elapsed:    0.1s finished\n",
            "[Parallel(n_jobs=1)]: Using backend SequentialBackend with 1 concurrent workers.\n",
            "[Parallel(n_jobs=1)]: Done 1000 out of 1000 | elapsed:    0.1s finished\n",
            "[Parallel(n_jobs=1)]: Using backend SequentialBackend with 1 concurrent workers.\n",
            "[Parallel(n_jobs=1)]: Done 1000 out of 1000 | elapsed:    0.1s finished\n",
            "[Parallel(n_jobs=1)]: Using backend SequentialBackend with 1 concurrent workers.\n",
            "[Parallel(n_jobs=1)]: Done 1000 out of 1000 | elapsed:    0.1s finished\n"
          ],
          "name": "stderr"
        },
        {
          "output_type": "stream",
          "text": [
            "Model Number: 735 with model WindowRegression in generation 14 of 20\n",
            "Template Eval Error: ValueError(\"Input contains NaN, infinity or a value too large for dtype('float64').\") in model 735: WindowRegression\n",
            "Model Number: 736 with model RollingRegression in generation 14 of 20\n",
            "Model Number: 737 with model RollingRegression in generation 14 of 20\n",
            "Model Number: 738 with model RollingRegression in generation 14 of 20\n",
            "Model Number: 739 with model RollingRegression in generation 14 of 20\n",
            "Model Number: 740 with model ETS in generation 14 of 20\n",
            "Model Number: 741 with model ETS in generation 14 of 20\n",
            "Model Number: 742 with model ETS in generation 14 of 20\n",
            "Model Number: 743 with model ETS in generation 14 of 20\n",
            "Model Number: 744 with model AverageValueNaive in generation 14 of 20\n",
            "Model Number: 745 with model AverageValueNaive in generation 14 of 20\n",
            "Model Number: 746 with model AverageValueNaive in generation 14 of 20\n",
            "Model Number: 747 with model SeasonalNaive in generation 14 of 20\n",
            "Model Number: 748 with model SeasonalNaive in generation 14 of 20\n",
            "Model Number: 749 with model SeasonalNaive in generation 14 of 20\n",
            "Model Number: 750 with model DatepartRegression in generation 14 of 20\n",
            "Model Number: 751 with model DatepartRegression in generation 14 of 20\n",
            "Model Number: 752 with model DatepartRegression in generation 14 of 20\n",
            "Template Eval Error: ValueError(\"Input contains NaN, infinity or a value too large for dtype('float64').\") in model 752: DatepartRegression\n",
            "Model Number: 753 with model FBProphet in generation 14 of 20\n"
          ],
          "name": "stdout"
        },
        {
          "output_type": "stream",
          "text": [
            "INFO:fbprophet:Disabling daily seasonality. Run prophet with daily_seasonality=True to override this.\n",
            "INFO:fbprophet:Disabling yearly seasonality. Run prophet with yearly_seasonality=True to override this.\n",
            "INFO:fbprophet:Disabling daily seasonality. Run prophet with daily_seasonality=True to override this.\n"
          ],
          "name": "stderr"
        },
        {
          "output_type": "stream",
          "text": [
            "Model Number: 754 with model FBProphet in generation 14 of 20\n",
            "Model Number: 755 with model LastValueNaive in generation 14 of 20\n",
            "Model Number: 756 with model LastValueNaive in generation 14 of 20\n",
            "Model Number: 757 with model LastValueNaive in generation 14 of 20\n",
            "Model Number: 758 with model UnobservedComponents in generation 14 of 20\n",
            "Model Number: 759 with model UnobservedComponents in generation 14 of 20\n",
            "Model Number: 760 with model UnobservedComponents in generation 14 of 20\n",
            "Model Number: 761 with model GLS in generation 14 of 20\n",
            "Model Number: 762 with model GLS in generation 14 of 20\n",
            "Model Number: 763 with model ZeroesNaive in generation 14 of 20\n",
            "Model Number: 764 with model ZeroesNaive in generation 14 of 20\n",
            "New Generation: 15 of 20\n",
            "Model Number: 765 with model WindowRegression in generation 15 of 20\n",
            "Template Eval Error: ValueError(\"Input contains NaN, infinity or a value too large for dtype('float64').\") in model 765: WindowRegression\n",
            "Model Number: 766 with model WindowRegression in generation 15 of 20\n",
            "Template Eval Error: ValueError(\"Input contains NaN, infinity or a value too large for dtype('float64').\") in model 766: WindowRegression\n",
            "Model Number: 767 with model WindowRegression in generation 15 of 20\n",
            "Model Number: 768 with model RollingRegression in generation 15 of 20\n",
            "Model Number: 769 with model RollingRegression in generation 15 of 20\n",
            "Model Number: 770 with model RollingRegression in generation 15 of 20\n",
            "Model Number: 771 with model RollingRegression in generation 15 of 20\n",
            "Model Number: 772 with model AverageValueNaive in generation 15 of 20\n",
            "Model Number: 773 with model AverageValueNaive in generation 15 of 20\n",
            "Model Number: 774 with model AverageValueNaive in generation 15 of 20\n",
            "Model Number: 775 with model ETS in generation 15 of 20\n",
            "Model Number: 776 with model ETS in generation 15 of 20\n",
            "Model Number: 777 with model ETS in generation 15 of 20\n",
            "Model Number: 778 with model ETS in generation 15 of 20\n",
            "Model Number: 779 with model SeasonalNaive in generation 15 of 20\n",
            "Model Number: 780 with model SeasonalNaive in generation 15 of 20\n",
            "Model Number: 781 with model SeasonalNaive in generation 15 of 20\n",
            "Model Number: 782 with model SeasonalNaive in generation 15 of 20\n",
            "Model Number: 783 with model DatepartRegression in generation 15 of 20\n",
            "Model Number: 784 with model DatepartRegression in generation 15 of 20\n",
            "Model Number: 785 with model DatepartRegression in generation 15 of 20\n"
          ],
          "name": "stdout"
        },
        {
          "output_type": "stream",
          "text": [
            "INFO:fbprophet:Disabling daily seasonality. Run prophet with daily_seasonality=True to override this.\n"
          ],
          "name": "stderr"
        },
        {
          "output_type": "stream",
          "text": [
            "Template Eval Error: ValueError(\"Input contains NaN, infinity or a value too large for dtype('float64').\") in model 785: DatepartRegression\n",
            "Model Number: 786 with model FBProphet in generation 15 of 20\n"
          ],
          "name": "stdout"
        },
        {
          "output_type": "stream",
          "text": [
            "INFO:fbprophet:Disabling daily seasonality. Run prophet with daily_seasonality=True to override this.\n"
          ],
          "name": "stderr"
        },
        {
          "output_type": "stream",
          "text": [
            "Model Number: 787 with model FBProphet in generation 15 of 20\n"
          ],
          "name": "stdout"
        },
        {
          "output_type": "stream",
          "text": [
            "INFO:fbprophet:Disabling daily seasonality. Run prophet with daily_seasonality=True to override this.\n"
          ],
          "name": "stderr"
        },
        {
          "output_type": "stream",
          "text": [
            "Model Number: 788 with model FBProphet in generation 15 of 20\n",
            "Model Number: 789 with model LastValueNaive in generation 15 of 20\n",
            "Model Number: 790 with model LastValueNaive in generation 15 of 20\n",
            "Model Number: 791 with model UnobservedComponents in generation 15 of 20\n",
            "Model Number: 792 with model UnobservedComponents in generation 15 of 20\n",
            "Model Number: 793 with model UnobservedComponents in generation 15 of 20\n",
            "Model Number: 794 with model GLS in generation 15 of 20\n",
            "Model Number: 795 with model GLS in generation 15 of 20\n",
            "Model Number: 796 with model GLS in generation 15 of 20\n",
            "New Generation: 16 of 20\n",
            "Model Number: 797 with model WindowRegression in generation 16 of 20\n",
            "Epoch 1/50\n",
            "31/31 [==============================] - 2s 4ms/step - loss: 0.0438\n",
            "Epoch 2/50\n",
            "31/31 [==============================] - 0s 3ms/step - loss: 0.0383\n",
            "Epoch 3/50\n",
            "31/31 [==============================] - 0s 4ms/step - loss: 0.0375\n",
            "Epoch 4/50\n",
            "31/31 [==============================] - 0s 3ms/step - loss: 0.0367\n",
            "Epoch 5/50\n",
            "31/31 [==============================] - 0s 4ms/step - loss: 0.0364\n",
            "Epoch 6/50\n",
            "31/31 [==============================] - 0s 4ms/step - loss: 0.0358\n",
            "Epoch 7/50\n",
            "31/31 [==============================] - 0s 4ms/step - loss: 0.0357\n",
            "Epoch 8/50\n",
            "31/31 [==============================] - 0s 4ms/step - loss: 0.0351\n",
            "Epoch 9/50\n",
            "31/31 [==============================] - 0s 4ms/step - loss: 0.0348\n",
            "Epoch 10/50\n",
            "31/31 [==============================] - 0s 4ms/step - loss: 0.0347\n",
            "Epoch 11/50\n",
            "31/31 [==============================] - 0s 4ms/step - loss: 0.0345\n",
            "Epoch 12/50\n",
            "31/31 [==============================] - 0s 4ms/step - loss: 0.0342\n",
            "Epoch 13/50\n",
            "31/31 [==============================] - 0s 4ms/step - loss: 0.0340\n",
            "Epoch 14/50\n",
            "31/31 [==============================] - 0s 4ms/step - loss: 0.0339\n",
            "Epoch 15/50\n",
            "31/31 [==============================] - 0s 4ms/step - loss: 0.0335\n",
            "Epoch 16/50\n",
            "31/31 [==============================] - 0s 4ms/step - loss: 0.0333\n",
            "Epoch 17/50\n",
            "31/31 [==============================] - 0s 4ms/step - loss: 0.0332\n",
            "Epoch 18/50\n",
            "31/31 [==============================] - 0s 4ms/step - loss: 0.0329\n",
            "Epoch 19/50\n",
            "31/31 [==============================] - 0s 3ms/step - loss: 0.0327\n",
            "Epoch 20/50\n",
            "31/31 [==============================] - 0s 4ms/step - loss: 0.0324\n",
            "Epoch 21/50\n",
            "31/31 [==============================] - 0s 4ms/step - loss: 0.0323\n",
            "Epoch 22/50\n",
            "31/31 [==============================] - 0s 4ms/step - loss: 0.0323\n",
            "Epoch 23/50\n",
            "31/31 [==============================] - 0s 4ms/step - loss: 0.0320\n",
            "Epoch 24/50\n",
            "31/31 [==============================] - 0s 4ms/step - loss: 0.0320\n",
            "Epoch 25/50\n",
            "31/31 [==============================] - 0s 4ms/step - loss: 0.0318\n",
            "Epoch 26/50\n",
            "31/31 [==============================] - 0s 4ms/step - loss: 0.0315\n",
            "Epoch 27/50\n",
            "31/31 [==============================] - 0s 3ms/step - loss: 0.0314\n",
            "Epoch 28/50\n",
            "31/31 [==============================] - 0s 4ms/step - loss: 0.0313\n",
            "Epoch 29/50\n",
            "31/31 [==============================] - 0s 3ms/step - loss: 0.0310\n",
            "Epoch 30/50\n",
            "31/31 [==============================] - 0s 4ms/step - loss: 0.0310\n",
            "Epoch 31/50\n",
            "31/31 [==============================] - 0s 4ms/step - loss: 0.0307\n",
            "Epoch 32/50\n",
            "31/31 [==============================] - 0s 3ms/step - loss: 0.0306\n",
            "Epoch 33/50\n",
            "31/31 [==============================] - 0s 4ms/step - loss: 0.0305\n",
            "Epoch 34/50\n",
            "31/31 [==============================] - 0s 4ms/step - loss: 0.0304\n",
            "Epoch 35/50\n",
            "31/31 [==============================] - 0s 3ms/step - loss: 0.0303\n",
            "Epoch 36/50\n",
            "31/31 [==============================] - 0s 3ms/step - loss: 0.0302\n",
            "Epoch 37/50\n",
            "31/31 [==============================] - 0s 4ms/step - loss: 0.0299\n",
            "Epoch 38/50\n",
            "31/31 [==============================] - 0s 4ms/step - loss: 0.0297\n",
            "Epoch 39/50\n",
            "31/31 [==============================] - 0s 4ms/step - loss: 0.0296\n",
            "Epoch 40/50\n",
            "31/31 [==============================] - 0s 3ms/step - loss: 0.0296\n",
            "Epoch 41/50\n",
            "31/31 [==============================] - 0s 4ms/step - loss: 0.0293\n",
            "Epoch 42/50\n",
            "31/31 [==============================] - 0s 4ms/step - loss: 0.0290\n",
            "Epoch 43/50\n",
            "31/31 [==============================] - 0s 4ms/step - loss: 0.0291\n",
            "Epoch 44/50\n",
            "31/31 [==============================] - 0s 4ms/step - loss: 0.0288\n",
            "Epoch 45/50\n",
            "31/31 [==============================] - 0s 3ms/step - loss: 0.0288\n",
            "Epoch 46/50\n",
            "31/31 [==============================] - 0s 3ms/step - loss: 0.0286\n",
            "Epoch 47/50\n",
            "31/31 [==============================] - 0s 4ms/step - loss: 0.0285\n",
            "Epoch 48/50\n",
            "31/31 [==============================] - 0s 3ms/step - loss: 0.0283\n",
            "Epoch 49/50\n",
            "31/31 [==============================] - 0s 3ms/step - loss: 0.0284\n",
            "Epoch 50/50\n",
            "31/31 [==============================] - 0s 3ms/step - loss: 0.0281\n",
            "Template Eval Error: ValueError('Length mismatch: Expected axis has 7 elements, new values have 1 elements') in model 797: WindowRegression\n",
            "Model Number: 798 with model WindowRegression in generation 16 of 20\n",
            "Template Eval Error: ValueError(\"Input contains NaN, infinity or a value too large for dtype('float64').\") in model 798: WindowRegression\n",
            "Model Number: 799 with model WindowRegression in generation 16 of 20\n",
            "Epoch 1/100\n",
            "31/31 [==============================] - 5s 5ms/step - loss: 0.1100\n",
            "Epoch 2/100\n",
            "31/31 [==============================] - 0s 5ms/step - loss: 0.0832\n",
            "Epoch 3/100\n",
            "31/31 [==============================] - 0s 5ms/step - loss: 0.0686\n",
            "Epoch 4/100\n",
            "31/31 [==============================] - 0s 6ms/step - loss: 0.0674\n",
            "Epoch 5/100\n",
            "31/31 [==============================] - 0s 5ms/step - loss: 0.0653\n",
            "Epoch 6/100\n",
            "31/31 [==============================] - 0s 6ms/step - loss: 0.0646\n",
            "Epoch 7/100\n",
            "31/31 [==============================] - 0s 6ms/step - loss: 0.0622\n",
            "Epoch 8/100\n",
            "31/31 [==============================] - 0s 6ms/step - loss: 0.0622\n",
            "Epoch 9/100\n",
            "31/31 [==============================] - 0s 6ms/step - loss: 0.0621\n",
            "Epoch 10/100\n",
            "31/31 [==============================] - 0s 5ms/step - loss: 0.0611\n",
            "Epoch 11/100\n",
            "31/31 [==============================] - 0s 6ms/step - loss: 0.0603\n",
            "Epoch 12/100\n",
            "31/31 [==============================] - 0s 6ms/step - loss: 0.0614\n",
            "Epoch 13/100\n",
            "31/31 [==============================] - 0s 5ms/step - loss: 0.0608\n",
            "Epoch 14/100\n",
            "31/31 [==============================] - 0s 6ms/step - loss: 0.0592\n",
            "Epoch 15/100\n",
            "31/31 [==============================] - 0s 6ms/step - loss: 0.0596\n",
            "Epoch 16/100\n",
            "31/31 [==============================] - 0s 5ms/step - loss: 0.0593\n",
            "Epoch 17/100\n",
            "31/31 [==============================] - 0s 5ms/step - loss: 0.0577\n",
            "Epoch 18/100\n",
            "31/31 [==============================] - 0s 6ms/step - loss: 0.0594\n",
            "Epoch 19/100\n",
            "31/31 [==============================] - 0s 5ms/step - loss: 0.0571\n",
            "Epoch 20/100\n",
            "31/31 [==============================] - 0s 5ms/step - loss: 0.0580\n",
            "Epoch 21/100\n",
            "31/31 [==============================] - 0s 6ms/step - loss: 0.0573\n",
            "Epoch 22/100\n",
            "31/31 [==============================] - 0s 5ms/step - loss: 0.0568\n",
            "Epoch 23/100\n",
            "31/31 [==============================] - 0s 6ms/step - loss: 0.0575\n",
            "Epoch 24/100\n",
            "31/31 [==============================] - 0s 5ms/step - loss: 0.0585\n",
            "Epoch 25/100\n",
            "31/31 [==============================] - 0s 6ms/step - loss: 0.0561\n",
            "Epoch 26/100\n",
            "31/31 [==============================] - 0s 6ms/step - loss: 0.0557\n",
            "Epoch 27/100\n",
            "31/31 [==============================] - 0s 6ms/step - loss: 0.0576\n",
            "Epoch 28/100\n",
            "31/31 [==============================] - 0s 6ms/step - loss: 0.0562\n",
            "Epoch 29/100\n",
            "31/31 [==============================] - 0s 5ms/step - loss: 0.0574\n",
            "Epoch 30/100\n",
            "31/31 [==============================] - 0s 6ms/step - loss: 0.0563\n",
            "Epoch 31/100\n",
            "31/31 [==============================] - 0s 6ms/step - loss: 0.0562\n",
            "Epoch 32/100\n",
            "31/31 [==============================] - 0s 6ms/step - loss: 0.0542\n",
            "Epoch 33/100\n",
            "31/31 [==============================] - 0s 6ms/step - loss: 0.0569\n",
            "Epoch 34/100\n",
            "31/31 [==============================] - 0s 6ms/step - loss: 0.0573\n",
            "Epoch 35/100\n",
            "31/31 [==============================] - 0s 6ms/step - loss: 0.0561\n",
            "Epoch 36/100\n",
            "31/31 [==============================] - 0s 6ms/step - loss: 0.0553\n",
            "Epoch 37/100\n",
            "31/31 [==============================] - 0s 6ms/step - loss: 0.0550\n",
            "Epoch 38/100\n",
            "31/31 [==============================] - 0s 5ms/step - loss: 0.0552\n",
            "Epoch 39/100\n",
            "31/31 [==============================] - 0s 5ms/step - loss: 0.0552\n",
            "Epoch 40/100\n",
            "31/31 [==============================] - 0s 5ms/step - loss: 0.0545\n",
            "Epoch 41/100\n",
            "31/31 [==============================] - 0s 5ms/step - loss: 0.0548\n",
            "Epoch 42/100\n",
            "31/31 [==============================] - 0s 5ms/step - loss: 0.0549\n",
            "Epoch 43/100\n",
            "31/31 [==============================] - 0s 6ms/step - loss: 0.0556\n",
            "Epoch 44/100\n",
            "31/31 [==============================] - 0s 5ms/step - loss: 0.0556\n",
            "Epoch 45/100\n",
            "31/31 [==============================] - 0s 5ms/step - loss: 0.0541\n",
            "Epoch 46/100\n",
            "31/31 [==============================] - 0s 5ms/step - loss: 0.0531\n",
            "Epoch 47/100\n",
            "31/31 [==============================] - 0s 5ms/step - loss: 0.0548\n",
            "Epoch 48/100\n",
            "31/31 [==============================] - 0s 5ms/step - loss: 0.0533\n",
            "Epoch 49/100\n",
            "31/31 [==============================] - 0s 7ms/step - loss: 0.0552\n",
            "Epoch 50/100\n",
            "31/31 [==============================] - 0s 6ms/step - loss: 0.0535\n",
            "Epoch 51/100\n",
            "31/31 [==============================] - 0s 6ms/step - loss: 0.0534\n",
            "Epoch 52/100\n",
            "31/31 [==============================] - 0s 6ms/step - loss: 0.0529\n",
            "Epoch 53/100\n",
            "31/31 [==============================] - 0s 6ms/step - loss: 0.0525\n",
            "Epoch 54/100\n",
            "31/31 [==============================] - 0s 6ms/step - loss: 0.0536\n",
            "Epoch 55/100\n",
            "31/31 [==============================] - 0s 6ms/step - loss: 0.0537\n",
            "Epoch 56/100\n",
            "31/31 [==============================] - 0s 6ms/step - loss: 0.0527\n",
            "Epoch 57/100\n",
            "31/31 [==============================] - 0s 6ms/step - loss: 0.0534\n",
            "Epoch 58/100\n",
            "31/31 [==============================] - 0s 6ms/step - loss: 0.0529\n",
            "Epoch 59/100\n",
            "31/31 [==============================] - 0s 6ms/step - loss: 0.0525\n",
            "Epoch 60/100\n",
            "31/31 [==============================] - 0s 6ms/step - loss: 0.0538\n",
            "Epoch 61/100\n",
            "31/31 [==============================] - 0s 5ms/step - loss: 0.0522\n",
            "Epoch 62/100\n",
            "31/31 [==============================] - 0s 6ms/step - loss: 0.0516\n",
            "Epoch 63/100\n",
            "31/31 [==============================] - 0s 6ms/step - loss: 0.0531\n",
            "Epoch 64/100\n",
            "31/31 [==============================] - 0s 6ms/step - loss: 0.0522\n",
            "Epoch 65/100\n",
            "31/31 [==============================] - 0s 6ms/step - loss: 0.0510\n",
            "Epoch 66/100\n",
            "31/31 [==============================] - 0s 6ms/step - loss: 0.0513\n",
            "Epoch 67/100\n",
            "31/31 [==============================] - 0s 6ms/step - loss: 0.0522\n",
            "Epoch 68/100\n",
            "31/31 [==============================] - 0s 6ms/step - loss: 0.0531\n",
            "Epoch 69/100\n",
            "31/31 [==============================] - 0s 5ms/step - loss: 0.0514\n",
            "Epoch 70/100\n",
            "31/31 [==============================] - 0s 6ms/step - loss: 0.0518\n",
            "Epoch 71/100\n",
            "31/31 [==============================] - 0s 6ms/step - loss: 0.0516\n",
            "Epoch 72/100\n",
            "31/31 [==============================] - 0s 6ms/step - loss: 0.0509\n",
            "Epoch 73/100\n",
            "31/31 [==============================] - 0s 6ms/step - loss: 0.0529\n",
            "Epoch 74/100\n",
            "31/31 [==============================] - 0s 5ms/step - loss: 0.0506\n",
            "Epoch 75/100\n",
            "31/31 [==============================] - 0s 5ms/step - loss: 0.0512\n",
            "Epoch 76/100\n",
            "31/31 [==============================] - 0s 6ms/step - loss: 0.0518\n",
            "Epoch 77/100\n",
            "31/31 [==============================] - 0s 5ms/step - loss: 0.0504\n",
            "Epoch 78/100\n",
            "31/31 [==============================] - 0s 6ms/step - loss: 0.0506\n",
            "Epoch 79/100\n",
            "31/31 [==============================] - 0s 6ms/step - loss: 0.0509\n",
            "Epoch 80/100\n",
            "31/31 [==============================] - 0s 5ms/step - loss: 0.0512\n",
            "Epoch 81/100\n",
            "31/31 [==============================] - 0s 5ms/step - loss: 0.0504\n",
            "Epoch 82/100\n",
            "31/31 [==============================] - 0s 6ms/step - loss: 0.0508\n",
            "Epoch 83/100\n",
            "31/31 [==============================] - 0s 6ms/step - loss: 0.0496\n",
            "Epoch 84/100\n",
            "31/31 [==============================] - 0s 6ms/step - loss: 0.0511\n",
            "Epoch 85/100\n",
            "31/31 [==============================] - 0s 5ms/step - loss: 0.0497\n",
            "Epoch 86/100\n",
            "31/31 [==============================] - 0s 5ms/step - loss: 0.0505\n",
            "Epoch 87/100\n",
            "31/31 [==============================] - 0s 5ms/step - loss: 0.0496\n",
            "Epoch 88/100\n",
            "31/31 [==============================] - 0s 6ms/step - loss: 0.0507\n",
            "Epoch 89/100\n",
            "31/31 [==============================] - 0s 6ms/step - loss: 0.0507\n",
            "Epoch 90/100\n",
            "31/31 [==============================] - 0s 5ms/step - loss: 0.0517\n",
            "Epoch 91/100\n",
            "31/31 [==============================] - 0s 6ms/step - loss: 0.0500\n",
            "Epoch 92/100\n",
            "31/31 [==============================] - 0s 5ms/step - loss: 0.0488\n",
            "Epoch 93/100\n",
            "31/31 [==============================] - 0s 6ms/step - loss: 0.0494\n",
            "Epoch 94/100\n",
            "31/31 [==============================] - 0s 6ms/step - loss: 0.0501\n",
            "Epoch 95/100\n",
            "31/31 [==============================] - 0s 6ms/step - loss: 0.0494\n",
            "Epoch 96/100\n",
            "31/31 [==============================] - 0s 6ms/step - loss: 0.0507\n",
            "Epoch 97/100\n",
            "31/31 [==============================] - 0s 5ms/step - loss: 0.0499\n",
            "Epoch 98/100\n",
            "31/31 [==============================] - 0s 6ms/step - loss: 0.0485\n",
            "Epoch 99/100\n",
            "31/31 [==============================] - 0s 6ms/step - loss: 0.0488\n",
            "Epoch 100/100\n",
            "31/31 [==============================] - 0s 5ms/step - loss: 0.0497\n",
            "Template Eval Error: ValueError('Length mismatch: Expected axis has 7 elements, new values have 1 elements') in model 799: WindowRegression\n",
            "Model Number: 800 with model RollingRegression in generation 16 of 20\n",
            "Model Number: 801 with model RollingRegression in generation 16 of 20\n",
            "Model Number: 802 with model RollingRegression in generation 16 of 20\n",
            "Model Number: 803 with model RollingRegression in generation 16 of 20\n",
            "Model Number: 804 with model GLS in generation 16 of 20\n",
            "Model Number: 805 with model GLS in generation 16 of 20\n",
            "Model Number: 806 with model AverageValueNaive in generation 16 of 20\n",
            "Model Number: 807 with model AverageValueNaive in generation 16 of 20\n",
            "Model Number: 808 with model AverageValueNaive in generation 16 of 20\n",
            "Model Number: 809 with model ETS in generation 16 of 20\n",
            "Model Number: 810 with model ETS in generation 16 of 20\n",
            "Model Number: 811 with model ETS in generation 16 of 20\n",
            "Model Number: 812 with model ETS in generation 16 of 20\n",
            "Model Number: 813 with model SeasonalNaive in generation 16 of 20\n",
            "Model Number: 814 with model SeasonalNaive in generation 16 of 20\n",
            "Model Number: 815 with model SeasonalNaive in generation 16 of 20\n",
            "Model Number: 816 with model SeasonalNaive in generation 16 of 20\n",
            "Model Number: 817 with model DatepartRegression in generation 16 of 20\n",
            "Template Eval Error: ValueError(\"Input contains NaN, infinity or a value too large for dtype('float32').\") in model 817: DatepartRegression\n",
            "Model Number: 818 with model DatepartRegression in generation 16 of 20\n",
            "Model Number: 819 with model DatepartRegression in generation 16 of 20\n",
            "Model Number: 820 with model FBProphet in generation 16 of 20\n"
          ],
          "name": "stdout"
        },
        {
          "output_type": "stream",
          "text": [
            "INFO:fbprophet:Disabling daily seasonality. Run prophet with daily_seasonality=True to override this.\n",
            "INFO:fbprophet:Disabling daily seasonality. Run prophet with daily_seasonality=True to override this.\n"
          ],
          "name": "stderr"
        },
        {
          "output_type": "stream",
          "text": [
            "Model Number: 821 with model FBProphet in generation 16 of 20\n"
          ],
          "name": "stdout"
        },
        {
          "output_type": "stream",
          "text": [
            "INFO:fbprophet:Disabling daily seasonality. Run prophet with daily_seasonality=True to override this.\n"
          ],
          "name": "stderr"
        },
        {
          "output_type": "stream",
          "text": [
            "Model Number: 822 with model FBProphet in generation 16 of 20\n"
          ],
          "name": "stdout"
        },
        {
          "output_type": "stream",
          "text": [
            "INFO:fbprophet:Disabling daily seasonality. Run prophet with daily_seasonality=True to override this.\n"
          ],
          "name": "stderr"
        },
        {
          "output_type": "stream",
          "text": [
            "Model Number: 823 with model FBProphet in generation 16 of 20\n",
            "Model Number: 824 with model LastValueNaive in generation 16 of 20\n",
            "Model Number: 825 with model LastValueNaive in generation 16 of 20\n",
            "Model Number: 826 with model LastValueNaive in generation 16 of 20\n",
            "Model Number: 827 with model UnobservedComponents in generation 16 of 20\n",
            "Model Number: 828 with model UnobservedComponents in generation 16 of 20\n",
            "Model Number: 829 with model UnobservedComponents in generation 16 of 20\n",
            "New Generation: 17 of 20\n",
            "Model Number: 830 with model WindowRegression in generation 17 of 20\n"
          ],
          "name": "stdout"
        },
        {
          "output_type": "stream",
          "text": [
            "[Parallel(n_jobs=1)]: Using backend SequentialBackend with 1 concurrent workers.\n",
            "[Parallel(n_jobs=1)]: Done 1000 out of 1000 | elapsed:   11.3s finished\n",
            "[Parallel(n_jobs=1)]: Using backend SequentialBackend with 1 concurrent workers.\n",
            "[Parallel(n_jobs=1)]: Done 1000 out of 1000 | elapsed:    0.1s finished\n"
          ],
          "name": "stderr"
        },
        {
          "output_type": "stream",
          "text": [
            "Template Eval Error: ValueError(\"Input contains NaN, infinity or a value too large for dtype('float32').\") in model 830: WindowRegression\n",
            "Model Number: 831 with model WindowRegression in generation 17 of 20\n"
          ],
          "name": "stdout"
        },
        {
          "output_type": "stream",
          "text": [
            "[Parallel(n_jobs=1)]: Using backend SequentialBackend with 1 concurrent workers.\n",
            "[Parallel(n_jobs=1)]: Done 1000 out of 1000 | elapsed:   15.9s finished\n",
            "[Parallel(n_jobs=1)]: Using backend SequentialBackend with 1 concurrent workers.\n",
            "[Parallel(n_jobs=1)]: Done 1000 out of 1000 | elapsed:    0.1s finished\n"
          ],
          "name": "stderr"
        },
        {
          "output_type": "stream",
          "text": [
            "Template Eval Error: ValueError(\"Input contains NaN, infinity or a value too large for dtype('float32').\") in model 831: WindowRegression\n",
            "Model Number: 832 with model WindowRegression in generation 17 of 20\n"
          ],
          "name": "stdout"
        },
        {
          "output_type": "stream",
          "text": [
            "[Parallel(n_jobs=1)]: Using backend SequentialBackend with 1 concurrent workers.\n"
          ],
          "name": "stderr"
        },
        {
          "output_type": "stream",
          "text": [
            "Model Number: 833 with model AverageValueNaive in generation 17 of 20\n",
            "Model Number: 834 with model AverageValueNaive in generation 17 of 20\n"
          ],
          "name": "stdout"
        },
        {
          "output_type": "stream",
          "text": [
            "[Parallel(n_jobs=1)]: Done 1000 out of 1000 | elapsed:    4.9s finished\n",
            "[Parallel(n_jobs=1)]: Using backend SequentialBackend with 1 concurrent workers.\n",
            "[Parallel(n_jobs=1)]: Done 1000 out of 1000 | elapsed:    0.1s finished\n"
          ],
          "name": "stderr"
        },
        {
          "output_type": "stream",
          "text": [
            "Model Number: 835 with model AverageValueNaive in generation 17 of 20\n",
            "Model Number: 836 with model RollingRegression in generation 17 of 20\n",
            "Model Number: 837 with model RollingRegression in generation 17 of 20\n",
            "Model Number: 838 with model RollingRegression in generation 17 of 20\n",
            "Model Number: 839 with model RollingRegression in generation 17 of 20\n",
            "Model Number: 840 with model GLS in generation 17 of 20\n",
            "Model Number: 841 with model GLS in generation 17 of 20\n",
            "Model Number: 842 with model GLS in generation 17 of 20\n",
            "Model Number: 843 with model ETS in generation 17 of 20\n",
            "Model Number: 844 with model ETS in generation 17 of 20\n",
            "Model Number: 845 with model ETS in generation 17 of 20\n",
            "Model Number: 846 with model ETS in generation 17 of 20\n",
            "Model Number: 847 with model SeasonalNaive in generation 17 of 20\n",
            "Model Number: 848 with model SeasonalNaive in generation 17 of 20\n",
            "Model Number: 849 with model SeasonalNaive in generation 17 of 20\n",
            "Model Number: 850 with model SeasonalNaive in generation 17 of 20\n",
            "Model Number: 851 with model LastValueNaive in generation 17 of 20\n",
            "Model Number: 852 with model LastValueNaive in generation 17 of 20\n",
            "Model Number: 853 with model LastValueNaive in generation 17 of 20\n",
            "Model Number: 854 with model DatepartRegression in generation 17 of 20\n",
            "Template Eval Error: ValueError(\"Input contains NaN, infinity or a value too large for dtype('float64').\") in model 854: DatepartRegression\n",
            "Model Number: 855 with model DatepartRegression in generation 17 of 20\n",
            "Template Eval Error: ValueError(\"Input contains NaN, infinity or a value too large for dtype('float32').\") in model 855: DatepartRegression\n",
            "Model Number: 856 with model DatepartRegression in generation 17 of 20\n",
            "Model Number: 857 with model FBProphet in generation 17 of 20\n"
          ],
          "name": "stdout"
        },
        {
          "output_type": "stream",
          "text": [
            "INFO:fbprophet:Disabling daily seasonality. Run prophet with daily_seasonality=True to override this.\n",
            "INFO:fbprophet:Disabling daily seasonality. Run prophet with daily_seasonality=True to override this.\n"
          ],
          "name": "stderr"
        },
        {
          "output_type": "stream",
          "text": [
            "Model Number: 858 with model FBProphet in generation 17 of 20\n"
          ],
          "name": "stdout"
        },
        {
          "output_type": "stream",
          "text": [
            "INFO:fbprophet:Disabling daily seasonality. Run prophet with daily_seasonality=True to override this.\n"
          ],
          "name": "stderr"
        },
        {
          "output_type": "stream",
          "text": [
            "Model Number: 859 with model FBProphet in generation 17 of 20\n"
          ],
          "name": "stdout"
        },
        {
          "output_type": "stream",
          "text": [
            "INFO:fbprophet:Disabling daily seasonality. Run prophet with daily_seasonality=True to override this.\n"
          ],
          "name": "stderr"
        },
        {
          "output_type": "stream",
          "text": [
            "Model Number: 860 with model FBProphet in generation 17 of 20\n",
            "Model Number: 861 with model UnobservedComponents in generation 17 of 20\n",
            "Model Number: 862 with model UnobservedComponents in generation 17 of 20\n",
            "Model Number: 863 with model UnobservedComponents in generation 17 of 20\n",
            "New Generation: 18 of 20\n",
            "Model Number: 864 with model WindowRegression in generation 18 of 20\n",
            "Template Eval Error: ValueError(\"Input contains NaN, infinity or a value too large for dtype('float64').\") in model 864: WindowRegression\n",
            "Model Number: 865 with model WindowRegression in generation 18 of 20\n"
          ],
          "name": "stdout"
        },
        {
          "output_type": "stream",
          "text": [
            "[Parallel(n_jobs=1)]: Using backend SequentialBackend with 1 concurrent workers.\n",
            "[Parallel(n_jobs=1)]: Done 1000 out of 1000 | elapsed:   19.4s finished\n",
            "[Parallel(n_jobs=1)]: Using backend SequentialBackend with 1 concurrent workers.\n",
            "[Parallel(n_jobs=1)]: Done 1000 out of 1000 | elapsed:    0.1s finished\n",
            "[Parallel(n_jobs=1)]: Using backend SequentialBackend with 1 concurrent workers.\n",
            "[Parallel(n_jobs=1)]: Done 1000 out of 1000 | elapsed:    0.1s finished\n",
            "[Parallel(n_jobs=1)]: Using backend SequentialBackend with 1 concurrent workers.\n",
            "[Parallel(n_jobs=1)]: Done 1000 out of 1000 | elapsed:    0.1s finished\n",
            "[Parallel(n_jobs=1)]: Using backend SequentialBackend with 1 concurrent workers.\n",
            "[Parallel(n_jobs=1)]: Done 1000 out of 1000 | elapsed:    0.1s finished\n",
            "[Parallel(n_jobs=1)]: Using backend SequentialBackend with 1 concurrent workers.\n",
            "[Parallel(n_jobs=1)]: Done 1000 out of 1000 | elapsed:    0.1s finished\n",
            "[Parallel(n_jobs=1)]: Using backend SequentialBackend with 1 concurrent workers.\n",
            "[Parallel(n_jobs=1)]: Done 1000 out of 1000 | elapsed:    0.1s finished\n",
            "[Parallel(n_jobs=1)]: Using backend SequentialBackend with 1 concurrent workers.\n",
            "[Parallel(n_jobs=1)]: Done 1000 out of 1000 | elapsed:    0.1s finished\n"
          ],
          "name": "stderr"
        },
        {
          "output_type": "stream",
          "text": [
            "Model Number: 866 with model WindowRegression in generation 18 of 20\n",
            "Model Number: 867 with model GLS in generation 18 of 20\n",
            "Model Number: 868 with model GLS in generation 18 of 20\n",
            "Model Number: 869 with model AverageValueNaive in generation 18 of 20\n",
            "Model Number: 870 with model AverageValueNaive in generation 18 of 20\n",
            "Model Number: 871 with model RollingRegression in generation 18 of 20\n",
            "Model Number: 872 with model RollingRegression in generation 18 of 20\n",
            "Model Number: 873 with model RollingRegression in generation 18 of 20\n",
            "Model Number: 874 with model RollingRegression in generation 18 of 20\n",
            "Model Number: 875 with model ETS in generation 18 of 20\n",
            "Model Number: 876 with model ETS in generation 18 of 20\n",
            "Model Number: 877 with model ETS in generation 18 of 20\n",
            "Model Number: 878 with model SeasonalNaive in generation 18 of 20\n",
            "Model Number: 879 with model SeasonalNaive in generation 18 of 20\n",
            "Model Number: 880 with model SeasonalNaive in generation 18 of 20\n",
            "Model Number: 881 with model SeasonalNaive in generation 18 of 20\n",
            "Model Number: 882 with model LastValueNaive in generation 18 of 20\n",
            "Model Number: 883 with model LastValueNaive in generation 18 of 20\n",
            "Model Number: 884 with model DatepartRegression in generation 18 of 20\n",
            "Epoch 1/50\n",
            "125/125 [==============================] - 6s 5ms/step - loss: 0.0962\n",
            "Epoch 2/50\n",
            "125/125 [==============================] - 1s 6ms/step - loss: 0.0958\n",
            "Epoch 3/50\n",
            "125/125 [==============================] - 1s 6ms/step - loss: 0.0955\n",
            "Epoch 4/50\n",
            "125/125 [==============================] - 1s 6ms/step - loss: 0.0953\n",
            "Epoch 5/50\n",
            "125/125 [==============================] - 1s 5ms/step - loss: 0.0958\n",
            "Epoch 6/50\n",
            "125/125 [==============================] - 1s 5ms/step - loss: 0.0956\n",
            "Epoch 7/50\n",
            "125/125 [==============================] - 1s 5ms/step - loss: 0.0958\n",
            "Epoch 8/50\n",
            "125/125 [==============================] - 1s 6ms/step - loss: 0.0955\n",
            "Epoch 9/50\n",
            "125/125 [==============================] - 1s 5ms/step - loss: 0.0957\n",
            "Epoch 10/50\n",
            "125/125 [==============================] - 1s 6ms/step - loss: 0.0957\n",
            "Epoch 11/50\n",
            "125/125 [==============================] - 1s 5ms/step - loss: 0.0953\n",
            "Epoch 12/50\n",
            "125/125 [==============================] - 1s 5ms/step - loss: 0.0953\n",
            "Epoch 13/50\n",
            "125/125 [==============================] - 1s 6ms/step - loss: 0.0956\n",
            "Epoch 14/50\n",
            "125/125 [==============================] - 1s 5ms/step - loss: 0.0956\n",
            "Epoch 15/50\n",
            "125/125 [==============================] - 1s 5ms/step - loss: 0.0956\n",
            "Epoch 16/50\n",
            "125/125 [==============================] - 1s 6ms/step - loss: 0.0954\n",
            "Epoch 17/50\n",
            "125/125 [==============================] - 1s 6ms/step - loss: 0.0955\n",
            "Epoch 18/50\n",
            "125/125 [==============================] - 1s 5ms/step - loss: 0.0956\n",
            "Epoch 19/50\n",
            "125/125 [==============================] - 1s 5ms/step - loss: 0.0950\n",
            "Epoch 20/50\n",
            "125/125 [==============================] - 1s 6ms/step - loss: 0.0954\n",
            "Epoch 21/50\n",
            "125/125 [==============================] - 1s 6ms/step - loss: 0.0953\n",
            "Epoch 22/50\n",
            "125/125 [==============================] - 1s 5ms/step - loss: 0.0951\n",
            "Epoch 23/50\n",
            "125/125 [==============================] - 1s 5ms/step - loss: 0.0954\n",
            "Epoch 24/50\n",
            "125/125 [==============================] - 1s 5ms/step - loss: 0.0955\n",
            "Epoch 25/50\n",
            "125/125 [==============================] - 1s 5ms/step - loss: 0.0952\n",
            "Epoch 26/50\n",
            "125/125 [==============================] - 1s 5ms/step - loss: 0.0956\n",
            "Epoch 27/50\n",
            "125/125 [==============================] - 1s 5ms/step - loss: 0.0948\n",
            "Epoch 28/50\n",
            "125/125 [==============================] - 1s 5ms/step - loss: 0.0956\n",
            "Epoch 29/50\n",
            "125/125 [==============================] - 1s 5ms/step - loss: 0.0953\n",
            "Epoch 30/50\n",
            "125/125 [==============================] - 1s 5ms/step - loss: 0.0953\n",
            "Epoch 31/50\n",
            "125/125 [==============================] - 1s 5ms/step - loss: 0.0952\n",
            "Epoch 32/50\n",
            "125/125 [==============================] - 1s 6ms/step - loss: 0.0954\n",
            "Epoch 33/50\n",
            "125/125 [==============================] - 1s 5ms/step - loss: 0.0954\n",
            "Epoch 34/50\n",
            "125/125 [==============================] - 1s 5ms/step - loss: 0.0956\n",
            "Epoch 35/50\n",
            "125/125 [==============================] - 1s 5ms/step - loss: 0.0953\n",
            "Epoch 36/50\n",
            "125/125 [==============================] - 1s 5ms/step - loss: 0.0953\n",
            "Epoch 37/50\n",
            "125/125 [==============================] - 1s 5ms/step - loss: 0.0952\n",
            "Epoch 38/50\n",
            "125/125 [==============================] - 1s 6ms/step - loss: 0.0953\n",
            "Epoch 39/50\n",
            "125/125 [==============================] - 1s 6ms/step - loss: 0.0954\n",
            "Epoch 40/50\n",
            "125/125 [==============================] - 1s 6ms/step - loss: 0.0951\n",
            "Epoch 41/50\n",
            "125/125 [==============================] - 1s 5ms/step - loss: 0.0953\n",
            "Epoch 42/50\n",
            "125/125 [==============================] - 1s 6ms/step - loss: 0.0954\n",
            "Epoch 43/50\n",
            "125/125 [==============================] - 1s 6ms/step - loss: 0.0953\n",
            "Epoch 44/50\n",
            "125/125 [==============================] - 1s 6ms/step - loss: 0.0954\n",
            "Epoch 45/50\n",
            "125/125 [==============================] - 1s 5ms/step - loss: 0.0952\n",
            "Epoch 46/50\n",
            "125/125 [==============================] - 1s 5ms/step - loss: 0.0955\n",
            "Epoch 47/50\n",
            "125/125 [==============================] - 1s 6ms/step - loss: 0.0954\n",
            "Epoch 48/50\n",
            "125/125 [==============================] - 1s 6ms/step - loss: 0.0951\n",
            "Epoch 49/50\n",
            "125/125 [==============================] - 1s 6ms/step - loss: 0.0953\n",
            "Epoch 50/50\n",
            "125/125 [==============================] - 1s 5ms/step - loss: 0.0951\n",
            "Model Number: 885 with model DatepartRegression in generation 18 of 20\n",
            "Template Eval Error: ValueError(\"Input contains NaN, infinity or a value too large for dtype('float64').\") in model 885: DatepartRegression\n",
            "Model Number: 886 with model DatepartRegression in generation 18 of 20\n"
          ],
          "name": "stdout"
        },
        {
          "output_type": "stream",
          "text": [
            "[Parallel(n_jobs=1)]: Using backend SequentialBackend with 1 concurrent workers.\n",
            "[Parallel(n_jobs=1)]: Done 1000 out of 1000 | elapsed:    2.3s finished\n",
            "[Parallel(n_jobs=1)]: Using backend SequentialBackend with 1 concurrent workers.\n",
            "[Parallel(n_jobs=1)]: Done 1000 out of 1000 | elapsed:    0.1s finished\n",
            "INFO:fbprophet:Disabling daily seasonality. Run prophet with daily_seasonality=True to override this.\n"
          ],
          "name": "stderr"
        },
        {
          "output_type": "stream",
          "text": [
            "Model Number: 887 with model FBProphet in generation 18 of 20\n"
          ],
          "name": "stdout"
        },
        {
          "output_type": "stream",
          "text": [
            "INFO:fbprophet:Disabling daily seasonality. Run prophet with daily_seasonality=True to override this.\n"
          ],
          "name": "stderr"
        },
        {
          "output_type": "stream",
          "text": [
            "Model Number: 888 with model FBProphet in generation 18 of 20\n"
          ],
          "name": "stdout"
        },
        {
          "output_type": "stream",
          "text": [
            "INFO:fbprophet:Disabling daily seasonality. Run prophet with daily_seasonality=True to override this.\n"
          ],
          "name": "stderr"
        },
        {
          "output_type": "stream",
          "text": [
            "Model Number: 889 with model FBProphet in generation 18 of 20\n"
          ],
          "name": "stdout"
        },
        {
          "output_type": "stream",
          "text": [
            "INFO:fbprophet:Disabling daily seasonality. Run prophet with daily_seasonality=True to override this.\n"
          ],
          "name": "stderr"
        },
        {
          "output_type": "stream",
          "text": [
            "Model Number: 890 with model FBProphet in generation 18 of 20\n",
            "Model Number: 891 with model UnobservedComponents in generation 18 of 20\n",
            "Model Number: 892 with model UnobservedComponents in generation 18 of 20\n",
            "Model Number: 893 with model UnobservedComponents in generation 18 of 20\n",
            "New Generation: 19 of 20\n",
            "Model Number: 894 with model WindowRegression in generation 19 of 20\n",
            "Model Number: 895 with model WindowRegression in generation 19 of 20\n"
          ],
          "name": "stdout"
        },
        {
          "output_type": "stream",
          "text": [
            "[Parallel(n_jobs=1)]: Using backend SequentialBackend with 1 concurrent workers.\n",
            "[Parallel(n_jobs=1)]: Done 1000 out of 1000 | elapsed:    7.1s finished\n",
            "[Parallel(n_jobs=1)]: Using backend SequentialBackend with 1 concurrent workers.\n",
            "[Parallel(n_jobs=1)]: Done 1000 out of 1000 | elapsed:    0.1s finished\n",
            "[Parallel(n_jobs=1)]: Using backend SequentialBackend with 1 concurrent workers.\n",
            "[Parallel(n_jobs=1)]: Done 1000 out of 1000 | elapsed:    0.1s finished\n",
            "[Parallel(n_jobs=1)]: Using backend SequentialBackend with 1 concurrent workers.\n",
            "[Parallel(n_jobs=1)]: Done 1000 out of 1000 | elapsed:    0.1s finished\n",
            "[Parallel(n_jobs=1)]: Using backend SequentialBackend with 1 concurrent workers.\n",
            "[Parallel(n_jobs=1)]: Done 1000 out of 1000 | elapsed:    0.1s finished\n",
            "[Parallel(n_jobs=1)]: Using backend SequentialBackend with 1 concurrent workers.\n",
            "[Parallel(n_jobs=1)]: Done 1000 out of 1000 | elapsed:    0.1s finished\n",
            "[Parallel(n_jobs=1)]: Using backend SequentialBackend with 1 concurrent workers.\n",
            "[Parallel(n_jobs=1)]: Done 1000 out of 1000 | elapsed:    0.1s finished\n",
            "[Parallel(n_jobs=1)]: Using backend SequentialBackend with 1 concurrent workers.\n",
            "[Parallel(n_jobs=1)]: Done 1000 out of 1000 | elapsed:    0.1s finished\n"
          ],
          "name": "stderr"
        },
        {
          "output_type": "stream",
          "text": [
            "Model Number: 896 with model WindowRegression in generation 19 of 20\n",
            "Template Eval Error: ValueError(\"Input contains NaN, infinity or a value too large for dtype('float64').\") in model 896: WindowRegression\n",
            "Model Number: 897 with model GLS in generation 19 of 20\n",
            "Model Number: 898 with model GLS in generation 19 of 20\n",
            "Model Number: 899 with model GLS in generation 19 of 20\n",
            "Model Number: 900 with model AverageValueNaive in generation 19 of 20\n",
            "Model Number: 901 with model AverageValueNaive in generation 19 of 20\n",
            "Model Number: 902 with model RollingRegression in generation 19 of 20\n"
          ],
          "name": "stdout"
        },
        {
          "output_type": "stream",
          "text": [
            "[Parallel(n_jobs=1)]: Using backend SequentialBackend with 1 concurrent workers.\n",
            "[Parallel(n_jobs=1)]: Done 1000 out of 1000 | elapsed:    4.8s finished\n",
            "[Parallel(n_jobs=1)]: Using backend SequentialBackend with 1 concurrent workers.\n",
            "[Parallel(n_jobs=1)]: Done 1000 out of 1000 | elapsed:    0.1s finished\n",
            "[Parallel(n_jobs=1)]: Using backend SequentialBackend with 1 concurrent workers.\n",
            "[Parallel(n_jobs=1)]: Done 1000 out of 1000 | elapsed:    0.1s finished\n",
            "[Parallel(n_jobs=1)]: Using backend SequentialBackend with 1 concurrent workers.\n",
            "[Parallel(n_jobs=1)]: Done 1000 out of 1000 | elapsed:    0.1s finished\n",
            "[Parallel(n_jobs=1)]: Using backend SequentialBackend with 1 concurrent workers.\n",
            "[Parallel(n_jobs=1)]: Done 1000 out of 1000 | elapsed:    0.1s finished\n",
            "[Parallel(n_jobs=1)]: Using backend SequentialBackend with 1 concurrent workers.\n",
            "[Parallel(n_jobs=1)]: Done 1000 out of 1000 | elapsed:    0.1s finished\n",
            "[Parallel(n_jobs=1)]: Using backend SequentialBackend with 1 concurrent workers.\n",
            "[Parallel(n_jobs=1)]: Done 1000 out of 1000 | elapsed:    0.1s finished\n",
            "[Parallel(n_jobs=1)]: Using backend SequentialBackend with 1 concurrent workers.\n",
            "[Parallel(n_jobs=1)]: Done 1000 out of 1000 | elapsed:    0.1s finished\n"
          ],
          "name": "stderr"
        },
        {
          "output_type": "stream",
          "text": [
            "Model Number: 903 with model RollingRegression in generation 19 of 20\n"
          ],
          "name": "stdout"
        },
        {
          "output_type": "stream",
          "text": [
            "[Parallel(n_jobs=1)]: Using backend SequentialBackend with 1 concurrent workers.\n",
            "[Parallel(n_jobs=1)]: Done 1000 out of 1000 | elapsed:    5.2s finished\n",
            "[Parallel(n_jobs=1)]: Using backend SequentialBackend with 1 concurrent workers.\n",
            "[Parallel(n_jobs=1)]: Done 1000 out of 1000 | elapsed:    0.1s finished\n",
            "[Parallel(n_jobs=1)]: Using backend SequentialBackend with 1 concurrent workers.\n",
            "[Parallel(n_jobs=1)]: Done 1000 out of 1000 | elapsed:    0.1s finished\n",
            "[Parallel(n_jobs=1)]: Using backend SequentialBackend with 1 concurrent workers.\n",
            "[Parallel(n_jobs=1)]: Done 1000 out of 1000 | elapsed:    0.1s finished\n",
            "[Parallel(n_jobs=1)]: Using backend SequentialBackend with 1 concurrent workers.\n",
            "[Parallel(n_jobs=1)]: Done 1000 out of 1000 | elapsed:    0.1s finished\n",
            "[Parallel(n_jobs=1)]: Using backend SequentialBackend with 1 concurrent workers.\n",
            "[Parallel(n_jobs=1)]: Done 1000 out of 1000 | elapsed:    0.1s finished\n",
            "[Parallel(n_jobs=1)]: Using backend SequentialBackend with 1 concurrent workers.\n",
            "[Parallel(n_jobs=1)]: Done 1000 out of 1000 | elapsed:    0.1s finished\n",
            "[Parallel(n_jobs=1)]: Using backend SequentialBackend with 1 concurrent workers.\n",
            "[Parallel(n_jobs=1)]: Done 1000 out of 1000 | elapsed:    0.1s finished\n"
          ],
          "name": "stderr"
        },
        {
          "output_type": "stream",
          "text": [
            "Model Number: 904 with model RollingRegression in generation 19 of 20\n"
          ],
          "name": "stdout"
        },
        {
          "output_type": "stream",
          "text": [
            "[Parallel(n_jobs=1)]: Using backend SequentialBackend with 1 concurrent workers.\n",
            "[Parallel(n_jobs=1)]: Done 1000 out of 1000 | elapsed:    5.2s finished\n",
            "[Parallel(n_jobs=1)]: Using backend SequentialBackend with 1 concurrent workers.\n",
            "[Parallel(n_jobs=1)]: Done 1000 out of 1000 | elapsed:    0.1s finished\n",
            "[Parallel(n_jobs=1)]: Using backend SequentialBackend with 1 concurrent workers.\n",
            "[Parallel(n_jobs=1)]: Done 1000 out of 1000 | elapsed:    0.1s finished\n",
            "[Parallel(n_jobs=1)]: Using backend SequentialBackend with 1 concurrent workers.\n",
            "[Parallel(n_jobs=1)]: Done 1000 out of 1000 | elapsed:    0.1s finished\n",
            "[Parallel(n_jobs=1)]: Using backend SequentialBackend with 1 concurrent workers.\n",
            "[Parallel(n_jobs=1)]: Done 1000 out of 1000 | elapsed:    0.1s finished\n",
            "[Parallel(n_jobs=1)]: Using backend SequentialBackend with 1 concurrent workers.\n",
            "[Parallel(n_jobs=1)]: Done 1000 out of 1000 | elapsed:    0.1s finished\n",
            "[Parallel(n_jobs=1)]: Using backend SequentialBackend with 1 concurrent workers.\n",
            "[Parallel(n_jobs=1)]: Done 1000 out of 1000 | elapsed:    0.1s finished\n",
            "[Parallel(n_jobs=1)]: Using backend SequentialBackend with 1 concurrent workers.\n",
            "[Parallel(n_jobs=1)]: Done 1000 out of 1000 | elapsed:    0.1s finished\n"
          ],
          "name": "stderr"
        },
        {
          "output_type": "stream",
          "text": [
            "Model Number: 905 with model RollingRegression in generation 19 of 20\n",
            "Model Number: 906 with model DatepartRegression in generation 19 of 20\n"
          ],
          "name": "stdout"
        },
        {
          "output_type": "stream",
          "text": [
            "[Parallel(n_jobs=1)]: Using backend SequentialBackend with 1 concurrent workers.\n",
            "[Parallel(n_jobs=1)]: Done 1000 out of 1000 | elapsed:    4.7s finished\n",
            "[Parallel(n_jobs=1)]: Using backend SequentialBackend with 1 concurrent workers.\n",
            "[Parallel(n_jobs=1)]: Done 1000 out of 1000 | elapsed:    0.1s finished\n"
          ],
          "name": "stderr"
        },
        {
          "output_type": "stream",
          "text": [
            "Model Number: 907 with model DatepartRegression in generation 19 of 20\n"
          ],
          "name": "stdout"
        },
        {
          "output_type": "stream",
          "text": [
            "[Parallel(n_jobs=1)]: Using backend SequentialBackend with 1 concurrent workers.\n",
            "[Parallel(n_jobs=1)]: Done 1000 out of 1000 | elapsed:    2.3s finished\n",
            "[Parallel(n_jobs=1)]: Using backend SequentialBackend with 1 concurrent workers.\n",
            "[Parallel(n_jobs=1)]: Done 1000 out of 1000 | elapsed:    0.1s finished\n"
          ],
          "name": "stderr"
        },
        {
          "output_type": "stream",
          "text": [
            "Model Number: 908 with model DatepartRegression in generation 19 of 20\n",
            "Model Number: 909 with model ETS in generation 19 of 20\n",
            "Model Number: 910 with model ETS in generation 19 of 20\n",
            "Model Number: 911 with model ETS in generation 19 of 20\n",
            "Model Number: 912 with model ETS in generation 19 of 20\n",
            "Model Number: 913 with model SeasonalNaive in generation 19 of 20\n",
            "Model Number: 914 with model SeasonalNaive in generation 19 of 20\n",
            "Model Number: 915 with model SeasonalNaive in generation 19 of 20\n",
            "Model Number: 916 with model SeasonalNaive in generation 19 of 20\n",
            "Model Number: 917 with model LastValueNaive in generation 19 of 20\n",
            "Model Number: 918 with model LastValueNaive in generation 19 of 20\n",
            "Model Number: 919 with model FBProphet in generation 19 of 20\n"
          ],
          "name": "stdout"
        },
        {
          "output_type": "stream",
          "text": [
            "INFO:fbprophet:Disabling daily seasonality. Run prophet with daily_seasonality=True to override this.\n",
            "INFO:fbprophet:Disabling daily seasonality. Run prophet with daily_seasonality=True to override this.\n"
          ],
          "name": "stderr"
        },
        {
          "output_type": "stream",
          "text": [
            "Model Number: 920 with model FBProphet in generation 19 of 20\n"
          ],
          "name": "stdout"
        },
        {
          "output_type": "stream",
          "text": [
            "INFO:fbprophet:Disabling daily seasonality. Run prophet with daily_seasonality=True to override this.\n"
          ],
          "name": "stderr"
        },
        {
          "output_type": "stream",
          "text": [
            "Model Number: 921 with model FBProphet in generation 19 of 20\n"
          ],
          "name": "stdout"
        },
        {
          "output_type": "stream",
          "text": [
            "INFO:fbprophet:Disabling daily seasonality. Run prophet with daily_seasonality=True to override this.\n"
          ],
          "name": "stderr"
        },
        {
          "output_type": "stream",
          "text": [
            "Model Number: 922 with model FBProphet in generation 19 of 20\n",
            "Model Number: 923 with model UnobservedComponents in generation 19 of 20\n",
            "Model Number: 924 with model UnobservedComponents in generation 19 of 20\n",
            "Model Number: 925 with model UnobservedComponents in generation 19 of 20\n",
            "New Generation: 20 of 20\n",
            "Model Number: 926 with model WindowRegression in generation 20 of 20\n",
            "Model Number: 927 with model WindowRegression in generation 20 of 20\n",
            "Template Eval Error: ValueError(\"Input contains NaN, infinity or a value too large for dtype('float64').\") in model 927: WindowRegression\n",
            "Model Number: 928 with model WindowRegression in generation 20 of 20\n",
            "Epoch 1/100\n",
            "20/20 [==============================] - 5s 6ms/step - loss: 0.6093\n",
            "Epoch 2/100\n",
            "20/20 [==============================] - 0s 6ms/step - loss: 0.5907\n",
            "Epoch 3/100\n",
            "20/20 [==============================] - 0s 6ms/step - loss: 0.5686\n",
            "Epoch 4/100\n",
            "20/20 [==============================] - 0s 6ms/step - loss: 0.5532\n",
            "Epoch 5/100\n",
            "20/20 [==============================] - 0s 7ms/step - loss: 0.5411\n",
            "Epoch 6/100\n",
            "20/20 [==============================] - 0s 6ms/step - loss: 0.5290\n",
            "Epoch 7/100\n",
            "20/20 [==============================] - 0s 6ms/step - loss: 0.5167\n",
            "Epoch 8/100\n",
            "20/20 [==============================] - 0s 7ms/step - loss: 0.5072\n",
            "Epoch 9/100\n",
            "20/20 [==============================] - 0s 6ms/step - loss: 0.4898\n",
            "Epoch 10/100\n",
            "20/20 [==============================] - 0s 6ms/step - loss: 0.4798\n",
            "Epoch 11/100\n",
            "20/20 [==============================] - 0s 6ms/step - loss: 0.4643\n",
            "Epoch 12/100\n",
            "20/20 [==============================] - 0s 7ms/step - loss: 0.4488\n",
            "Epoch 13/100\n",
            "20/20 [==============================] - 0s 7ms/step - loss: 0.4317\n",
            "Epoch 14/100\n",
            "20/20 [==============================] - 0s 6ms/step - loss: 0.4188\n",
            "Epoch 15/100\n",
            "20/20 [==============================] - 0s 7ms/step - loss: 0.4067\n",
            "Epoch 16/100\n",
            "20/20 [==============================] - 0s 7ms/step - loss: 0.3956\n",
            "Epoch 17/100\n",
            "20/20 [==============================] - 0s 6ms/step - loss: 0.3849\n",
            "Epoch 18/100\n",
            "20/20 [==============================] - 0s 7ms/step - loss: 0.3748\n",
            "Epoch 19/100\n",
            "20/20 [==============================] - 0s 7ms/step - loss: 0.3615\n",
            "Epoch 20/100\n",
            "20/20 [==============================] - 0s 7ms/step - loss: 0.3514\n",
            "Epoch 21/100\n",
            "20/20 [==============================] - 0s 7ms/step - loss: 0.3399\n",
            "Epoch 22/100\n",
            "20/20 [==============================] - 0s 8ms/step - loss: 0.3308\n",
            "Epoch 23/100\n",
            "20/20 [==============================] - 0s 8ms/step - loss: 0.3148\n",
            "Epoch 24/100\n",
            "20/20 [==============================] - 0s 7ms/step - loss: 0.3059\n",
            "Epoch 25/100\n",
            "20/20 [==============================] - 0s 7ms/step - loss: 0.2938\n",
            "Epoch 26/100\n",
            "20/20 [==============================] - 0s 7ms/step - loss: 0.2833\n",
            "Epoch 27/100\n",
            "20/20 [==============================] - 0s 7ms/step - loss: 0.2762\n",
            "Epoch 28/100\n",
            "20/20 [==============================] - 0s 7ms/step - loss: 0.2671\n",
            "Epoch 29/100\n",
            "20/20 [==============================] - 0s 7ms/step - loss: 0.2520\n",
            "Epoch 30/100\n",
            "20/20 [==============================] - 0s 7ms/step - loss: 0.2487\n",
            "Epoch 31/100\n",
            "20/20 [==============================] - 0s 7ms/step - loss: 0.2391\n",
            "Epoch 32/100\n",
            "20/20 [==============================] - 0s 6ms/step - loss: 0.2318\n",
            "Epoch 33/100\n",
            "20/20 [==============================] - 0s 7ms/step - loss: 0.2280\n",
            "Epoch 34/100\n",
            "20/20 [==============================] - 0s 7ms/step - loss: 0.2189\n",
            "Epoch 35/100\n",
            "20/20 [==============================] - 0s 7ms/step - loss: 0.2192\n",
            "Epoch 36/100\n",
            "20/20 [==============================] - 0s 7ms/step - loss: 0.2180\n",
            "Epoch 37/100\n",
            "20/20 [==============================] - 0s 7ms/step - loss: 0.2109\n",
            "Epoch 38/100\n",
            "20/20 [==============================] - 0s 7ms/step - loss: 0.2043\n",
            "Epoch 39/100\n",
            "20/20 [==============================] - 0s 7ms/step - loss: 0.2005\n",
            "Epoch 40/100\n",
            "20/20 [==============================] - 0s 8ms/step - loss: 0.2018\n",
            "Epoch 41/100\n",
            "20/20 [==============================] - 0s 7ms/step - loss: 0.1926\n",
            "Epoch 42/100\n",
            "20/20 [==============================] - 0s 6ms/step - loss: 0.1922\n",
            "Epoch 43/100\n",
            "20/20 [==============================] - 0s 7ms/step - loss: 0.1885\n",
            "Epoch 44/100\n",
            "20/20 [==============================] - 0s 7ms/step - loss: 0.1861\n",
            "Epoch 45/100\n",
            "20/20 [==============================] - 0s 7ms/step - loss: 0.1858\n",
            "Epoch 46/100\n",
            "20/20 [==============================] - 0s 7ms/step - loss: 0.1840\n",
            "Epoch 47/100\n",
            "20/20 [==============================] - 0s 7ms/step - loss: 0.1780\n",
            "Epoch 48/100\n",
            "20/20 [==============================] - 0s 6ms/step - loss: 0.1735\n",
            "Epoch 49/100\n",
            "20/20 [==============================] - 0s 7ms/step - loss: 0.1732\n",
            "Epoch 50/100\n",
            "20/20 [==============================] - 0s 8ms/step - loss: 0.1711\n",
            "Epoch 51/100\n",
            "20/20 [==============================] - 0s 8ms/step - loss: 0.1695\n",
            "Epoch 52/100\n",
            "20/20 [==============================] - 0s 6ms/step - loss: 0.1691\n",
            "Epoch 53/100\n",
            "20/20 [==============================] - 0s 7ms/step - loss: 0.1645\n",
            "Epoch 54/100\n",
            "20/20 [==============================] - 0s 7ms/step - loss: 0.1682\n",
            "Epoch 55/100\n",
            "20/20 [==============================] - 0s 6ms/step - loss: 0.1627\n",
            "Epoch 56/100\n",
            "20/20 [==============================] - 0s 7ms/step - loss: 0.1529\n",
            "Epoch 57/100\n",
            "20/20 [==============================] - 0s 7ms/step - loss: 0.1645\n",
            "Epoch 58/100\n",
            "20/20 [==============================] - 0s 7ms/step - loss: 0.1540\n",
            "Epoch 59/100\n",
            "20/20 [==============================] - 0s 7ms/step - loss: 0.1490\n",
            "Epoch 60/100\n",
            "20/20 [==============================] - 0s 7ms/step - loss: 0.1495\n",
            "Epoch 61/100\n",
            "20/20 [==============================] - 0s 7ms/step - loss: 0.1565\n",
            "Epoch 62/100\n",
            "20/20 [==============================] - 0s 7ms/step - loss: 0.1478\n",
            "Epoch 63/100\n",
            "20/20 [==============================] - 0s 7ms/step - loss: 0.1515\n",
            "Epoch 64/100\n",
            "20/20 [==============================] - 0s 7ms/step - loss: 0.1469\n",
            "Epoch 65/100\n",
            "20/20 [==============================] - 0s 7ms/step - loss: 0.1504\n",
            "Epoch 66/100\n",
            "20/20 [==============================] - 0s 7ms/step - loss: 0.1433\n",
            "Epoch 67/100\n",
            "20/20 [==============================] - 0s 7ms/step - loss: 0.1418\n",
            "Epoch 68/100\n",
            "20/20 [==============================] - 0s 7ms/step - loss: 0.1407\n",
            "Epoch 69/100\n",
            "20/20 [==============================] - 0s 7ms/step - loss: 0.1475\n",
            "Epoch 70/100\n",
            "20/20 [==============================] - 0s 8ms/step - loss: 0.1376\n",
            "Epoch 71/100\n",
            "20/20 [==============================] - 0s 7ms/step - loss: 0.1381\n",
            "Epoch 72/100\n",
            "20/20 [==============================] - 0s 7ms/step - loss: 0.1384\n",
            "Epoch 73/100\n",
            "20/20 [==============================] - 0s 6ms/step - loss: 0.1310\n",
            "Epoch 74/100\n",
            "20/20 [==============================] - 0s 7ms/step - loss: 0.1325\n",
            "Epoch 75/100\n",
            "20/20 [==============================] - 0s 7ms/step - loss: 0.1335\n",
            "Epoch 76/100\n",
            "20/20 [==============================] - 0s 7ms/step - loss: 0.1294\n",
            "Epoch 77/100\n",
            "20/20 [==============================] - 0s 7ms/step - loss: 0.1284\n",
            "Epoch 78/100\n",
            "20/20 [==============================] - 0s 7ms/step - loss: 0.1250\n",
            "Epoch 79/100\n",
            "20/20 [==============================] - 0s 7ms/step - loss: 0.1327\n",
            "Epoch 80/100\n",
            "20/20 [==============================] - 0s 7ms/step - loss: 0.1282\n",
            "Epoch 81/100\n",
            "20/20 [==============================] - 0s 7ms/step - loss: 0.1253\n",
            "Epoch 82/100\n",
            "20/20 [==============================] - 0s 6ms/step - loss: 0.1278\n",
            "Epoch 83/100\n",
            "20/20 [==============================] - 0s 7ms/step - loss: 0.1271\n",
            "Epoch 84/100\n",
            "20/20 [==============================] - 0s 7ms/step - loss: 0.1284\n",
            "Epoch 85/100\n",
            "20/20 [==============================] - 0s 7ms/step - loss: 0.1218\n",
            "Epoch 86/100\n",
            "20/20 [==============================] - 0s 7ms/step - loss: 0.1268\n",
            "Epoch 87/100\n",
            "20/20 [==============================] - 0s 7ms/step - loss: 0.1221\n",
            "Epoch 88/100\n",
            "20/20 [==============================] - 0s 7ms/step - loss: 0.1228\n",
            "Epoch 89/100\n",
            "20/20 [==============================] - 0s 7ms/step - loss: 0.1202\n",
            "Epoch 90/100\n",
            "20/20 [==============================] - 0s 7ms/step - loss: 0.1141\n",
            "Epoch 91/100\n",
            "20/20 [==============================] - 0s 7ms/step - loss: 0.1168\n",
            "Epoch 92/100\n",
            "20/20 [==============================] - 0s 7ms/step - loss: 0.1181\n",
            "Epoch 93/100\n",
            "20/20 [==============================] - 0s 7ms/step - loss: 0.1184\n",
            "Epoch 94/100\n",
            "20/20 [==============================] - 0s 6ms/step - loss: 0.1110\n",
            "Epoch 95/100\n",
            "20/20 [==============================] - 0s 7ms/step - loss: 0.1165\n",
            "Epoch 96/100\n",
            "20/20 [==============================] - 0s 7ms/step - loss: 0.1156\n",
            "Epoch 97/100\n",
            "20/20 [==============================] - 0s 7ms/step - loss: 0.1079\n",
            "Epoch 98/100\n",
            "20/20 [==============================] - 0s 8ms/step - loss: 0.1148\n",
            "Epoch 99/100\n",
            "20/20 [==============================] - 0s 7ms/step - loss: 0.1153\n",
            "Epoch 100/100\n",
            "20/20 [==============================] - 0s 7ms/step - loss: 0.1095\n",
            "Model Number: 929 with model GLS in generation 20 of 20\n",
            "Model Number: 930 with model GLS in generation 20 of 20\n",
            "Model Number: 931 with model AverageValueNaive in generation 20 of 20\n",
            "Model Number: 932 with model AverageValueNaive in generation 20 of 20\n",
            "Model Number: 933 with model RollingRegression in generation 20 of 20\n",
            "Model Number: 934 with model RollingRegression in generation 20 of 20\n",
            "Model Number: 935 with model RollingRegression in generation 20 of 20\n",
            "Model Number: 936 with model RollingRegression in generation 20 of 20\n",
            "Model Number: 937 with model DatepartRegression in generation 20 of 20\n",
            "Model Number: 938 with model DatepartRegression in generation 20 of 20\n"
          ],
          "name": "stdout"
        },
        {
          "output_type": "stream",
          "text": [
            "[Parallel(n_jobs=1)]: Using backend SequentialBackend with 1 concurrent workers.\n",
            "[Parallel(n_jobs=1)]: Done 1000 out of 1000 | elapsed:    2.1s finished\n",
            "[Parallel(n_jobs=1)]: Using backend SequentialBackend with 1 concurrent workers.\n",
            "[Parallel(n_jobs=1)]: Done 1000 out of 1000 | elapsed:    0.1s finished\n"
          ],
          "name": "stderr"
        },
        {
          "output_type": "stream",
          "text": [
            "Model Number: 939 with model DatepartRegression in generation 20 of 20\n"
          ],
          "name": "stdout"
        },
        {
          "output_type": "stream",
          "text": [
            "[Parallel(n_jobs=1)]: Using backend SequentialBackend with 1 concurrent workers.\n",
            "[Parallel(n_jobs=1)]: Done 1000 out of 1000 | elapsed:    4.1s finished\n",
            "[Parallel(n_jobs=1)]: Using backend SequentialBackend with 1 concurrent workers.\n",
            "[Parallel(n_jobs=1)]: Done 1000 out of 1000 | elapsed:    0.1s finished\n"
          ],
          "name": "stderr"
        },
        {
          "output_type": "stream",
          "text": [
            "Model Number: 940 with model ETS in generation 20 of 20\n",
            "Model Number: 941 with model ETS in generation 20 of 20\n",
            "Model Number: 942 with model ETS in generation 20 of 20\n",
            "Model Number: 943 with model ETS in generation 20 of 20\n",
            "Model Number: 944 with model SeasonalNaive in generation 20 of 20\n",
            "Model Number: 945 with model SeasonalNaive in generation 20 of 20\n",
            "Model Number: 946 with model SeasonalNaive in generation 20 of 20\n",
            "Model Number: 947 with model SeasonalNaive in generation 20 of 20\n",
            "Model Number: 948 with model LastValueNaive in generation 20 of 20\n",
            "Model Number: 949 with model LastValueNaive in generation 20 of 20\n",
            "Model Number: 950 with model FBProphet in generation 20 of 20\n"
          ],
          "name": "stdout"
        },
        {
          "output_type": "stream",
          "text": [
            "INFO:fbprophet:Disabling daily seasonality. Run prophet with daily_seasonality=True to override this.\n",
            "INFO:fbprophet:Disabling daily seasonality. Run prophet with daily_seasonality=True to override this.\n"
          ],
          "name": "stderr"
        },
        {
          "output_type": "stream",
          "text": [
            "Model Number: 951 with model FBProphet in generation 20 of 20\n",
            "Model Number: 952 with model UnobservedComponents in generation 20 of 20\n",
            "Model Number: 953 with model UnobservedComponents in generation 20 of 20\n",
            "Model Number: 954 with model UnobservedComponents in generation 20 of 20\n",
            "Model Number: 955 with model Ensemble in generation 0 of 0\n",
            "Model Number: 956 with model Ensemble in generation 0 of 0\n",
            "Model Number: 957 with model Ensemble in generation 0 of 0\n",
            "Validation Round: 1\n",
            "Model Number: 1 of 123 with model WindowRegression for Validation 1\n",
            "Model 1 of model WindowRegression with avg smape 90.01: \n",
            "Model Number: 2 of 123 with model Ensemble for Validation 1\n",
            "Model 2 of model Ensemble with avg smape 92.36: \n",
            "Model Number: 3 of 123 with model Ensemble for Validation 1\n",
            "Model 3 of model Ensemble with avg smape 92.36: \n",
            "Model Number: 4 of 123 with model GLS for Validation 1\n",
            "Model 4 of model GLS with avg smape 93.39: \n",
            "Model Number: 5 of 123 with model AverageValueNaive for Validation 1\n",
            "Model 5 of model AverageValueNaive with avg smape 93.35: \n",
            "Model Number: 6 of 123 with model RollingRegression for Validation 1\n",
            "Model 6 of model RollingRegression with avg smape 93.34: \n",
            "Model Number: 7 of 123 with model RollingRegression for Validation 1\n",
            "Model 7 of model RollingRegression with avg smape 93.34: \n",
            "Model Number: 8 of 123 with model RollingRegression for Validation 1\n",
            "Model 8 of model RollingRegression with avg smape 93.34: \n",
            "Model Number: 9 of 123 with model RollingRegression for Validation 1\n",
            "Model 9 of model RollingRegression with avg smape 93.34: \n",
            "Model Number: 10 of 123 with model RollingRegression for Validation 1\n",
            "Model 10 of model RollingRegression with avg smape 93.34: \n",
            "Model Number: 11 of 123 with model GLS for Validation 1\n",
            "Model 11 of model GLS with avg smape 93.2: \n",
            "Model Number: 12 of 123 with model WindowRegression for Validation 1\n",
            "Model 12 of model WindowRegression with avg smape 91.78: \n",
            "Model Number: 13 of 123 with model AverageValueNaive for Validation 1\n",
            "Model 13 of model AverageValueNaive with avg smape 89.75: \n",
            "Model Number: 14 of 123 with model RollingRegression for Validation 1\n",
            "Model 14 of model RollingRegression with avg smape 87.84: \n",
            "Model Number: 15 of 123 with model DatepartRegression for Validation 1\n",
            "Model 15 of model DatepartRegression with avg smape 89.75: \n",
            "Model Number: 16 of 123 with model AverageValueNaive for Validation 1\n",
            "Model 16 of model AverageValueNaive with avg smape 93.15: \n",
            "Model Number: 17 of 123 with model AverageValueNaive for Validation 1\n",
            "Model 17 of model AverageValueNaive with avg smape 93.15: \n",
            "Model Number: 18 of 123 with model AverageValueNaive for Validation 1\n",
            "Model 18 of model AverageValueNaive with avg smape 91.04: \n",
            "Model Number: 19 of 123 with model DatepartRegression for Validation 1\n",
            "Epoch 1/50\n",
            "124/124 [==============================] - 6s 5ms/step - loss: 0.0704\n",
            "Epoch 2/50\n",
            "124/124 [==============================] - 1s 5ms/step - loss: 0.0694\n",
            "Epoch 3/50\n",
            "124/124 [==============================] - 1s 5ms/step - loss: 0.0701\n",
            "Epoch 4/50\n",
            "124/124 [==============================] - 1s 5ms/step - loss: 0.0692\n",
            "Epoch 5/50\n",
            "124/124 [==============================] - 1s 6ms/step - loss: 0.0689\n",
            "Epoch 6/50\n",
            "124/124 [==============================] - 1s 6ms/step - loss: 0.0695\n",
            "Epoch 7/50\n",
            "124/124 [==============================] - 1s 6ms/step - loss: 0.0697\n",
            "Epoch 8/50\n",
            "124/124 [==============================] - 1s 6ms/step - loss: 0.0691\n",
            "Epoch 9/50\n",
            "124/124 [==============================] - 1s 6ms/step - loss: 0.0694\n",
            "Epoch 10/50\n",
            "124/124 [==============================] - 1s 6ms/step - loss: 0.0693\n",
            "Epoch 11/50\n",
            "124/124 [==============================] - 1s 5ms/step - loss: 0.0690\n",
            "Epoch 12/50\n",
            "124/124 [==============================] - 1s 5ms/step - loss: 0.0693\n",
            "Epoch 13/50\n",
            "124/124 [==============================] - 1s 5ms/step - loss: 0.0688\n",
            "Epoch 14/50\n",
            "124/124 [==============================] - 1s 5ms/step - loss: 0.0690\n",
            "Epoch 15/50\n",
            "124/124 [==============================] - 1s 5ms/step - loss: 0.0692\n",
            "Epoch 16/50\n",
            "124/124 [==============================] - 1s 5ms/step - loss: 0.0690\n",
            "Epoch 17/50\n",
            "124/124 [==============================] - 1s 5ms/step - loss: 0.0691\n",
            "Epoch 18/50\n",
            "124/124 [==============================] - 1s 5ms/step - loss: 0.0692\n",
            "Epoch 19/50\n",
            "124/124 [==============================] - 1s 5ms/step - loss: 0.0687\n",
            "Epoch 20/50\n",
            "124/124 [==============================] - 1s 5ms/step - loss: 0.0691\n",
            "Epoch 21/50\n",
            "124/124 [==============================] - 1s 6ms/step - loss: 0.0691\n",
            "Epoch 22/50\n",
            "124/124 [==============================] - 1s 6ms/step - loss: 0.0688\n",
            "Epoch 23/50\n",
            "124/124 [==============================] - 1s 6ms/step - loss: 0.0692\n",
            "Epoch 24/50\n",
            "124/124 [==============================] - 1s 5ms/step - loss: 0.0688\n",
            "Epoch 25/50\n",
            "124/124 [==============================] - 1s 5ms/step - loss: 0.0690\n",
            "Epoch 26/50\n",
            "124/124 [==============================] - 1s 6ms/step - loss: 0.0689\n",
            "Epoch 27/50\n",
            "124/124 [==============================] - 1s 5ms/step - loss: 0.0691\n",
            "Epoch 28/50\n",
            "124/124 [==============================] - 1s 6ms/step - loss: 0.0688\n",
            "Epoch 29/50\n",
            "124/124 [==============================] - 1s 6ms/step - loss: 0.0689\n",
            "Epoch 30/50\n",
            "124/124 [==============================] - 1s 5ms/step - loss: 0.0689\n",
            "Epoch 31/50\n",
            "124/124 [==============================] - 1s 5ms/step - loss: 0.0688\n",
            "Epoch 32/50\n",
            "124/124 [==============================] - 1s 6ms/step - loss: 0.0687\n",
            "Epoch 33/50\n",
            "124/124 [==============================] - 1s 6ms/step - loss: 0.0684\n",
            "Epoch 34/50\n",
            "124/124 [==============================] - 1s 5ms/step - loss: 0.0690\n",
            "Epoch 35/50\n",
            "124/124 [==============================] - 1s 5ms/step - loss: 0.0690\n",
            "Epoch 36/50\n",
            "124/124 [==============================] - 1s 6ms/step - loss: 0.0690\n",
            "Epoch 37/50\n",
            "124/124 [==============================] - 1s 5ms/step - loss: 0.0691\n",
            "Epoch 38/50\n",
            "124/124 [==============================] - 1s 5ms/step - loss: 0.0688\n",
            "Epoch 39/50\n",
            "124/124 [==============================] - 1s 6ms/step - loss: 0.0689\n",
            "Epoch 40/50\n",
            "124/124 [==============================] - 1s 5ms/step - loss: 0.0690\n",
            "Epoch 41/50\n",
            "124/124 [==============================] - 1s 6ms/step - loss: 0.0690\n",
            "Epoch 42/50\n",
            "124/124 [==============================] - 1s 5ms/step - loss: 0.0688\n",
            "Epoch 43/50\n",
            "124/124 [==============================] - 1s 5ms/step - loss: 0.0688\n",
            "Epoch 44/50\n",
            "124/124 [==============================] - 1s 5ms/step - loss: 0.0691\n",
            "Epoch 45/50\n",
            "124/124 [==============================] - 1s 5ms/step - loss: 0.0688\n",
            "Epoch 46/50\n",
            "124/124 [==============================] - 1s 6ms/step - loss: 0.0687\n",
            "Epoch 47/50\n",
            "124/124 [==============================] - 1s 6ms/step - loss: 0.0690\n",
            "Epoch 48/50\n",
            "124/124 [==============================] - 1s 6ms/step - loss: 0.0689\n",
            "Epoch 49/50\n",
            "124/124 [==============================] - 1s 5ms/step - loss: 0.0687\n",
            "Epoch 50/50\n",
            "124/124 [==============================] - 1s 5ms/step - loss: 0.0689\n",
            "WARNING:tensorflow:5 out of the last 17 calls to <function Model.make_predict_function.<locals>.predict_function at 0x7f4653902440> triggered tf.function retracing. Tracing is expensive and the excessive number of tracings could be due to (1) creating @tf.function repeatedly in a loop, (2) passing tensors with different shapes, (3) passing Python objects instead of tensors. For (1), please define your @tf.function outside of the loop. For (2), @tf.function has experimental_relax_shapes=True option that relaxes argument shapes that can avoid unnecessary retracing. For (3), please refer to https://www.tensorflow.org/guide/function#controlling_retracing and https://www.tensorflow.org/api_docs/python/tf/function for  more details.\n"
          ],
          "name": "stdout"
        },
        {
          "output_type": "stream",
          "text": [
            "WARNING:tensorflow:5 out of the last 17 calls to <function Model.make_predict_function.<locals>.predict_function at 0x7f4653902440> triggered tf.function retracing. Tracing is expensive and the excessive number of tracings could be due to (1) creating @tf.function repeatedly in a loop, (2) passing tensors with different shapes, (3) passing Python objects instead of tensors. For (1), please define your @tf.function outside of the loop. For (2), @tf.function has experimental_relax_shapes=True option that relaxes argument shapes that can avoid unnecessary retracing. For (3), please refer to https://www.tensorflow.org/guide/function#controlling_retracing and https://www.tensorflow.org/api_docs/python/tf/function for  more details.\n"
          ],
          "name": "stderr"
        },
        {
          "output_type": "stream",
          "text": [
            "Model 19 of model DatepartRegression with avg smape 91.63: \n",
            "Model Number: 20 of 123 with model AverageValueNaive for Validation 1\n",
            "Model 20 of model AverageValueNaive with avg smape 103.1: \n",
            "Model Number: 21 of 123 with model ETS for Validation 1\n",
            "Model 21 of model ETS with avg smape 74.14: \n",
            "Model Number: 22 of 123 with model ETS for Validation 1\n",
            "Model 22 of model ETS with avg smape 74.62: \n",
            "Model Number: 23 of 123 with model ETS for Validation 1\n",
            "Model 23 of model ETS with avg smape 74.62: \n",
            "Model Number: 24 of 123 with model ETS for Validation 1\n",
            "Model 24 of model ETS with avg smape 74.01: \n",
            "Model Number: 25 of 123 with model ETS for Validation 1\n",
            "Model 25 of model ETS with avg smape 74.34: \n",
            "Model Number: 26 of 123 with model ETS for Validation 1\n",
            "Model 26 of model ETS with avg smape 74.34: \n",
            "Model Number: 27 of 123 with model ETS for Validation 1\n",
            "Model 27 of model ETS with avg smape 68.8: \n",
            "Model Number: 28 of 123 with model AverageValueNaive for Validation 1\n",
            "Model 28 of model AverageValueNaive with avg smape 97.11: \n",
            "Model Number: 29 of 123 with model Ensemble for Validation 1\n",
            "Model 29 of model Ensemble with avg smape 73.95: \n",
            "Model Number: 30 of 123 with model AverageValueNaive for Validation 1\n",
            "Model 30 of model AverageValueNaive with avg smape 104.22: \n",
            "Model Number: 31 of 123 with model AverageValueNaive for Validation 1\n",
            "Model 31 of model AverageValueNaive with avg smape 100.06: \n",
            "Model Number: 32 of 123 with model AverageValueNaive for Validation 1\n",
            "Model 32 of model AverageValueNaive with avg smape 105.19: \n",
            "Model Number: 33 of 123 with model ETS for Validation 1\n",
            "Model 33 of model ETS with avg smape 67.27: \n",
            "Model Number: 34 of 123 with model RollingRegression for Validation 1\n",
            "Model 34 of model RollingRegression with avg smape 96.76: \n",
            "Model Number: 35 of 123 with model ETS for Validation 1\n",
            "Model 35 of model ETS with avg smape 63.18: \n",
            "Model Number: 36 of 123 with model WindowRegression for Validation 1\n",
            "Model 36 of model WindowRegression with avg smape 95.97: \n",
            "Model Number: 37 of 123 with model SeasonalNaive for Validation 1\n",
            "Model 37 of model SeasonalNaive with avg smape 75.6: \n",
            "Model Number: 38 of 123 with model SeasonalNaive for Validation 1\n",
            "Model 38 of model SeasonalNaive with avg smape 81.26: \n",
            "Model Number: 39 of 123 with model SeasonalNaive for Validation 1\n",
            "Model 39 of model SeasonalNaive with avg smape 80.71: \n",
            "Model Number: 40 of 123 with model SeasonalNaive for Validation 1\n",
            "Model 40 of model SeasonalNaive with avg smape 80.71: \n",
            "Model Number: 41 of 123 with model SeasonalNaive for Validation 1\n",
            "Model 41 of model SeasonalNaive with avg smape 82.86: \n",
            "Model Number: 42 of 123 with model SeasonalNaive for Validation 1\n",
            "Model 42 of model SeasonalNaive with avg smape 75.72: \n",
            "Model Number: 43 of 123 with model LastValueNaive for Validation 1\n",
            "Model 43 of model LastValueNaive with avg smape 77.33: \n",
            "Model Number: 44 of 123 with model SeasonalNaive for Validation 1\n",
            "Model 44 of model SeasonalNaive with avg smape 83.45: \n",
            "Model Number: 45 of 123 with model DatepartRegression for Validation 1\n",
            "Model 45 of model DatepartRegression with avg smape 66.38: \n",
            "Model Number: 46 of 123 with model RollingRegression for Validation 1\n",
            "Model 46 of model RollingRegression with avg smape 92.7: \n",
            "Model Number: 47 of 123 with model DatepartRegression for Validation 1\n"
          ],
          "name": "stdout"
        },
        {
          "output_type": "stream",
          "text": [
            "[Parallel(n_jobs=1)]: Using backend SequentialBackend with 1 concurrent workers.\n",
            "[Parallel(n_jobs=1)]: Done 1000 out of 1000 | elapsed:    2.2s finished\n",
            "[Parallel(n_jobs=1)]: Using backend SequentialBackend with 1 concurrent workers.\n",
            "[Parallel(n_jobs=1)]: Done 1000 out of 1000 | elapsed:    0.1s finished\n"
          ],
          "name": "stderr"
        },
        {
          "output_type": "stream",
          "text": [
            "Model 47 of model DatepartRegression with avg smape 66.29: \n",
            "Model Number: 48 of 123 with model SeasonalNaive for Validation 1\n"
          ],
          "name": "stdout"
        },
        {
          "output_type": "stream",
          "text": [
            "INFO:fbprophet:Disabling daily seasonality. Run prophet with daily_seasonality=True to override this.\n"
          ],
          "name": "stderr"
        },
        {
          "output_type": "stream",
          "text": [
            "Model 48 of model SeasonalNaive with avg smape 71.38: \n",
            "Model Number: 49 of 123 with model FBProphet for Validation 1\n",
            "Model 49 of model FBProphet with avg smape 74.47: \n",
            "Model Number: 50 of 123 with model WindowRegression for Validation 1\n",
            "Epoch 1/100\n",
            "20/20 [==============================] - 5s 6ms/step - loss: 0.6108\n",
            "Epoch 2/100\n",
            "20/20 [==============================] - 0s 6ms/step - loss: 0.5926\n",
            "Epoch 3/100\n",
            "20/20 [==============================] - 0s 7ms/step - loss: 0.5717\n",
            "Epoch 4/100\n",
            "20/20 [==============================] - 0s 6ms/step - loss: 0.5564\n",
            "Epoch 5/100\n",
            "20/20 [==============================] - 0s 6ms/step - loss: 0.5438\n",
            "Epoch 6/100\n",
            "20/20 [==============================] - 0s 7ms/step - loss: 0.5332\n",
            "Epoch 7/100\n",
            "20/20 [==============================] - 0s 7ms/step - loss: 0.5212\n",
            "Epoch 8/100\n",
            "20/20 [==============================] - 0s 7ms/step - loss: 0.5094\n",
            "Epoch 9/100\n",
            "20/20 [==============================] - 0s 7ms/step - loss: 0.4980\n",
            "Epoch 10/100\n",
            "20/20 [==============================] - 0s 7ms/step - loss: 0.4846\n",
            "Epoch 11/100\n",
            "20/20 [==============================] - 0s 7ms/step - loss: 0.4736\n",
            "Epoch 12/100\n",
            "20/20 [==============================] - 0s 7ms/step - loss: 0.4571\n",
            "Epoch 13/100\n",
            "20/20 [==============================] - 0s 7ms/step - loss: 0.4430\n",
            "Epoch 14/100\n",
            "20/20 [==============================] - 0s 7ms/step - loss: 0.4248\n",
            "Epoch 15/100\n",
            "20/20 [==============================] - 0s 7ms/step - loss: 0.4133\n",
            "Epoch 16/100\n",
            "20/20 [==============================] - 0s 8ms/step - loss: 0.3995\n",
            "Epoch 17/100\n",
            "20/20 [==============================] - 0s 7ms/step - loss: 0.3885\n",
            "Epoch 18/100\n",
            "20/20 [==============================] - 0s 8ms/step - loss: 0.3737\n",
            "Epoch 19/100\n",
            "20/20 [==============================] - 0s 7ms/step - loss: 0.3661\n",
            "Epoch 20/100\n",
            "20/20 [==============================] - 0s 7ms/step - loss: 0.3501\n",
            "Epoch 21/100\n",
            "20/20 [==============================] - 0s 7ms/step - loss: 0.3362\n",
            "Epoch 22/100\n",
            "20/20 [==============================] - 0s 6ms/step - loss: 0.3252\n",
            "Epoch 23/100\n",
            "20/20 [==============================] - 0s 7ms/step - loss: 0.3122\n",
            "Epoch 24/100\n",
            "20/20 [==============================] - 0s 7ms/step - loss: 0.3013\n",
            "Epoch 25/100\n",
            "20/20 [==============================] - 0s 7ms/step - loss: 0.2917\n",
            "Epoch 26/100\n",
            "20/20 [==============================] - 0s 7ms/step - loss: 0.2785\n",
            "Epoch 27/100\n",
            "20/20 [==============================] - 0s 7ms/step - loss: 0.2703\n",
            "Epoch 28/100\n",
            "20/20 [==============================] - 0s 8ms/step - loss: 0.2639\n",
            "Epoch 29/100\n",
            "20/20 [==============================] - 0s 7ms/step - loss: 0.2572\n",
            "Epoch 30/100\n",
            "20/20 [==============================] - 0s 7ms/step - loss: 0.2435\n",
            "Epoch 31/100\n",
            "20/20 [==============================] - 0s 7ms/step - loss: 0.2421\n",
            "Epoch 32/100\n",
            "20/20 [==============================] - 0s 7ms/step - loss: 0.2371\n",
            "Epoch 33/100\n",
            "20/20 [==============================] - 0s 8ms/step - loss: 0.2320\n",
            "Epoch 34/100\n",
            "20/20 [==============================] - 0s 7ms/step - loss: 0.2265\n",
            "Epoch 35/100\n",
            "20/20 [==============================] - 0s 8ms/step - loss: 0.2233\n",
            "Epoch 36/100\n",
            "20/20 [==============================] - 0s 7ms/step - loss: 0.2179\n",
            "Epoch 37/100\n",
            "20/20 [==============================] - 0s 7ms/step - loss: 0.2121\n",
            "Epoch 38/100\n",
            "20/20 [==============================] - 0s 7ms/step - loss: 0.2066\n",
            "Epoch 39/100\n",
            "20/20 [==============================] - 0s 7ms/step - loss: 0.2061\n",
            "Epoch 40/100\n",
            "20/20 [==============================] - 0s 7ms/step - loss: 0.2024\n",
            "Epoch 41/100\n",
            "20/20 [==============================] - 0s 7ms/step - loss: 0.1978\n",
            "Epoch 42/100\n",
            "20/20 [==============================] - 0s 7ms/step - loss: 0.1978\n",
            "Epoch 43/100\n",
            "20/20 [==============================] - 0s 7ms/step - loss: 0.1978\n",
            "Epoch 44/100\n",
            "20/20 [==============================] - 0s 7ms/step - loss: 0.1926\n",
            "Epoch 45/100\n",
            "20/20 [==============================] - 0s 7ms/step - loss: 0.1895\n",
            "Epoch 46/100\n",
            "20/20 [==============================] - 0s 7ms/step - loss: 0.1874\n",
            "Epoch 47/100\n",
            "20/20 [==============================] - 0s 7ms/step - loss: 0.1834\n",
            "Epoch 48/100\n",
            "20/20 [==============================] - 0s 7ms/step - loss: 0.1778\n",
            "Epoch 49/100\n",
            "20/20 [==============================] - 0s 7ms/step - loss: 0.1797\n",
            "Epoch 50/100\n",
            "20/20 [==============================] - 0s 7ms/step - loss: 0.1799\n",
            "Epoch 51/100\n",
            "20/20 [==============================] - 0s 7ms/step - loss: 0.1776\n",
            "Epoch 52/100\n",
            "20/20 [==============================] - 0s 6ms/step - loss: 0.1706\n",
            "Epoch 53/100\n",
            "20/20 [==============================] - 0s 7ms/step - loss: 0.1739\n",
            "Epoch 54/100\n",
            "20/20 [==============================] - 0s 8ms/step - loss: 0.1683\n",
            "Epoch 55/100\n",
            "20/20 [==============================] - 0s 7ms/step - loss: 0.1679\n",
            "Epoch 56/100\n",
            "20/20 [==============================] - 0s 7ms/step - loss: 0.1619\n",
            "Epoch 57/100\n",
            "20/20 [==============================] - 0s 7ms/step - loss: 0.1653\n",
            "Epoch 58/100\n",
            "20/20 [==============================] - 0s 7ms/step - loss: 0.1608\n",
            "Epoch 59/100\n",
            "20/20 [==============================] - 0s 7ms/step - loss: 0.1614\n",
            "Epoch 60/100\n",
            "20/20 [==============================] - 0s 7ms/step - loss: 0.1600\n",
            "Epoch 61/100\n",
            "20/20 [==============================] - 0s 7ms/step - loss: 0.1583\n",
            "Epoch 62/100\n",
            "20/20 [==============================] - 0s 7ms/step - loss: 0.1566\n",
            "Epoch 63/100\n",
            "20/20 [==============================] - 0s 7ms/step - loss: 0.1596\n",
            "Epoch 64/100\n",
            "20/20 [==============================] - 0s 7ms/step - loss: 0.1546\n",
            "Epoch 65/100\n",
            "20/20 [==============================] - 0s 7ms/step - loss: 0.1490\n",
            "Epoch 66/100\n",
            "20/20 [==============================] - 0s 7ms/step - loss: 0.1467\n",
            "Epoch 67/100\n",
            "20/20 [==============================] - 0s 7ms/step - loss: 0.1493\n",
            "Epoch 68/100\n",
            "20/20 [==============================] - 0s 7ms/step - loss: 0.1444\n",
            "Epoch 69/100\n",
            "20/20 [==============================] - 0s 7ms/step - loss: 0.1500\n",
            "Epoch 70/100\n",
            "20/20 [==============================] - 0s 6ms/step - loss: 0.1421\n",
            "Epoch 71/100\n",
            "20/20 [==============================] - 0s 7ms/step - loss: 0.1432\n",
            "Epoch 72/100\n",
            "20/20 [==============================] - 0s 7ms/step - loss: 0.1413\n",
            "Epoch 73/100\n",
            "20/20 [==============================] - 0s 8ms/step - loss: 0.1388\n",
            "Epoch 74/100\n",
            "20/20 [==============================] - 0s 7ms/step - loss: 0.1384\n",
            "Epoch 75/100\n",
            "20/20 [==============================] - 0s 7ms/step - loss: 0.1413\n",
            "Epoch 76/100\n",
            "20/20 [==============================] - 0s 7ms/step - loss: 0.1393\n",
            "Epoch 77/100\n",
            "20/20 [==============================] - 0s 6ms/step - loss: 0.1424\n",
            "Epoch 78/100\n",
            "20/20 [==============================] - 0s 7ms/step - loss: 0.1382\n",
            "Epoch 79/100\n",
            "20/20 [==============================] - 0s 7ms/step - loss: 0.1338\n",
            "Epoch 80/100\n",
            "20/20 [==============================] - 0s 6ms/step - loss: 0.1353\n",
            "Epoch 81/100\n",
            "20/20 [==============================] - 0s 8ms/step - loss: 0.1347\n",
            "Epoch 82/100\n",
            "20/20 [==============================] - 0s 7ms/step - loss: 0.1311\n",
            "Epoch 83/100\n",
            "20/20 [==============================] - 0s 7ms/step - loss: 0.1287\n",
            "Epoch 84/100\n",
            "20/20 [==============================] - 0s 7ms/step - loss: 0.1311\n",
            "Epoch 85/100\n",
            "20/20 [==============================] - 0s 7ms/step - loss: 0.1263\n",
            "Epoch 86/100\n",
            "20/20 [==============================] - 0s 6ms/step - loss: 0.1324\n",
            "Epoch 87/100\n",
            "20/20 [==============================] - 0s 7ms/step - loss: 0.1296\n",
            "Epoch 88/100\n",
            "20/20 [==============================] - 0s 7ms/step - loss: 0.1255\n",
            "Epoch 89/100\n",
            "20/20 [==============================] - 0s 6ms/step - loss: 0.1295\n",
            "Epoch 90/100\n",
            "20/20 [==============================] - 0s 6ms/step - loss: 0.1250\n",
            "Epoch 91/100\n",
            "20/20 [==============================] - 0s 7ms/step - loss: 0.1234\n",
            "Epoch 92/100\n",
            "20/20 [==============================] - 0s 7ms/step - loss: 0.1186\n",
            "Epoch 93/100\n",
            "20/20 [==============================] - 0s 7ms/step - loss: 0.1246\n",
            "Epoch 94/100\n",
            "20/20 [==============================] - 0s 7ms/step - loss: 0.1218\n",
            "Epoch 95/100\n",
            "20/20 [==============================] - 0s 7ms/step - loss: 0.1228\n",
            "Epoch 96/100\n",
            "20/20 [==============================] - 0s 7ms/step - loss: 0.1143\n",
            "Epoch 97/100\n",
            "20/20 [==============================] - 0s 7ms/step - loss: 0.1166\n",
            "Epoch 98/100\n",
            "20/20 [==============================] - 0s 7ms/step - loss: 0.1142\n",
            "Epoch 99/100\n",
            "20/20 [==============================] - 0s 8ms/step - loss: 0.1160\n",
            "Epoch 100/100\n",
            "20/20 [==============================] - 0s 7ms/step - loss: 0.1146\n",
            "WARNING:tensorflow:5 out of the last 11 calls to <function Model.make_predict_function.<locals>.predict_function at 0x7f46523f5dd0> triggered tf.function retracing. Tracing is expensive and the excessive number of tracings could be due to (1) creating @tf.function repeatedly in a loop, (2) passing tensors with different shapes, (3) passing Python objects instead of tensors. For (1), please define your @tf.function outside of the loop. For (2), @tf.function has experimental_relax_shapes=True option that relaxes argument shapes that can avoid unnecessary retracing. For (3), please refer to https://www.tensorflow.org/guide/function#controlling_retracing and https://www.tensorflow.org/api_docs/python/tf/function for  more details.\n"
          ],
          "name": "stdout"
        },
        {
          "output_type": "stream",
          "text": [
            "WARNING:tensorflow:5 out of the last 11 calls to <function Model.make_predict_function.<locals>.predict_function at 0x7f46523f5dd0> triggered tf.function retracing. Tracing is expensive and the excessive number of tracings could be due to (1) creating @tf.function repeatedly in a loop, (2) passing tensors with different shapes, (3) passing Python objects instead of tensors. For (1), please define your @tf.function outside of the loop. For (2), @tf.function has experimental_relax_shapes=True option that relaxes argument shapes that can avoid unnecessary retracing. For (3), please refer to https://www.tensorflow.org/guide/function#controlling_retracing and https://www.tensorflow.org/api_docs/python/tf/function for  more details.\n"
          ],
          "name": "stderr"
        },
        {
          "output_type": "stream",
          "text": [
            "Model 50 of model WindowRegression with avg smape 89.19: \n",
            "Model Number: 51 of 123 with model SeasonalNaive for Validation 1\n",
            "Model 51 of model SeasonalNaive with avg smape 71.89: \n",
            "Model Number: 52 of 123 with model RollingRegression for Validation 1\n",
            "Model 52 of model RollingRegression with avg smape 76.14: \n",
            "Model Number: 53 of 123 with model FBProphet for Validation 1\n"
          ],
          "name": "stdout"
        },
        {
          "output_type": "stream",
          "text": [
            "INFO:fbprophet:Disabling daily seasonality. Run prophet with daily_seasonality=True to override this.\n"
          ],
          "name": "stderr"
        },
        {
          "output_type": "stream",
          "text": [
            "Model 53 of model FBProphet with avg smape 74.44: \n",
            "Model Number: 54 of 123 with model SeasonalNaive for Validation 1\n"
          ],
          "name": "stdout"
        },
        {
          "output_type": "stream",
          "text": [
            "INFO:fbprophet:Disabling daily seasonality. Run prophet with daily_seasonality=True to override this.\n"
          ],
          "name": "stderr"
        },
        {
          "output_type": "stream",
          "text": [
            "Model 54 of model SeasonalNaive with avg smape 57.6: \n",
            "Model Number: 55 of 123 with model FBProphet for Validation 1\n"
          ],
          "name": "stdout"
        },
        {
          "output_type": "stream",
          "text": [
            "INFO:fbprophet:Disabling daily seasonality. Run prophet with daily_seasonality=True to override this.\n"
          ],
          "name": "stderr"
        },
        {
          "output_type": "stream",
          "text": [
            "Model 55 of model FBProphet with avg smape 79.14: \n",
            "Model Number: 56 of 123 with model FBProphet for Validation 1\n",
            "Model 56 of model FBProphet with avg smape 74.53: \n",
            "Model Number: 57 of 123 with model RollingRegression for Validation 1\n",
            "Model 57 of model RollingRegression with avg smape 84.09: \n",
            "Model Number: 58 of 123 with model FBProphet for Validation 1\n"
          ],
          "name": "stdout"
        },
        {
          "output_type": "stream",
          "text": [
            "INFO:fbprophet:Disabling daily seasonality. Run prophet with daily_seasonality=True to override this.\n",
            "INFO:fbprophet:Disabling daily seasonality. Run prophet with daily_seasonality=True to override this.\n"
          ],
          "name": "stderr"
        },
        {
          "output_type": "stream",
          "text": [
            "Model 58 of model FBProphet with avg smape 74.54: \n",
            "Model Number: 59 of 123 with model FBProphet for Validation 1\n"
          ],
          "name": "stdout"
        },
        {
          "output_type": "stream",
          "text": [
            "INFO:fbprophet:Disabling daily seasonality. Run prophet with daily_seasonality=True to override this.\n"
          ],
          "name": "stderr"
        },
        {
          "output_type": "stream",
          "text": [
            "Model 59 of model FBProphet with avg smape 74.39: \n",
            "Model Number: 60 of 123 with model FBProphet for Validation 1\n",
            "Model 60 of model FBProphet with avg smape 74.39: \n",
            "Model Number: 61 of 123 with model WindowRegression for Validation 1\n"
          ],
          "name": "stdout"
        },
        {
          "output_type": "stream",
          "text": [
            "INFO:fbprophet:Disabling daily seasonality. Run prophet with daily_seasonality=True to override this.\n"
          ],
          "name": "stderr"
        },
        {
          "output_type": "stream",
          "text": [
            "Model 61 of model WindowRegression with avg smape 77.14: \n",
            "Model Number: 62 of 123 with model FBProphet for Validation 1\n",
            "Model 62 of model FBProphet with avg smape 74.5: \n",
            "Model Number: 63 of 123 with model ETS for Validation 1\n"
          ],
          "name": "stdout"
        },
        {
          "output_type": "stream",
          "text": [
            "INFO:fbprophet:Disabling daily seasonality. Run prophet with daily_seasonality=True to override this.\n"
          ],
          "name": "stderr"
        },
        {
          "output_type": "stream",
          "text": [
            "Template Eval Error: ValueError('Model ETS returned NaN for one or more series') in model 63: ETS\n",
            "Model Number: 64 of 123 with model FBProphet for Validation 1\n"
          ],
          "name": "stdout"
        },
        {
          "output_type": "stream",
          "text": [
            "INFO:fbprophet:Disabling daily seasonality. Run prophet with daily_seasonality=True to override this.\n"
          ],
          "name": "stderr"
        },
        {
          "output_type": "stream",
          "text": [
            "Model 64 of model FBProphet with avg smape 74.43: \n",
            "Model Number: 65 of 123 with model FBProphet for Validation 1\n",
            "Model 65 of model FBProphet with avg smape 74.43: \n",
            "Model Number: 66 of 123 with model WindowRegression for Validation 1\n",
            "Model 66 of model WindowRegression with avg smape 68.4: \n",
            "Model Number: 67 of 123 with model DatepartRegression for Validation 1\n",
            "Model 67 of model DatepartRegression with avg smape 56.44: \n",
            "Model Number: 68 of 123 with model WindowRegression for Validation 1\n",
            "Model 68 of model WindowRegression with avg smape 87.39: \n",
            "Model Number: 69 of 123 with model UnobservedComponents for Validation 1\n",
            "Model 69 of model UnobservedComponents with avg smape 79.09: \n",
            "Model Number: 70 of 123 with model LastValueNaive for Validation 1\n",
            "Model 70 of model LastValueNaive with avg smape 79.11: \n",
            "Model Number: 71 of 123 with model UnobservedComponents for Validation 1\n",
            "Model 71 of model UnobservedComponents with avg smape 79.09: \n",
            "Model Number: 72 of 123 with model WindowRegression for Validation 1\n"
          ],
          "name": "stdout"
        },
        {
          "output_type": "stream",
          "text": [
            "[Parallel(n_jobs=1)]: Using backend SequentialBackend with 1 concurrent workers.\n",
            "[Parallel(n_jobs=1)]: Done 1000 out of 1000 | elapsed:   21.0s finished\n",
            "[Parallel(n_jobs=1)]: Using backend SequentialBackend with 1 concurrent workers.\n",
            "[Parallel(n_jobs=1)]: Done 1000 out of 1000 | elapsed:    0.1s finished\n",
            "[Parallel(n_jobs=1)]: Using backend SequentialBackend with 1 concurrent workers.\n",
            "[Parallel(n_jobs=1)]: Done 1000 out of 1000 | elapsed:    0.1s finished\n",
            "[Parallel(n_jobs=1)]: Using backend SequentialBackend with 1 concurrent workers.\n",
            "[Parallel(n_jobs=1)]: Done 1000 out of 1000 | elapsed:    0.1s finished\n",
            "[Parallel(n_jobs=1)]: Using backend SequentialBackend with 1 concurrent workers.\n",
            "[Parallel(n_jobs=1)]: Done 1000 out of 1000 | elapsed:    0.1s finished\n",
            "[Parallel(n_jobs=1)]: Using backend SequentialBackend with 1 concurrent workers.\n",
            "[Parallel(n_jobs=1)]: Done 1000 out of 1000 | elapsed:    0.1s finished\n",
            "[Parallel(n_jobs=1)]: Using backend SequentialBackend with 1 concurrent workers.\n"
          ],
          "name": "stderr"
        },
        {
          "output_type": "stream",
          "text": [
            "Model 72 of model WindowRegression with avg smape 72.8: \n",
            "Model Number: 73 of 123 with model LastValueNaive for Validation 1\n",
            "Model 73 of model LastValueNaive with avg smape 74.24: \n",
            "Model Number: 74 of 123 with model LastValueNaive for Validation 1\n",
            "Model 74 of model LastValueNaive with avg smape 90.87: \n",
            "Model Number: 75 of 123 with model UnobservedComponents for Validation 1\n"
          ],
          "name": "stdout"
        },
        {
          "output_type": "stream",
          "text": [
            "[Parallel(n_jobs=1)]: Done 1000 out of 1000 | elapsed:    0.1s finished\n",
            "[Parallel(n_jobs=1)]: Using backend SequentialBackend with 1 concurrent workers.\n",
            "[Parallel(n_jobs=1)]: Done 1000 out of 1000 | elapsed:    0.1s finished\n"
          ],
          "name": "stderr"
        },
        {
          "output_type": "stream",
          "text": [
            "Model 75 of model UnobservedComponents with avg smape 79.47: \n",
            "Model Number: 76 of 123 with model DatepartRegression for Validation 1\n"
          ],
          "name": "stdout"
        },
        {
          "output_type": "stream",
          "text": [
            "[Parallel(n_jobs=1)]: Using backend SequentialBackend with 1 concurrent workers.\n",
            "[Parallel(n_jobs=1)]: Done 1000 out of 1000 | elapsed:    4.6s finished\n",
            "[Parallel(n_jobs=1)]: Using backend SequentialBackend with 1 concurrent workers.\n",
            "[Parallel(n_jobs=1)]: Done 1000 out of 1000 | elapsed:    0.1s finished\n"
          ],
          "name": "stderr"
        },
        {
          "output_type": "stream",
          "text": [
            "Model 76 of model DatepartRegression with avg smape 68.3: \n",
            "Model Number: 77 of 123 with model DatepartRegression for Validation 1\n",
            "Model 77 of model DatepartRegression with avg smape 66.25: \n",
            "Model Number: 78 of 123 with model UnobservedComponents for Validation 1\n",
            "Model 78 of model UnobservedComponents with avg smape 79.47: \n",
            "Model Number: 79 of 123 with model LastValueNaive for Validation 1\n",
            "Model 79 of model LastValueNaive with avg smape 91.2: \n",
            "Model Number: 80 of 123 with model GLS for Validation 1\n",
            "Model 80 of model GLS with avg smape 68.32: \n",
            "Model Number: 81 of 123 with model GLS for Validation 1\n",
            "Model 81 of model GLS with avg smape 68.48: \n",
            "Model Number: 82 of 123 with model LastValueNaive for Validation 1\n",
            "Model 82 of model LastValueNaive with avg smape 81.68: \n",
            "Model Number: 83 of 123 with model LastValueNaive for Validation 1\n",
            "Model 83 of model LastValueNaive with avg smape 81.68: \n",
            "Model Number: 84 of 123 with model LastValueNaive for Validation 1\n",
            "Model 84 of model LastValueNaive with avg smape 83.85: \n",
            "Model Number: 85 of 123 with model LastValueNaive for Validation 1\n",
            "Model 85 of model LastValueNaive with avg smape 83.85: \n",
            "Model Number: 86 of 123 with model UnobservedComponents for Validation 1\n",
            "Model 86 of model UnobservedComponents with avg smape 81.66: \n",
            "Model Number: 87 of 123 with model UnobservedComponents for Validation 1\n",
            "Model 87 of model UnobservedComponents with avg smape 84.31: \n",
            "Model Number: 88 of 123 with model UnobservedComponents for Validation 1\n",
            "Model 88 of model UnobservedComponents with avg smape 81.68: \n",
            "Model Number: 89 of 123 with model UnobservedComponents for Validation 1\n",
            "Model 89 of model UnobservedComponents with avg smape 81.68: \n",
            "Model Number: 90 of 123 with model WindowRegression for Validation 1\n",
            "Model 90 of model WindowRegression with avg smape 61.63: \n",
            "Model Number: 91 of 123 with model LastValueNaive for Validation 1\n",
            "Model 91 of model LastValueNaive with avg smape 81.68: \n",
            "Model Number: 92 of 123 with model UnobservedComponents for Validation 1\n",
            "Model 92 of model UnobservedComponents with avg smape 89.85: \n",
            "Model Number: 93 of 123 with model UnobservedComponents for Validation 1\n",
            "Model 93 of model UnobservedComponents with avg smape 89.87: \n",
            "Model Number: 94 of 123 with model DatepartRegression for Validation 1\n"
          ],
          "name": "stdout"
        },
        {
          "output_type": "stream",
          "text": [
            "[Parallel(n_jobs=1)]: Using backend SequentialBackend with 1 concurrent workers.\n",
            "[Parallel(n_jobs=1)]: Done 1000 out of 1000 | elapsed:    2.1s finished\n",
            "[Parallel(n_jobs=1)]: Using backend SequentialBackend with 1 concurrent workers.\n",
            "[Parallel(n_jobs=1)]: Done 1000 out of 1000 | elapsed:    0.1s finished\n"
          ],
          "name": "stderr"
        },
        {
          "output_type": "stream",
          "text": [
            "Model 94 of model DatepartRegression with avg smape 82.56: \n",
            "Model Number: 95 of 123 with model GLS for Validation 1\n",
            "Model 95 of model GLS with avg smape 69.27: \n",
            "Model Number: 96 of 123 with model GLS for Validation 1\n",
            "Model 96 of model GLS with avg smape 70.27: \n",
            "Model Number: 97 of 123 with model DatepartRegression for Validation 1\n",
            "Model 97 of model DatepartRegression with avg smape 79.77: \n",
            "Model Number: 98 of 123 with model ZeroesNaive for Validation 1\n",
            "Model 98 of model ZeroesNaive with avg smape 81.68: \n",
            "Model Number: 99 of 123 with model ZeroesNaive for Validation 1\n",
            "Model 99 of model ZeroesNaive with avg smape 81.68: \n",
            "Model Number: 100 of 123 with model ZeroesNaive for Validation 1\n",
            "Model 100 of model ZeroesNaive with avg smape 81.68: \n",
            "Model Number: 101 of 123 with model ZeroesNaive for Validation 1\n",
            "Model 101 of model ZeroesNaive with avg smape 81.68: \n",
            "Model Number: 102 of 123 with model ZeroesNaive for Validation 1\n",
            "Model 102 of model ZeroesNaive with avg smape 81.68: \n",
            "Model Number: 103 of 123 with model ZeroesNaive for Validation 1\n",
            "Model 103 of model ZeroesNaive with avg smape 81.68: \n",
            "Model Number: 104 of 123 with model DatepartRegression for Validation 1\n",
            "Model 104 of model DatepartRegression with avg smape 72.94: \n",
            "Model Number: 105 of 123 with model WindowRegression for Validation 1\n",
            "Model 105 of model WindowRegression with avg smape 82.8: \n",
            "Model Number: 106 of 123 with model GLS for Validation 1\n",
            "Model 106 of model GLS with avg smape 71.5: \n",
            "Model Number: 107 of 123 with model GLS for Validation 1\n",
            "Model 107 of model GLS with avg smape 71.57: \n",
            "Model Number: 108 of 123 with model GLS for Validation 1\n",
            "Model 108 of model GLS with avg smape 72.1: \n",
            "Model Number: 109 of 123 with model GLS for Validation 1\n",
            "Model 109 of model GLS with avg smape 71.8: \n",
            "Model Number: 110 of 123 with model ZeroesNaive for Validation 1\n",
            "Model 110 of model ZeroesNaive with avg smape 140.89: \n",
            "Model Number: 111 of 123 with model ZeroesNaive for Validation 1\n",
            "Model 111 of model ZeroesNaive with avg smape 68.71: \n",
            "Model Number: 112 of 123 with model ZeroesNaive for Validation 1\n",
            "Model 112 of model ZeroesNaive with avg smape 68.71: \n",
            "Model Number: 113 of 123 with model ZeroesNaive for Validation 1\n",
            "Model 113 of model ZeroesNaive with avg smape 93.04: \n",
            "Model Number: 114 of 123 with model GLM for Validation 1\n",
            "Model 114 of model GLM with avg smape 76.04: \n",
            "Model Number: 115 of 123 with model GLM for Validation 1\n",
            "Model 115 of model GLM with avg smape 76.16: \n",
            "Model Number: 116 of 123 with model GLM for Validation 1\n",
            "Model 116 of model GLM with avg smape 76.16: \n",
            "Model Number: 117 of 123 with model GLM for Validation 1\n",
            "Model 117 of model GLM with avg smape 70.44: \n",
            "Model Number: 118 of 123 with model GLM for Validation 1\n",
            "Model 118 of model GLM with avg smape 80.04: \n",
            "Model Number: 119 of 123 with model GLM for Validation 1\n",
            "Model 119 of model GLM with avg smape 79.35: \n",
            "Model Number: 120 of 123 with model GLM for Validation 1\n",
            "Model 120 of model GLM with avg smape 80.3: \n",
            "Model Number: 121 of 123 with model GLM for Validation 1\n",
            "Model 121 of model GLM with avg smape 80.3: \n",
            "Model Number: 122 of 123 with model GLM for Validation 1\n",
            "Model 122 of model GLM with avg smape 79.6: \n",
            "Model Number: 123 of 123 with model GLM for Validation 1\n",
            "Model 123 of model GLM with avg smape 80.33: \n",
            "Validation Round: 2\n",
            "Model Number: 1 of 123 with model WindowRegression for Validation 2\n",
            "Model 1 of model WindowRegression with avg smape 65.46: \n",
            "Model Number: 2 of 123 with model Ensemble for Validation 2\n",
            "Model 2 of model Ensemble with avg smape 73.68: \n",
            "Model Number: 3 of 123 with model Ensemble for Validation 2\n",
            "Model 3 of model Ensemble with avg smape 73.68: \n",
            "Model Number: 4 of 123 with model GLS for Validation 2\n",
            "Model 4 of model GLS with avg smape 78.74: \n",
            "Model Number: 5 of 123 with model AverageValueNaive for Validation 2\n",
            "Model 5 of model AverageValueNaive with avg smape 77.94: \n",
            "Model Number: 6 of 123 with model RollingRegression for Validation 2\n",
            "Model 6 of model RollingRegression with avg smape 77.91: \n",
            "Model Number: 7 of 123 with model RollingRegression for Validation 2\n",
            "Model 7 of model RollingRegression with avg smape 77.87: \n",
            "Model Number: 8 of 123 with model RollingRegression for Validation 2\n",
            "Model 8 of model RollingRegression with avg smape 77.87: \n",
            "Model Number: 9 of 123 with model RollingRegression for Validation 2\n",
            "Model 9 of model RollingRegression with avg smape 77.87: \n",
            "Model Number: 10 of 123 with model RollingRegression for Validation 2\n",
            "Model 10 of model RollingRegression with avg smape 77.85: \n",
            "Model Number: 11 of 123 with model GLS for Validation 2\n",
            "Model 11 of model GLS with avg smape 79.22: \n",
            "Model Number: 12 of 123 with model WindowRegression for Validation 2\n",
            "Model 12 of model WindowRegression with avg smape 68.11: \n",
            "Model Number: 13 of 123 with model AverageValueNaive for Validation 2\n",
            "Model 13 of model AverageValueNaive with avg smape 74.35: \n",
            "Model Number: 14 of 123 with model RollingRegression for Validation 2\n",
            "Model 14 of model RollingRegression with avg smape 83.45: \n",
            "Model Number: 15 of 123 with model DatepartRegression for Validation 2\n",
            "Model 15 of model DatepartRegression with avg smape 74.35: \n",
            "Model Number: 16 of 123 with model AverageValueNaive for Validation 2\n",
            "Model 16 of model AverageValueNaive with avg smape 80.8: \n",
            "Model Number: 17 of 123 with model AverageValueNaive for Validation 2\n",
            "Model 17 of model AverageValueNaive with avg smape 80.8: \n",
            "Model Number: 18 of 123 with model AverageValueNaive for Validation 2\n",
            "Model 18 of model AverageValueNaive with avg smape 74.94: \n",
            "Model Number: 19 of 123 with model DatepartRegression for Validation 2\n",
            "Epoch 1/50\n",
            "123/123 [==============================] - 6s 5ms/step - loss: 0.0955\n",
            "Epoch 2/50\n",
            "123/123 [==============================] - 1s 6ms/step - loss: 0.0905\n",
            "Epoch 3/50\n",
            "123/123 [==============================] - 1s 5ms/step - loss: 0.0898\n",
            "Epoch 4/50\n",
            "123/123 [==============================] - 1s 5ms/step - loss: 0.0902\n",
            "Epoch 5/50\n",
            "123/123 [==============================] - 1s 6ms/step - loss: 0.0896\n",
            "Epoch 6/50\n",
            "123/123 [==============================] - 1s 5ms/step - loss: 0.0901\n",
            "Epoch 7/50\n",
            "123/123 [==============================] - 1s 5ms/step - loss: 0.0894\n",
            "Epoch 8/50\n",
            "123/123 [==============================] - 1s 6ms/step - loss: 0.0896\n",
            "Epoch 9/50\n",
            "123/123 [==============================] - 1s 5ms/step - loss: 0.0898\n",
            "Epoch 10/50\n",
            "123/123 [==============================] - 1s 5ms/step - loss: 0.0890\n",
            "Epoch 11/50\n",
            "123/123 [==============================] - 1s 6ms/step - loss: 0.0897\n",
            "Epoch 12/50\n",
            "123/123 [==============================] - 1s 5ms/step - loss: 0.0896\n",
            "Epoch 13/50\n",
            "123/123 [==============================] - 1s 5ms/step - loss: 0.0900\n",
            "Epoch 14/50\n",
            "123/123 [==============================] - 1s 6ms/step - loss: 0.0897\n",
            "Epoch 15/50\n",
            "123/123 [==============================] - 1s 6ms/step - loss: 0.0889\n",
            "Epoch 16/50\n",
            "123/123 [==============================] - 1s 6ms/step - loss: 0.0894\n",
            "Epoch 17/50\n",
            "123/123 [==============================] - 1s 5ms/step - loss: 0.0889\n",
            "Epoch 18/50\n",
            "123/123 [==============================] - 1s 5ms/step - loss: 0.0889\n",
            "Epoch 19/50\n",
            "123/123 [==============================] - 1s 6ms/step - loss: 0.0889\n",
            "Epoch 20/50\n",
            "123/123 [==============================] - 1s 6ms/step - loss: 0.0891\n",
            "Epoch 21/50\n",
            "123/123 [==============================] - 1s 5ms/step - loss: 0.0892\n",
            "Epoch 22/50\n",
            "123/123 [==============================] - 1s 5ms/step - loss: 0.0898\n",
            "Epoch 23/50\n",
            "123/123 [==============================] - 1s 6ms/step - loss: 0.0891\n",
            "Epoch 24/50\n",
            "123/123 [==============================] - 1s 6ms/step - loss: 0.0888\n",
            "Epoch 25/50\n",
            "123/123 [==============================] - 1s 5ms/step - loss: 0.0893\n",
            "Epoch 26/50\n",
            "123/123 [==============================] - 1s 5ms/step - loss: 0.0894\n",
            "Epoch 27/50\n",
            "123/123 [==============================] - 1s 5ms/step - loss: 0.0892\n",
            "Epoch 28/50\n",
            "123/123 [==============================] - 1s 5ms/step - loss: 0.0887\n",
            "Epoch 29/50\n",
            "123/123 [==============================] - 1s 5ms/step - loss: 0.0892\n",
            "Epoch 30/50\n",
            "123/123 [==============================] - 1s 5ms/step - loss: 0.0895\n",
            "Epoch 31/50\n",
            "123/123 [==============================] - 1s 6ms/step - loss: 0.0889\n",
            "Epoch 32/50\n",
            "123/123 [==============================] - 1s 5ms/step - loss: 0.0890\n",
            "Epoch 33/50\n",
            "123/123 [==============================] - 1s 6ms/step - loss: 0.0892\n",
            "Epoch 34/50\n",
            "123/123 [==============================] - 1s 5ms/step - loss: 0.0892\n",
            "Epoch 35/50\n",
            "123/123 [==============================] - 1s 6ms/step - loss: 0.0888\n",
            "Epoch 36/50\n",
            "123/123 [==============================] - 1s 5ms/step - loss: 0.0891\n",
            "Epoch 37/50\n",
            "123/123 [==============================] - 1s 5ms/step - loss: 0.0894\n",
            "Epoch 38/50\n",
            "123/123 [==============================] - 1s 5ms/step - loss: 0.0893\n",
            "Epoch 39/50\n",
            "123/123 [==============================] - 1s 6ms/step - loss: 0.0894\n",
            "Epoch 40/50\n",
            "123/123 [==============================] - 1s 5ms/step - loss: 0.0891\n",
            "Epoch 41/50\n",
            "123/123 [==============================] - 1s 5ms/step - loss: 0.0889\n",
            "Epoch 42/50\n",
            "123/123 [==============================] - 1s 6ms/step - loss: 0.0891\n",
            "Epoch 43/50\n",
            "123/123 [==============================] - 1s 6ms/step - loss: 0.0891\n",
            "Epoch 44/50\n",
            "123/123 [==============================] - 1s 5ms/step - loss: 0.0890\n",
            "Epoch 45/50\n",
            "123/123 [==============================] - 1s 5ms/step - loss: 0.0892\n",
            "Epoch 46/50\n",
            "123/123 [==============================] - 1s 5ms/step - loss: 0.0890\n",
            "Epoch 47/50\n",
            "123/123 [==============================] - 1s 5ms/step - loss: 0.0893\n",
            "Epoch 48/50\n",
            "123/123 [==============================] - 1s 5ms/step - loss: 0.0892\n",
            "Epoch 49/50\n",
            "123/123 [==============================] - 1s 6ms/step - loss: 0.0890\n",
            "Epoch 50/50\n",
            "123/123 [==============================] - 1s 6ms/step - loss: 0.0891\n",
            "Model 19 of model DatepartRegression with avg smape 79.93: \n",
            "Model Number: 20 of 123 with model AverageValueNaive for Validation 2\n",
            "Model 20 of model AverageValueNaive with avg smape 78.15: \n",
            "Model Number: 21 of 123 with model ETS for Validation 2\n",
            "Model 21 of model ETS with avg smape 65.57: \n",
            "Model Number: 22 of 123 with model ETS for Validation 2\n",
            "Model 22 of model ETS with avg smape 64.74: \n",
            "Model Number: 23 of 123 with model ETS for Validation 2\n",
            "Model 23 of model ETS with avg smape 64.74: \n",
            "Model Number: 24 of 123 with model ETS for Validation 2\n",
            "Model 24 of model ETS with avg smape 65.43: \n",
            "Model Number: 25 of 123 with model ETS for Validation 2\n",
            "Model 25 of model ETS with avg smape 65.44: \n",
            "Model Number: 26 of 123 with model ETS for Validation 2\n",
            "Model 26 of model ETS with avg smape 65.44: \n",
            "Model Number: 27 of 123 with model ETS for Validation 2\n",
            "Model 27 of model ETS with avg smape 70.78: \n",
            "Model Number: 28 of 123 with model AverageValueNaive for Validation 2\n",
            "Model 28 of model AverageValueNaive with avg smape 78.29: \n",
            "Model Number: 29 of 123 with model Ensemble for Validation 2\n",
            "Model 29 of model Ensemble with avg smape 48.17: \n",
            "Model Number: 30 of 123 with model AverageValueNaive for Validation 2\n",
            "Model 30 of model AverageValueNaive with avg smape 85.17: \n",
            "Model Number: 31 of 123 with model AverageValueNaive for Validation 2\n",
            "Model 31 of model AverageValueNaive with avg smape 95.04: \n",
            "Model Number: 32 of 123 with model AverageValueNaive for Validation 2\n",
            "Model 32 of model AverageValueNaive with avg smape 94.93: \n",
            "Model Number: 33 of 123 with model ETS for Validation 2\n",
            "Model 33 of model ETS with avg smape 54.19: \n",
            "Model Number: 34 of 123 with model RollingRegression for Validation 2\n",
            "Model 34 of model RollingRegression with avg smape 78.01: \n",
            "Model Number: 35 of 123 with model ETS for Validation 2\n",
            "Model 35 of model ETS with avg smape 53.74: \n",
            "Model Number: 36 of 123 with model WindowRegression for Validation 2\n",
            "Model 36 of model WindowRegression with avg smape 46.05: \n",
            "Model Number: 37 of 123 with model SeasonalNaive for Validation 2\n",
            "Model 37 of model SeasonalNaive with avg smape 56.51: \n",
            "Model Number: 38 of 123 with model SeasonalNaive for Validation 2\n",
            "Model 38 of model SeasonalNaive with avg smape 49.47: \n",
            "Model Number: 39 of 123 with model SeasonalNaive for Validation 2\n",
            "Model 39 of model SeasonalNaive with avg smape 56.72: \n",
            "Model Number: 40 of 123 with model SeasonalNaive for Validation 2\n",
            "Model 40 of model SeasonalNaive with avg smape 58.81: \n",
            "Model Number: 41 of 123 with model SeasonalNaive for Validation 2\n",
            "Model 41 of model SeasonalNaive with avg smape 58.79: \n",
            "Model Number: 42 of 123 with model SeasonalNaive for Validation 2\n",
            "Model 42 of model SeasonalNaive with avg smape 65.14: \n",
            "Model Number: 43 of 123 with model LastValueNaive for Validation 2\n",
            "Model 43 of model LastValueNaive with avg smape 85.77: \n",
            "Model Number: 44 of 123 with model SeasonalNaive for Validation 2\n",
            "Model 44 of model SeasonalNaive with avg smape 44.75: \n",
            "Model Number: 45 of 123 with model DatepartRegression for Validation 2\n",
            "Model 45 of model DatepartRegression with avg smape 72.73: \n",
            "Model Number: 46 of 123 with model RollingRegression for Validation 2\n",
            "Model 46 of model RollingRegression with avg smape 77.83: \n",
            "Model Number: 47 of 123 with model DatepartRegression for Validation 2\n"
          ],
          "name": "stdout"
        },
        {
          "output_type": "stream",
          "text": [
            "[Parallel(n_jobs=1)]: Using backend SequentialBackend with 1 concurrent workers.\n",
            "[Parallel(n_jobs=1)]: Done 1000 out of 1000 | elapsed:    2.2s finished\n",
            "[Parallel(n_jobs=1)]: Using backend SequentialBackend with 1 concurrent workers.\n",
            "[Parallel(n_jobs=1)]: Done 1000 out of 1000 | elapsed:    0.1s finished\n"
          ],
          "name": "stderr"
        },
        {
          "output_type": "stream",
          "text": [
            "Model 47 of model DatepartRegression with avg smape 63.51: \n",
            "Model Number: 48 of 123 with model SeasonalNaive for Validation 2\n"
          ],
          "name": "stdout"
        },
        {
          "output_type": "stream",
          "text": [
            "INFO:fbprophet:Disabling daily seasonality. Run prophet with daily_seasonality=True to override this.\n"
          ],
          "name": "stderr"
        },
        {
          "output_type": "stream",
          "text": [
            "Model 48 of model SeasonalNaive with avg smape 80.59: \n",
            "Model Number: 49 of 123 with model FBProphet for Validation 2\n",
            "Model 49 of model FBProphet with avg smape 37.93: \n",
            "Model Number: 50 of 123 with model WindowRegression for Validation 2\n",
            "Epoch 1/100\n",
            "20/20 [==============================] - 6s 7ms/step - loss: 0.6103\n",
            "Epoch 2/100\n",
            "20/20 [==============================] - 0s 6ms/step - loss: 0.5939\n",
            "Epoch 3/100\n",
            "20/20 [==============================] - 0s 7ms/step - loss: 0.5738\n",
            "Epoch 4/100\n",
            "20/20 [==============================] - 0s 6ms/step - loss: 0.5588\n",
            "Epoch 5/100\n",
            "20/20 [==============================] - 0s 6ms/step - loss: 0.5476\n",
            "Epoch 6/100\n",
            "20/20 [==============================] - 0s 7ms/step - loss: 0.5371\n",
            "Epoch 7/100\n",
            "20/20 [==============================] - 0s 6ms/step - loss: 0.5255\n",
            "Epoch 8/100\n",
            "20/20 [==============================] - 0s 8ms/step - loss: 0.5133\n",
            "Epoch 9/100\n",
            "20/20 [==============================] - 0s 7ms/step - loss: 0.5006\n",
            "Epoch 10/100\n",
            "20/20 [==============================] - 0s 7ms/step - loss: 0.4881\n",
            "Epoch 11/100\n",
            "20/20 [==============================] - 0s 8ms/step - loss: 0.4770\n",
            "Epoch 12/100\n",
            "20/20 [==============================] - 0s 6ms/step - loss: 0.4658\n",
            "Epoch 13/100\n",
            "20/20 [==============================] - 0s 7ms/step - loss: 0.4522\n",
            "Epoch 14/100\n",
            "20/20 [==============================] - 0s 7ms/step - loss: 0.4377\n",
            "Epoch 15/100\n",
            "20/20 [==============================] - 0s 7ms/step - loss: 0.4238\n",
            "Epoch 16/100\n",
            "20/20 [==============================] - 0s 7ms/step - loss: 0.4114\n",
            "Epoch 17/100\n",
            "20/20 [==============================] - 0s 7ms/step - loss: 0.3998\n",
            "Epoch 18/100\n",
            "20/20 [==============================] - 0s 8ms/step - loss: 0.3895\n",
            "Epoch 19/100\n",
            "20/20 [==============================] - 0s 7ms/step - loss: 0.3760\n",
            "Epoch 20/100\n",
            "20/20 [==============================] - 0s 7ms/step - loss: 0.3653\n",
            "Epoch 21/100\n",
            "20/20 [==============================] - 0s 7ms/step - loss: 0.3562\n",
            "Epoch 22/100\n",
            "20/20 [==============================] - 0s 7ms/step - loss: 0.3445\n",
            "Epoch 23/100\n",
            "20/20 [==============================] - 0s 7ms/step - loss: 0.3372\n",
            "Epoch 24/100\n",
            "20/20 [==============================] - 0s 7ms/step - loss: 0.3197\n",
            "Epoch 25/100\n",
            "20/20 [==============================] - 0s 7ms/step - loss: 0.3145\n",
            "Epoch 26/100\n",
            "20/20 [==============================] - 0s 7ms/step - loss: 0.3002\n",
            "Epoch 27/100\n",
            "20/20 [==============================] - 0s 7ms/step - loss: 0.2900\n",
            "Epoch 28/100\n",
            "20/20 [==============================] - 0s 7ms/step - loss: 0.2866\n",
            "Epoch 29/100\n",
            "20/20 [==============================] - 0s 7ms/step - loss: 0.2723\n",
            "Epoch 30/100\n",
            "20/20 [==============================] - 0s 7ms/step - loss: 0.2647\n",
            "Epoch 31/100\n",
            "20/20 [==============================] - 0s 7ms/step - loss: 0.2574\n",
            "Epoch 32/100\n",
            "20/20 [==============================] - 0s 7ms/step - loss: 0.2488\n",
            "Epoch 33/100\n",
            "20/20 [==============================] - 0s 7ms/step - loss: 0.2411\n",
            "Epoch 34/100\n",
            "20/20 [==============================] - 0s 6ms/step - loss: 0.2411\n",
            "Epoch 35/100\n",
            "20/20 [==============================] - 0s 7ms/step - loss: 0.2330\n",
            "Epoch 36/100\n",
            "20/20 [==============================] - 0s 8ms/step - loss: 0.2209\n",
            "Epoch 37/100\n",
            "20/20 [==============================] - 0s 7ms/step - loss: 0.2180\n",
            "Epoch 38/100\n",
            "20/20 [==============================] - 0s 6ms/step - loss: 0.2196\n",
            "Epoch 39/100\n",
            "20/20 [==============================] - 0s 6ms/step - loss: 0.2067\n",
            "Epoch 40/100\n",
            "20/20 [==============================] - 0s 7ms/step - loss: 0.2078\n",
            "Epoch 41/100\n",
            "20/20 [==============================] - 0s 8ms/step - loss: 0.2049\n",
            "Epoch 42/100\n",
            "20/20 [==============================] - 0s 6ms/step - loss: 0.2004\n",
            "Epoch 43/100\n",
            "20/20 [==============================] - 0s 7ms/step - loss: 0.1968\n",
            "Epoch 44/100\n",
            "20/20 [==============================] - 0s 8ms/step - loss: 0.1970\n",
            "Epoch 45/100\n",
            "20/20 [==============================] - 0s 7ms/step - loss: 0.1896\n",
            "Epoch 46/100\n",
            "20/20 [==============================] - 0s 7ms/step - loss: 0.1873\n",
            "Epoch 47/100\n",
            "20/20 [==============================] - 0s 7ms/step - loss: 0.1813\n",
            "Epoch 48/100\n",
            "20/20 [==============================] - 0s 7ms/step - loss: 0.1786\n",
            "Epoch 49/100\n",
            "20/20 [==============================] - 0s 7ms/step - loss: 0.1793\n",
            "Epoch 50/100\n",
            "20/20 [==============================] - 0s 7ms/step - loss: 0.1725\n",
            "Epoch 51/100\n",
            "20/20 [==============================] - 0s 7ms/step - loss: 0.1749\n",
            "Epoch 52/100\n",
            "20/20 [==============================] - 0s 7ms/step - loss: 0.1719\n",
            "Epoch 53/100\n",
            "20/20 [==============================] - 0s 7ms/step - loss: 0.1683\n",
            "Epoch 54/100\n",
            "20/20 [==============================] - 0s 7ms/step - loss: 0.1613\n",
            "Epoch 55/100\n",
            "20/20 [==============================] - 0s 7ms/step - loss: 0.1613\n",
            "Epoch 56/100\n",
            "20/20 [==============================] - 0s 7ms/step - loss: 0.1630\n",
            "Epoch 57/100\n",
            "20/20 [==============================] - 0s 8ms/step - loss: 0.1585\n",
            "Epoch 58/100\n",
            "20/20 [==============================] - 0s 7ms/step - loss: 0.1587\n",
            "Epoch 59/100\n",
            "20/20 [==============================] - 0s 7ms/step - loss: 0.1615\n",
            "Epoch 60/100\n",
            "20/20 [==============================] - 0s 8ms/step - loss: 0.1538\n",
            "Epoch 61/100\n",
            "20/20 [==============================] - 0s 7ms/step - loss: 0.1516\n",
            "Epoch 62/100\n",
            "20/20 [==============================] - 0s 6ms/step - loss: 0.1525\n",
            "Epoch 63/100\n",
            "20/20 [==============================] - 0s 7ms/step - loss: 0.1488\n",
            "Epoch 64/100\n",
            "20/20 [==============================] - 0s 6ms/step - loss: 0.1462\n",
            "Epoch 65/100\n",
            "20/20 [==============================] - 0s 7ms/step - loss: 0.1466\n",
            "Epoch 66/100\n",
            "20/20 [==============================] - 0s 7ms/step - loss: 0.1473\n",
            "Epoch 67/100\n",
            "20/20 [==============================] - 0s 7ms/step - loss: 0.1437\n",
            "Epoch 68/100\n",
            "20/20 [==============================] - 0s 7ms/step - loss: 0.1442\n",
            "Epoch 69/100\n",
            "20/20 [==============================] - 0s 7ms/step - loss: 0.1415\n",
            "Epoch 70/100\n",
            "20/20 [==============================] - 0s 8ms/step - loss: 0.1437\n",
            "Epoch 71/100\n",
            "20/20 [==============================] - 0s 7ms/step - loss: 0.1363\n",
            "Epoch 72/100\n",
            "20/20 [==============================] - 0s 8ms/step - loss: 0.1347\n",
            "Epoch 73/100\n",
            "20/20 [==============================] - 0s 8ms/step - loss: 0.1359\n",
            "Epoch 74/100\n",
            "20/20 [==============================] - 0s 7ms/step - loss: 0.1419\n",
            "Epoch 75/100\n",
            "20/20 [==============================] - 0s 7ms/step - loss: 0.1396\n",
            "Epoch 76/100\n",
            "20/20 [==============================] - 0s 7ms/step - loss: 0.1388\n",
            "Epoch 77/100\n",
            "20/20 [==============================] - 0s 7ms/step - loss: 0.1290\n",
            "Epoch 78/100\n",
            "20/20 [==============================] - 0s 7ms/step - loss: 0.1329\n",
            "Epoch 79/100\n",
            "20/20 [==============================] - 0s 7ms/step - loss: 0.1300\n",
            "Epoch 80/100\n",
            "20/20 [==============================] - 0s 8ms/step - loss: 0.1308\n",
            "Epoch 81/100\n",
            "20/20 [==============================] - 0s 7ms/step - loss: 0.1324\n",
            "Epoch 82/100\n",
            "20/20 [==============================] - 0s 7ms/step - loss: 0.1315\n",
            "Epoch 83/100\n",
            "20/20 [==============================] - 0s 7ms/step - loss: 0.1282\n",
            "Epoch 84/100\n",
            "20/20 [==============================] - 0s 7ms/step - loss: 0.1256\n",
            "Epoch 85/100\n",
            "20/20 [==============================] - 0s 7ms/step - loss: 0.1256\n",
            "Epoch 86/100\n",
            "20/20 [==============================] - 0s 7ms/step - loss: 0.1219\n",
            "Epoch 87/100\n",
            "20/20 [==============================] - 0s 7ms/step - loss: 0.1217\n",
            "Epoch 88/100\n",
            "20/20 [==============================] - 0s 7ms/step - loss: 0.1243\n",
            "Epoch 89/100\n",
            "20/20 [==============================] - 0s 6ms/step - loss: 0.1190\n",
            "Epoch 90/100\n",
            "20/20 [==============================] - 0s 7ms/step - loss: 0.1286\n",
            "Epoch 91/100\n",
            "20/20 [==============================] - 0s 7ms/step - loss: 0.1224\n",
            "Epoch 92/100\n",
            "20/20 [==============================] - 0s 8ms/step - loss: 0.1187\n",
            "Epoch 93/100\n",
            "20/20 [==============================] - 0s 7ms/step - loss: 0.1186\n",
            "Epoch 94/100\n",
            "20/20 [==============================] - 0s 7ms/step - loss: 0.1218\n",
            "Epoch 95/100\n",
            "20/20 [==============================] - 0s 7ms/step - loss: 0.1218\n",
            "Epoch 96/100\n",
            "20/20 [==============================] - 0s 7ms/step - loss: 0.1141\n",
            "Epoch 97/100\n",
            "20/20 [==============================] - 0s 7ms/step - loss: 0.1156\n",
            "Epoch 98/100\n",
            "20/20 [==============================] - 0s 7ms/step - loss: 0.1160\n",
            "Epoch 99/100\n",
            "20/20 [==============================] - 0s 7ms/step - loss: 0.1173\n",
            "Epoch 100/100\n",
            "20/20 [==============================] - 0s 7ms/step - loss: 0.1127\n",
            "Model 50 of model WindowRegression with avg smape 77.56: \n",
            "Model Number: 51 of 123 with model SeasonalNaive for Validation 2\n",
            "Model 51 of model SeasonalNaive with avg smape 80.2: \n",
            "Model Number: 52 of 123 with model RollingRegression for Validation 2\n",
            "Model 52 of model RollingRegression with avg smape 88.06: \n",
            "Model Number: 53 of 123 with model FBProphet for Validation 2\n"
          ],
          "name": "stdout"
        },
        {
          "output_type": "stream",
          "text": [
            "INFO:fbprophet:Disabling daily seasonality. Run prophet with daily_seasonality=True to override this.\n"
          ],
          "name": "stderr"
        },
        {
          "output_type": "stream",
          "text": [
            "Model 53 of model FBProphet with avg smape 37.53: \n",
            "Model Number: 54 of 123 with model SeasonalNaive for Validation 2\n"
          ],
          "name": "stdout"
        },
        {
          "output_type": "stream",
          "text": [
            "INFO:fbprophet:Disabling daily seasonality. Run prophet with daily_seasonality=True to override this.\n"
          ],
          "name": "stderr"
        },
        {
          "output_type": "stream",
          "text": [
            "Model 54 of model SeasonalNaive with avg smape 29.48: \n",
            "Model Number: 55 of 123 with model FBProphet for Validation 2\n"
          ],
          "name": "stdout"
        },
        {
          "output_type": "stream",
          "text": [
            "INFO:fbprophet:Disabling daily seasonality. Run prophet with daily_seasonality=True to override this.\n"
          ],
          "name": "stderr"
        },
        {
          "output_type": "stream",
          "text": [
            "Model 55 of model FBProphet with avg smape 44.18: \n",
            "Model Number: 56 of 123 with model FBProphet for Validation 2\n",
            "Model 56 of model FBProphet with avg smape 37.18: \n",
            "Model Number: 57 of 123 with model RollingRegression for Validation 2\n",
            "Model 57 of model RollingRegression with avg smape 89.74: \n",
            "Model Number: 58 of 123 with model FBProphet for Validation 2\n"
          ],
          "name": "stdout"
        },
        {
          "output_type": "stream",
          "text": [
            "INFO:fbprophet:Disabling daily seasonality. Run prophet with daily_seasonality=True to override this.\n",
            "INFO:fbprophet:Disabling daily seasonality. Run prophet with daily_seasonality=True to override this.\n"
          ],
          "name": "stderr"
        },
        {
          "output_type": "stream",
          "text": [
            "Model 58 of model FBProphet with avg smape 37.25: \n",
            "Model Number: 59 of 123 with model FBProphet for Validation 2\n"
          ],
          "name": "stdout"
        },
        {
          "output_type": "stream",
          "text": [
            "INFO:fbprophet:Disabling daily seasonality. Run prophet with daily_seasonality=True to override this.\n"
          ],
          "name": "stderr"
        },
        {
          "output_type": "stream",
          "text": [
            "Model 59 of model FBProphet with avg smape 36.86: \n",
            "Model Number: 60 of 123 with model FBProphet for Validation 2\n",
            "Model 60 of model FBProphet with avg smape 36.86: \n",
            "Model Number: 61 of 123 with model WindowRegression for Validation 2\n"
          ],
          "name": "stdout"
        },
        {
          "output_type": "stream",
          "text": [
            "INFO:fbprophet:Disabling daily seasonality. Run prophet with daily_seasonality=True to override this.\n"
          ],
          "name": "stderr"
        },
        {
          "output_type": "stream",
          "text": [
            "Model 61 of model WindowRegression with avg smape 47.31: \n",
            "Model Number: 62 of 123 with model FBProphet for Validation 2\n",
            "Model 62 of model FBProphet with avg smape 37.2: \n",
            "Model Number: 63 of 123 with model ETS for Validation 2\n"
          ],
          "name": "stdout"
        },
        {
          "output_type": "stream",
          "text": [
            "INFO:fbprophet:Disabling daily seasonality. Run prophet with daily_seasonality=True to override this.\n"
          ],
          "name": "stderr"
        },
        {
          "output_type": "stream",
          "text": [
            "Model 63 of model ETS with avg smape 51.9: \n",
            "Model Number: 64 of 123 with model FBProphet for Validation 2\n"
          ],
          "name": "stdout"
        },
        {
          "output_type": "stream",
          "text": [
            "INFO:fbprophet:Disabling daily seasonality. Run prophet with daily_seasonality=True to override this.\n"
          ],
          "name": "stderr"
        },
        {
          "output_type": "stream",
          "text": [
            "Model 64 of model FBProphet with avg smape 36.99: \n",
            "Model Number: 65 of 123 with model FBProphet for Validation 2\n",
            "Model 65 of model FBProphet with avg smape 36.99: \n",
            "Model Number: 66 of 123 with model WindowRegression for Validation 2\n",
            "Model 66 of model WindowRegression with avg smape 48.85: \n",
            "Model Number: 67 of 123 with model DatepartRegression for Validation 2\n",
            "Model 67 of model DatepartRegression with avg smape 41.78: \n",
            "Model Number: 68 of 123 with model WindowRegression for Validation 2\n",
            "Model 68 of model WindowRegression with avg smape 19.91: \n",
            "Model Number: 69 of 123 with model UnobservedComponents for Validation 2\n",
            "Model 69 of model UnobservedComponents with avg smape 52.0: \n",
            "Model Number: 70 of 123 with model LastValueNaive for Validation 2\n",
            "Model 70 of model LastValueNaive with avg smape 85.77: \n",
            "Model Number: 71 of 123 with model UnobservedComponents for Validation 2\n",
            "Model 71 of model UnobservedComponents with avg smape 52.0: \n",
            "Model Number: 72 of 123 with model WindowRegression for Validation 2\n"
          ],
          "name": "stdout"
        },
        {
          "output_type": "stream",
          "text": [
            "[Parallel(n_jobs=1)]: Using backend SequentialBackend with 1 concurrent workers.\n",
            "[Parallel(n_jobs=1)]: Done 1000 out of 1000 | elapsed:   21.1s finished\n",
            "[Parallel(n_jobs=1)]: Using backend SequentialBackend with 1 concurrent workers.\n",
            "[Parallel(n_jobs=1)]: Done 1000 out of 1000 | elapsed:    0.1s finished\n",
            "[Parallel(n_jobs=1)]: Using backend SequentialBackend with 1 concurrent workers.\n",
            "[Parallel(n_jobs=1)]: Done 1000 out of 1000 | elapsed:    0.1s finished\n",
            "[Parallel(n_jobs=1)]: Using backend SequentialBackend with 1 concurrent workers.\n",
            "[Parallel(n_jobs=1)]: Done 1000 out of 1000 | elapsed:    0.1s finished\n",
            "[Parallel(n_jobs=1)]: Using backend SequentialBackend with 1 concurrent workers.\n",
            "[Parallel(n_jobs=1)]: Done 1000 out of 1000 | elapsed:    0.1s finished\n",
            "[Parallel(n_jobs=1)]: Using backend SequentialBackend with 1 concurrent workers.\n",
            "[Parallel(n_jobs=1)]: Done 1000 out of 1000 | elapsed:    0.1s finished\n",
            "[Parallel(n_jobs=1)]: Using backend SequentialBackend with 1 concurrent workers.\n"
          ],
          "name": "stderr"
        },
        {
          "output_type": "stream",
          "text": [
            "Model 72 of model WindowRegression with avg smape 71.27: \n",
            "Model Number: 73 of 123 with model LastValueNaive for Validation 2\n",
            "Model 73 of model LastValueNaive with avg smape 61.95: \n",
            "Model Number: 74 of 123 with model LastValueNaive for Validation 2\n",
            "Model 74 of model LastValueNaive with avg smape 77.94: \n",
            "Model Number: 75 of 123 with model UnobservedComponents for Validation 2\n"
          ],
          "name": "stdout"
        },
        {
          "output_type": "stream",
          "text": [
            "[Parallel(n_jobs=1)]: Done 1000 out of 1000 | elapsed:    0.1s finished\n",
            "[Parallel(n_jobs=1)]: Using backend SequentialBackend with 1 concurrent workers.\n",
            "[Parallel(n_jobs=1)]: Done 1000 out of 1000 | elapsed:    0.1s finished\n"
          ],
          "name": "stderr"
        },
        {
          "output_type": "stream",
          "text": [
            "Model 75 of model UnobservedComponents with avg smape 52.0: \n",
            "Model Number: 76 of 123 with model DatepartRegression for Validation 2\n"
          ],
          "name": "stdout"
        },
        {
          "output_type": "stream",
          "text": [
            "[Parallel(n_jobs=1)]: Using backend SequentialBackend with 1 concurrent workers.\n",
            "[Parallel(n_jobs=1)]: Done 1000 out of 1000 | elapsed:    4.5s finished\n",
            "[Parallel(n_jobs=1)]: Using backend SequentialBackend with 1 concurrent workers.\n",
            "[Parallel(n_jobs=1)]: Done 1000 out of 1000 | elapsed:    0.1s finished\n"
          ],
          "name": "stderr"
        },
        {
          "output_type": "stream",
          "text": [
            "Model 76 of model DatepartRegression with avg smape 41.38: \n",
            "Model Number: 77 of 123 with model DatepartRegression for Validation 2\n",
            "Model 77 of model DatepartRegression with avg smape 32.88: \n",
            "Model Number: 78 of 123 with model UnobservedComponents for Validation 2\n",
            "Model 78 of model UnobservedComponents with avg smape 52.0: \n",
            "Model Number: 79 of 123 with model LastValueNaive for Validation 2\n",
            "Model 79 of model LastValueNaive with avg smape 86.58: \n",
            "Model Number: 80 of 123 with model GLS for Validation 2\n",
            "Model 80 of model GLS with avg smape 28.83: \n",
            "Model Number: 81 of 123 with model GLS for Validation 2\n",
            "Model 81 of model GLS with avg smape 30.53: \n",
            "Model Number: 82 of 123 with model LastValueNaive for Validation 2\n",
            "Model 82 of model LastValueNaive with avg smape 86.58: \n",
            "Model Number: 83 of 123 with model LastValueNaive for Validation 2\n",
            "Model 83 of model LastValueNaive with avg smape 86.58: \n",
            "Model Number: 84 of 123 with model LastValueNaive for Validation 2\n",
            "Model 84 of model LastValueNaive with avg smape 86.58: \n",
            "Model Number: 85 of 123 with model LastValueNaive for Validation 2\n",
            "Model 85 of model LastValueNaive with avg smape 86.58: \n",
            "Model Number: 86 of 123 with model UnobservedComponents for Validation 2\n",
            "Model 86 of model UnobservedComponents with avg smape 86.55: \n",
            "Model Number: 87 of 123 with model UnobservedComponents for Validation 2\n",
            "Model 87 of model UnobservedComponents with avg smape 86.55: \n",
            "Model Number: 88 of 123 with model UnobservedComponents for Validation 2\n",
            "Model 88 of model UnobservedComponents with avg smape 86.58: \n",
            "Model Number: 89 of 123 with model UnobservedComponents for Validation 2\n",
            "Model 89 of model UnobservedComponents with avg smape 86.58: \n",
            "Model Number: 90 of 123 with model WindowRegression for Validation 2\n",
            "Model 90 of model WindowRegression with avg smape 34.83: \n",
            "Model Number: 91 of 123 with model LastValueNaive for Validation 2\n",
            "Model 91 of model LastValueNaive with avg smape 86.58: \n",
            "Model Number: 92 of 123 with model UnobservedComponents for Validation 2\n",
            "Model 92 of model UnobservedComponents with avg smape 86.55: \n",
            "Model Number: 93 of 123 with model UnobservedComponents for Validation 2\n",
            "Model 93 of model UnobservedComponents with avg smape 86.58: \n",
            "Model Number: 94 of 123 with model DatepartRegression for Validation 2\n"
          ],
          "name": "stdout"
        },
        {
          "output_type": "stream",
          "text": [
            "[Parallel(n_jobs=1)]: Using backend SequentialBackend with 1 concurrent workers.\n"
          ],
          "name": "stderr"
        },
        {
          "output_type": "stream",
          "text": [
            "Model 94 of model DatepartRegression with avg smape 49.95: \n",
            "Model Number: 95 of 123 with model GLS for Validation 2\n"
          ],
          "name": "stdout"
        },
        {
          "output_type": "stream",
          "text": [
            "[Parallel(n_jobs=1)]: Done 1000 out of 1000 | elapsed:    2.1s finished\n",
            "[Parallel(n_jobs=1)]: Using backend SequentialBackend with 1 concurrent workers.\n",
            "[Parallel(n_jobs=1)]: Done 1000 out of 1000 | elapsed:    0.1s finished\n"
          ],
          "name": "stderr"
        },
        {
          "output_type": "stream",
          "text": [
            "Model 95 of model GLS with avg smape 28.54: \n",
            "Model Number: 96 of 123 with model GLS for Validation 2\n",
            "Model 96 of model GLS with avg smape 28.49: \n",
            "Model Number: 97 of 123 with model DatepartRegression for Validation 2\n",
            "Model 97 of model DatepartRegression with avg smape 28.48: \n",
            "Model Number: 98 of 123 with model ZeroesNaive for Validation 2\n",
            "Model 98 of model ZeroesNaive with avg smape 86.58: \n",
            "Model Number: 99 of 123 with model ZeroesNaive for Validation 2\n",
            "Model 99 of model ZeroesNaive with avg smape 86.58: \n",
            "Model Number: 100 of 123 with model ZeroesNaive for Validation 2\n",
            "Model 100 of model ZeroesNaive with avg smape 86.58: \n",
            "Model Number: 101 of 123 with model ZeroesNaive for Validation 2\n",
            "Model 101 of model ZeroesNaive with avg smape 86.58: \n",
            "Model Number: 102 of 123 with model ZeroesNaive for Validation 2\n",
            "Model 102 of model ZeroesNaive with avg smape 86.58: \n",
            "Model Number: 103 of 123 with model ZeroesNaive for Validation 2\n",
            "Model 103 of model ZeroesNaive with avg smape 86.58: \n",
            "Model Number: 104 of 123 with model DatepartRegression for Validation 2\n",
            "Model 104 of model DatepartRegression with avg smape 29.34: \n",
            "Model Number: 105 of 123 with model WindowRegression for Validation 2\n",
            "Model 105 of model WindowRegression with avg smape 43.36: \n",
            "Model Number: 106 of 123 with model GLS for Validation 2\n",
            "Model 106 of model GLS with avg smape 40.36: \n",
            "Model Number: 107 of 123 with model GLS for Validation 2\n",
            "Model 107 of model GLS with avg smape 40.61: \n",
            "Model Number: 108 of 123 with model GLS for Validation 2\n",
            "Model 108 of model GLS with avg smape 45.21: \n",
            "Model Number: 109 of 123 with model GLS for Validation 2\n",
            "Model 109 of model GLS with avg smape 46.37: \n",
            "Model Number: 110 of 123 with model ZeroesNaive for Validation 2\n",
            "Model 110 of model ZeroesNaive with avg smape 44.73: \n",
            "Model Number: 111 of 123 with model ZeroesNaive for Validation 2\n",
            "Model 111 of model ZeroesNaive with avg smape 85.99: \n",
            "Model Number: 112 of 123 with model ZeroesNaive for Validation 2\n",
            "Model 112 of model ZeroesNaive with avg smape 65.79: \n",
            "Model Number: 113 of 123 with model ZeroesNaive for Validation 2\n",
            "Model 113 of model ZeroesNaive with avg smape 83.34: \n",
            "Model Number: 114 of 123 with model GLM for Validation 2\n",
            "Model 114 of model GLM with avg smape 35.56: \n",
            "Model Number: 115 of 123 with model GLM for Validation 2\n",
            "Model 115 of model GLM with avg smape 35.72: \n",
            "Model Number: 116 of 123 with model GLM for Validation 2\n",
            "Model 116 of model GLM with avg smape 35.72: \n",
            "Model Number: 117 of 123 with model GLM for Validation 2\n",
            "Model 117 of model GLM with avg smape 88.75: \n",
            "Model Number: 118 of 123 with model GLM for Validation 2\n",
            "Model 118 of model GLM with avg smape 43.48: \n",
            "Model Number: 119 of 123 with model GLM for Validation 2\n",
            "Model 119 of model GLM with avg smape 41.24: \n",
            "Model Number: 120 of 123 with model GLM for Validation 2\n",
            "Model 120 of model GLM with avg smape 44.34: \n",
            "Model Number: 121 of 123 with model GLM for Validation 2\n",
            "Model 121 of model GLM with avg smape 44.34: \n",
            "Model Number: 122 of 123 with model GLM for Validation 2\n",
            "Model 122 of model GLM with avg smape 42.05: \n",
            "Model Number: 123 of 123 with model GLM for Validation 2\n",
            "Model 123 of model GLM with avg smape 44.87: \n",
            "Auto-detected 1 cpus for n_jobs.\n"
          ],
          "name": "stdout"
        }
      ]
    },
    {
      "cell_type": "code",
      "metadata": {
        "colab": {
          "base_uri": "https://localhost:8080/",
          "height": 266
        },
        "id": "LhP-Epw_lTvk",
        "outputId": "a70cc221-aec1-4451-8346-ebed6ca8f62f"
      },
      "source": [
        "df_col_merged.tail(7)"
      ],
      "execution_count": 44,
      "outputs": [
        {
          "output_type": "execute_result",
          "data": {
            "text/html": [
              "<div>\n",
              "<style scoped>\n",
              "    .dataframe tbody tr th:only-of-type {\n",
              "        vertical-align: middle;\n",
              "    }\n",
              "\n",
              "    .dataframe tbody tr th {\n",
              "        vertical-align: top;\n",
              "    }\n",
              "\n",
              "    .dataframe thead th {\n",
              "        text-align: right;\n",
              "    }\n",
              "</style>\n",
              "<table border=\"1\" class=\"dataframe\">\n",
              "  <thead>\n",
              "    <tr style=\"text-align: right;\">\n",
              "      <th></th>\n",
              "      <th>Sales</th>\n",
              "      <th>data</th>\n",
              "    </tr>\n",
              "  </thead>\n",
              "  <tbody>\n",
              "    <tr>\n",
              "      <th>2018-12-24</th>\n",
              "      <td>1027.14</td>\n",
              "      <td>2018-12-24</td>\n",
              "    </tr>\n",
              "    <tr>\n",
              "      <th>2018-12-25</th>\n",
              "      <td>1673.72</td>\n",
              "      <td>2018-12-25</td>\n",
              "    </tr>\n",
              "    <tr>\n",
              "      <th>2018-12-26</th>\n",
              "      <td>63.91</td>\n",
              "      <td>2018-12-26</td>\n",
              "    </tr>\n",
              "    <tr>\n",
              "      <th>2018-12-27</th>\n",
              "      <td>13.25</td>\n",
              "      <td>2018-12-27</td>\n",
              "    </tr>\n",
              "    <tr>\n",
              "      <th>2018-12-28</th>\n",
              "      <td>589.13</td>\n",
              "      <td>2018-12-28</td>\n",
              "    </tr>\n",
              "    <tr>\n",
              "      <th>2018-12-29</th>\n",
              "      <td>1104.43</td>\n",
              "      <td>2018-12-29</td>\n",
              "    </tr>\n",
              "    <tr>\n",
              "      <th>2018-12-30</th>\n",
              "      <td>713.79</td>\n",
              "      <td>2018-12-30</td>\n",
              "    </tr>\n",
              "  </tbody>\n",
              "</table>\n",
              "</div>"
            ],
            "text/plain": [
              "              Sales       data\n",
              "2018-12-24  1027.14 2018-12-24\n",
              "2018-12-25  1673.72 2018-12-25\n",
              "2018-12-26    63.91 2018-12-26\n",
              "2018-12-27    13.25 2018-12-27\n",
              "2018-12-28   589.13 2018-12-28\n",
              "2018-12-29  1104.43 2018-12-29\n",
              "2018-12-30   713.79 2018-12-30"
            ]
          },
          "metadata": {
            "tags": []
          },
          "execution_count": 44
        }
      ]
    },
    {
      "cell_type": "code",
      "metadata": {
        "colab": {
          "base_uri": "https://localhost:8080/",
          "height": 266
        },
        "id": "0tF0P8Z-lVOi",
        "outputId": "c0070677-b467-42a1-ca9d-45a47639fa68"
      },
      "source": [
        "forecast"
      ],
      "execution_count": 47,
      "outputs": [
        {
          "output_type": "execute_result",
          "data": {
            "text/html": [
              "<div>\n",
              "<style scoped>\n",
              "    .dataframe tbody tr th:only-of-type {\n",
              "        vertical-align: middle;\n",
              "    }\n",
              "\n",
              "    .dataframe tbody tr th {\n",
              "        vertical-align: top;\n",
              "    }\n",
              "\n",
              "    .dataframe thead th {\n",
              "        text-align: right;\n",
              "    }\n",
              "</style>\n",
              "<table border=\"1\" class=\"dataframe\">\n",
              "  <thead>\n",
              "    <tr style=\"text-align: right;\">\n",
              "      <th></th>\n",
              "      <th>Sales</th>\n",
              "    </tr>\n",
              "  </thead>\n",
              "  <tbody>\n",
              "    <tr>\n",
              "      <th>2018-12-31</th>\n",
              "      <td>569.931971</td>\n",
              "    </tr>\n",
              "    <tr>\n",
              "      <th>2019-01-01</th>\n",
              "      <td>772.967878</td>\n",
              "    </tr>\n",
              "    <tr>\n",
              "      <th>2019-01-02</th>\n",
              "      <td>442.010835</td>\n",
              "    </tr>\n",
              "    <tr>\n",
              "      <th>2019-01-03</th>\n",
              "      <td>27.977766</td>\n",
              "    </tr>\n",
              "    <tr>\n",
              "      <th>2019-01-04</th>\n",
              "      <td>399.155684</td>\n",
              "    </tr>\n",
              "    <tr>\n",
              "      <th>2019-01-05</th>\n",
              "      <td>442.483878</td>\n",
              "    </tr>\n",
              "    <tr>\n",
              "      <th>2019-01-06</th>\n",
              "      <td>564.139471</td>\n",
              "    </tr>\n",
              "  </tbody>\n",
              "</table>\n",
              "</div>"
            ],
            "text/plain": [
              "                 Sales\n",
              "2018-12-31  569.931971\n",
              "2019-01-01  772.967878\n",
              "2019-01-02  442.010835\n",
              "2019-01-03   27.977766\n",
              "2019-01-04  399.155684\n",
              "2019-01-05  442.483878\n",
              "2019-01-06  564.139471"
            ]
          },
          "metadata": {
            "tags": []
          },
          "execution_count": 47
        }
      ]
    },
    {
      "cell_type": "code",
      "metadata": {
        "colab": {
          "base_uri": "https://localhost:8080/",
          "height": 266
        },
        "id": "KqaRP9h8oVKk",
        "outputId": "2b6bbc58-c2d7-4799-9d19-d88258bad61a"
      },
      "source": [
        "plot = pd.DataFrame(forecast.round(2))\n",
        "plot['Data'] = plot.index\n",
        "plot"
      ],
      "execution_count": 67,
      "outputs": [
        {
          "output_type": "execute_result",
          "data": {
            "text/html": [
              "<div>\n",
              "<style scoped>\n",
              "    .dataframe tbody tr th:only-of-type {\n",
              "        vertical-align: middle;\n",
              "    }\n",
              "\n",
              "    .dataframe tbody tr th {\n",
              "        vertical-align: top;\n",
              "    }\n",
              "\n",
              "    .dataframe thead th {\n",
              "        text-align: right;\n",
              "    }\n",
              "</style>\n",
              "<table border=\"1\" class=\"dataframe\">\n",
              "  <thead>\n",
              "    <tr style=\"text-align: right;\">\n",
              "      <th></th>\n",
              "      <th>Sales</th>\n",
              "      <th>Data</th>\n",
              "    </tr>\n",
              "  </thead>\n",
              "  <tbody>\n",
              "    <tr>\n",
              "      <th>2018-12-31</th>\n",
              "      <td>569.93</td>\n",
              "      <td>2018-12-31</td>\n",
              "    </tr>\n",
              "    <tr>\n",
              "      <th>2019-01-01</th>\n",
              "      <td>772.97</td>\n",
              "      <td>2019-01-01</td>\n",
              "    </tr>\n",
              "    <tr>\n",
              "      <th>2019-01-02</th>\n",
              "      <td>442.01</td>\n",
              "      <td>2019-01-02</td>\n",
              "    </tr>\n",
              "    <tr>\n",
              "      <th>2019-01-03</th>\n",
              "      <td>27.98</td>\n",
              "      <td>2019-01-03</td>\n",
              "    </tr>\n",
              "    <tr>\n",
              "      <th>2019-01-04</th>\n",
              "      <td>399.16</td>\n",
              "      <td>2019-01-04</td>\n",
              "    </tr>\n",
              "    <tr>\n",
              "      <th>2019-01-05</th>\n",
              "      <td>442.48</td>\n",
              "      <td>2019-01-05</td>\n",
              "    </tr>\n",
              "    <tr>\n",
              "      <th>2019-01-06</th>\n",
              "      <td>564.14</td>\n",
              "      <td>2019-01-06</td>\n",
              "    </tr>\n",
              "  </tbody>\n",
              "</table>\n",
              "</div>"
            ],
            "text/plain": [
              "             Sales       Data\n",
              "2018-12-31  569.93 2018-12-31\n",
              "2019-01-01  772.97 2019-01-01\n",
              "2019-01-02  442.01 2019-01-02\n",
              "2019-01-03   27.98 2019-01-03\n",
              "2019-01-04  399.16 2019-01-04\n",
              "2019-01-05  442.48 2019-01-05\n",
              "2019-01-06  564.14 2019-01-06"
            ]
          },
          "metadata": {
            "tags": []
          },
          "execution_count": 67
        }
      ]
    },
    {
      "cell_type": "code",
      "metadata": {
        "colab": {
          "base_uri": "https://localhost:8080/",
          "height": 346
        },
        "id": "dCvgF2S-mZoj",
        "outputId": "5bafc3f3-cae1-42dd-c5c2-f18bcb1a8fce"
      },
      "source": [
        "plot.Sales.plot(kind='bar');"
      ],
      "execution_count": 69,
      "outputs": [
        {
          "output_type": "display_data",
          "data": {
            "image/png": "[encoded data removed]",
            "text/plain": [
              "<Figure size 432x288 with 1 Axes>"
            ]
          },
          "metadata": {
            "tags": []
          }
        }
      ]
    },
    {
      "cell_type": "code",
      "metadata": {
        "id": "VdID6U53RbBP"
      },
      "source": [
        "forecast.round(2).to_csv('previsao7dias.csv')"
      ],
      "execution_count": 46,
      "outputs": []
    }
  ]
}