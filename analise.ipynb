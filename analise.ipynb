{
 "cells": [
  {
   "cell_type": "code",
   "execution_count": 2,
   "source": [
    "import pandas as pd\r\n",
    "pd.set_option('display.max_columns', None)\r\n",
    "import numpy as np\r\n",
    "import warnings\r\n",
    "warnings.filterwarnings(\"ignore\")"
   ],
   "outputs": [],
   "metadata": {}
  },
  {
   "cell_type": "code",
   "execution_count": 4,
   "source": [
    "dados = pd.read_csv('dados_limpos.csv')\r\n",
    "dados.drop(columns='Unnamed: 0', inplace=True)\r\n",
    "dados.head(3)"
   ],
   "outputs": [
    {
     "output_type": "execute_result",
     "data": {
      "text/plain": [
       "   Order ID  Order Date   Ship Date       Ship Mode  Customer ID    Segment  \\\n",
       "0         0  2017-11-08  2017-11-11    Second Class            0   Consumer   \n",
       "1         1  2017-06-12  2017-06-16    Second Class            1  Corporate   \n",
       "2         2  2016-10-11  2016-10-18  Standard Class            2   Consumer   \n",
       "\n",
       "              City       State Region  Product ID         Category  \\\n",
       "0        Henderson    Kentucky  South           0        Furniture   \n",
       "1      Los Angeles  California   West           2  Office Supplies   \n",
       "2  Fort Lauderdale     Florida  South           4  Office Supplies   \n",
       "\n",
       "  Sub-Category    Sales  Quantity  Discount   Profit  \n",
       "0    Bookcases  261.960       2.0       0.0  41.9136  \n",
       "1       Labels   14.620       2.0       0.0   6.8714  \n",
       "2      Storage   22.368       2.0       0.2   2.5164  "
      ],
      "text/html": [
       "<div>\n",
       "<style scoped>\n",
       "    .dataframe tbody tr th:only-of-type {\n",
       "        vertical-align: middle;\n",
       "    }\n",
       "\n",
       "    .dataframe tbody tr th {\n",
       "        vertical-align: top;\n",
       "    }\n",
       "\n",
       "    .dataframe thead th {\n",
       "        text-align: right;\n",
       "    }\n",
       "</style>\n",
       "<table border=\"1\" class=\"dataframe\">\n",
       "  <thead>\n",
       "    <tr style=\"text-align: right;\">\n",
       "      <th></th>\n",
       "      <th>Order ID</th>\n",
       "      <th>Order Date</th>\n",
       "      <th>Ship Date</th>\n",
       "      <th>Ship Mode</th>\n",
       "      <th>Customer ID</th>\n",
       "      <th>Segment</th>\n",
       "      <th>City</th>\n",
       "      <th>State</th>\n",
       "      <th>Region</th>\n",
       "      <th>Product ID</th>\n",
       "      <th>Category</th>\n",
       "      <th>Sub-Category</th>\n",
       "      <th>Sales</th>\n",
       "      <th>Quantity</th>\n",
       "      <th>Discount</th>\n",
       "      <th>Profit</th>\n",
       "    </tr>\n",
       "  </thead>\n",
       "  <tbody>\n",
       "    <tr>\n",
       "      <th>0</th>\n",
       "      <td>0</td>\n",
       "      <td>2017-11-08</td>\n",
       "      <td>2017-11-11</td>\n",
       "      <td>Second Class</td>\n",
       "      <td>0</td>\n",
       "      <td>Consumer</td>\n",
       "      <td>Henderson</td>\n",
       "      <td>Kentucky</td>\n",
       "      <td>South</td>\n",
       "      <td>0</td>\n",
       "      <td>Furniture</td>\n",
       "      <td>Bookcases</td>\n",
       "      <td>261.960</td>\n",
       "      <td>2.0</td>\n",
       "      <td>0.0</td>\n",
       "      <td>41.9136</td>\n",
       "    </tr>\n",
       "    <tr>\n",
       "      <th>1</th>\n",
       "      <td>1</td>\n",
       "      <td>2017-06-12</td>\n",
       "      <td>2017-06-16</td>\n",
       "      <td>Second Class</td>\n",
       "      <td>1</td>\n",
       "      <td>Corporate</td>\n",
       "      <td>Los Angeles</td>\n",
       "      <td>California</td>\n",
       "      <td>West</td>\n",
       "      <td>2</td>\n",
       "      <td>Office Supplies</td>\n",
       "      <td>Labels</td>\n",
       "      <td>14.620</td>\n",
       "      <td>2.0</td>\n",
       "      <td>0.0</td>\n",
       "      <td>6.8714</td>\n",
       "    </tr>\n",
       "    <tr>\n",
       "      <th>2</th>\n",
       "      <td>2</td>\n",
       "      <td>2016-10-11</td>\n",
       "      <td>2016-10-18</td>\n",
       "      <td>Standard Class</td>\n",
       "      <td>2</td>\n",
       "      <td>Consumer</td>\n",
       "      <td>Fort Lauderdale</td>\n",
       "      <td>Florida</td>\n",
       "      <td>South</td>\n",
       "      <td>4</td>\n",
       "      <td>Office Supplies</td>\n",
       "      <td>Storage</td>\n",
       "      <td>22.368</td>\n",
       "      <td>2.0</td>\n",
       "      <td>0.2</td>\n",
       "      <td>2.5164</td>\n",
       "    </tr>\n",
       "  </tbody>\n",
       "</table>\n",
       "</div>"
      ]
     },
     "metadata": {},
     "execution_count": 4
    }
   ],
   "metadata": {}
  },
  {
   "cell_type": "code",
   "execution_count": 6,
   "source": [
    "dados['Ship Date'] = pd.to_datetime(dados['Ship Date'])\r\n",
    "dados['Order Date'] = pd.to_datetime(dados['Order Date'])"
   ],
   "outputs": [],
   "metadata": {}
  },
  {
   "cell_type": "markdown",
   "source": [
    "ANÁLISE ESTATISTICA"
   ],
   "metadata": {}
  },
  {
   "cell_type": "code",
   "execution_count": 8,
   "source": [
    "dados.describe() "
   ],
   "outputs": [
    {
     "output_type": "execute_result",
     "data": {
      "text/plain": [
       "          Order ID  Customer ID   Product ID        Sales     Quantity  \\\n",
       "count  7779.000000  7779.000000  7779.000000  7779.000000  7779.000000   \n",
       "mean   2476.553799   363.913999   828.097185    78.360695     3.435789   \n",
       "std    1446.766576   223.726717   507.892147    97.190887     1.887988   \n",
       "min       0.000000     0.000000     0.000000     0.852000     1.000000   \n",
       "25%    1213.000000   170.000000   393.000000    14.760000     2.000000   \n",
       "50%    2471.000000   352.000000   799.000000    36.400000     3.000000   \n",
       "75%    3714.000000   554.000000  1238.500000   101.910000     5.000000   \n",
       "max    5008.000000   792.000000  1861.000000   499.584000     9.000000   \n",
       "\n",
       "          Discount       Profit  \n",
       "count  7779.000000  7779.000000  \n",
       "mean      0.124002    14.823867  \n",
       "std       0.166164    21.518171  \n",
       "min       0.000000   -29.940000  \n",
       "25%       0.000000     2.814850  \n",
       "50%       0.000000     8.205600  \n",
       "75%       0.200000    20.874950  \n",
       "max       0.700000    99.940800  "
      ],
      "text/html": [
       "<div>\n",
       "<style scoped>\n",
       "    .dataframe tbody tr th:only-of-type {\n",
       "        vertical-align: middle;\n",
       "    }\n",
       "\n",
       "    .dataframe tbody tr th {\n",
       "        vertical-align: top;\n",
       "    }\n",
       "\n",
       "    .dataframe thead th {\n",
       "        text-align: right;\n",
       "    }\n",
       "</style>\n",
       "<table border=\"1\" class=\"dataframe\">\n",
       "  <thead>\n",
       "    <tr style=\"text-align: right;\">\n",
       "      <th></th>\n",
       "      <th>Order ID</th>\n",
       "      <th>Customer ID</th>\n",
       "      <th>Product ID</th>\n",
       "      <th>Sales</th>\n",
       "      <th>Quantity</th>\n",
       "      <th>Discount</th>\n",
       "      <th>Profit</th>\n",
       "    </tr>\n",
       "  </thead>\n",
       "  <tbody>\n",
       "    <tr>\n",
       "      <th>count</th>\n",
       "      <td>7779.000000</td>\n",
       "      <td>7779.000000</td>\n",
       "      <td>7779.000000</td>\n",
       "      <td>7779.000000</td>\n",
       "      <td>7779.000000</td>\n",
       "      <td>7779.000000</td>\n",
       "      <td>7779.000000</td>\n",
       "    </tr>\n",
       "    <tr>\n",
       "      <th>mean</th>\n",
       "      <td>2476.553799</td>\n",
       "      <td>363.913999</td>\n",
       "      <td>828.097185</td>\n",
       "      <td>78.360695</td>\n",
       "      <td>3.435789</td>\n",
       "      <td>0.124002</td>\n",
       "      <td>14.823867</td>\n",
       "    </tr>\n",
       "    <tr>\n",
       "      <th>std</th>\n",
       "      <td>1446.766576</td>\n",
       "      <td>223.726717</td>\n",
       "      <td>507.892147</td>\n",
       "      <td>97.190887</td>\n",
       "      <td>1.887988</td>\n",
       "      <td>0.166164</td>\n",
       "      <td>21.518171</td>\n",
       "    </tr>\n",
       "    <tr>\n",
       "      <th>min</th>\n",
       "      <td>0.000000</td>\n",
       "      <td>0.000000</td>\n",
       "      <td>0.000000</td>\n",
       "      <td>0.852000</td>\n",
       "      <td>1.000000</td>\n",
       "      <td>0.000000</td>\n",
       "      <td>-29.940000</td>\n",
       "    </tr>\n",
       "    <tr>\n",
       "      <th>25%</th>\n",
       "      <td>1213.000000</td>\n",
       "      <td>170.000000</td>\n",
       "      <td>393.000000</td>\n",
       "      <td>14.760000</td>\n",
       "      <td>2.000000</td>\n",
       "      <td>0.000000</td>\n",
       "      <td>2.814850</td>\n",
       "    </tr>\n",
       "    <tr>\n",
       "      <th>50%</th>\n",
       "      <td>2471.000000</td>\n",
       "      <td>352.000000</td>\n",
       "      <td>799.000000</td>\n",
       "      <td>36.400000</td>\n",
       "      <td>3.000000</td>\n",
       "      <td>0.000000</td>\n",
       "      <td>8.205600</td>\n",
       "    </tr>\n",
       "    <tr>\n",
       "      <th>75%</th>\n",
       "      <td>3714.000000</td>\n",
       "      <td>554.000000</td>\n",
       "      <td>1238.500000</td>\n",
       "      <td>101.910000</td>\n",
       "      <td>5.000000</td>\n",
       "      <td>0.200000</td>\n",
       "      <td>20.874950</td>\n",
       "    </tr>\n",
       "    <tr>\n",
       "      <th>max</th>\n",
       "      <td>5008.000000</td>\n",
       "      <td>792.000000</td>\n",
       "      <td>1861.000000</td>\n",
       "      <td>499.584000</td>\n",
       "      <td>9.000000</td>\n",
       "      <td>0.700000</td>\n",
       "      <td>99.940800</td>\n",
       "    </tr>\n",
       "  </tbody>\n",
       "</table>\n",
       "</div>"
      ]
     },
     "metadata": {},
     "execution_count": 8
    }
   ],
   "metadata": {}
  },
  {
   "cell_type": "code",
   "execution_count": 15,
   "source": [
    "import seaborn as sns\r\n",
    "corr = dados.corr()\r\n",
    "sns.heatmap(corr);"
   ],
   "outputs": [
    {
     "output_type": "display_data",
     "data": {
      "text/plain": [
       "<Figure size 432x288 with 2 Axes>"
      ],
      "image/svg+xml": "<?xml version=\"1.0\" encoding=\"utf-8\" standalone=\"no\"?>\r\n<!DOCTYPE svg PUBLIC \"-//W3C//DTD SVG 1.1//EN\"\r\n  \"http://www.w3.org/Graphics/SVG/1.1/DTD/svg11.dtd\">\r\n<svg height=\"305.040781pt\" version=\"1.1\" viewBox=\"0 0 410.536375 305.040781\" width=\"410.536375pt\" xmlns=\"http://www.w3.org/2000/svg\" xmlns:xlink=\"http://www.w3.org/1999/xlink\">\r\n <metadata>\r\n  <rdf:RDF xmlns:cc=\"http://creativecommons.org/ns#\" xmlns:dc=\"http://purl.org/dc/elements/1.1/\" xmlns:rdf=\"http://www.w3.org/1999/02/22-rdf-syntax-ns#\">\r\n   <cc:Work>\r\n    <dc:type rdf:resource=\"http://purl.org/dc/dcmitype/StillImage\"/>\r\n    <dc:date>2021-08-12T09:53:24.154830</dc:date>\r\n    <dc:format>image/svg+xml</dc:format>\r\n    <dc:creator>\r\n     <cc:Agent>\r\n      <dc:title>Matplotlib v3.4.2, https://matplotlib.org/</dc:title>\r\n     </cc:Agent>\r\n    </dc:creator>\r\n   </cc:Work>\r\n  </rdf:RDF>\r\n </metadata>\r\n <defs>\r\n  <style type=\"text/css\">*{stroke-linecap:butt;stroke-linejoin:round;}</style>\r\n </defs>\r\n <g id=\"figure_1\">\r\n  <g id=\"patch_1\">\r\n   <path d=\"M 0 305.040781 \r\nL 410.536375 305.040781 \r\nL 410.536375 0 \r\nL 0 0 \r\nz\r\n\" style=\"fill:none;\"/>\r\n  </g>\r\n  <g id=\"axes_1\">\r\n   <g id=\"patch_2\">\r\n    <path d=\"M 76.601562 228.439219 \r\nL 344.441563 228.439219 \r\nL 344.441563 10.999219 \r\nL 76.601562 10.999219 \r\nz\r\n\" style=\"fill:#ffffff;\"/>\r\n   </g>\r\n   <g id=\"QuadMesh_1\">\r\n    <path clip-path=\"url(#p8ef4d5753f)\" d=\"M 76.601562 10.999219 \r\nL 114.86442 10.999219 \r\nL 114.86442 42.062076 \r\nL 76.601562 42.062076 \r\nL 76.601562 10.999219 \r\n\" style=\"fill:#faebdd;\"/>\r\n    <path clip-path=\"url(#p8ef4d5753f)\" d=\"M 114.86442 10.999219 \r\nL 153.127277 10.999219 \r\nL 153.127277 42.062076 \r\nL 114.86442 42.062076 \r\nL 114.86442 10.999219 \r\n\" style=\"fill:#ab185a;\"/>\r\n    <path clip-path=\"url(#p8ef4d5753f)\" d=\"M 153.127277 10.999219 \r\nL 191.390134 10.999219 \r\nL 191.390134 42.062076 \r\nL 153.127277 42.062076 \r\nL 153.127277 10.999219 \r\n\" style=\"fill:#ba1656;\"/>\r\n    <path clip-path=\"url(#p8ef4d5753f)\" d=\"M 191.390134 10.999219 \r\nL 229.652991 10.999219 \r\nL 229.652991 42.062076 \r\nL 191.390134 42.062076 \r\nL 191.390134 10.999219 \r\n\" style=\"fill:#691f55;\"/>\r\n    <path clip-path=\"url(#p8ef4d5753f)\" d=\"M 229.652991 10.999219 \r\nL 267.915848 10.999219 \r\nL 267.915848 42.062076 \r\nL 229.652991 42.062076 \r\nL 229.652991 10.999219 \r\n\" style=\"fill:#691f55;\"/>\r\n    <path clip-path=\"url(#p8ef4d5753f)\" d=\"M 267.915848 10.999219 \r\nL 306.178705 10.999219 \r\nL 306.178705 42.062076 \r\nL 267.915848 42.062076 \r\nL 267.915848 10.999219 \r\n\" style=\"fill:#6d1f56;\"/>\r\n    <path clip-path=\"url(#p8ef4d5753f)\" d=\"M 306.178705 10.999219 \r\nL 344.441563 10.999219 \r\nL 344.441563 42.062076 \r\nL 306.178705 42.062076 \r\nL 306.178705 10.999219 \r\n\" style=\"fill:#641f54;\"/>\r\n    <path clip-path=\"url(#p8ef4d5753f)\" d=\"M 76.601562 42.062076 \r\nL 114.86442 42.062076 \r\nL 114.86442 73.124933 \r\nL 76.601562 73.124933 \r\nL 76.601562 42.062076 \r\n\" style=\"fill:#ab185a;\"/>\r\n    <path clip-path=\"url(#p8ef4d5753f)\" d=\"M 114.86442 42.062076 \r\nL 153.127277 42.062076 \r\nL 153.127277 73.124933 \r\nL 114.86442 73.124933 \r\nL 114.86442 42.062076 \r\n\" style=\"fill:#faebdd;\"/>\r\n    <path clip-path=\"url(#p8ef4d5753f)\" d=\"M 153.127277 42.062076 \r\nL 191.390134 42.062076 \r\nL 191.390134 73.124933 \r\nL 153.127277 73.124933 \r\nL 153.127277 42.062076 \r\n\" style=\"fill:#8e1d5b;\"/>\r\n    <path clip-path=\"url(#p8ef4d5753f)\" d=\"M 191.390134 42.062076 \r\nL 229.652991 42.062076 \r\nL 229.652991 73.124933 \r\nL 191.390134 73.124933 \r\nL 191.390134 42.062076 \r\n\" style=\"fill:#631f53;\"/>\r\n    <path clip-path=\"url(#p8ef4d5753f)\" d=\"M 229.652991 42.062076 \r\nL 267.915848 42.062076 \r\nL 267.915848 73.124933 \r\nL 229.652991 73.124933 \r\nL 229.652991 42.062076 \r\n\" style=\"fill:#631f53;\"/>\r\n    <path clip-path=\"url(#p8ef4d5753f)\" d=\"M 267.915848 42.062076 \r\nL 306.178705 42.062076 \r\nL 306.178705 73.124933 \r\nL 267.915848 73.124933 \r\nL 267.915848 42.062076 \r\n\" style=\"fill:#6d1f56;\"/>\r\n    <path clip-path=\"url(#p8ef4d5753f)\" d=\"M 306.178705 42.062076 \r\nL 344.441563 42.062076 \r\nL 344.441563 73.124933 \r\nL 306.178705 73.124933 \r\nL 306.178705 42.062076 \r\n\" style=\"fill:#611f53;\"/>\r\n    <path clip-path=\"url(#p8ef4d5753f)\" d=\"M 76.601562 73.124933 \r\nL 114.86442 73.124933 \r\nL 114.86442 104.18779 \r\nL 76.601562 104.18779 \r\nL 76.601562 73.124933 \r\n\" style=\"fill:#ba1656;\"/>\r\n    <path clip-path=\"url(#p8ef4d5753f)\" d=\"M 114.86442 73.124933 \r\nL 153.127277 73.124933 \r\nL 153.127277 104.18779 \r\nL 114.86442 104.18779 \r\nL 114.86442 73.124933 \r\n\" style=\"fill:#8e1d5b;\"/>\r\n    <path clip-path=\"url(#p8ef4d5753f)\" d=\"M 153.127277 73.124933 \r\nL 191.390134 73.124933 \r\nL 191.390134 104.18779 \r\nL 153.127277 104.18779 \r\nL 153.127277 73.124933 \r\n\" style=\"fill:#faebdd;\"/>\r\n    <path clip-path=\"url(#p8ef4d5753f)\" d=\"M 191.390134 73.124933 \r\nL 229.652991 73.124933 \r\nL 229.652991 104.18779 \r\nL 191.390134 104.18779 \r\nL 191.390134 73.124933 \r\n\" style=\"fill:#601f52;\"/>\r\n    <path clip-path=\"url(#p8ef4d5753f)\" d=\"M 229.652991 73.124933 \r\nL 267.915848 73.124933 \r\nL 267.915848 104.18779 \r\nL 229.652991 104.18779 \r\nL 229.652991 73.124933 \r\n\" style=\"fill:#6b1f56;\"/>\r\n    <path clip-path=\"url(#p8ef4d5753f)\" d=\"M 267.915848 73.124933 \r\nL 306.178705 73.124933 \r\nL 306.178705 104.18779 \r\nL 267.915848 104.18779 \r\nL 267.915848 73.124933 \r\n\" style=\"fill:#661f54;\"/>\r\n    <path clip-path=\"url(#p8ef4d5753f)\" d=\"M 306.178705 73.124933 \r\nL 344.441563 73.124933 \r\nL 344.441563 104.18779 \r\nL 306.178705 104.18779 \r\nL 306.178705 73.124933 \r\n\" style=\"fill:#6b1f56;\"/>\r\n    <path clip-path=\"url(#p8ef4d5753f)\" d=\"M 76.601562 104.18779 \r\nL 114.86442 104.18779 \r\nL 114.86442 135.250647 \r\nL 76.601562 135.250647 \r\nL 76.601562 104.18779 \r\n\" style=\"fill:#691f55;\"/>\r\n    <path clip-path=\"url(#p8ef4d5753f)\" d=\"M 114.86442 104.18779 \r\nL 153.127277 104.18779 \r\nL 153.127277 135.250647 \r\nL 114.86442 135.250647 \r\nL 114.86442 104.18779 \r\n\" style=\"fill:#631f53;\"/>\r\n    <path clip-path=\"url(#p8ef4d5753f)\" d=\"M 153.127277 104.18779 \r\nL 191.390134 104.18779 \r\nL 191.390134 135.250647 \r\nL 153.127277 135.250647 \r\nL 153.127277 104.18779 \r\n\" style=\"fill:#601f52;\"/>\r\n    <path clip-path=\"url(#p8ef4d5753f)\" d=\"M 191.390134 104.18779 \r\nL 229.652991 104.18779 \r\nL 229.652991 135.250647 \r\nL 191.390134 135.250647 \r\nL 191.390134 104.18779 \r\n\" style=\"fill:#faebdd;\"/>\r\n    <path clip-path=\"url(#p8ef4d5753f)\" d=\"M 229.652991 104.18779 \r\nL 267.915848 104.18779 \r\nL 267.915848 135.250647 \r\nL 229.652991 135.250647 \r\nL 229.652991 104.18779 \r\n\" style=\"fill:#921c5b;\"/>\r\n    <path clip-path=\"url(#p8ef4d5753f)\" d=\"M 267.915848 104.18779 \r\nL 306.178705 104.18779 \r\nL 306.178705 135.250647 \r\nL 267.915848 135.250647 \r\nL 267.915848 104.18779 \r\n\" style=\"fill:#511e4d;\"/>\r\n    <path clip-path=\"url(#p8ef4d5753f)\" d=\"M 306.178705 104.18779 \r\nL 344.441563 104.18779 \r\nL 344.441563 135.250647 \r\nL 306.178705 135.250647 \r\nL 306.178705 104.18779 \r\n\" style=\"fill:#f26b49;\"/>\r\n    <path clip-path=\"url(#p8ef4d5753f)\" d=\"M 76.601562 135.250647 \r\nL 114.86442 135.250647 \r\nL 114.86442 166.313504 \r\nL 76.601562 166.313504 \r\nL 76.601562 135.250647 \r\n\" style=\"fill:#691f55;\"/>\r\n    <path clip-path=\"url(#p8ef4d5753f)\" d=\"M 114.86442 135.250647 \r\nL 153.127277 135.250647 \r\nL 153.127277 166.313504 \r\nL 114.86442 166.313504 \r\nL 114.86442 135.250647 \r\n\" style=\"fill:#631f53;\"/>\r\n    <path clip-path=\"url(#p8ef4d5753f)\" d=\"M 153.127277 135.250647 \r\nL 191.390134 135.250647 \r\nL 191.390134 166.313504 \r\nL 153.127277 166.313504 \r\nL 153.127277 135.250647 \r\n\" style=\"fill:#6b1f56;\"/>\r\n    <path clip-path=\"url(#p8ef4d5753f)\" d=\"M 191.390134 135.250647 \r\nL 229.652991 135.250647 \r\nL 229.652991 166.313504 \r\nL 191.390134 166.313504 \r\nL 191.390134 135.250647 \r\n\" style=\"fill:#921c5b;\"/>\r\n    <path clip-path=\"url(#p8ef4d5753f)\" d=\"M 229.652991 135.250647 \r\nL 267.915848 135.250647 \r\nL 267.915848 166.313504 \r\nL 229.652991 166.313504 \r\nL 229.652991 135.250647 \r\n\" style=\"fill:#faebdd;\"/>\r\n    <path clip-path=\"url(#p8ef4d5753f)\" d=\"M 267.915848 135.250647 \r\nL 306.178705 135.250647 \r\nL 306.178705 166.313504 \r\nL 267.915848 166.313504 \r\nL 267.915848 135.250647 \r\n\" style=\"fill:#681f55;\"/>\r\n    <path clip-path=\"url(#p8ef4d5753f)\" d=\"M 306.178705 135.250647 \r\nL 344.441563 135.250647 \r\nL 344.441563 166.313504 \r\nL 306.178705 166.313504 \r\nL 306.178705 135.250647 \r\n\" style=\"fill:#a8185a;\"/>\r\n    <path clip-path=\"url(#p8ef4d5753f)\" d=\"M 76.601562 166.313504 \r\nL 114.86442 166.313504 \r\nL 114.86442 197.376362 \r\nL 76.601562 197.376362 \r\nL 76.601562 166.313504 \r\n\" style=\"fill:#6d1f56;\"/>\r\n    <path clip-path=\"url(#p8ef4d5753f)\" d=\"M 114.86442 166.313504 \r\nL 153.127277 166.313504 \r\nL 153.127277 197.376362 \r\nL 114.86442 197.376362 \r\nL 114.86442 166.313504 \r\n\" style=\"fill:#6d1f56;\"/>\r\n    <path clip-path=\"url(#p8ef4d5753f)\" d=\"M 153.127277 166.313504 \r\nL 191.390134 166.313504 \r\nL 191.390134 197.376362 \r\nL 153.127277 197.376362 \r\nL 153.127277 166.313504 \r\n\" style=\"fill:#661f54;\"/>\r\n    <path clip-path=\"url(#p8ef4d5753f)\" d=\"M 191.390134 166.313504 \r\nL 229.652991 166.313504 \r\nL 229.652991 197.376362 \r\nL 191.390134 197.376362 \r\nL 191.390134 166.313504 \r\n\" style=\"fill:#511e4d;\"/>\r\n    <path clip-path=\"url(#p8ef4d5753f)\" d=\"M 229.652991 166.313504 \r\nL 267.915848 166.313504 \r\nL 267.915848 197.376362 \r\nL 229.652991 197.376362 \r\nL 229.652991 166.313504 \r\n\" style=\"fill:#681f55;\"/>\r\n    <path clip-path=\"url(#p8ef4d5753f)\" d=\"M 267.915848 166.313504 \r\nL 306.178705 166.313504 \r\nL 306.178705 197.376362 \r\nL 267.915848 197.376362 \r\nL 267.915848 166.313504 \r\n\" style=\"fill:#faebdd;\"/>\r\n    <path clip-path=\"url(#p8ef4d5753f)\" d=\"M 306.178705 166.313504 \r\nL 344.441563 166.313504 \r\nL 344.441563 197.376362 \r\nL 306.178705 197.376362 \r\nL 306.178705 166.313504 \r\n\" style=\"fill:#03051a;\"/>\r\n    <path clip-path=\"url(#p8ef4d5753f)\" d=\"M 76.601562 197.376362 \r\nL 114.86442 197.376362 \r\nL 114.86442 228.439219 \r\nL 76.601562 228.439219 \r\nL 76.601562 197.376362 \r\n\" style=\"fill:#641f54;\"/>\r\n    <path clip-path=\"url(#p8ef4d5753f)\" d=\"M 114.86442 197.376362 \r\nL 153.127277 197.376362 \r\nL 153.127277 228.439219 \r\nL 114.86442 228.439219 \r\nL 114.86442 197.376362 \r\n\" style=\"fill:#611f53;\"/>\r\n    <path clip-path=\"url(#p8ef4d5753f)\" d=\"M 153.127277 197.376362 \r\nL 191.390134 197.376362 \r\nL 191.390134 228.439219 \r\nL 153.127277 228.439219 \r\nL 153.127277 197.376362 \r\n\" style=\"fill:#6b1f56;\"/>\r\n    <path clip-path=\"url(#p8ef4d5753f)\" d=\"M 191.390134 197.376362 \r\nL 229.652991 197.376362 \r\nL 229.652991 228.439219 \r\nL 191.390134 228.439219 \r\nL 191.390134 197.376362 \r\n\" style=\"fill:#f26b49;\"/>\r\n    <path clip-path=\"url(#p8ef4d5753f)\" d=\"M 229.652991 197.376362 \r\nL 267.915848 197.376362 \r\nL 267.915848 228.439219 \r\nL 229.652991 228.439219 \r\nL 229.652991 197.376362 \r\n\" style=\"fill:#a8185a;\"/>\r\n    <path clip-path=\"url(#p8ef4d5753f)\" d=\"M 267.915848 197.376362 \r\nL 306.178705 197.376362 \r\nL 306.178705 228.439219 \r\nL 267.915848 228.439219 \r\nL 267.915848 197.376362 \r\n\" style=\"fill:#03051a;\"/>\r\n    <path clip-path=\"url(#p8ef4d5753f)\" d=\"M 306.178705 197.376362 \r\nL 344.441563 197.376362 \r\nL 344.441563 228.439219 \r\nL 306.178705 228.439219 \r\nL 306.178705 197.376362 \r\n\" style=\"fill:#faebdd;\"/>\r\n   </g>\r\n   <g id=\"matplotlib.axis_1\">\r\n    <g id=\"xtick_1\">\r\n     <g id=\"line2d_1\">\r\n      <defs>\r\n       <path d=\"M 0 0 \r\nL 0 3.5 \r\n\" id=\"mee08c8194f\" style=\"stroke:#000000;stroke-width:0.8;\"/>\r\n      </defs>\r\n      <g>\r\n       <use style=\"stroke:#000000;stroke-width:0.8;\" x=\"95.732991\" xlink:href=\"#mee08c8194f\" y=\"228.439219\"/>\r\n      </g>\r\n     </g>\r\n     <g id=\"text_1\">\r\n      <!-- Order ID -->\r\n      <g transform=\"translate(98.492366 277.687656)rotate(-90)scale(0.1 -0.1)\">\r\n       <defs>\r\n        <path d=\"M 2522 4238 \r\nQ 1834 4238 1429 3725 \r\nQ 1025 3213 1025 2328 \r\nQ 1025 1447 1429 934 \r\nQ 1834 422 2522 422 \r\nQ 3209 422 3611 934 \r\nQ 4013 1447 4013 2328 \r\nQ 4013 3213 3611 3725 \r\nQ 3209 4238 2522 4238 \r\nz\r\nM 2522 4750 \r\nQ 3503 4750 4090 4092 \r\nQ 4678 3434 4678 2328 \r\nQ 4678 1225 4090 567 \r\nQ 3503 -91 2522 -91 \r\nQ 1538 -91 948 565 \r\nQ 359 1222 359 2328 \r\nQ 359 3434 948 4092 \r\nQ 1538 4750 2522 4750 \r\nz\r\n\" id=\"DejaVuSans-4f\" transform=\"scale(0.015625)\"/>\r\n        <path d=\"M 2631 2963 \r\nQ 2534 3019 2420 3045 \r\nQ 2306 3072 2169 3072 \r\nQ 1681 3072 1420 2755 \r\nQ 1159 2438 1159 1844 \r\nL 1159 0 \r\nL 581 0 \r\nL 581 3500 \r\nL 1159 3500 \r\nL 1159 2956 \r\nQ 1341 3275 1631 3429 \r\nQ 1922 3584 2338 3584 \r\nQ 2397 3584 2469 3576 \r\nQ 2541 3569 2628 3553 \r\nL 2631 2963 \r\nz\r\n\" id=\"DejaVuSans-72\" transform=\"scale(0.015625)\"/>\r\n        <path d=\"M 2906 2969 \r\nL 2906 4863 \r\nL 3481 4863 \r\nL 3481 0 \r\nL 2906 0 \r\nL 2906 525 \r\nQ 2725 213 2448 61 \r\nQ 2172 -91 1784 -91 \r\nQ 1150 -91 751 415 \r\nQ 353 922 353 1747 \r\nQ 353 2572 751 3078 \r\nQ 1150 3584 1784 3584 \r\nQ 2172 3584 2448 3432 \r\nQ 2725 3281 2906 2969 \r\nz\r\nM 947 1747 \r\nQ 947 1113 1208 752 \r\nQ 1469 391 1925 391 \r\nQ 2381 391 2643 752 \r\nQ 2906 1113 2906 1747 \r\nQ 2906 2381 2643 2742 \r\nQ 2381 3103 1925 3103 \r\nQ 1469 3103 1208 2742 \r\nQ 947 2381 947 1747 \r\nz\r\n\" id=\"DejaVuSans-64\" transform=\"scale(0.015625)\"/>\r\n        <path d=\"M 3597 1894 \r\nL 3597 1613 \r\nL 953 1613 \r\nQ 991 1019 1311 708 \r\nQ 1631 397 2203 397 \r\nQ 2534 397 2845 478 \r\nQ 3156 559 3463 722 \r\nL 3463 178 \r\nQ 3153 47 2828 -22 \r\nQ 2503 -91 2169 -91 \r\nQ 1331 -91 842 396 \r\nQ 353 884 353 1716 \r\nQ 353 2575 817 3079 \r\nQ 1281 3584 2069 3584 \r\nQ 2775 3584 3186 3129 \r\nQ 3597 2675 3597 1894 \r\nz\r\nM 3022 2063 \r\nQ 3016 2534 2758 2815 \r\nQ 2500 3097 2075 3097 \r\nQ 1594 3097 1305 2825 \r\nQ 1016 2553 972 2059 \r\nL 3022 2063 \r\nz\r\n\" id=\"DejaVuSans-65\" transform=\"scale(0.015625)\"/>\r\n        <path id=\"DejaVuSans-20\" transform=\"scale(0.015625)\"/>\r\n        <path d=\"M 628 4666 \r\nL 1259 4666 \r\nL 1259 0 \r\nL 628 0 \r\nL 628 4666 \r\nz\r\n\" id=\"DejaVuSans-49\" transform=\"scale(0.015625)\"/>\r\n        <path d=\"M 1259 4147 \r\nL 1259 519 \r\nL 2022 519 \r\nQ 2988 519 3436 956 \r\nQ 3884 1394 3884 2338 \r\nQ 3884 3275 3436 3711 \r\nQ 2988 4147 2022 4147 \r\nL 1259 4147 \r\nz\r\nM 628 4666 \r\nL 1925 4666 \r\nQ 3281 4666 3915 4102 \r\nQ 4550 3538 4550 2338 \r\nQ 4550 1131 3912 565 \r\nQ 3275 0 1925 0 \r\nL 628 0 \r\nL 628 4666 \r\nz\r\n\" id=\"DejaVuSans-44\" transform=\"scale(0.015625)\"/>\r\n       </defs>\r\n       <use xlink:href=\"#DejaVuSans-4f\"/>\r\n       <use x=\"78.710938\" xlink:href=\"#DejaVuSans-72\"/>\r\n       <use x=\"118.074219\" xlink:href=\"#DejaVuSans-64\"/>\r\n       <use x=\"181.550781\" xlink:href=\"#DejaVuSans-65\"/>\r\n       <use x=\"243.074219\" xlink:href=\"#DejaVuSans-72\"/>\r\n       <use x=\"284.1875\" xlink:href=\"#DejaVuSans-20\"/>\r\n       <use x=\"315.974609\" xlink:href=\"#DejaVuSans-49\"/>\r\n       <use x=\"345.466797\" xlink:href=\"#DejaVuSans-44\"/>\r\n      </g>\r\n     </g>\r\n    </g>\r\n    <g id=\"xtick_2\">\r\n     <g id=\"line2d_2\">\r\n      <g>\r\n       <use style=\"stroke:#000000;stroke-width:0.8;\" x=\"133.995848\" xlink:href=\"#mee08c8194f\" y=\"228.439219\"/>\r\n      </g>\r\n     </g>\r\n     <g id=\"text_2\">\r\n      <!-- Customer ID -->\r\n      <g transform=\"translate(136.755223 297.840781)rotate(-90)scale(0.1 -0.1)\">\r\n       <defs>\r\n        <path d=\"M 4122 4306 \r\nL 4122 3641 \r\nQ 3803 3938 3442 4084 \r\nQ 3081 4231 2675 4231 \r\nQ 1875 4231 1450 3742 \r\nQ 1025 3253 1025 2328 \r\nQ 1025 1406 1450 917 \r\nQ 1875 428 2675 428 \r\nQ 3081 428 3442 575 \r\nQ 3803 722 4122 1019 \r\nL 4122 359 \r\nQ 3791 134 3420 21 \r\nQ 3050 -91 2638 -91 \r\nQ 1578 -91 968 557 \r\nQ 359 1206 359 2328 \r\nQ 359 3453 968 4101 \r\nQ 1578 4750 2638 4750 \r\nQ 3056 4750 3426 4639 \r\nQ 3797 4528 4122 4306 \r\nz\r\n\" id=\"DejaVuSans-43\" transform=\"scale(0.015625)\"/>\r\n        <path d=\"M 544 1381 \r\nL 544 3500 \r\nL 1119 3500 \r\nL 1119 1403 \r\nQ 1119 906 1312 657 \r\nQ 1506 409 1894 409 \r\nQ 2359 409 2629 706 \r\nQ 2900 1003 2900 1516 \r\nL 2900 3500 \r\nL 3475 3500 \r\nL 3475 0 \r\nL 2900 0 \r\nL 2900 538 \r\nQ 2691 219 2414 64 \r\nQ 2138 -91 1772 -91 \r\nQ 1169 -91 856 284 \r\nQ 544 659 544 1381 \r\nz\r\nM 1991 3584 \r\nL 1991 3584 \r\nz\r\n\" id=\"DejaVuSans-75\" transform=\"scale(0.015625)\"/>\r\n        <path d=\"M 2834 3397 \r\nL 2834 2853 \r\nQ 2591 2978 2328 3040 \r\nQ 2066 3103 1784 3103 \r\nQ 1356 3103 1142 2972 \r\nQ 928 2841 928 2578 \r\nQ 928 2378 1081 2264 \r\nQ 1234 2150 1697 2047 \r\nL 1894 2003 \r\nQ 2506 1872 2764 1633 \r\nQ 3022 1394 3022 966 \r\nQ 3022 478 2636 193 \r\nQ 2250 -91 1575 -91 \r\nQ 1294 -91 989 -36 \r\nQ 684 19 347 128 \r\nL 347 722 \r\nQ 666 556 975 473 \r\nQ 1284 391 1588 391 \r\nQ 1994 391 2212 530 \r\nQ 2431 669 2431 922 \r\nQ 2431 1156 2273 1281 \r\nQ 2116 1406 1581 1522 \r\nL 1381 1569 \r\nQ 847 1681 609 1914 \r\nQ 372 2147 372 2553 \r\nQ 372 3047 722 3315 \r\nQ 1072 3584 1716 3584 \r\nQ 2034 3584 2315 3537 \r\nQ 2597 3491 2834 3397 \r\nz\r\n\" id=\"DejaVuSans-73\" transform=\"scale(0.015625)\"/>\r\n        <path d=\"M 1172 4494 \r\nL 1172 3500 \r\nL 2356 3500 \r\nL 2356 3053 \r\nL 1172 3053 \r\nL 1172 1153 \r\nQ 1172 725 1289 603 \r\nQ 1406 481 1766 481 \r\nL 2356 481 \r\nL 2356 0 \r\nL 1766 0 \r\nQ 1100 0 847 248 \r\nQ 594 497 594 1153 \r\nL 594 3053 \r\nL 172 3053 \r\nL 172 3500 \r\nL 594 3500 \r\nL 594 4494 \r\nL 1172 4494 \r\nz\r\n\" id=\"DejaVuSans-74\" transform=\"scale(0.015625)\"/>\r\n        <path d=\"M 1959 3097 \r\nQ 1497 3097 1228 2736 \r\nQ 959 2375 959 1747 \r\nQ 959 1119 1226 758 \r\nQ 1494 397 1959 397 \r\nQ 2419 397 2687 759 \r\nQ 2956 1122 2956 1747 \r\nQ 2956 2369 2687 2733 \r\nQ 2419 3097 1959 3097 \r\nz\r\nM 1959 3584 \r\nQ 2709 3584 3137 3096 \r\nQ 3566 2609 3566 1747 \r\nQ 3566 888 3137 398 \r\nQ 2709 -91 1959 -91 \r\nQ 1206 -91 779 398 \r\nQ 353 888 353 1747 \r\nQ 353 2609 779 3096 \r\nQ 1206 3584 1959 3584 \r\nz\r\n\" id=\"DejaVuSans-6f\" transform=\"scale(0.015625)\"/>\r\n        <path d=\"M 3328 2828 \r\nQ 3544 3216 3844 3400 \r\nQ 4144 3584 4550 3584 \r\nQ 5097 3584 5394 3201 \r\nQ 5691 2819 5691 2113 \r\nL 5691 0 \r\nL 5113 0 \r\nL 5113 2094 \r\nQ 5113 2597 4934 2840 \r\nQ 4756 3084 4391 3084 \r\nQ 3944 3084 3684 2787 \r\nQ 3425 2491 3425 1978 \r\nL 3425 0 \r\nL 2847 0 \r\nL 2847 2094 \r\nQ 2847 2600 2669 2842 \r\nQ 2491 3084 2119 3084 \r\nQ 1678 3084 1418 2786 \r\nQ 1159 2488 1159 1978 \r\nL 1159 0 \r\nL 581 0 \r\nL 581 3500 \r\nL 1159 3500 \r\nL 1159 2956 \r\nQ 1356 3278 1631 3431 \r\nQ 1906 3584 2284 3584 \r\nQ 2666 3584 2933 3390 \r\nQ 3200 3197 3328 2828 \r\nz\r\n\" id=\"DejaVuSans-6d\" transform=\"scale(0.015625)\"/>\r\n       </defs>\r\n       <use xlink:href=\"#DejaVuSans-43\"/>\r\n       <use x=\"69.824219\" xlink:href=\"#DejaVuSans-75\"/>\r\n       <use x=\"133.203125\" xlink:href=\"#DejaVuSans-73\"/>\r\n       <use x=\"185.302734\" xlink:href=\"#DejaVuSans-74\"/>\r\n       <use x=\"224.511719\" xlink:href=\"#DejaVuSans-6f\"/>\r\n       <use x=\"285.693359\" xlink:href=\"#DejaVuSans-6d\"/>\r\n       <use x=\"383.105469\" xlink:href=\"#DejaVuSans-65\"/>\r\n       <use x=\"444.628906\" xlink:href=\"#DejaVuSans-72\"/>\r\n       <use x=\"485.742188\" xlink:href=\"#DejaVuSans-20\"/>\r\n       <use x=\"517.529297\" xlink:href=\"#DejaVuSans-49\"/>\r\n       <use x=\"547.021484\" xlink:href=\"#DejaVuSans-44\"/>\r\n      </g>\r\n     </g>\r\n    </g>\r\n    <g id=\"xtick_3\">\r\n     <g id=\"line2d_3\">\r\n      <g>\r\n       <use style=\"stroke:#000000;stroke-width:0.8;\" x=\"172.258705\" xlink:href=\"#mee08c8194f\" y=\"228.439219\"/>\r\n      </g>\r\n     </g>\r\n     <g id=\"text_3\">\r\n      <!-- Product ID -->\r\n      <g transform=\"translate(175.01808 287.231406)rotate(-90)scale(0.1 -0.1)\">\r\n       <defs>\r\n        <path d=\"M 1259 4147 \r\nL 1259 2394 \r\nL 2053 2394 \r\nQ 2494 2394 2734 2622 \r\nQ 2975 2850 2975 3272 \r\nQ 2975 3691 2734 3919 \r\nQ 2494 4147 2053 4147 \r\nL 1259 4147 \r\nz\r\nM 628 4666 \r\nL 2053 4666 \r\nQ 2838 4666 3239 4311 \r\nQ 3641 3956 3641 3272 \r\nQ 3641 2581 3239 2228 \r\nQ 2838 1875 2053 1875 \r\nL 1259 1875 \r\nL 1259 0 \r\nL 628 0 \r\nL 628 4666 \r\nz\r\n\" id=\"DejaVuSans-50\" transform=\"scale(0.015625)\"/>\r\n        <path d=\"M 3122 3366 \r\nL 3122 2828 \r\nQ 2878 2963 2633 3030 \r\nQ 2388 3097 2138 3097 \r\nQ 1578 3097 1268 2742 \r\nQ 959 2388 959 1747 \r\nQ 959 1106 1268 751 \r\nQ 1578 397 2138 397 \r\nQ 2388 397 2633 464 \r\nQ 2878 531 3122 666 \r\nL 3122 134 \r\nQ 2881 22 2623 -34 \r\nQ 2366 -91 2075 -91 \r\nQ 1284 -91 818 406 \r\nQ 353 903 353 1747 \r\nQ 353 2603 823 3093 \r\nQ 1294 3584 2113 3584 \r\nQ 2378 3584 2631 3529 \r\nQ 2884 3475 3122 3366 \r\nz\r\n\" id=\"DejaVuSans-63\" transform=\"scale(0.015625)\"/>\r\n       </defs>\r\n       <use xlink:href=\"#DejaVuSans-50\"/>\r\n       <use x=\"58.552734\" xlink:href=\"#DejaVuSans-72\"/>\r\n       <use x=\"97.416016\" xlink:href=\"#DejaVuSans-6f\"/>\r\n       <use x=\"158.597656\" xlink:href=\"#DejaVuSans-64\"/>\r\n       <use x=\"222.074219\" xlink:href=\"#DejaVuSans-75\"/>\r\n       <use x=\"285.453125\" xlink:href=\"#DejaVuSans-63\"/>\r\n       <use x=\"340.433594\" xlink:href=\"#DejaVuSans-74\"/>\r\n       <use x=\"379.642578\" xlink:href=\"#DejaVuSans-20\"/>\r\n       <use x=\"411.429688\" xlink:href=\"#DejaVuSans-49\"/>\r\n       <use x=\"440.921875\" xlink:href=\"#DejaVuSans-44\"/>\r\n      </g>\r\n     </g>\r\n    </g>\r\n    <g id=\"xtick_4\">\r\n     <g id=\"line2d_4\">\r\n      <g>\r\n       <use style=\"stroke:#000000;stroke-width:0.8;\" x=\"210.521563\" xlink:href=\"#mee08c8194f\" y=\"228.439219\"/>\r\n      </g>\r\n     </g>\r\n     <g id=\"text_4\">\r\n      <!-- Sales -->\r\n      <g transform=\"translate(213.280938 262.056406)rotate(-90)scale(0.1 -0.1)\">\r\n       <defs>\r\n        <path d=\"M 3425 4513 \r\nL 3425 3897 \r\nQ 3066 4069 2747 4153 \r\nQ 2428 4238 2131 4238 \r\nQ 1616 4238 1336 4038 \r\nQ 1056 3838 1056 3469 \r\nQ 1056 3159 1242 3001 \r\nQ 1428 2844 1947 2747 \r\nL 2328 2669 \r\nQ 3034 2534 3370 2195 \r\nQ 3706 1856 3706 1288 \r\nQ 3706 609 3251 259 \r\nQ 2797 -91 1919 -91 \r\nQ 1588 -91 1214 -16 \r\nQ 841 59 441 206 \r\nL 441 856 \r\nQ 825 641 1194 531 \r\nQ 1563 422 1919 422 \r\nQ 2459 422 2753 634 \r\nQ 3047 847 3047 1241 \r\nQ 3047 1584 2836 1778 \r\nQ 2625 1972 2144 2069 \r\nL 1759 2144 \r\nQ 1053 2284 737 2584 \r\nQ 422 2884 422 3419 \r\nQ 422 4038 858 4394 \r\nQ 1294 4750 2059 4750 \r\nQ 2388 4750 2728 4690 \r\nQ 3069 4631 3425 4513 \r\nz\r\n\" id=\"DejaVuSans-53\" transform=\"scale(0.015625)\"/>\r\n        <path d=\"M 2194 1759 \r\nQ 1497 1759 1228 1600 \r\nQ 959 1441 959 1056 \r\nQ 959 750 1161 570 \r\nQ 1363 391 1709 391 \r\nQ 2188 391 2477 730 \r\nQ 2766 1069 2766 1631 \r\nL 2766 1759 \r\nL 2194 1759 \r\nz\r\nM 3341 1997 \r\nL 3341 0 \r\nL 2766 0 \r\nL 2766 531 \r\nQ 2569 213 2275 61 \r\nQ 1981 -91 1556 -91 \r\nQ 1019 -91 701 211 \r\nQ 384 513 384 1019 \r\nQ 384 1609 779 1909 \r\nQ 1175 2209 1959 2209 \r\nL 2766 2209 \r\nL 2766 2266 \r\nQ 2766 2663 2505 2880 \r\nQ 2244 3097 1772 3097 \r\nQ 1472 3097 1187 3025 \r\nQ 903 2953 641 2809 \r\nL 641 3341 \r\nQ 956 3463 1253 3523 \r\nQ 1550 3584 1831 3584 \r\nQ 2591 3584 2966 3190 \r\nQ 3341 2797 3341 1997 \r\nz\r\n\" id=\"DejaVuSans-61\" transform=\"scale(0.015625)\"/>\r\n        <path d=\"M 603 4863 \r\nL 1178 4863 \r\nL 1178 0 \r\nL 603 0 \r\nL 603 4863 \r\nz\r\n\" id=\"DejaVuSans-6c\" transform=\"scale(0.015625)\"/>\r\n       </defs>\r\n       <use xlink:href=\"#DejaVuSans-53\"/>\r\n       <use x=\"63.476562\" xlink:href=\"#DejaVuSans-61\"/>\r\n       <use x=\"124.755859\" xlink:href=\"#DejaVuSans-6c\"/>\r\n       <use x=\"152.539062\" xlink:href=\"#DejaVuSans-65\"/>\r\n       <use x=\"214.0625\" xlink:href=\"#DejaVuSans-73\"/>\r\n      </g>\r\n     </g>\r\n    </g>\r\n    <g id=\"xtick_5\">\r\n     <g id=\"line2d_5\">\r\n      <g>\r\n       <use style=\"stroke:#000000;stroke-width:0.8;\" x=\"248.78442\" xlink:href=\"#mee08c8194f\" y=\"228.439219\"/>\r\n      </g>\r\n     </g>\r\n     <g id=\"text_5\">\r\n      <!-- Quantity -->\r\n      <g transform=\"translate(251.543795 278.651719)rotate(-90)scale(0.1 -0.1)\">\r\n       <defs>\r\n        <path d=\"M 2522 4238 \r\nQ 1834 4238 1429 3725 \r\nQ 1025 3213 1025 2328 \r\nQ 1025 1447 1429 934 \r\nQ 1834 422 2522 422 \r\nQ 3209 422 3611 934 \r\nQ 4013 1447 4013 2328 \r\nQ 4013 3213 3611 3725 \r\nQ 3209 4238 2522 4238 \r\nz\r\nM 3406 84 \r\nL 4238 -825 \r\nL 3475 -825 \r\nL 2784 -78 \r\nQ 2681 -84 2626 -87 \r\nQ 2572 -91 2522 -91 \r\nQ 1538 -91 948 567 \r\nQ 359 1225 359 2328 \r\nQ 359 3434 948 4092 \r\nQ 1538 4750 2522 4750 \r\nQ 3503 4750 4090 4092 \r\nQ 4678 3434 4678 2328 \r\nQ 4678 1516 4351 937 \r\nQ 4025 359 3406 84 \r\nz\r\n\" id=\"DejaVuSans-51\" transform=\"scale(0.015625)\"/>\r\n        <path d=\"M 3513 2113 \r\nL 3513 0 \r\nL 2938 0 \r\nL 2938 2094 \r\nQ 2938 2591 2744 2837 \r\nQ 2550 3084 2163 3084 \r\nQ 1697 3084 1428 2787 \r\nQ 1159 2491 1159 1978 \r\nL 1159 0 \r\nL 581 0 \r\nL 581 3500 \r\nL 1159 3500 \r\nL 1159 2956 \r\nQ 1366 3272 1645 3428 \r\nQ 1925 3584 2291 3584 \r\nQ 2894 3584 3203 3211 \r\nQ 3513 2838 3513 2113 \r\nz\r\n\" id=\"DejaVuSans-6e\" transform=\"scale(0.015625)\"/>\r\n        <path d=\"M 603 3500 \r\nL 1178 3500 \r\nL 1178 0 \r\nL 603 0 \r\nL 603 3500 \r\nz\r\nM 603 4863 \r\nL 1178 4863 \r\nL 1178 4134 \r\nL 603 4134 \r\nL 603 4863 \r\nz\r\n\" id=\"DejaVuSans-69\" transform=\"scale(0.015625)\"/>\r\n        <path d=\"M 2059 -325 \r\nQ 1816 -950 1584 -1140 \r\nQ 1353 -1331 966 -1331 \r\nL 506 -1331 \r\nL 506 -850 \r\nL 844 -850 \r\nQ 1081 -850 1212 -737 \r\nQ 1344 -625 1503 -206 \r\nL 1606 56 \r\nL 191 3500 \r\nL 800 3500 \r\nL 1894 763 \r\nL 2988 3500 \r\nL 3597 3500 \r\nL 2059 -325 \r\nz\r\n\" id=\"DejaVuSans-79\" transform=\"scale(0.015625)\"/>\r\n       </defs>\r\n       <use xlink:href=\"#DejaVuSans-51\"/>\r\n       <use x=\"78.710938\" xlink:href=\"#DejaVuSans-75\"/>\r\n       <use x=\"142.089844\" xlink:href=\"#DejaVuSans-61\"/>\r\n       <use x=\"203.369141\" xlink:href=\"#DejaVuSans-6e\"/>\r\n       <use x=\"266.748047\" xlink:href=\"#DejaVuSans-74\"/>\r\n       <use x=\"305.957031\" xlink:href=\"#DejaVuSans-69\"/>\r\n       <use x=\"333.740234\" xlink:href=\"#DejaVuSans-74\"/>\r\n       <use x=\"372.949219\" xlink:href=\"#DejaVuSans-79\"/>\r\n      </g>\r\n     </g>\r\n    </g>\r\n    <g id=\"xtick_6\">\r\n     <g id=\"line2d_6\">\r\n      <g>\r\n       <use style=\"stroke:#000000;stroke-width:0.8;\" x=\"287.047277\" xlink:href=\"#mee08c8194f\" y=\"228.439219\"/>\r\n      </g>\r\n     </g>\r\n     <g id=\"text_6\">\r\n      <!-- Discount -->\r\n      <g transform=\"translate(289.806652 279.339219)rotate(-90)scale(0.1 -0.1)\">\r\n       <use xlink:href=\"#DejaVuSans-44\"/>\r\n       <use x=\"77.001953\" xlink:href=\"#DejaVuSans-69\"/>\r\n       <use x=\"104.785156\" xlink:href=\"#DejaVuSans-73\"/>\r\n       <use x=\"156.884766\" xlink:href=\"#DejaVuSans-63\"/>\r\n       <use x=\"211.865234\" xlink:href=\"#DejaVuSans-6f\"/>\r\n       <use x=\"273.046875\" xlink:href=\"#DejaVuSans-75\"/>\r\n       <use x=\"336.425781\" xlink:href=\"#DejaVuSans-6e\"/>\r\n       <use x=\"399.804688\" xlink:href=\"#DejaVuSans-74\"/>\r\n      </g>\r\n     </g>\r\n    </g>\r\n    <g id=\"xtick_7\">\r\n     <g id=\"line2d_7\">\r\n      <g>\r\n       <use style=\"stroke:#000000;stroke-width:0.8;\" x=\"325.310134\" xlink:href=\"#mee08c8194f\" y=\"228.439219\"/>\r\n      </g>\r\n     </g>\r\n     <g id=\"text_7\">\r\n      <!-- Profit -->\r\n      <g transform=\"translate(328.069509 261.517344)rotate(-90)scale(0.1 -0.1)\">\r\n       <defs>\r\n        <path d=\"M 2375 4863 \r\nL 2375 4384 \r\nL 1825 4384 \r\nQ 1516 4384 1395 4259 \r\nQ 1275 4134 1275 3809 \r\nL 1275 3500 \r\nL 2222 3500 \r\nL 2222 3053 \r\nL 1275 3053 \r\nL 1275 0 \r\nL 697 0 \r\nL 697 3053 \r\nL 147 3053 \r\nL 147 3500 \r\nL 697 3500 \r\nL 697 3744 \r\nQ 697 4328 969 4595 \r\nQ 1241 4863 1831 4863 \r\nL 2375 4863 \r\nz\r\n\" id=\"DejaVuSans-66\" transform=\"scale(0.015625)\"/>\r\n       </defs>\r\n       <use xlink:href=\"#DejaVuSans-50\"/>\r\n       <use x=\"58.552734\" xlink:href=\"#DejaVuSans-72\"/>\r\n       <use x=\"97.416016\" xlink:href=\"#DejaVuSans-6f\"/>\r\n       <use x=\"158.597656\" xlink:href=\"#DejaVuSans-66\"/>\r\n       <use x=\"193.802734\" xlink:href=\"#DejaVuSans-69\"/>\r\n       <use x=\"221.585938\" xlink:href=\"#DejaVuSans-74\"/>\r\n      </g>\r\n     </g>\r\n    </g>\r\n   </g>\r\n   <g id=\"matplotlib.axis_2\">\r\n    <g id=\"ytick_1\">\r\n     <g id=\"line2d_8\">\r\n      <defs>\r\n       <path d=\"M 0 0 \r\nL -3.5 0 \r\n\" id=\"ma5fba66144\" style=\"stroke:#000000;stroke-width:0.8;\"/>\r\n      </defs>\r\n      <g>\r\n       <use style=\"stroke:#000000;stroke-width:0.8;\" x=\"76.601562\" xlink:href=\"#ma5fba66144\" y=\"26.530647\"/>\r\n      </g>\r\n     </g>\r\n     <g id=\"text_8\">\r\n      <!-- Order ID -->\r\n      <g transform=\"translate(27.353125 30.329866)scale(0.1 -0.1)\">\r\n       <use xlink:href=\"#DejaVuSans-4f\"/>\r\n       <use x=\"78.710938\" xlink:href=\"#DejaVuSans-72\"/>\r\n       <use x=\"118.074219\" xlink:href=\"#DejaVuSans-64\"/>\r\n       <use x=\"181.550781\" xlink:href=\"#DejaVuSans-65\"/>\r\n       <use x=\"243.074219\" xlink:href=\"#DejaVuSans-72\"/>\r\n       <use x=\"284.1875\" xlink:href=\"#DejaVuSans-20\"/>\r\n       <use x=\"315.974609\" xlink:href=\"#DejaVuSans-49\"/>\r\n       <use x=\"345.466797\" xlink:href=\"#DejaVuSans-44\"/>\r\n      </g>\r\n     </g>\r\n    </g>\r\n    <g id=\"ytick_2\">\r\n     <g id=\"line2d_9\">\r\n      <g>\r\n       <use style=\"stroke:#000000;stroke-width:0.8;\" x=\"76.601562\" xlink:href=\"#ma5fba66144\" y=\"57.593504\"/>\r\n      </g>\r\n     </g>\r\n     <g id=\"text_9\">\r\n      <!-- Customer ID -->\r\n      <g transform=\"translate(7.2 61.392723)scale(0.1 -0.1)\">\r\n       <use xlink:href=\"#DejaVuSans-43\"/>\r\n       <use x=\"69.824219\" xlink:href=\"#DejaVuSans-75\"/>\r\n       <use x=\"133.203125\" xlink:href=\"#DejaVuSans-73\"/>\r\n       <use x=\"185.302734\" xlink:href=\"#DejaVuSans-74\"/>\r\n       <use x=\"224.511719\" xlink:href=\"#DejaVuSans-6f\"/>\r\n       <use x=\"285.693359\" xlink:href=\"#DejaVuSans-6d\"/>\r\n       <use x=\"383.105469\" xlink:href=\"#DejaVuSans-65\"/>\r\n       <use x=\"444.628906\" xlink:href=\"#DejaVuSans-72\"/>\r\n       <use x=\"485.742188\" xlink:href=\"#DejaVuSans-20\"/>\r\n       <use x=\"517.529297\" xlink:href=\"#DejaVuSans-49\"/>\r\n       <use x=\"547.021484\" xlink:href=\"#DejaVuSans-44\"/>\r\n      </g>\r\n     </g>\r\n    </g>\r\n    <g id=\"ytick_3\">\r\n     <g id=\"line2d_10\">\r\n      <g>\r\n       <use style=\"stroke:#000000;stroke-width:0.8;\" x=\"76.601562\" xlink:href=\"#ma5fba66144\" y=\"88.656362\"/>\r\n      </g>\r\n     </g>\r\n     <g id=\"text_10\">\r\n      <!-- Product ID -->\r\n      <g transform=\"translate(17.809375 92.45558)scale(0.1 -0.1)\">\r\n       <use xlink:href=\"#DejaVuSans-50\"/>\r\n       <use x=\"58.552734\" xlink:href=\"#DejaVuSans-72\"/>\r\n       <use x=\"97.416016\" xlink:href=\"#DejaVuSans-6f\"/>\r\n       <use x=\"158.597656\" xlink:href=\"#DejaVuSans-64\"/>\r\n       <use x=\"222.074219\" xlink:href=\"#DejaVuSans-75\"/>\r\n       <use x=\"285.453125\" xlink:href=\"#DejaVuSans-63\"/>\r\n       <use x=\"340.433594\" xlink:href=\"#DejaVuSans-74\"/>\r\n       <use x=\"379.642578\" xlink:href=\"#DejaVuSans-20\"/>\r\n       <use x=\"411.429688\" xlink:href=\"#DejaVuSans-49\"/>\r\n       <use x=\"440.921875\" xlink:href=\"#DejaVuSans-44\"/>\r\n      </g>\r\n     </g>\r\n    </g>\r\n    <g id=\"ytick_4\">\r\n     <g id=\"line2d_11\">\r\n      <g>\r\n       <use style=\"stroke:#000000;stroke-width:0.8;\" x=\"76.601562\" xlink:href=\"#ma5fba66144\" y=\"119.719219\"/>\r\n      </g>\r\n     </g>\r\n     <g id=\"text_11\">\r\n      <!-- Sales -->\r\n      <g transform=\"translate(42.984375 123.518438)scale(0.1 -0.1)\">\r\n       <use xlink:href=\"#DejaVuSans-53\"/>\r\n       <use x=\"63.476562\" xlink:href=\"#DejaVuSans-61\"/>\r\n       <use x=\"124.755859\" xlink:href=\"#DejaVuSans-6c\"/>\r\n       <use x=\"152.539062\" xlink:href=\"#DejaVuSans-65\"/>\r\n       <use x=\"214.0625\" xlink:href=\"#DejaVuSans-73\"/>\r\n      </g>\r\n     </g>\r\n    </g>\r\n    <g id=\"ytick_5\">\r\n     <g id=\"line2d_12\">\r\n      <g>\r\n       <use style=\"stroke:#000000;stroke-width:0.8;\" x=\"76.601562\" xlink:href=\"#ma5fba66144\" y=\"150.782076\"/>\r\n      </g>\r\n     </g>\r\n     <g id=\"text_12\">\r\n      <!-- Quantity -->\r\n      <g transform=\"translate(26.389062 154.581295)scale(0.1 -0.1)\">\r\n       <use xlink:href=\"#DejaVuSans-51\"/>\r\n       <use x=\"78.710938\" xlink:href=\"#DejaVuSans-75\"/>\r\n       <use x=\"142.089844\" xlink:href=\"#DejaVuSans-61\"/>\r\n       <use x=\"203.369141\" xlink:href=\"#DejaVuSans-6e\"/>\r\n       <use x=\"266.748047\" xlink:href=\"#DejaVuSans-74\"/>\r\n       <use x=\"305.957031\" xlink:href=\"#DejaVuSans-69\"/>\r\n       <use x=\"333.740234\" xlink:href=\"#DejaVuSans-74\"/>\r\n       <use x=\"372.949219\" xlink:href=\"#DejaVuSans-79\"/>\r\n      </g>\r\n     </g>\r\n    </g>\r\n    <g id=\"ytick_6\">\r\n     <g id=\"line2d_13\">\r\n      <g>\r\n       <use style=\"stroke:#000000;stroke-width:0.8;\" x=\"76.601562\" xlink:href=\"#ma5fba66144\" y=\"181.844933\"/>\r\n      </g>\r\n     </g>\r\n     <g id=\"text_13\">\r\n      <!-- Discount -->\r\n      <g transform=\"translate(25.701562 185.644152)scale(0.1 -0.1)\">\r\n       <use xlink:href=\"#DejaVuSans-44\"/>\r\n       <use x=\"77.001953\" xlink:href=\"#DejaVuSans-69\"/>\r\n       <use x=\"104.785156\" xlink:href=\"#DejaVuSans-73\"/>\r\n       <use x=\"156.884766\" xlink:href=\"#DejaVuSans-63\"/>\r\n       <use x=\"211.865234\" xlink:href=\"#DejaVuSans-6f\"/>\r\n       <use x=\"273.046875\" xlink:href=\"#DejaVuSans-75\"/>\r\n       <use x=\"336.425781\" xlink:href=\"#DejaVuSans-6e\"/>\r\n       <use x=\"399.804688\" xlink:href=\"#DejaVuSans-74\"/>\r\n      </g>\r\n     </g>\r\n    </g>\r\n    <g id=\"ytick_7\">\r\n     <g id=\"line2d_14\">\r\n      <g>\r\n       <use style=\"stroke:#000000;stroke-width:0.8;\" x=\"76.601562\" xlink:href=\"#ma5fba66144\" y=\"212.90779\"/>\r\n      </g>\r\n     </g>\r\n     <g id=\"text_14\">\r\n      <!-- Profit -->\r\n      <g transform=\"translate(43.523438 216.707009)scale(0.1 -0.1)\">\r\n       <use xlink:href=\"#DejaVuSans-50\"/>\r\n       <use x=\"58.552734\" xlink:href=\"#DejaVuSans-72\"/>\r\n       <use x=\"97.416016\" xlink:href=\"#DejaVuSans-6f\"/>\r\n       <use x=\"158.597656\" xlink:href=\"#DejaVuSans-66\"/>\r\n       <use x=\"193.802734\" xlink:href=\"#DejaVuSans-69\"/>\r\n       <use x=\"221.585938\" xlink:href=\"#DejaVuSans-74\"/>\r\n      </g>\r\n     </g>\r\n    </g>\r\n   </g>\r\n  </g>\r\n  <g id=\"axes_2\">\r\n   <g id=\"patch_3\">\r\n    <path d=\"M 361.181563 228.439219 \r\nL 372.053563 228.439219 \r\nL 372.053563 10.999219 \r\nL 361.181563 10.999219 \r\nz\r\n\" style=\"fill:#ffffff;\"/>\r\n   </g>\r\n   <g id=\"patch_4\">\r\n    <path clip-path=\"url(#pd1e9337d18)\" d=\"M 361.181563 228.439219 \r\nL 361.181563 227.589844 \r\nL 361.181563 11.848594 \r\nL 361.181563 10.999219 \r\nL 372.053563 10.999219 \r\nL 372.053563 11.848594 \r\nL 372.053563 227.589844 \r\nL 372.053563 228.439219 \r\nL 372.053563 228.439219 \r\nz\r\n\" style=\"fill:#ffffff;stroke:#ffffff;stroke-linejoin:miter;stroke-width:0.01;\"/>\r\n   </g>\r\n   <image height=\"217\" id=\"image992901891e\" transform=\"scale(1 -1)translate(0 -217)\" width=\"11\" x=\"361\" xlink:href=\"data:image/png;base64,\r\niVBORw0KGgoAAAANSUhEUgAAAAsAAADZCAYAAAD2WsoCAAABTUlEQVR4nO3ZMY7DMAxEUctWLpH73zNbb6dXfIBZrGti8DkcS7K89uv9uQ6fvdY6rdXiq1K+pfhZd4Xx1xukCRJz5zO6IcWdG5myuTGkwXDcI5jD8H/hBIe4Ea78Zt35Y+En5W7cHUYX/tK6SnlbRAFjzLhBuWQegWHhP/48iN2AYmuQMMSNrkFzI5ugjXsGRuhGmI1z6b07jA9glEsBYDwZMzbYWSfZgJewZBaMW4ofajDDgANjiXHDkoQNirK5YcqSDVj6TXmIGzc1SMzweqt1okzM5gZhVMVXh7E7DDhsh8pwiAiZL1FGDFF+4LaHlLG4wlhw4tiX3H11bqzMjes5v+EIh9L5bNaZG1me5drQlOFCS4civ0jCbHTj7taNrJiCtM93+rLBcNzS4BDmGW6s1W0TQ9x4jcCwH80ylCnhn7EBkRv/Df7COG/wBxHLLSNgj5l/AAAAAElFTkSuQmCC\" y=\"-11\"/>\r\n   <g id=\"matplotlib.axis_3\"/>\r\n   <g id=\"matplotlib.axis_4\">\r\n    <g id=\"ytick_8\">\r\n     <g id=\"line2d_15\">\r\n      <defs>\r\n       <path d=\"M 0 0 \r\nL 3.5 0 \r\n\" id=\"me39229dc84\" style=\"stroke:#000000;stroke-width:0.8;\"/>\r\n      </defs>\r\n      <g>\r\n       <use style=\"stroke:#000000;stroke-width:0.8;\" x=\"372.053563\" xlink:href=\"#me39229dc84\" y=\"201.354412\"/>\r\n      </g>\r\n     </g>\r\n     <g id=\"text_15\">\r\n      <!-- −0.2 -->\r\n      <g transform=\"translate(379.053563 205.153631)scale(0.1 -0.1)\">\r\n       <defs>\r\n        <path d=\"M 678 2272 \r\nL 4684 2272 \r\nL 4684 1741 \r\nL 678 1741 \r\nL 678 2272 \r\nz\r\n\" id=\"DejaVuSans-2212\" transform=\"scale(0.015625)\"/>\r\n        <path d=\"M 2034 4250 \r\nQ 1547 4250 1301 3770 \r\nQ 1056 3291 1056 2328 \r\nQ 1056 1369 1301 889 \r\nQ 1547 409 2034 409 \r\nQ 2525 409 2770 889 \r\nQ 3016 1369 3016 2328 \r\nQ 3016 3291 2770 3770 \r\nQ 2525 4250 2034 4250 \r\nz\r\nM 2034 4750 \r\nQ 2819 4750 3233 4129 \r\nQ 3647 3509 3647 2328 \r\nQ 3647 1150 3233 529 \r\nQ 2819 -91 2034 -91 \r\nQ 1250 -91 836 529 \r\nQ 422 1150 422 2328 \r\nQ 422 3509 836 4129 \r\nQ 1250 4750 2034 4750 \r\nz\r\n\" id=\"DejaVuSans-30\" transform=\"scale(0.015625)\"/>\r\n        <path d=\"M 684 794 \r\nL 1344 794 \r\nL 1344 0 \r\nL 684 0 \r\nL 684 794 \r\nz\r\n\" id=\"DejaVuSans-2e\" transform=\"scale(0.015625)\"/>\r\n        <path d=\"M 1228 531 \r\nL 3431 531 \r\nL 3431 0 \r\nL 469 0 \r\nL 469 531 \r\nQ 828 903 1448 1529 \r\nQ 2069 2156 2228 2338 \r\nQ 2531 2678 2651 2914 \r\nQ 2772 3150 2772 3378 \r\nQ 2772 3750 2511 3984 \r\nQ 2250 4219 1831 4219 \r\nQ 1534 4219 1204 4116 \r\nQ 875 4013 500 3803 \r\nL 500 4441 \r\nQ 881 4594 1212 4672 \r\nQ 1544 4750 1819 4750 \r\nQ 2544 4750 2975 4387 \r\nQ 3406 4025 3406 3419 \r\nQ 3406 3131 3298 2873 \r\nQ 3191 2616 2906 2266 \r\nQ 2828 2175 2409 1742 \r\nQ 1991 1309 1228 531 \r\nz\r\n\" id=\"DejaVuSans-32\" transform=\"scale(0.015625)\"/>\r\n       </defs>\r\n       <use xlink:href=\"#DejaVuSans-2212\"/>\r\n       <use x=\"83.789062\" xlink:href=\"#DejaVuSans-30\"/>\r\n       <use x=\"147.412109\" xlink:href=\"#DejaVuSans-2e\"/>\r\n       <use x=\"179.199219\" xlink:href=\"#DejaVuSans-32\"/>\r\n      </g>\r\n     </g>\r\n    </g>\r\n    <g id=\"ytick_9\">\r\n     <g id=\"line2d_16\">\r\n      <g>\r\n       <use style=\"stroke:#000000;stroke-width:0.8;\" x=\"372.053563\" xlink:href=\"#me39229dc84\" y=\"169.628546\"/>\r\n      </g>\r\n     </g>\r\n     <g id=\"text_16\">\r\n      <!-- 0.0 -->\r\n      <g transform=\"translate(379.053563 173.427765)scale(0.1 -0.1)\">\r\n       <use xlink:href=\"#DejaVuSans-30\"/>\r\n       <use x=\"63.623047\" xlink:href=\"#DejaVuSans-2e\"/>\r\n       <use x=\"95.410156\" xlink:href=\"#DejaVuSans-30\"/>\r\n      </g>\r\n     </g>\r\n    </g>\r\n    <g id=\"ytick_10\">\r\n     <g id=\"line2d_17\">\r\n      <g>\r\n       <use style=\"stroke:#000000;stroke-width:0.8;\" x=\"372.053563\" xlink:href=\"#me39229dc84\" y=\"137.902681\"/>\r\n      </g>\r\n     </g>\r\n     <g id=\"text_17\">\r\n      <!-- 0.2 -->\r\n      <g transform=\"translate(379.053563 141.7019)scale(0.1 -0.1)\">\r\n       <use xlink:href=\"#DejaVuSans-30\"/>\r\n       <use x=\"63.623047\" xlink:href=\"#DejaVuSans-2e\"/>\r\n       <use x=\"95.410156\" xlink:href=\"#DejaVuSans-32\"/>\r\n      </g>\r\n     </g>\r\n    </g>\r\n    <g id=\"ytick_11\">\r\n     <g id=\"line2d_18\">\r\n      <g>\r\n       <use style=\"stroke:#000000;stroke-width:0.8;\" x=\"372.053563\" xlink:href=\"#me39229dc84\" y=\"106.176815\"/>\r\n      </g>\r\n     </g>\r\n     <g id=\"text_18\">\r\n      <!-- 0.4 -->\r\n      <g transform=\"translate(379.053563 109.976034)scale(0.1 -0.1)\">\r\n       <defs>\r\n        <path d=\"M 2419 4116 \r\nL 825 1625 \r\nL 2419 1625 \r\nL 2419 4116 \r\nz\r\nM 2253 4666 \r\nL 3047 4666 \r\nL 3047 1625 \r\nL 3713 1625 \r\nL 3713 1100 \r\nL 3047 1100 \r\nL 3047 0 \r\nL 2419 0 \r\nL 2419 1100 \r\nL 313 1100 \r\nL 313 1709 \r\nL 2253 4666 \r\nz\r\n\" id=\"DejaVuSans-34\" transform=\"scale(0.015625)\"/>\r\n       </defs>\r\n       <use xlink:href=\"#DejaVuSans-30\"/>\r\n       <use x=\"63.623047\" xlink:href=\"#DejaVuSans-2e\"/>\r\n       <use x=\"95.410156\" xlink:href=\"#DejaVuSans-34\"/>\r\n      </g>\r\n     </g>\r\n    </g>\r\n    <g id=\"ytick_12\">\r\n     <g id=\"line2d_19\">\r\n      <g>\r\n       <use style=\"stroke:#000000;stroke-width:0.8;\" x=\"372.053563\" xlink:href=\"#me39229dc84\" y=\"74.45095\"/>\r\n      </g>\r\n     </g>\r\n     <g id=\"text_19\">\r\n      <!-- 0.6 -->\r\n      <g transform=\"translate(379.053563 78.250169)scale(0.1 -0.1)\">\r\n       <defs>\r\n        <path d=\"M 2113 2584 \r\nQ 1688 2584 1439 2293 \r\nQ 1191 2003 1191 1497 \r\nQ 1191 994 1439 701 \r\nQ 1688 409 2113 409 \r\nQ 2538 409 2786 701 \r\nQ 3034 994 3034 1497 \r\nQ 3034 2003 2786 2293 \r\nQ 2538 2584 2113 2584 \r\nz\r\nM 3366 4563 \r\nL 3366 3988 \r\nQ 3128 4100 2886 4159 \r\nQ 2644 4219 2406 4219 \r\nQ 1781 4219 1451 3797 \r\nQ 1122 3375 1075 2522 \r\nQ 1259 2794 1537 2939 \r\nQ 1816 3084 2150 3084 \r\nQ 2853 3084 3261 2657 \r\nQ 3669 2231 3669 1497 \r\nQ 3669 778 3244 343 \r\nQ 2819 -91 2113 -91 \r\nQ 1303 -91 875 529 \r\nQ 447 1150 447 2328 \r\nQ 447 3434 972 4092 \r\nQ 1497 4750 2381 4750 \r\nQ 2619 4750 2861 4703 \r\nQ 3103 4656 3366 4563 \r\nz\r\n\" id=\"DejaVuSans-36\" transform=\"scale(0.015625)\"/>\r\n       </defs>\r\n       <use xlink:href=\"#DejaVuSans-30\"/>\r\n       <use x=\"63.623047\" xlink:href=\"#DejaVuSans-2e\"/>\r\n       <use x=\"95.410156\" xlink:href=\"#DejaVuSans-36\"/>\r\n      </g>\r\n     </g>\r\n    </g>\r\n    <g id=\"ytick_13\">\r\n     <g id=\"line2d_20\">\r\n      <g>\r\n       <use style=\"stroke:#000000;stroke-width:0.8;\" x=\"372.053563\" xlink:href=\"#me39229dc84\" y=\"42.725084\"/>\r\n      </g>\r\n     </g>\r\n     <g id=\"text_20\">\r\n      <!-- 0.8 -->\r\n      <g transform=\"translate(379.053563 46.524303)scale(0.1 -0.1)\">\r\n       <defs>\r\n        <path d=\"M 2034 2216 \r\nQ 1584 2216 1326 1975 \r\nQ 1069 1734 1069 1313 \r\nQ 1069 891 1326 650 \r\nQ 1584 409 2034 409 \r\nQ 2484 409 2743 651 \r\nQ 3003 894 3003 1313 \r\nQ 3003 1734 2745 1975 \r\nQ 2488 2216 2034 2216 \r\nz\r\nM 1403 2484 \r\nQ 997 2584 770 2862 \r\nQ 544 3141 544 3541 \r\nQ 544 4100 942 4425 \r\nQ 1341 4750 2034 4750 \r\nQ 2731 4750 3128 4425 \r\nQ 3525 4100 3525 3541 \r\nQ 3525 3141 3298 2862 \r\nQ 3072 2584 2669 2484 \r\nQ 3125 2378 3379 2068 \r\nQ 3634 1759 3634 1313 \r\nQ 3634 634 3220 271 \r\nQ 2806 -91 2034 -91 \r\nQ 1263 -91 848 271 \r\nQ 434 634 434 1313 \r\nQ 434 1759 690 2068 \r\nQ 947 2378 1403 2484 \r\nz\r\nM 1172 3481 \r\nQ 1172 3119 1398 2916 \r\nQ 1625 2713 2034 2713 \r\nQ 2441 2713 2670 2916 \r\nQ 2900 3119 2900 3481 \r\nQ 2900 3844 2670 4047 \r\nQ 2441 4250 2034 4250 \r\nQ 1625 4250 1398 4047 \r\nQ 1172 3844 1172 3481 \r\nz\r\n\" id=\"DejaVuSans-38\" transform=\"scale(0.015625)\"/>\r\n       </defs>\r\n       <use xlink:href=\"#DejaVuSans-30\"/>\r\n       <use x=\"63.623047\" xlink:href=\"#DejaVuSans-2e\"/>\r\n       <use x=\"95.410156\" xlink:href=\"#DejaVuSans-38\"/>\r\n      </g>\r\n     </g>\r\n    </g>\r\n    <g id=\"ytick_14\">\r\n     <g id=\"line2d_21\">\r\n      <g>\r\n       <use style=\"stroke:#000000;stroke-width:0.8;\" x=\"372.053563\" xlink:href=\"#me39229dc84\" y=\"10.999219\"/>\r\n      </g>\r\n     </g>\r\n     <g id=\"text_21\">\r\n      <!-- 1.0 -->\r\n      <g transform=\"translate(379.053563 14.798437)scale(0.1 -0.1)\">\r\n       <defs>\r\n        <path d=\"M 794 531 \r\nL 1825 531 \r\nL 1825 4091 \r\nL 703 3866 \r\nL 703 4441 \r\nL 1819 4666 \r\nL 2450 4666 \r\nL 2450 531 \r\nL 3481 531 \r\nL 3481 0 \r\nL 794 0 \r\nL 794 531 \r\nz\r\n\" id=\"DejaVuSans-31\" transform=\"scale(0.015625)\"/>\r\n       </defs>\r\n       <use xlink:href=\"#DejaVuSans-31\"/>\r\n       <use x=\"63.623047\" xlink:href=\"#DejaVuSans-2e\"/>\r\n       <use x=\"95.410156\" xlink:href=\"#DejaVuSans-30\"/>\r\n      </g>\r\n     </g>\r\n    </g>\r\n   </g>\r\n   <g id=\"LineCollection_1\"/>\r\n   <g id=\"patch_5\">\r\n    <path d=\"M 361.181563 228.439219 \r\nL 361.181563 227.589844 \r\nL 361.181563 11.848594 \r\nL 361.181563 10.999219 \r\nL 372.053563 10.999219 \r\nL 372.053563 11.848594 \r\nL 372.053563 227.589844 \r\nL 372.053563 228.439219 \r\nz\r\n\" style=\"fill:none;\"/>\r\n   </g>\r\n  </g>\r\n </g>\r\n <defs>\r\n  <clipPath id=\"p8ef4d5753f\">\r\n   <rect height=\"217.44\" width=\"267.84\" x=\"76.601562\" y=\"10.999219\"/>\r\n  </clipPath>\r\n  <clipPath id=\"pd1e9337d18\">\r\n   <rect height=\"217.44\" width=\"10.872\" x=\"361.181563\" y=\"10.999219\"/>\r\n  </clipPath>\r\n </defs>\r\n</svg>\r\n",
      "image/png": "[encoded data removed]"
     },
     "metadata": {
      "needs_background": "light"
     }
    }
   ],
   "metadata": {}
  },
  {
   "cell_type": "code",
   "execution_count": 9,
   "source": [
    "dados.nunique()"
   ],
   "outputs": [
    {
     "output_type": "execute_result",
     "data": {
      "text/plain": [
       "Order ID        4401\n",
       "Order Date      1204\n",
       "Ship Date       1298\n",
       "Ship Mode          4\n",
       "Customer ID      789\n",
       "Segment            3\n",
       "City             515\n",
       "State             48\n",
       "Region             4\n",
       "Product ID      1696\n",
       "Category           3\n",
       "Sub-Category      17\n",
       "Sales           4298\n",
       "Quantity           9\n",
       "Discount          10\n",
       "Profit          5593\n",
       "dtype: int64"
      ]
     },
     "metadata": {},
     "execution_count": 9
    }
   ],
   "metadata": {}
  },
  {
   "cell_type": "markdown",
   "source": [
    "ANÁLISE EXPLORATÓRIA"
   ],
   "metadata": {}
  },
  {
   "cell_type": "code",
   "execution_count": 17,
   "source": [
    "import sweetviz as sv\r\n",
    "eda = sv.analyze(source = dados)\r\n",
    "eda.show_html()"
   ],
   "outputs": [
    {
     "output_type": "stream",
     "name": "stderr",
     "text": [
      "Done! Use 'show' commands to display/save.   |██████████| [100%]   00:00 -> (00:00 left)\n"
     ]
    },
    {
     "output_type": "stream",
     "name": "stdout",
     "text": [
      "Report SWEETVIZ_REPORT.html was generated! NOTEBOOK/COLAB USERS: the web browser MAY not pop up, regardless, the report IS saved in your notebook/colab files.\n"
     ]
    }
   ],
   "metadata": {}
  },
  {
   "cell_type": "markdown",
   "source": [
    "FATURAMENTO"
   ],
   "metadata": {}
  },
  {
   "cell_type": "code",
   "execution_count": 22,
   "source": [
    "dados.Sales.sum().round(2)"
   ],
   "outputs": [
    {
     "output_type": "execute_result",
     "data": {
      "text/plain": [
       "609567.84"
      ]
     },
     "metadata": {},
     "execution_count": 22
    }
   ],
   "metadata": {}
  },
  {
   "cell_type": "code",
   "execution_count": 23,
   "source": [
    "dados.Profit.sum().round(2)"
   ],
   "outputs": [
    {
     "output_type": "execute_result",
     "data": {
      "text/plain": [
       "115314.86"
      ]
     },
     "metadata": {},
     "execution_count": 23
    }
   ],
   "metadata": {}
  },
  {
   "cell_type": "code",
   "execution_count": 28,
   "source": [
    "previsao = pd.read_csv('https://raw.githubusercontent.com/joaovictordds/previsao_tractian/main/previsao7dias.csv')\r\n",
    "previsao['Unnamed: 0'] = pd.to_datetime(previsao['Unnamed: 0'])\r\n",
    "previsao.info()"
   ],
   "outputs": [
    {
     "output_type": "stream",
     "name": "stdout",
     "text": [
      "<class 'pandas.core.frame.DataFrame'>\n",
      "RangeIndex: 7 entries, 0 to 6\n",
      "Data columns (total 2 columns):\n",
      " #   Column      Non-Null Count  Dtype         \n",
      "---  ------      --------------  -----         \n",
      " 0   Unnamed: 0  7 non-null      datetime64[ns]\n",
      " 1   Sales       7 non-null      float64       \n",
      "dtypes: datetime64[ns](1), float64(1)\n",
      "memory usage: 240.0 bytes\n"
     ]
    }
   ],
   "metadata": {}
  },
  {
   "cell_type": "code",
   "execution_count": 41,
   "source": [
    "# Vendas dos últimos 7 dias\r\n",
    "dados.groupby('Order Date')['Sales'].sum().tail(7).round(2)"
   ],
   "outputs": [
    {
     "output_type": "execute_result",
     "data": {
      "text/plain": [
       "Order Date\n",
       "2018-12-24    1027.14\n",
       "2018-12-25    1673.72\n",
       "2018-12-26      63.91\n",
       "2018-12-27      13.25\n",
       "2018-12-28     589.13\n",
       "2018-12-29    1104.43\n",
       "2018-12-30     713.79\n",
       "Name: Sales, dtype: float64"
      ]
     },
     "metadata": {},
     "execution_count": 41
    }
   ],
   "metadata": {}
  },
  {
   "cell_type": "code",
   "execution_count": 34,
   "source": [
    "# Previsão de vendas dos próximos 7 dias\r\n",
    "previsao"
   ],
   "outputs": [
    {
     "output_type": "execute_result",
     "data": {
      "text/plain": [
       "  Unnamed: 0   Sales\n",
       "0 2018-12-31  569.93\n",
       "1 2019-01-01  772.97\n",
       "2 2019-01-02  442.01\n",
       "3 2019-01-03   27.98\n",
       "4 2019-01-04  399.16\n",
       "5 2019-01-05  442.48\n",
       "6 2019-01-06  564.14"
      ],
      "text/html": [
       "<div>\n",
       "<style scoped>\n",
       "    .dataframe tbody tr th:only-of-type {\n",
       "        vertical-align: middle;\n",
       "    }\n",
       "\n",
       "    .dataframe tbody tr th {\n",
       "        vertical-align: top;\n",
       "    }\n",
       "\n",
       "    .dataframe thead th {\n",
       "        text-align: right;\n",
       "    }\n",
       "</style>\n",
       "<table border=\"1\" class=\"dataframe\">\n",
       "  <thead>\n",
       "    <tr style=\"text-align: right;\">\n",
       "      <th></th>\n",
       "      <th>Unnamed: 0</th>\n",
       "      <th>Sales</th>\n",
       "    </tr>\n",
       "  </thead>\n",
       "  <tbody>\n",
       "    <tr>\n",
       "      <th>0</th>\n",
       "      <td>2018-12-31</td>\n",
       "      <td>569.93</td>\n",
       "    </tr>\n",
       "    <tr>\n",
       "      <th>1</th>\n",
       "      <td>2019-01-01</td>\n",
       "      <td>772.97</td>\n",
       "    </tr>\n",
       "    <tr>\n",
       "      <th>2</th>\n",
       "      <td>2019-01-02</td>\n",
       "      <td>442.01</td>\n",
       "    </tr>\n",
       "    <tr>\n",
       "      <th>3</th>\n",
       "      <td>2019-01-03</td>\n",
       "      <td>27.98</td>\n",
       "    </tr>\n",
       "    <tr>\n",
       "      <th>4</th>\n",
       "      <td>2019-01-04</td>\n",
       "      <td>399.16</td>\n",
       "    </tr>\n",
       "    <tr>\n",
       "      <th>5</th>\n",
       "      <td>2019-01-05</td>\n",
       "      <td>442.48</td>\n",
       "    </tr>\n",
       "    <tr>\n",
       "      <th>6</th>\n",
       "      <td>2019-01-06</td>\n",
       "      <td>564.14</td>\n",
       "    </tr>\n",
       "  </tbody>\n",
       "</table>\n",
       "</div>"
      ]
     },
     "metadata": {},
     "execution_count": 34
    }
   ],
   "metadata": {}
  },
  {
   "cell_type": "code",
   "execution_count": 43,
   "source": [
    "previsao.Sales.plot(kind='barh');"
   ],
   "outputs": [
    {
     "output_type": "display_data",
     "data": {
      "text/plain": [
       "<Figure size 600x400 with 1 Axes>"
      ],
      "image/svg+xml": "<?xml version=\"1.0\" encoding=\"utf-8\" standalone=\"no\"?>\r\n<!DOCTYPE svg PUBLIC \"-//W3C//DTD SVG 1.1//EN\"\r\n  \"http://www.w3.org/Graphics/SVG/1.1/DTD/svg11.dtd\">\r\n<svg height=\"246.465pt\" version=\"1.1\" viewBox=\"0 0 362.776013 246.465\" width=\"362.776013pt\" xmlns=\"http://www.w3.org/2000/svg\" xmlns:xlink=\"http://www.w3.org/1999/xlink\">\r\n <metadata>\r\n  <rdf:RDF xmlns:cc=\"http://creativecommons.org/ns#\" xmlns:dc=\"http://purl.org/dc/elements/1.1/\" xmlns:rdf=\"http://www.w3.org/1999/02/22-rdf-syntax-ns#\">\r\n   <cc:Work>\r\n    <dc:type rdf:resource=\"http://purl.org/dc/dcmitype/StillImage\"/>\r\n    <dc:date>2021-08-12T11:22:10.698063</dc:date>\r\n    <dc:format>image/svg+xml</dc:format>\r\n    <dc:creator>\r\n     <cc:Agent>\r\n      <dc:title>Matplotlib v3.4.2, https://matplotlib.org/</dc:title>\r\n     </cc:Agent>\r\n    </dc:creator>\r\n   </cc:Work>\r\n  </rdf:RDF>\r\n </metadata>\r\n <defs>\r\n  <style type=\"text/css\">*{stroke-linecap:butt;stroke-linejoin:round;}</style>\r\n </defs>\r\n <g id=\"figure_1\">\r\n  <g id=\"patch_1\">\r\n   <path d=\"M 0 246.465 \r\nL 362.776013 246.465 \r\nL 362.776013 0 \r\nL 0 0 \r\nz\r\n\" style=\"fill:#ffffff;\"/>\r\n  </g>\r\n  <g id=\"axes_1\">\r\n   <g id=\"patch_2\">\r\n    <path d=\"M 18.7475 224.64 \r\nL 353.5475 224.64 \r\nL 353.5475 7.2 \r\nL 18.7475 7.2 \r\nz\r\n\" style=\"fill:#ffffff;\"/>\r\n   </g>\r\n   <g id=\"patch_3\">\r\n    <path clip-path=\"url(#p30388de9fd)\" d=\"M 18.7475 216.874286 \r\nL 253.848799 216.874286 \r\nL 253.848799 201.342857 \r\nL 18.7475 201.342857 \r\nz\r\n\" style=\"fill:#0088ed;\"/>\r\n   </g>\r\n   <g id=\"patch_4\">\r\n    <path clip-path=\"url(#p30388de9fd)\" d=\"M 18.7475 185.811429 \r\nL 337.604643 185.811429 \r\nL 337.604643 170.28 \r\nL 18.7475 170.28 \r\nz\r\n\" style=\"fill:#0088ed;\"/>\r\n   </g>\r\n   <g id=\"patch_5\">\r\n    <path clip-path=\"url(#p30388de9fd)\" d=\"M 18.7475 154.748571 \r\nL 201.080638 154.748571 \r\nL 201.080638 139.217143 \r\nL 18.7475 139.217143 \r\nz\r\n\" style=\"fill:#0088ed;\"/>\r\n   </g>\r\n   <g id=\"patch_6\">\r\n    <path clip-path=\"url(#p30388de9fd)\" d=\"M 18.7475 123.685714 \r\nL 30.289504 123.685714 \r\nL 30.289504 108.154286 \r\nL 18.7475 108.154286 \r\nz\r\n\" style=\"fill:#0088ed;\"/>\r\n   </g>\r\n   <g id=\"patch_7\">\r\n    <path clip-path=\"url(#p30388de9fd)\" d=\"M 18.7475 92.622857 \r\nL 183.404624 92.622857 \r\nL 183.404624 77.091429 \r\nL 18.7475 77.091429 \r\nz\r\n\" style=\"fill:#0088ed;\"/>\r\n   </g>\r\n   <g id=\"patch_8\">\r\n    <path clip-path=\"url(#p30388de9fd)\" d=\"M 18.7475 61.56 \r\nL 201.274517 61.56 \r\nL 201.274517 46.028571 \r\nL 18.7475 46.028571 \r\nz\r\n\" style=\"fill:#0088ed;\"/>\r\n   </g>\r\n   <g id=\"patch_9\">\r\n    <path clip-path=\"url(#p30388de9fd)\" d=\"M 18.7475 30.497143 \r\nL 251.460372 30.497143 \r\nL 251.460372 14.965714 \r\nL 18.7475 14.965714 \r\nz\r\n\" style=\"fill:#0088ed;\"/>\r\n   </g>\r\n   <g id=\"matplotlib.axis_1\">\r\n    <g id=\"xtick_1\">\r\n     <g id=\"line2d_1\">\r\n      <defs>\r\n       <path d=\"M 0 0 \r\nL 0 3.5 \r\n\" id=\"mf9b20f1777\" style=\"stroke:#58544f;stroke-width:0.8;\"/>\r\n      </defs>\r\n      <g>\r\n       <use style=\"fill:#58544f;stroke:#58544f;stroke-width:0.8;\" x=\"18.7475\" xlink:href=\"#mf9b20f1777\" y=\"224.64\"/>\r\n      </g>\r\n     </g>\r\n     <g id=\"text_1\">\r\n      <!-- 0 -->\r\n      <g style=\"fill:#58544f;\" transform=\"translate(16.47375 237.64)scale(0.08 -0.08)\">\r\n       <defs>\r\n        <path d=\"M 3306 1916 \r\nQ 3306 934 2939 435 \r\nQ 2572 -63 1822 -63 \r\nQ 1084 -63 711 423 \r\nQ 338 909 328 1863 \r\nL 328 2650 \r\nQ 328 3631 695 4122 \r\nQ 1063 4613 1816 4613 \r\nQ 2563 4613 2930 4134 \r\nQ 3297 3656 3306 2703 \r\nL 3306 1916 \r\nz\r\nM 2547 2766 \r\nQ 2547 3406 2372 3704 \r\nQ 2197 4003 1816 4003 \r\nQ 1444 4003 1269 3720 \r\nQ 1094 3438 1084 2838 \r\nL 1084 1806 \r\nQ 1084 1169 1262 856 \r\nQ 1441 544 1822 544 \r\nQ 2188 544 2363 833 \r\nQ 2538 1122 2547 1738 \r\nL 2547 2766 \r\nz\r\n\" id=\"Roboto-Medium-30\" transform=\"scale(0.015625)\"/>\r\n       </defs>\r\n       <use xlink:href=\"#Roboto-Medium-30\"/>\r\n      </g>\r\n     </g>\r\n    </g>\r\n    <g id=\"xtick_2\">\r\n     <g id=\"line2d_2\">\r\n      <g>\r\n       <use style=\"fill:#58544f;stroke:#58544f;stroke-width:0.8;\" x=\"59.998408\" xlink:href=\"#mf9b20f1777\" y=\"224.64\"/>\r\n      </g>\r\n     </g>\r\n     <g id=\"text_2\">\r\n      <!-- 100 -->\r\n      <g style=\"fill:#58544f;\" transform=\"translate(53.177158 237.64)scale(0.08 -0.08)\">\r\n       <defs>\r\n        <path d=\"M 2397 0 \r\nL 1641 0 \r\nL 1641 3653 \r\nL 525 3272 \r\nL 525 3913 \r\nL 2300 4566 \r\nL 2397 4566 \r\nL 2397 0 \r\nz\r\n\" id=\"Roboto-Medium-31\" transform=\"scale(0.015625)\"/>\r\n       </defs>\r\n       <use xlink:href=\"#Roboto-Medium-31\"/>\r\n       <use x=\"56.835938\" xlink:href=\"#Roboto-Medium-30\"/>\r\n       <use x=\"113.671875\" xlink:href=\"#Roboto-Medium-30\"/>\r\n      </g>\r\n     </g>\r\n    </g>\r\n    <g id=\"xtick_3\">\r\n     <g id=\"line2d_3\">\r\n      <g>\r\n       <use style=\"fill:#58544f;stroke:#58544f;stroke-width:0.8;\" x=\"101.249316\" xlink:href=\"#mf9b20f1777\" y=\"224.64\"/>\r\n      </g>\r\n     </g>\r\n     <g id=\"text_3\">\r\n      <!-- 200 -->\r\n      <g style=\"fill:#58544f;\" transform=\"translate(94.428066 237.64)scale(0.08 -0.08)\">\r\n       <defs>\r\n        <path d=\"M 3400 0 \r\nL 341 0 \r\nL 341 522 \r\nL 1856 2175 \r\nQ 2184 2541 2323 2786 \r\nQ 2463 3031 2463 3278 \r\nQ 2463 3603 2280 3803 \r\nQ 2097 4003 1788 4003 \r\nQ 1419 4003 1216 3778 \r\nQ 1013 3553 1013 3163 \r\nL 253 3163 \r\nQ 253 3578 442 3911 \r\nQ 631 4244 982 4428 \r\nQ 1334 4613 1794 4613 \r\nQ 2456 4613 2839 4280 \r\nQ 3222 3947 3222 3359 \r\nQ 3222 3019 3030 2645 \r\nQ 2838 2272 2400 1797 \r\nL 1288 606 \r\nL 3400 606 \r\nL 3400 0 \r\nz\r\n\" id=\"Roboto-Medium-32\" transform=\"scale(0.015625)\"/>\r\n       </defs>\r\n       <use xlink:href=\"#Roboto-Medium-32\"/>\r\n       <use x=\"56.835938\" xlink:href=\"#Roboto-Medium-30\"/>\r\n       <use x=\"113.671875\" xlink:href=\"#Roboto-Medium-30\"/>\r\n      </g>\r\n     </g>\r\n    </g>\r\n    <g id=\"xtick_4\">\r\n     <g id=\"line2d_4\">\r\n      <g>\r\n       <use style=\"fill:#58544f;stroke:#58544f;stroke-width:0.8;\" x=\"142.500224\" xlink:href=\"#mf9b20f1777\" y=\"224.64\"/>\r\n      </g>\r\n     </g>\r\n     <g id=\"text_4\">\r\n      <!-- 300 -->\r\n      <g style=\"fill:#58544f;\" transform=\"translate(135.678974 237.64)scale(0.08 -0.08)\">\r\n       <defs>\r\n        <path d=\"M 1219 2622 \r\nL 1681 2622 \r\nQ 2031 2625 2236 2803 \r\nQ 2441 2981 2441 3319 \r\nQ 2441 3644 2270 3823 \r\nQ 2100 4003 1750 4003 \r\nQ 1444 4003 1247 3826 \r\nQ 1050 3650 1050 3366 \r\nL 291 3366 \r\nQ 291 3716 477 4003 \r\nQ 663 4291 995 4452 \r\nQ 1328 4613 1741 4613 \r\nQ 2422 4613 2811 4270 \r\nQ 3200 3928 3200 3319 \r\nQ 3200 3013 3004 2742 \r\nQ 2809 2472 2500 2334 \r\nQ 2875 2206 3070 1931 \r\nQ 3266 1656 3266 1275 \r\nQ 3266 663 2845 300 \r\nQ 2425 -63 1741 -63 \r\nQ 1084 -63 665 287 \r\nQ 247 638 247 1219 \r\nL 1006 1219 \r\nQ 1006 919 1207 731 \r\nQ 1409 544 1750 544 \r\nQ 2103 544 2306 731 \r\nQ 2509 919 2509 1275 \r\nQ 2509 1634 2296 1828 \r\nQ 2084 2022 1666 2022 \r\nL 1219 2022 \r\nL 1219 2622 \r\nz\r\n\" id=\"Roboto-Medium-33\" transform=\"scale(0.015625)\"/>\r\n       </defs>\r\n       <use xlink:href=\"#Roboto-Medium-33\"/>\r\n       <use x=\"56.835938\" xlink:href=\"#Roboto-Medium-30\"/>\r\n       <use x=\"113.671875\" xlink:href=\"#Roboto-Medium-30\"/>\r\n      </g>\r\n     </g>\r\n    </g>\r\n    <g id=\"xtick_5\">\r\n     <g id=\"line2d_5\">\r\n      <g>\r\n       <use style=\"fill:#58544f;stroke:#58544f;stroke-width:0.8;\" x=\"183.751132\" xlink:href=\"#mf9b20f1777\" y=\"224.64\"/>\r\n      </g>\r\n     </g>\r\n     <g id=\"text_5\">\r\n      <!-- 400 -->\r\n      <g style=\"fill:#58544f;\" transform=\"translate(176.929882 237.64)scale(0.08 -0.08)\">\r\n       <defs>\r\n        <path d=\"M 2909 1622 \r\nL 3475 1622 \r\nL 3475 1013 \r\nL 2909 1013 \r\nL 2909 0 \r\nL 2150 0 \r\nL 2150 1013 \r\nL 184 1013 \r\nL 163 1475 \r\nL 2125 4550 \r\nL 2909 4550 \r\nL 2909 1622 \r\nz\r\nM 959 1622 \r\nL 2150 1622 \r\nL 2150 3522 \r\nL 2094 3422 \r\nL 959 1622 \r\nz\r\n\" id=\"Roboto-Medium-34\" transform=\"scale(0.015625)\"/>\r\n       </defs>\r\n       <use xlink:href=\"#Roboto-Medium-34\"/>\r\n       <use x=\"56.835938\" xlink:href=\"#Roboto-Medium-30\"/>\r\n       <use x=\"113.671875\" xlink:href=\"#Roboto-Medium-30\"/>\r\n      </g>\r\n     </g>\r\n    </g>\r\n    <g id=\"xtick_6\">\r\n     <g id=\"line2d_6\">\r\n      <g>\r\n       <use style=\"fill:#58544f;stroke:#58544f;stroke-width:0.8;\" x=\"225.00204\" xlink:href=\"#mf9b20f1777\" y=\"224.64\"/>\r\n      </g>\r\n     </g>\r\n     <g id=\"text_6\">\r\n      <!-- 500 -->\r\n      <g style=\"fill:#58544f;\" transform=\"translate(218.18079 237.64)scale(0.08 -0.08)\">\r\n       <defs>\r\n        <path d=\"M 544 2256 \r\nL 791 4550 \r\nL 3234 4550 \r\nL 3234 3894 \r\nL 1422 3894 \r\nL 1297 2806 \r\nQ 1613 2988 2009 2988 \r\nQ 2659 2988 3020 2572 \r\nQ 3381 2156 3381 1453 \r\nQ 3381 759 2981 348 \r\nQ 2581 -63 1884 -63 \r\nQ 1259 -63 848 292 \r\nQ 438 647 403 1228 \r\nL 1138 1228 \r\nQ 1181 897 1375 720 \r\nQ 1569 544 1881 544 \r\nQ 2231 544 2426 794 \r\nQ 2622 1044 2622 1475 \r\nQ 2622 1891 2406 2133 \r\nQ 2191 2375 1813 2375 \r\nQ 1606 2375 1462 2320 \r\nQ 1319 2266 1150 2106 \r\nL 544 2256 \r\nz\r\n\" id=\"Roboto-Medium-35\" transform=\"scale(0.015625)\"/>\r\n       </defs>\r\n       <use xlink:href=\"#Roboto-Medium-35\"/>\r\n       <use x=\"56.835938\" xlink:href=\"#Roboto-Medium-30\"/>\r\n       <use x=\"113.671875\" xlink:href=\"#Roboto-Medium-30\"/>\r\n      </g>\r\n     </g>\r\n    </g>\r\n    <g id=\"xtick_7\">\r\n     <g id=\"line2d_7\">\r\n      <g>\r\n       <use style=\"fill:#58544f;stroke:#58544f;stroke-width:0.8;\" x=\"266.252947\" xlink:href=\"#mf9b20f1777\" y=\"224.64\"/>\r\n      </g>\r\n     </g>\r\n     <g id=\"text_7\">\r\n      <!-- 600 -->\r\n      <g style=\"fill:#58544f;\" transform=\"translate(259.431697 237.64)scale(0.08 -0.08)\">\r\n       <defs>\r\n        <path d=\"M 2703 4572 \r\nL 2703 3944 \r\nL 2609 3944 \r\nQ 1972 3934 1590 3593 \r\nQ 1209 3253 1138 2628 \r\nQ 1503 3013 2072 3013 \r\nQ 2675 3013 3023 2588 \r\nQ 3372 2163 3372 1491 \r\nQ 3372 797 2964 367 \r\nQ 2556 -63 1894 -63 \r\nQ 1213 -63 789 440 \r\nQ 366 944 366 1759 \r\nL 366 2019 \r\nQ 366 3216 948 3894 \r\nQ 1531 4572 2625 4572 \r\nL 2703 4572 \r\nz\r\nM 1888 2400 \r\nQ 1638 2400 1430 2259 \r\nQ 1222 2119 1125 1884 \r\nL 1125 1653 \r\nQ 1125 1147 1337 848 \r\nQ 1550 550 1887 550 \r\nQ 2225 550 2422 803 \r\nQ 2619 1056 2619 1468 \r\nQ 2619 1881 2419 2140 \r\nQ 2219 2400 1888 2400 \r\nz\r\n\" id=\"Roboto-Medium-36\" transform=\"scale(0.015625)\"/>\r\n       </defs>\r\n       <use xlink:href=\"#Roboto-Medium-36\"/>\r\n       <use x=\"56.835938\" xlink:href=\"#Roboto-Medium-30\"/>\r\n       <use x=\"113.671875\" xlink:href=\"#Roboto-Medium-30\"/>\r\n      </g>\r\n     </g>\r\n    </g>\r\n    <g id=\"xtick_8\">\r\n     <g id=\"line2d_8\">\r\n      <g>\r\n       <use style=\"fill:#58544f;stroke:#58544f;stroke-width:0.8;\" x=\"307.503855\" xlink:href=\"#mf9b20f1777\" y=\"224.64\"/>\r\n      </g>\r\n     </g>\r\n     <g id=\"text_8\">\r\n      <!-- 700 -->\r\n      <g style=\"fill:#58544f;\" transform=\"translate(300.682605 237.64)scale(0.08 -0.08)\">\r\n       <defs>\r\n        <path d=\"M 3369 4128 \r\nL 1550 0 \r\nL 753 0 \r\nL 2569 3941 \r\nL 216 3941 \r\nL 216 4550 \r\nL 3369 4550 \r\nL 3369 4128 \r\nz\r\n\" id=\"Roboto-Medium-37\" transform=\"scale(0.015625)\"/>\r\n       </defs>\r\n       <use xlink:href=\"#Roboto-Medium-37\"/>\r\n       <use x=\"56.835938\" xlink:href=\"#Roboto-Medium-30\"/>\r\n       <use x=\"113.671875\" xlink:href=\"#Roboto-Medium-30\"/>\r\n      </g>\r\n     </g>\r\n    </g>\r\n    <g id=\"xtick_9\">\r\n     <g id=\"line2d_9\">\r\n      <g>\r\n       <use style=\"fill:#58544f;stroke:#58544f;stroke-width:0.8;\" x=\"348.754763\" xlink:href=\"#mf9b20f1777\" y=\"224.64\"/>\r\n      </g>\r\n     </g>\r\n     <g id=\"text_9\">\r\n      <!-- 800 -->\r\n      <g style=\"fill:#58544f;\" transform=\"translate(341.933513 237.64)scale(0.08 -0.08)\">\r\n       <defs>\r\n        <path d=\"M 3206 3350 \r\nQ 3206 3016 3034 2755 \r\nQ 2863 2494 2566 2344 \r\nQ 2922 2178 3114 1890 \r\nQ 3306 1603 3306 1241 \r\nQ 3306 641 2900 289 \r\nQ 2494 -63 1819 -63 \r\nQ 1141 -63 733 290 \r\nQ 325 644 325 1241 \r\nQ 325 1606 519 1897 \r\nQ 713 2188 1063 2344 \r\nQ 769 2494 598 2755 \r\nQ 428 3016 428 3350 \r\nQ 428 3931 803 4272 \r\nQ 1178 4613 1816 4613 \r\nQ 2456 4613 2831 4272 \r\nQ 3206 3931 3206 3350 \r\nz\r\nM 2547 1278 \r\nQ 2547 1616 2345 1823 \r\nQ 2144 2031 1812 2031 \r\nQ 1481 2031 1282 1825 \r\nQ 1084 1619 1084 1278 \r\nQ 1084 944 1279 744 \r\nQ 1475 544 1819 544 \r\nQ 2163 544 2355 737 \r\nQ 2547 931 2547 1278 \r\nz\r\nM 2450 3322 \r\nQ 2450 3619 2278 3811 \r\nQ 2106 4003 1815 4003 \r\nQ 1525 4003 1356 3820 \r\nQ 1188 3638 1188 3322 \r\nQ 1188 3009 1358 2825 \r\nQ 1528 2641 1818 2641 \r\nQ 2109 2641 2279 2825 \r\nQ 2450 3009 2450 3322 \r\nz\r\n\" id=\"Roboto-Medium-38\" transform=\"scale(0.015625)\"/>\r\n       </defs>\r\n       <use xlink:href=\"#Roboto-Medium-38\"/>\r\n       <use x=\"56.835938\" xlink:href=\"#Roboto-Medium-30\"/>\r\n       <use x=\"113.671875\" xlink:href=\"#Roboto-Medium-30\"/>\r\n      </g>\r\n     </g>\r\n    </g>\r\n   </g>\r\n   <g id=\"matplotlib.axis_2\">\r\n    <g id=\"ytick_1\">\r\n     <g id=\"line2d_10\">\r\n      <defs>\r\n       <path d=\"M 0 0 \r\nL -3.5 0 \r\n\" id=\"md16e41fa83\" style=\"stroke:#58544f;stroke-width:0.8;\"/>\r\n      </defs>\r\n      <g>\r\n       <use style=\"fill:#58544f;stroke:#58544f;stroke-width:0.8;\" x=\"18.7475\" xlink:href=\"#md16e41fa83\" y=\"209.108571\"/>\r\n      </g>\r\n     </g>\r\n     <g id=\"text_10\">\r\n      <!-- 0 -->\r\n      <g style=\"fill:#58544f;\" transform=\"translate(7.2 212.108571)scale(0.08 -0.08)\">\r\n       <use xlink:href=\"#Roboto-Medium-30\"/>\r\n      </g>\r\n     </g>\r\n    </g>\r\n    <g id=\"ytick_2\">\r\n     <g id=\"line2d_11\">\r\n      <g>\r\n       <use style=\"fill:#58544f;stroke:#58544f;stroke-width:0.8;\" x=\"18.7475\" xlink:href=\"#md16e41fa83\" y=\"178.045714\"/>\r\n      </g>\r\n     </g>\r\n     <g id=\"text_11\">\r\n      <!-- 1 -->\r\n      <g style=\"fill:#58544f;\" transform=\"translate(7.2 181.045714)scale(0.08 -0.08)\">\r\n       <use xlink:href=\"#Roboto-Medium-31\"/>\r\n      </g>\r\n     </g>\r\n    </g>\r\n    <g id=\"ytick_3\">\r\n     <g id=\"line2d_12\">\r\n      <g>\r\n       <use style=\"fill:#58544f;stroke:#58544f;stroke-width:0.8;\" x=\"18.7475\" xlink:href=\"#md16e41fa83\" y=\"146.982857\"/>\r\n      </g>\r\n     </g>\r\n     <g id=\"text_12\">\r\n      <!-- 2 -->\r\n      <g style=\"fill:#58544f;\" transform=\"translate(7.2 149.982857)scale(0.08 -0.08)\">\r\n       <use xlink:href=\"#Roboto-Medium-32\"/>\r\n      </g>\r\n     </g>\r\n    </g>\r\n    <g id=\"ytick_4\">\r\n     <g id=\"line2d_13\">\r\n      <g>\r\n       <use style=\"fill:#58544f;stroke:#58544f;stroke-width:0.8;\" x=\"18.7475\" xlink:href=\"#md16e41fa83\" y=\"115.92\"/>\r\n      </g>\r\n     </g>\r\n     <g id=\"text_13\">\r\n      <!-- 3 -->\r\n      <g style=\"fill:#58544f;\" transform=\"translate(7.2 118.92)scale(0.08 -0.08)\">\r\n       <use xlink:href=\"#Roboto-Medium-33\"/>\r\n      </g>\r\n     </g>\r\n    </g>\r\n    <g id=\"ytick_5\">\r\n     <g id=\"line2d_14\">\r\n      <g>\r\n       <use style=\"fill:#58544f;stroke:#58544f;stroke-width:0.8;\" x=\"18.7475\" xlink:href=\"#md16e41fa83\" y=\"84.857143\"/>\r\n      </g>\r\n     </g>\r\n     <g id=\"text_14\">\r\n      <!-- 4 -->\r\n      <g style=\"fill:#58544f;\" transform=\"translate(7.2 87.857143)scale(0.08 -0.08)\">\r\n       <use xlink:href=\"#Roboto-Medium-34\"/>\r\n      </g>\r\n     </g>\r\n    </g>\r\n    <g id=\"ytick_6\">\r\n     <g id=\"line2d_15\">\r\n      <g>\r\n       <use style=\"fill:#58544f;stroke:#58544f;stroke-width:0.8;\" x=\"18.7475\" xlink:href=\"#md16e41fa83\" y=\"53.794286\"/>\r\n      </g>\r\n     </g>\r\n     <g id=\"text_15\">\r\n      <!-- 5 -->\r\n      <g style=\"fill:#58544f;\" transform=\"translate(7.2 56.794286)scale(0.08 -0.08)\">\r\n       <use xlink:href=\"#Roboto-Medium-35\"/>\r\n      </g>\r\n     </g>\r\n    </g>\r\n    <g id=\"ytick_7\">\r\n     <g id=\"line2d_16\">\r\n      <g>\r\n       <use style=\"fill:#58544f;stroke:#58544f;stroke-width:0.8;\" x=\"18.7475\" xlink:href=\"#md16e41fa83\" y=\"22.731429\"/>\r\n      </g>\r\n     </g>\r\n     <g id=\"text_16\">\r\n      <!-- 6 -->\r\n      <g style=\"fill:#58544f;\" transform=\"translate(7.2 25.731429)scale(0.08 -0.08)\">\r\n       <use xlink:href=\"#Roboto-Medium-36\"/>\r\n      </g>\r\n     </g>\r\n    </g>\r\n   </g>\r\n   <g id=\"patch_10\">\r\n    <path d=\"M 18.7475 224.64 \r\nL 18.7475 7.2 \r\n\" style=\"fill:none;stroke:#58544f;stroke-linecap:square;stroke-linejoin:miter;stroke-width:0.8;\"/>\r\n   </g>\r\n   <g id=\"patch_11\">\r\n    <path d=\"M 353.5475 224.64 \r\nL 353.5475 7.2 \r\n\" style=\"fill:none;stroke:#58544f;stroke-linecap:square;stroke-linejoin:miter;stroke-width:0.8;\"/>\r\n   </g>\r\n   <g id=\"patch_12\">\r\n    <path d=\"M 18.7475 224.64 \r\nL 353.5475 224.64 \r\n\" style=\"fill:none;stroke:#58544f;stroke-linecap:square;stroke-linejoin:miter;stroke-width:0.8;\"/>\r\n   </g>\r\n   <g id=\"patch_13\">\r\n    <path d=\"M 18.7475 7.2 \r\nL 353.5475 7.2 \r\n\" style=\"fill:none;stroke:#58544f;stroke-linecap:square;stroke-linejoin:miter;stroke-width:0.8;\"/>\r\n   </g>\r\n  </g>\r\n </g>\r\n <defs>\r\n  <clipPath id=\"p30388de9fd\">\r\n   <rect height=\"217.44\" width=\"334.8\" x=\"18.7475\" y=\"7.2\"/>\r\n  </clipPath>\r\n </defs>\r\n</svg>\r\n",
      "image/png": "[encoded data removed]"
     },
     "metadata": {}
    }
   ],
   "metadata": {}
  }
 ],
 "metadata": {
  "orig_nbformat": 4,
  "language_info": {
   "name": "python",
   "version": "3.8.8",
   "mimetype": "text/x-python",
   "codemirror_mode": {
    "name": "ipython",
    "version": 3
   },
   "pygments_lexer": "ipython3",
   "nbconvert_exporter": "python",
   "file_extension": ".py"
  },
  "kernelspec": {
   "name": "python3",
   "display_name": "Python 3.8.8 64-bit ('base': conda)"
  },
  "interpreter": {
   "hash": "af573f283834de0d94267a2f349eb6a57bfc80fc16df6f4176b3eb1c7a5367fc"
  }
 },
 "nbformat": 4,
 "nbformat_minor": 2
}